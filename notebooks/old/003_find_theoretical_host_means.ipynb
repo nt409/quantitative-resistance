{
 "cells": [
  {
   "cell_type": "markdown",
   "id": "36b449f7-915d-4bfb-a293-e8e6667bac2e",
   "metadata": {},
   "source": [
    "This was for if wanting to produce mutual protection figure with variance constant.\n",
    "\n",
    "Not using any more I think!!"
   ]
  },
  {
   "cell_type": "code",
   "execution_count": null,
   "id": "1cdba02e-115a-471d-9fc7-f0fdbe0b9723",
   "metadata": {},
   "outputs": [],
   "source": [
    "%load_ext autoreload\n",
    "%autoreload 2\n",
    "%matplotlib widget"
   ]
  },
  {
   "cell_type": "code",
   "execution_count": null,
   "id": "5b8b8630-c86f-4a15-acbc-5907b3f028c2",
   "metadata": {},
   "outputs": [],
   "source": [
    "import numpy as np\n",
    "\n",
    "import pandas as pd\n",
    "\n",
    "import matplotlib.pyplot as plt\n",
    "\n",
    "from scipy.optimize import minimize\n",
    "\n",
    "from polymodel.config import Config\n",
    "\n",
    "from polymodel.run import simulations_run, no_joblib_multiple_run\n",
    "\n",
    "from polymodel.utils import (\n",
    "    get_dist_mean\n",
    ")\n",
    "\n",
    "from polymodel.consts import (\n",
    "    DEFAULT_I0,\n",
    "    DEFAULT_BETA,\n",
    "    MUTATION_PROP,\n",
    "    FUNG_MUTATION_SCALE,\n",
    "    HOST_MUTATION_SCALE,\n",
    "    DEFAULT_P\n",
    ")\n",
    "\n",
    "from polymodel.params import PARAMS\n",
    "\n",
    "# from polymodel.utils import (\n",
    "#     host_growth_function,\n",
    "#     edge_values\n",
    "# )"
   ]
  },
  {
   "cell_type": "markdown",
   "id": "3d6ecacf-e3d7-4156-9da8-821fc67fb45b",
   "metadata": {},
   "source": [
    "# Draft of cluster stuff"
   ]
  },
  {
   "cell_type": "code",
   "execution_count": null,
   "id": "fc16f650-d0c7-4818-951e-41d45c7af430",
   "metadata": {},
   "outputs": [],
   "source": [
    "def find_host_var(mu, b):\n",
    "    a = (b*mu)/(1-mu)\n",
    "    \n",
    "    var = a*b / ((a+b+1) * (a+b)**2)\n",
    "    return var"
   ]
  },
  {
   "cell_type": "code",
   "execution_count": null,
   "id": "430e3496-39d8-4764-a492-7362ea5e86ae",
   "metadata": {},
   "outputs": [],
   "source": [
    "def optimise_b_given_mu_var(host_mean, host_var):\n",
    "    res = minimize(\n",
    "        lambda x: (find_host_var(host_mean, x) - host_var)**2,\n",
    "        [5],\n",
    "        tol=1e-10\n",
    "    )\n",
    "    \n",
    "    return res"
   ]
  },
  {
   "cell_type": "code",
   "execution_count": null,
   "id": "9bed2525-f44d-49d1-9898-492be656adf2",
   "metadata": {},
   "outputs": [],
   "source": [
    "def get_df_of_means_and_variances(means):\n",
    "    \n",
    "    cf = Config(\n",
    "        'single',\n",
    "        n_k=100,\n",
    "        n_l=100,\n",
    "        sprays=[1, 2, 3],\n",
    "        host_on=[True],\n",
    "        n_years=15,\n",
    "        mutation_proportion=MUTATION_PROP,\n",
    "        mutation_scale_fung=FUNG_MUTATION_SCALE*DEFAULT_P,\n",
    "        mutation_scale_host=HOST_MUTATION_SCALE*DEFAULT_P,\n",
    "    )\n",
    "    \n",
    "    b_vals = np.zeros(len(means))\n",
    "    opt_vals = np.zeros(len(means))\n",
    "    success = []\n",
    "    \n",
    "    for ii, mean in enumerate(means):\n",
    "    \n",
    "        host_var = find_host_var(cf.l_mu, cf.l_b)\n",
    "        res = optimise_b_given_mu_var(mean, host_var)\n",
    "        \n",
    "        if res.success:\n",
    "            b_vals[ii] = res.x[0]\n",
    "            opt_vals[ii] = res.fun\n",
    "            success.append(True)\n",
    "            \n",
    "        else:\n",
    "            success.append(False)\n",
    "        \n",
    "        \n",
    "    \n",
    "    df_out = pd.DataFrame(dict(\n",
    "        b=b_vals,\n",
    "        mu=means,\n",
    "        opt=opt_vals,\n",
    "        success=success,\n",
    "    ))\n",
    "                               \n",
    "    return df_out"
   ]
  },
  {
   "cell_type": "code",
   "execution_count": null,
   "id": "ac820fef-1094-466d-bebc-e437e1b78641",
   "metadata": {},
   "outputs": [],
   "source": [
    "df = get_df_of_means_and_variances(np.linspace(0.01,0.99, 99))"
   ]
  },
  {
   "cell_type": "code",
   "execution_count": null,
   "id": "dcb36c2c-0efc-4932-9fa9-885172c07a90",
   "metadata": {},
   "outputs": [],
   "source": [
    "df.loc[~df.success]"
   ]
  },
  {
   "cell_type": "code",
   "execution_count": null,
   "id": "8853f154-5fef-4094-ade6-51591b53b85c",
   "metadata": {},
   "outputs": [],
   "source": [
    "df.plot.scatter(x='mu', y='b')"
   ]
  }
 ],
 "metadata": {
  "kernelspec": {
   "display_name": "python3_poly",
   "language": "python",
   "name": "python3_poly"
  },
  "language_info": {
   "codemirror_mode": {
    "name": "ipython",
    "version": 3
   },
   "file_extension": ".py",
   "mimetype": "text/x-python",
   "name": "python",
   "nbconvert_exporter": "python",
   "pygments_lexer": "ipython3",
   "version": "3.8.12"
  }
 },
 "nbformat": 4,
 "nbformat_minor": 5
}
