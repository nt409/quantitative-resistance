{
 "cells": [
  {
   "cell_type": "markdown",
   "id": "d3690ae0-017b-4a90-b05d-b4e30af88795",
   "metadata": {},
   "source": [
    "# Model fitting"
   ]
  },
  {
   "cell_type": "code",
   "execution_count": null,
   "id": "63b7c33f-593b-499d-9ec1-c498e0f2a57a",
   "metadata": {},
   "outputs": [],
   "source": [
    "%load_ext autoreload\n",
    "%autoreload 2"
   ]
  },
  {
   "cell_type": "code",
   "execution_count": null,
   "id": "5d58e1f9-ed69-412a-9cd4-264c8199861f",
   "metadata": {},
   "outputs": [],
   "source": [
    "import pandas as pd\n",
    "import numpy as np\n",
    "import pickle\n",
    "\n",
    "import seaborn as sns\n",
    "import matplotlib.pyplot as plt\n",
    "sns.set_theme(style=\"whitegrid\")\n",
    "\n",
    "from scipy import stats\n",
    "from scipy.optimize import minimize\n",
    "from scipy.stats import truncexpon\n",
    "\n",
    "import optuna\n",
    "from optuna.samplers import TPESampler\n",
    "\n",
    "from pygam import GAM, s\n",
    "\n",
    "from sklearn.linear_model import LinearRegression\n",
    "\n",
    "from polymodel.utils import (\n",
    "    find_soln_given_beta_and_no_control,\n",
    "    logit10_vectorised,\n",
    "    inverse_logit10,\n",
    "    find_beta,\n",
    "    find_beta_vectorised,\n",
    "    truncated_exp_pdf,\n",
    "    find_sev_given_beta_and_no_control\n",
    ")\n",
    "from polymodel.params import PARAMS"
   ]
  },
  {
   "cell_type": "markdown",
   "id": "7f6182a5-01b1-4f1f-a17c-9438cc8a6c27",
   "metadata": {},
   "source": [
    "# Fungicide data"
   ]
  },
  {
   "cell_type": "markdown",
   "id": "b45b43c5-06ef-4ef9-8c38-f1ff07dd85c6",
   "metadata": {},
   "source": [
    "NB `\"../data/02_processed/proth_control_raw.csv\"` is generated from `src/fitting/fungicide/FungicideControlCurveGenerator.R`.\n",
    "\n",
    "This converts raw fungicide data (sent via email from Frank I think) to `\"../data/02_processed/proth_control_raw.csv\"`."
   ]
  },
  {
   "cell_type": "code",
   "execution_count": null,
   "id": "9d57d904-c64f-4108-bf59-fb40ba379a91",
   "metadata": {},
   "outputs": [],
   "source": [
    "prothio_df = (\n",
    "    pd.read_csv(\"../data/02_processed/proth_control_raw.csv\")\n",
    "    .iloc[:, 1:]\n",
    "    .set_index('year')\n",
    "    .rename(columns = {\n",
    "        'RD2': 'asymptote',\n",
    "        'k2': 'curvature',\n",
    "        'Srel': 'stb_relative_to_uncontrolled',\n",
    "        'Control': 'control',\n",
    "        'minNum': 'min_num',\n",
    "    })\n",
    "    .assign(\n",
    "        untreated_large_sev = 0.37,\n",
    "        notes = '3 replicates per year - Frank email',\n",
    "        notes2 = 'untreated_large_sev = Mean disease severity of the 10% largest S0 values - see `Identifying when it is financially beneficial ` paper',\n",
    "    )\n",
    ")\n",
    "\n",
    "prothio_df"
   ]
  },
  {
   "cell_type": "markdown",
   "id": "cf6cdf92-68f3-41e6-916c-b465862fd3bf",
   "metadata": {},
   "source": [
    "## Save fungicide control?"
   ]
  },
  {
   "cell_type": "code",
   "execution_count": null,
   "id": "40716c9d-561b-4702-9406-de1d9a06d66a",
   "metadata": {},
   "outputs": [],
   "source": [
    "if False:\n",
    "    filename = \"../data/03_model_inputs/control_prothio.csv\"\n",
    "    print(f\"saving to {filename}\")\n",
    "    prothio_df.to_csv(filename)"
   ]
  },
  {
   "cell_type": "markdown",
   "id": "f3e3d5c3-73a1-4e0e-b670-469c5d113302",
   "metadata": {},
   "source": [
    "# Host data"
   ]
  },
  {
   "cell_type": "markdown",
   "id": "c0a82c78-6a78-4d9a-8355-a83928ac29ff",
   "metadata": {},
   "source": [
    "From `01_raw/host_trials.csv`, applying `HostCurveGenerator.R` we get:\n",
    "\n",
    "<!-- - `03_model_inputs/Host/Varieties/FrameFull.csv` -->\n",
    "<!-- - `03_model_inputs/Host/Varieties/YearlyWorstSevs.csv` -->\n",
    "- `03_model_inputs/Host/Varieties/allData.csv`\n",
    "\n",
    "These are the relevant columns from the raw data, considering untreated by fungicide and excluding cultivar mixtures.\n",
    "\n",
    "We also filter by high pressure locations."
   ]
  },
  {
   "cell_type": "code",
   "execution_count": null,
   "id": "a2f46153-7132-40be-8bfd-7f0e3516a374",
   "metadata": {
    "jupyter": {
     "source_hidden": true
    },
    "tags": []
   },
   "outputs": [],
   "source": [
    "all_data = (\n",
    "    pd.read_csv('../data/02_processed/Host/allData.csv')\n",
    "    .iloc[:, 1:]\n",
    "    # .loc[lambda df: df.location.isin(locations_use.location)]\n",
    ")\n",
    "\n",
    "all_data"
   ]
  },
  {
   "cell_type": "markdown",
   "id": "868c8d96-fce2-4181-bb03-2bc98d82e04b",
   "metadata": {},
   "source": [
    "Location score greater than or equal to 6"
   ]
  },
  {
   "cell_type": "code",
   "execution_count": null,
   "id": "86b81366-a4f1-4635-b8e7-6935fbd5ef81",
   "metadata": {},
   "outputs": [],
   "source": [
    "high_pressure_locations = (\n",
    "    all_data\n",
    "    .astype({'post_code': 'int64'})\n",
    "    .set_index('post_code')\n",
    "    .join(\n",
    "        pd.read_csv('../data/01_raw/location_scores.csv')\n",
    "        .replace('<4000', 4000)\n",
    "        .astype('int64')\n",
    "        .set_index('postal code')\n",
    "        .loc[:, ['score_return']]\n",
    "        .rename(columns={'score_return': 'location_score'})\n",
    "    )\n",
    "    .loc[lambda df : df.location_score>=6]\n",
    "    .drop('location_score', axis=1)\n",
    ")\n",
    "\n",
    "high_pressure_locations.head()"
   ]
  },
  {
   "cell_type": "code",
   "execution_count": null,
   "id": "f50ccf01-beca-4f73-b0d0-461f03d6dd0b",
   "metadata": {},
   "outputs": [],
   "source": [
    "cultivars_use = pd.read_csv('../data/04_justification/whichHost/MoreThan8Years.csv').iloc[:, 1:]\n",
    "\n",
    "cultivars_use"
   ]
  },
  {
   "cell_type": "markdown",
   "id": "a829fd4c-8d81-4b48-b61f-2e071edb857d",
   "metadata": {},
   "source": [
    "Group data by year, cultivar and location, and get the mean stb score.\n",
    "\n",
    "Retain the number of data from which this mean was calculated."
   ]
  },
  {
   "cell_type": "code",
   "execution_count": null,
   "id": "ea2a6520-9bb9-48fe-a072-beb7286bef6c",
   "metadata": {},
   "outputs": [],
   "source": [
    "mean_by_yr_clt_loc = (\n",
    "    high_pressure_locations\n",
    "    .groupby(['year', 'cultivar', 'location'])\n",
    "    .agg(['mean', 'count'])\n",
    "    .reset_index()\n",
    ")\n",
    "\n",
    "mean_by_yr_clt_loc.columns = mean_by_yr_clt_loc.columns.droplevel(1)\n",
    "mean_by_yr_clt_loc.columns = list(mean_by_yr_clt_loc.columns)[:-1] + ['count']\n",
    "\n",
    "mean_by_yr_clt_loc = (\n",
    "    mean_by_yr_clt_loc\n",
    "    .sort_values(['cultivar', 'year'])\n",
    "    .rename(columns={'stb': 'stb_mean'})\n",
    "    .loc[lambda df: df.stb_mean>0]\n",
    ")\n",
    "\n",
    "mean_by_yr_clt_loc"
   ]
  },
  {
   "cell_type": "markdown",
   "id": "acfe46e2-df11-4993-bcc2-adcd97369c6a",
   "metadata": {},
   "source": [
    "Find the worst performing cultivar in each year/location, by mean stb score\n",
    "\n",
    "In the event of multiple cultivars being equally bad, retain the one with max N data points\n",
    "\n",
    "If still a clash, arbitrarily select the one first alphabetically"
   ]
  },
  {
   "cell_type": "code",
   "execution_count": null,
   "id": "ad3e8d82-9151-4f0f-8b39-95e5ca3187cf",
   "metadata": {},
   "outputs": [],
   "source": [
    "worst_stb_each_loc = (\n",
    "    mean_by_yr_clt_loc\n",
    "    .drop(['count', 'cultivar'], axis=1)\n",
    "    .groupby(['year', 'location'])\n",
    "    .max()\n",
    "    .reset_index()\n",
    ")\n",
    "\n",
    "worst_stb_with_cult_and_count_non_unique = (\n",
    "    worst_stb_each_loc\n",
    "    .set_index(['year', 'location', 'stb_mean'])\n",
    "    .join(mean_by_yr_clt_loc.set_index(['year', 'location', 'stb_mean']))\n",
    "    .reset_index()\n",
    ")\n",
    "\n",
    "worst_stb_with_cult_and_count = (\n",
    "    worst_stb_with_cult_and_count_non_unique\n",
    "    # now pick worst cultivar with highest count (alphabetically sorted in case of a tie)\n",
    "    # so that have 1 unique worst cultivar per year and location\n",
    "    .sort_values(['count', 'cultivar'], ascending=[False, True])\n",
    "    .groupby(['year', 'location'])\n",
    "    .first()\n",
    "    .reset_index()\n",
    ")\n",
    "\n",
    "worst_stb_with_cult_and_count"
   ]
  },
  {
   "cell_type": "markdown",
   "id": "754ae77b-63ed-426e-8445-18d813cb4660",
   "metadata": {},
   "source": [
    "Combine so that we have dataframe with, for each year and location:\n",
    "- stb scores from cultivars we care about\n",
    "- stb scores from worst cultivar\n",
    "- names of both\n",
    "- number of data for both\n",
    "- control offered\n",
    "- minimum of number of data for cultivar vs worst cultivar\n",
    "\n",
    "\n",
    "<i>We could filter out any year/location combos where the worst cultivar had a mean severity lower than 5.</i>\n",
    "\n",
    "<i>This is because dividing by small numbers causes greater variation, and we are most interested in situations where fungicide control would be required i.e. higher disease pressure - CHOOSING NOT TO, UNNECESSARY COMPLICATION</i>\n",
    "\n"
   ]
  },
  {
   "cell_type": "code",
   "execution_count": null,
   "id": "b89b38f1-5ca7-48d6-86de-57283511efc4",
   "metadata": {},
   "outputs": [],
   "source": [
    "control_df = (\n",
    "    mean_by_yr_clt_loc\n",
    "    .set_index(['year', 'location'])\n",
    "    .join(\n",
    "        worst_stb_with_cult_and_count\n",
    "        .set_index(['year', 'location']),\n",
    "        rsuffix='_worst'\n",
    "    )\n",
    "    .reset_index()\n",
    "    \n",
    "    .loc[lambda df: df.cultivar.isin(cultivars_use.cultivar)]\n",
    "    .assign(\n",
    "        control = lambda df: 100 * (df.stb_mean_worst - df.stb_mean) / df.stb_mean_worst,\n",
    "        min_num = lambda df: df.loc[:, ['count', 'count_worst']].min(axis=1)\n",
    "    )\n",
    "    \n",
    "    .sort_values(['cultivar', 'year', 'location'])\n",
    "    # .loc[lambda df: df.stb_mean_worst>=5]\n",
    ")\n",
    "\n",
    "control_df"
   ]
  },
  {
   "cell_type": "code",
   "execution_count": null,
   "id": "7104130d-2bfe-4075-b7d5-9629c2d2ae1b",
   "metadata": {},
   "outputs": [],
   "source": [
    "f, ax = plt.subplots(figsize=(14,7))\n",
    "\n",
    "sns.scatterplot(\n",
    "    x='year', \n",
    "    y='control',\n",
    "    size='min_num', \n",
    "    data=control_df.loc[control_df.cultivar=='Mariboss'],\n",
    "    alpha=0.8,\n",
    ")"
   ]
  },
  {
   "cell_type": "markdown",
   "id": "0962b4d4-24d5-40fb-baf0-f8087323cc81",
   "metadata": {},
   "source": [
    "## Save host control?"
   ]
  },
  {
   "cell_type": "markdown",
   "id": "42ed967d-e2b8-49d2-9b62-3e29c63aff2c",
   "metadata": {},
   "source": [
    "These are the control values for each interesting host variety for model fitting"
   ]
  },
  {
   "cell_type": "code",
   "execution_count": null,
   "id": "b90c00b2-56ae-4374-b44e-d9db864caacc",
   "metadata": {},
   "outputs": [],
   "source": [
    "if False:\n",
    "    filename = '../data/03_model_inputs/control_host.csv'\n",
    "    print(f\"saving to {filename}\")\n",
    "    control_df.to_csv(filename)\n",
    "\n",
    "control_df.head(5)"
   ]
  },
  {
   "cell_type": "code",
   "execution_count": null,
   "id": "885112d6-ed7c-480d-9e4d-169810b7fbec",
   "metadata": {},
   "outputs": [],
   "source": [
    "mean_worst_severities = (\n",
    "    control_df\n",
    "    .loc[:, ['year',\n",
    "             'location',\n",
    "             'cultivar',\n",
    "             'count_worst',\n",
    "             'stb_mean_worst',\n",
    "    ]]\n",
    "    \n",
    "    .assign(scaled_worst = lambda df: df.count_worst * df.stb_mean_worst)\n",
    "    \n",
    "    .drop('stb_mean_worst', axis=1)\n",
    "    \n",
    "    .groupby(['year', 'cultivar'])\n",
    "    \n",
    "    .sum()\n",
    "    \n",
    "    .assign(worst_stb = lambda df: df.scaled_worst / df.count_worst)\n",
    "    \n",
    "    .loc[:, ['worst_stb']]\n",
    "    .reset_index()\n",
    "    \n",
    "    .sort_values(['cultivar', 'year'])\n",
    "    \n",
    "    .reset_index(drop=True)\n",
    "    \n",
    ")\n",
    "\n",
    "mean_worst_severities"
   ]
  },
  {
   "cell_type": "code",
   "execution_count": null,
   "id": "484eed43-3abe-4b8c-b308-5581e11233a1",
   "metadata": {},
   "outputs": [],
   "source": [
    "f, ax = plt.subplots(figsize=(14,7))\n",
    "\n",
    "sns.scatterplot(x='year', y='worst_stb', hue='cultivar', data=mean_worst_severities, ax=ax)\n",
    "\n",
    "ax.set_ylim([0,50])"
   ]
  },
  {
   "cell_type": "markdown",
   "id": "76fe3b08-7910-49be-b512-5dff66ed3010",
   "metadata": {},
   "source": [
    "## Save worst stb?"
   ]
  },
  {
   "cell_type": "markdown",
   "id": "8d359c5d-a334-466c-96d0-b8582116b8b8",
   "metadata": {},
   "source": [
    "These are the severities to use as inputs into the host model fitting for each year, corresponding to the mean worst stb, by host and year"
   ]
  },
  {
   "cell_type": "code",
   "execution_count": null,
   "id": "df30ca37-4511-4096-a71e-e26f5a5c6e7f",
   "metadata": {},
   "outputs": [],
   "source": [
    "if False:\n",
    "    filename = '../data/03_model_inputs/input_severities_host.csv'\n",
    "    print(f\"saving to {filename}\")\n",
    "    mean_worst_severities.to_csv(filename)\n",
    "\n",
    "mean_worst_severities.head(5)"
   ]
  },
  {
   "cell_type": "markdown",
   "id": "e7cd969c-b908-4bdf-90a1-87af2964bb00",
   "metadata": {},
   "source": [
    "# I0"
   ]
  },
  {
   "cell_type": "markdown",
   "id": "066f3813-c561-454e-9d8b-6abe78539499",
   "metadata": {},
   "source": [
    "Default value of I0 is going to be found from the time series data and just kept as fixed.\n",
    "\n",
    "Filter out those which are 0\n",
    "\n",
    "Growth stage mapping used: \n",
    "- 2275.0 dd : GS61-65 (based on 2066 = GS61)\n",
    "- 2485.0 dd : GS71\n",
    "- 2690.0 dd : GS75\n",
    "\n",
    "NB GS87 = 2900\n",
    "\n",
    "Rounding to nearest 5."
   ]
  },
  {
   "cell_type": "markdown",
   "id": "509c2a1e-2696-4958-9fa6-4cfcebe93136",
   "metadata": {},
   "source": [
    "## Growth stage mapping to degree days"
   ]
  },
  {
   "cell_type": "code",
   "execution_count": null,
   "id": "00391c7a-4a96-4ec2-85d3-aad8c705e250",
   "metadata": {},
   "outputs": [],
   "source": [
    "gs_dd_map = (\n",
    "    pd.DataFrame(dict(\n",
    "        dd = [2066, np.nan, np.nan, np.nan, 2900],\n",
    "        GS = [61, 63, 71, 75, 87]\n",
    "    ))\n",
    "    .interpolate()\n",
    ")\n",
    "\n",
    "gs_dd_map"
   ]
  },
  {
   "cell_type": "code",
   "execution_count": null,
   "id": "80fb5195-5da6-4f89-95cb-550136406fb5",
   "metadata": {},
   "outputs": [],
   "source": [
    "gs_dd_map = (\n",
    "    pd.DataFrame(dict(\n",
    "        dd = [2066, \n",
    "              np.nan,\n",
    "              np.nan,\n",
    "              np.nan, \n",
    "              2900],\n",
    "        GS = [61, \n",
    "              63, \n",
    "              71,\n",
    "              75, \n",
    "              87]\n",
    "    ))\n",
    "    .set_index('GS')\n",
    "    .interpolate(method='index')\n",
    "    .reset_index()\n",
    ")\n",
    "\n",
    "gs_dd_map"
   ]
  },
  {
   "cell_type": "code",
   "execution_count": null,
   "id": "5cc0dc06-be7d-4264-9d7e-ebd480b1d329",
   "metadata": {},
   "outputs": [],
   "source": [
    "gs_dd_map.set_index('GS').plot()"
   ]
  },
  {
   "cell_type": "code",
   "execution_count": null,
   "id": "b1a76cf5-2fe8-42bd-a31b-01e0a7b70f50",
   "metadata": {},
   "outputs": [],
   "source": [
    "gs_dd_map = gs_dd_map.assign(to_use = lambda df: 5*round(df.dd/5))\n",
    "gs_dd_map"
   ]
  },
  {
   "cell_type": "code",
   "execution_count": null,
   "id": "3147966f-f83a-41db-ae10-082b91577c2f",
   "metadata": {},
   "outputs": [],
   "source": [
    "gs_dd_map.to_use[0]"
   ]
  },
  {
   "cell_type": "markdown",
   "id": "2d14cd84-3d52-4e84-ae9d-ddcb8934f045",
   "metadata": {},
   "source": [
    "No longer filter by cultivar, because all cultivars should have same I0"
   ]
  },
  {
   "cell_type": "code",
   "execution_count": null,
   "id": "2a449a92-b289-4241-a884-262c3f9b0ac1",
   "metadata": {},
   "outputs": [],
   "source": [
    "I_at_diff_times = (\n",
    "    pd.read_csv('../data/02_processed/I0_in_better_colnames.csv')\n",
    "    \n",
    "    .loc[:, [\n",
    "             'treatment',\n",
    "             # 'cultivar',\n",
    "             'L2',\n",
    "             '17_06_gs71_l2',\n",
    "             '25_06_19_gs75_l2',\n",
    "            ]\n",
    "    ]\n",
    "    \n",
    "    .rename(columns = {\n",
    "        'L2': 'I1',\n",
    "        '17_06_gs71_l2': 'I2',\n",
    "        '25_06_19_gs75_l2': 'I3',\n",
    "    })\n",
    "    \n",
    "    .loc[lambda df: (\n",
    "        # untreated\n",
    "        (df.treatment=='a') & \n",
    "        (df.I1>0) & \n",
    "        (df.I2>0) & \n",
    "        (df.I3>0))\n",
    "    ]\n",
    "    .drop('treatment', axis=1)\n",
    "    \n",
    "    .reset_index(drop=True)\n",
    "    \n",
    "    .assign(\n",
    "        t0 = gs_dd_map.to_use[0],\n",
    "        t1 = gs_dd_map.to_use[1],\n",
    "        t2 = gs_dd_map.to_use[2],\n",
    "        t3 = gs_dd_map.to_use[3],\n",
    "        \n",
    "        IL1 = lambda df: logit10_vectorised(0.01*df.I1),\n",
    "        IL2 = lambda df: logit10_vectorised(0.01*df.I2),\n",
    "        IL3 = lambda df: logit10_vectorised(0.01*df.I3),\n",
    "    )\n",
    ")\n",
    "\n",
    "I_at_diff_times"
   ]
  },
  {
   "cell_type": "code",
   "execution_count": null,
   "id": "357f14de-d5f7-4ece-99c2-2273c3c665a9",
   "metadata": {},
   "outputs": [],
   "source": [
    "stacked = (\n",
    "    I_at_diff_times\n",
    "    .filter(like='IL')\n",
    "    .stack()\n",
    "    .reset_index(level=1)\n",
    "    .replace('IL1', gs_dd_map.to_use[1])\n",
    "    .replace('IL2', gs_dd_map.to_use[2])\n",
    "    .replace('IL3', gs_dd_map.to_use[3])\n",
    "    .rename(columns={\n",
    "        'level_1': 'time_dd', \n",
    "        0: 'stb'\n",
    "    })\n",
    "    .reset_index(drop=True)\n",
    ")\n",
    "\n",
    "stacked.head(5)"
   ]
  },
  {
   "cell_type": "code",
   "execution_count": null,
   "id": "1a51a4e1-4e95-436d-aec8-b489a2f18141",
   "metadata": {},
   "outputs": [],
   "source": [
    "lr = LinearRegression().fit(\n",
    "    np.array(stacked.time_dd).reshape(-1, 1),\n",
    "    np.array(stacked.stb)\n",
    ")"
   ]
  },
  {
   "cell_type": "code",
   "execution_count": null,
   "id": "3e495e0b-45e0-4f7d-a4ca-2d09e3e5b4bd",
   "metadata": {},
   "outputs": [],
   "source": [
    "IL0_pred = lr.predict(np.array([1456]).reshape(-1, 1))[0]"
   ]
  },
  {
   "cell_type": "code",
   "execution_count": null,
   "id": "40ff2dc1-4d3f-4593-8171-2203e6f93b7c",
   "metadata": {},
   "outputs": [],
   "source": [
    "IL0_pred"
   ]
  },
  {
   "cell_type": "code",
   "execution_count": null,
   "id": "fe5a5888-7151-4c1e-88a9-124b6ff999eb",
   "metadata": {},
   "outputs": [],
   "source": [
    "I0_pred = inverse_logit10(IL0_pred)"
   ]
  },
  {
   "cell_type": "code",
   "execution_count": null,
   "id": "3056f245-d181-4425-b124-218a2800010e",
   "metadata": {},
   "outputs": [],
   "source": [
    "tt = np.linspace(1456, stacked.time_dd.max(), 5)\n",
    "model_preds = lr.predict(tt.reshape(-1,1))"
   ]
  },
  {
   "cell_type": "markdown",
   "id": "cd7d5b3f-2019-43ae-aa74-13fbd461628a",
   "metadata": {},
   "source": [
    "## New (works with non-constant host)"
   ]
  },
  {
   "cell_type": "code",
   "execution_count": null,
   "id": "d096feec-a6dd-4311-b71e-ca928955b2a7",
   "metadata": {},
   "outputs": [],
   "source": [
    "class I0Objective:\n",
    "    def __init__(self) -> None:\n",
    "        self.df = stacked\n",
    "\n",
    "    def __call__(self, trial):\n",
    "        if trial is None:\n",
    "            params = {'I0': 0.001, 'beta': 0.001}\n",
    "        else:\n",
    "            params = self.get_params(trial)\n",
    "        \n",
    "        res = self.run_model(params)\n",
    "        \n",
    "        score = np.sum(res.sq_residual)\n",
    "        \n",
    "        return score\n",
    "    \n",
    "\n",
    "\n",
    "    def run_model(self, params):\n",
    "        t_vals = [PARAMS.T_1] + list(stacked.time_dd.unique())\n",
    "\n",
    "        t_vals.sort()\n",
    "        \n",
    "        soln = find_soln_given_beta_and_no_control(\n",
    "            params['beta'],\n",
    "            params['I0'],\n",
    "            t_vals)\n",
    "        \n",
    "        no_control_model = (\n",
    "            pd.DataFrame(soln.T)\n",
    "            .rename(columns={0: 'S', 1: 'I'})\n",
    "            .assign(\n",
    "                time_dd = t_vals,\n",
    "                sev = lambda df: df.I / (df.S + df.I),\n",
    "                sev_logit = lambda df: logit10_vectorised(df.sev)\n",
    "            )\n",
    "            .set_index('time_dd')\n",
    "        )\n",
    "\n",
    "        res = (\n",
    "            no_control_model\n",
    "\n",
    "            .join(\n",
    "                stacked.set_index('time_dd'),\n",
    "                how='outer'\n",
    "            )\n",
    "\n",
    "            .rename(columns = {\n",
    "                'stb': 'data', \n",
    "                'sev_logit': 'model'\n",
    "            })\n",
    "\n",
    "            .loc[:, ['data', 'model']]\n",
    "\n",
    "            .reset_index()\n",
    "\n",
    "            .loc[lambda df: df.time_dd>1456]\n",
    "            \n",
    "            .assign(sq_residual = lambda df: (df.data - df.model)**2)\n",
    "        )\n",
    "\n",
    "        return res\n",
    "\n",
    "\n",
    "    def get_params(self, trial):\n",
    "        params = {\n",
    "            \"I0\": trial.suggest_float(\n",
    "                \"I0\",\n",
    "                1e-6,\n",
    "                1e-2\n",
    "            ),\n",
    "            \"beta\": trial.suggest_float(\n",
    "                \"beta\",\n",
    "                1e-5,\n",
    "                1e-2,\n",
    "                log=True\n",
    "            ),\n",
    "        }\n",
    "        return params"
   ]
  },
  {
   "cell_type": "code",
   "execution_count": null,
   "id": "1893d53d-4b8a-40da-95bc-986e4ff895ea",
   "metadata": {},
   "outputs": [],
   "source": [
    "optuna.logging.set_verbosity(\n",
    "    optuna.logging.WARNING\n",
    ")"
   ]
  },
  {
   "cell_type": "code",
   "execution_count": null,
   "id": "0e587698-02be-48fa-959f-e073505a20dc",
   "metadata": {},
   "outputs": [],
   "source": [
    "sampler = TPESampler(seed=0)\n",
    "study = optuna.create_study(sampler=sampler)\n",
    "obj = I0Objective()"
   ]
  },
  {
   "cell_type": "code",
   "execution_count": null,
   "id": "d24e32f3-1590-4588-ba92-34402c288fc8",
   "metadata": {},
   "outputs": [],
   "source": [
    "study.optimize(obj, n_trials=500)"
   ]
  },
  {
   "cell_type": "code",
   "execution_count": null,
   "id": "fc0186dd-611a-4fb7-9700-2d7a072e7639",
   "metadata": {},
   "outputs": [],
   "source": [
    "study.best_trial"
   ]
  },
  {
   "cell_type": "code",
   "execution_count": null,
   "id": "8a012784-dcda-438e-87d4-64cd58a52597",
   "metadata": {},
   "outputs": [],
   "source": [
    "study.best_params"
   ]
  },
  {
   "cell_type": "code",
   "execution_count": null,
   "id": "e2114435-e8a3-4c33-a33f-7e27e36eaf2f",
   "metadata": {},
   "outputs": [],
   "source": [
    "res = I0Objective().run_model(study.best_params)\n",
    "res.head()"
   ]
  },
  {
   "cell_type": "code",
   "execution_count": null,
   "id": "1a3be840-8bf5-4803-bc48-69cae32fbeba",
   "metadata": {},
   "outputs": [],
   "source": [
    "f, ax = plt.subplots()\n",
    "\n",
    "res.set_index('time_dd').model.plot(ax=ax, lw=4, c='r')\n",
    "\n",
    "res.plot.scatter(x='time_dd', y='data', ax=ax)"
   ]
  },
  {
   "cell_type": "markdown",
   "id": "22c7ccf0-4699-43f7-b187-ca5feb3876e2",
   "metadata": {},
   "source": [
    "## Save I0 value?"
   ]
  },
  {
   "cell_type": "code",
   "execution_count": null,
   "id": "2591dff5-54be-4f42-8828-0fe931724a4a",
   "metadata": {},
   "outputs": [],
   "source": [
    "I0_df = (\n",
    "    pd.DataFrame(dict(I0_value = [study.best_params['I0']]))\n",
    ")\n",
    "\n",
    "I0_df"
   ]
  },
  {
   "cell_type": "code",
   "execution_count": null,
   "id": "9c425097-62df-444a-aa68-30258706927a",
   "metadata": {},
   "outputs": [],
   "source": [
    "if True:\n",
    "    filename = '../data/03_model_inputs/I0_value.csv'\n",
    "    print(f'saving to {filename}')\n",
    "    I0_df.to_csv(filename)"
   ]
  },
  {
   "cell_type": "markdown",
   "id": "8fcf1405-09cd-499d-8e38-4ecfec25d006",
   "metadata": {},
   "source": [
    "# Beta"
   ]
  },
  {
   "cell_type": "markdown",
   "id": "4153c612-604d-4d3c-b455-ebd03a843c77",
   "metadata": {},
   "source": [
    "We collate all of the worst cultivars in the high pressure locations across all years, and then use a gaussian kernel-density estimate using Gaussian kernels and small bandwith 0.05 to smooth the values.\n",
    "\n",
    "We can use the single I0 value found above to give us a beta value for each of these smoothed final severities."
   ]
  },
  {
   "cell_type": "code",
   "execution_count": null,
   "id": "fa195a0b-e5bc-4ae5-8a51-94d9a914e8a9",
   "metadata": {},
   "outputs": [],
   "source": [
    "I0_value = pd.read_csv('../data/03_model_inputs/I0_value.csv').I0_value.iloc[0]\n",
    "I0_value"
   ]
  },
  {
   "cell_type": "code",
   "execution_count": null,
   "id": "e625d237-1ddd-4062-9d15-b3b380ce4c6e",
   "metadata": {},
   "outputs": [],
   "source": [
    "stb_values = (\n",
    "    worst_stb_with_cult_and_count_non_unique\n",
    "    .drop(['stb_mean', 'count'], axis=1)\n",
    "    .set_index(['year', 'location', 'cultivar'])\n",
    "    .join(\n",
    "        high_pressure_locations\n",
    "        .set_index(['year', 'location', 'cultivar'])\n",
    "    )\n",
    "    .reset_index()\n",
    ")\n",
    "\n",
    "stb_values.stb.hist()"
   ]
  },
  {
   "cell_type": "code",
   "execution_count": null,
   "id": "a467f715-ce16-44ab-8b28-6afd08057808",
   "metadata": {},
   "outputs": [],
   "source": [
    "stb_values"
   ]
  },
  {
   "cell_type": "markdown",
   "id": "c72de2aa-41c1-4b45-a9ee-188ee159ac51",
   "metadata": {},
   "source": [
    "## Truncated exponential"
   ]
  },
  {
   "cell_type": "code",
   "execution_count": null,
   "id": "48892ed4-739e-4394-bf86-9fcb4c1d9d3b",
   "metadata": {},
   "outputs": [],
   "source": [
    "stb_values.stb.describe()"
   ]
  },
  {
   "cell_type": "code",
   "execution_count": null,
   "id": "ad8f7551-621e-48ef-862c-19462cf035ed",
   "metadata": {},
   "outputs": [],
   "source": [
    "xx = np.linspace(-0.5,100.5,301)"
   ]
  },
  {
   "cell_type": "code",
   "execution_count": null,
   "id": "b8fc82c7-d375-4613-a130-c2f71760ef23",
   "metadata": {},
   "outputs": [],
   "source": [
    "def neg_log_likelihood(lambd):\n",
    "    log_probs = [np.log(truncated_exp_pdf(x, lambd)) for x in stb_values.stb]\n",
    "    return - np.sum(log_probs)"
   ]
  },
  {
   "cell_type": "code",
   "execution_count": null,
   "id": "37c415ba-71fb-4d34-b6ec-26f3af669489",
   "metadata": {},
   "outputs": [],
   "source": [
    "min_out = minimize(\n",
    "    neg_log_likelihood,\n",
    "    [0.04],\n",
    "    bounds=[(1e-6, 100)],\n",
    "    tol=1e-6,\n",
    ")\n",
    "min_out"
   ]
  },
  {
   "cell_type": "code",
   "execution_count": null,
   "id": "a1ab25ed-ba97-47da-a563-8b979acd3581",
   "metadata": {},
   "outputs": [],
   "source": [
    "lambd_fitted = min_out.x[0]\n",
    "lambd_fitted"
   ]
  },
  {
   "cell_type": "code",
   "execution_count": null,
   "id": "73f4af14-8193-46be-b7c8-248be59bce95",
   "metadata": {},
   "outputs": [],
   "source": [
    "my_line = [truncated_exp_pdf(ii, lambd_fitted) for ii in xx]"
   ]
  },
  {
   "cell_type": "code",
   "execution_count": null,
   "id": "fa3a04bc-d107-4d99-ab42-887b81bd642a",
   "metadata": {},
   "outputs": [],
   "source": [
    "if False:\n",
    "    stb_values.to_csv('../data/03_model_inputs/stb_vals.csv')"
   ]
  },
  {
   "cell_type": "code",
   "execution_count": null,
   "id": "e98a50f7-c888-40bf-9604-05e57bf1aa9b",
   "metadata": {},
   "outputs": [],
   "source": [
    "f, ax = plt.subplots(figsize=(8,7))\n",
    "\n",
    "(\n",
    "    stb_values\n",
    "    .stb\n",
    "    .hist(ax=ax, \n",
    "          bins=20,\n",
    "          density=True\n",
    "    )\n",
    ")\n",
    "\n",
    "ax.plot(xx, my_line, c='r', lw=3)"
   ]
  },
  {
   "cell_type": "code",
   "execution_count": null,
   "id": "528b05c4-e962-4d8f-a3d0-a30e88b2a1b3",
   "metadata": {},
   "outputs": [],
   "source": [
    "f.savefig('../figures/paper_figs/trunc_exp_20.jpg')"
   ]
  },
  {
   "cell_type": "code",
   "execution_count": null,
   "id": "5a76820c-0f58-46a9-8b46-c8aca72c52d6",
   "metadata": {},
   "outputs": [],
   "source": [
    "f, ax = plt.subplots(figsize=(8,7))\n",
    "\n",
    "(\n",
    "    stb_values\n",
    "    .stb\n",
    "    .hist(ax=ax, \n",
    "          bins=40,\n",
    "          density=True\n",
    "    )\n",
    ")\n",
    "\n",
    "ax.plot(xx, my_line, c='r', lw=3)"
   ]
  },
  {
   "cell_type": "code",
   "execution_count": null,
   "id": "64779f19-1589-44f5-a59d-7f9dbf0ca2bf",
   "metadata": {},
   "outputs": [],
   "source": [
    "f.savefig('../figures/paper_figs/trunc_exp_40.jpg')"
   ]
  },
  {
   "cell_type": "code",
   "execution_count": null,
   "id": "48e2a953-31f7-4a1f-a949-408c474acf52",
   "metadata": {},
   "outputs": [],
   "source": [
    "ldf = pd.DataFrame(dict(lambda_fitted = [lambd_fitted]))\n",
    "ldf"
   ]
  },
  {
   "cell_type": "markdown",
   "id": "daacaa1e-381c-46a9-a1e6-c4ca5ba7ee84",
   "metadata": {},
   "source": [
    "## Save lambda (exponential value)"
   ]
  },
  {
   "cell_type": "code",
   "execution_count": null,
   "id": "e7b181fb-d1fb-4c21-bf1c-66dd09e22865",
   "metadata": {},
   "outputs": [],
   "source": [
    "filename = '../data/03_model_inputs/lambda_fitted.csv'\n",
    "\n",
    "if False:\n",
    "    print(f'saving to {filename}')\n",
    "    ldf.to_csv(filename)\n",
    "    \n",
    "lambda_use = float(pd.read_csv(filename).iloc[:, 1])\n",
    "lambda_use"
   ]
  },
  {
   "cell_type": "markdown",
   "id": "b437f9d3-5830-4b4c-805a-ac0db7706311",
   "metadata": {},
   "source": [
    "## Sample stb and beta"
   ]
  },
  {
   "cell_type": "markdown",
   "id": "4584f7e0-1906-4870-b3a8-b256788840c5",
   "metadata": {},
   "source": [
    "Need to check that the resulting beta values are sensible. Should be somewhere in the order of `1e-3`.\n",
    "\n",
    "Then can post-hoc filter out any values that do something weird."
   ]
  },
  {
   "cell_type": "code",
   "execution_count": null,
   "id": "a0eddca8-07b6-4d17-be95-4f2052982d33",
   "metadata": {},
   "outputs": [],
   "source": [
    "def find_stb(lambd, p):\n",
    "    arg = 1 - p + p*np.exp(-100*lambd)\n",
    "    out = -1/lambd * np.log(arg)\n",
    "    return out"
   ]
  },
  {
   "cell_type": "code",
   "execution_count": null,
   "id": "4c11fd9c-9848-42e4-a467-f0ac9613b68a",
   "metadata": {},
   "outputs": [],
   "source": [
    "N_SAMPLE = 20000"
   ]
  },
  {
   "cell_type": "code",
   "execution_count": null,
   "id": "50b8f908-7082-4562-afd3-08f4b6adbacf",
   "metadata": {},
   "outputs": [],
   "source": [
    "np.random.seed(1)\n",
    "random_unif = np.random.uniform(size=N_SAMPLE)"
   ]
  },
  {
   "cell_type": "code",
   "execution_count": null,
   "id": "bb466ae6-fe82-47a6-9c4f-42426f0cd869",
   "metadata": {},
   "outputs": [],
   "source": [
    "stb_generated = find_stb(lambda_use, random_unif)"
   ]
  },
  {
   "cell_type": "code",
   "execution_count": null,
   "id": "73b6be12-fa67-48f6-bc86-b7b89e6af6f6",
   "metadata": {},
   "outputs": [],
   "source": [
    "pd.DataFrame(dict(stb=stb_generated)).describe()"
   ]
  },
  {
   "cell_type": "code",
   "execution_count": null,
   "id": "eb558101-c73e-4ba6-83a9-bcbb6fd6b8dc",
   "metadata": {},
   "outputs": [],
   "source": [
    "I0_value"
   ]
  },
  {
   "cell_type": "code",
   "execution_count": null,
   "id": "22d1e771-afd4-4a44-b148-a9f587b51a07",
   "metadata": {},
   "outputs": [],
   "source": [
    "find_beta_vectorised([2e-3, 9.9e-1], I0_value)"
   ]
  },
  {
   "cell_type": "code",
   "execution_count": null,
   "id": "3a780189-1dbf-4190-b0c8-d469d48c5333",
   "metadata": {},
   "outputs": [],
   "source": [
    "beta_df = (\n",
    "    pd.DataFrame(dict(stb=stb_generated))\n",
    "    .assign(beta = lambda df: \n",
    "            find_beta_vectorised(0.01*df.stb, I0_value)\n",
    "    )\n",
    ")\n",
    "\n",
    "beta_df.head()"
   ]
  },
  {
   "cell_type": "code",
   "execution_count": null,
   "id": "52d59e3f-bd31-4ce4-88fc-bcf956616d90",
   "metadata": {},
   "outputs": [],
   "source": [
    "beta_df.to_csv('../data/03_model_inputs/many_sampled_betas.csv')"
   ]
  },
  {
   "cell_type": "code",
   "execution_count": null,
   "id": "c8a9d311-9719-443d-b7bb-dbefd4c1c264",
   "metadata": {},
   "outputs": [],
   "source": [
    "f, ax = plt.subplots()\n",
    "\n",
    "beta_df.hist(ax=ax\n",
    "             # , bins=50\n",
    "            )"
   ]
  },
  {
   "cell_type": "code",
   "execution_count": null,
   "id": "a7f6735a-0bbe-4557-bbfc-e24fa79c67fd",
   "metadata": {},
   "outputs": [],
   "source": [
    "beta_df.sort_values(['beta', 'stb']).loc[lambda df: np.isclose(df.beta, 1e-4)]"
   ]
  },
  {
   "cell_type": "code",
   "execution_count": null,
   "id": "444ada74-f448-4b06-9c88-bd57b1a0583e",
   "metadata": {},
   "outputs": [],
   "source": [
    "bad_betas = (\n",
    "    beta_df\n",
    "    .loc[lambda df: (\n",
    "        (df.beta<=1e-4) |\n",
    "        (df.beta>=5e-2) |\n",
    "        (df.beta.isin([np.nan]))\n",
    "        \n",
    "    )]\n",
    ")\n",
    "\n",
    "bad_betas"
   ]
  },
  {
   "cell_type": "code",
   "execution_count": null,
   "id": "af5467e9-c4e1-4750-9076-556310ed25f7",
   "metadata": {},
   "outputs": [],
   "source": [
    "beta_df.loc[np.isclose(beta_df.beta,0.0001), :] = np.nan"
   ]
  },
  {
   "cell_type": "code",
   "execution_count": null,
   "id": "211b2e62-f28f-4184-9d29-e97c0ab73022",
   "metadata": {},
   "outputs": [],
   "source": [
    "sampled_betas_use = beta_df.loc[~np.isclose(beta_df.beta,0.0001)]\n",
    "\n",
    "sampled_betas_use.shape"
   ]
  },
  {
   "cell_type": "markdown",
   "id": "d545c165-85e9-4a0d-8a94-b4b8679fa557",
   "metadata": {},
   "source": [
    "NB that think can't achieve this lowest sev with same I0 - even with beta=0 will have some minimum severity. So just filter out these very rare cases - 13 out of 20000."
   ]
  },
  {
   "cell_type": "code",
   "execution_count": null,
   "id": "3f537fe4-ca6a-4a2f-a5df-a7f338c0f3fb",
   "metadata": {},
   "outputs": [],
   "source": [
    "sampled_betas_use.describe()"
   ]
  },
  {
   "cell_type": "code",
   "execution_count": null,
   "id": "e8cd54ab-d293-4d0d-8d4a-6601e61409a2",
   "metadata": {},
   "outputs": [],
   "source": [
    "(\n",
    "    sampled_betas_use\n",
    "    .assign(log_b = lambda df: np.log(df.beta))\n",
    "    .plot\n",
    "    .scatter(x='log_b', y='stb', alpha=0.1)\n",
    ")"
   ]
  },
  {
   "cell_type": "code",
   "execution_count": null,
   "id": "458dc768-ff15-475b-8649-897343fef857",
   "metadata": {},
   "outputs": [],
   "source": [
    "# f.savefig('../figures/paper_figs/stb_vs_beta_expo.jpg')"
   ]
  },
  {
   "cell_type": "markdown",
   "id": "34a743ce-d001-477f-ab96-4dfb303ed0a1",
   "metadata": {},
   "source": [
    "## Save sampled betas?"
   ]
  },
  {
   "cell_type": "code",
   "execution_count": null,
   "id": "503b6a16-6330-4760-a126-08ca6bc91579",
   "metadata": {},
   "outputs": [],
   "source": [
    "# if SAVING:\n",
    "if True:\n",
    "    filename = '../data/03_model_inputs/beta_sampled.csv'\n",
    "    print(f'saving beta to {filename}')\n",
    "    sampled_betas_use.beta.to_csv(filename)"
   ]
  },
  {
   "cell_type": "markdown",
   "id": "b0a8a984-a3df-42bf-bff0-3690c661fabd",
   "metadata": {},
   "source": [
    "## Resample to get more"
   ]
  },
  {
   "cell_type": "code",
   "execution_count": null,
   "id": "83591f49-a8d0-495d-8597-68b66d09a5b5",
   "metadata": {},
   "outputs": [],
   "source": [
    "betas = pd.read_csv('../data/03_model_inputs/beta_sampled.csv').iloc[1:]"
   ]
  },
  {
   "cell_type": "code",
   "execution_count": null,
   "id": "c9a96bf9-285a-4742-9c3a-ee38d619e658",
   "metadata": {},
   "outputs": [],
   "source": [
    "betas2 = (\n",
    "    pd.concat([betas] +\n",
    "        [betas.sample(frac=1, random_state=ii) for ii in range(10)]\n",
    "    )\n",
    ")\n",
    "\n",
    "betas2.head(10)"
   ]
  },
  {
   "cell_type": "code",
   "execution_count": null,
   "id": "246ce252-a9bd-4611-ad13-249ed0aa3841",
   "metadata": {},
   "outputs": [],
   "source": [
    "betas2.shape"
   ]
  },
  {
   "cell_type": "code",
   "execution_count": null,
   "id": "01a23546-4815-4430-8658-63d39fcec7bd",
   "metadata": {},
   "outputs": [],
   "source": [
    "betas2.loc[:, 'beta'].to_csv('../data/03_model_inputs/beta_sampled.csv', index=False)"
   ]
  },
  {
   "cell_type": "markdown",
   "id": "a27ce83b-bb3f-4a29-a124-ed376c02a933",
   "metadata": {},
   "source": [
    "### for nik cdf"
   ]
  },
  {
   "cell_type": "code",
   "execution_count": null,
   "id": "8e8bdf80-b002-4690-a5fd-328af08a5fc6",
   "metadata": {},
   "outputs": [],
   "source": [
    "cdf_df = (\n",
    "    pd.DataFrame(dict(x = np.linspace(0,1,100)))\n",
    "    .assign(cdf = lambda df: find_stb(lambda_use, df.x))\n",
    ")"
   ]
  },
  {
   "cell_type": "code",
   "execution_count": null,
   "id": "6c9bab77-455e-4bd3-96fb-2c13e98227c8",
   "metadata": {},
   "outputs": [],
   "source": [
    "f, ax= plt.subplots(figsize=(14,8))\n",
    "\n",
    "cdf_df.plot(x='x', y='cdf', ax=ax)\n",
    "\n",
    "\n",
    "(\n",
    "    stb_values\n",
    "    .sort_values('stb')\n",
    "    .reset_index(drop=True)\n",
    "    .assign(quartile = lambda df: (\n",
    "        df.index / (df.shape[0] - 1)\n",
    "    )\n",
    "    )\n",
    "    .set_index('quartile')\n",
    "    .loc[:, ['stb']]\n",
    "    .plot(ax=ax)\n",
    ")\n",
    "\n",
    "# (\n",
    "#     random_sample\n",
    "#     .sort_values('random_stb')\n",
    "#     .reset_index(drop=True)\n",
    "#     .assign(quartile = lambda df: (\n",
    "#         df.index / (df.shape[0] - 1)\n",
    "#     )        \n",
    "#     )\n",
    "#     .set_index('quartile')\n",
    "#     .loc[:, ['random_stb']]\n",
    "#     .rename(columns={'random_stb': 'smoothed_stb'})\n",
    "#     .plot(ax=ax)\n",
    "# )"
   ]
  },
  {
   "cell_type": "code",
   "execution_count": null,
   "id": "9fa763bb-ce5c-4247-92af-567430b35b9f",
   "metadata": {},
   "outputs": [],
   "source": [
    "f.savefig('../figures/paper_figs/cdf.jpg')"
   ]
  },
  {
   "cell_type": "code",
   "execution_count": null,
   "id": "78558746-acec-400d-b042-0f06fde1fb21",
   "metadata": {},
   "outputs": [],
   "source": [
    "betas = pd.read_csv('../data/03_model_inputs/beta_sampled.csv').iloc[:, 1:]\n",
    "betas"
   ]
  },
  {
   "cell_type": "code",
   "execution_count": null,
   "id": "36011212-c75c-4aae-8e98-0185612a3b22",
   "metadata": {},
   "outputs": [],
   "source": [
    "betas.mean(), betas.median()"
   ]
  },
  {
   "cell_type": "markdown",
   "id": "4a8913a1-3e4a-4429-8fb1-6d3b0915b2c7",
   "metadata": {},
   "source": [
    "## Save median beta?\n",
    "\n",
    "NB have already saved a value - could keep using this value so that don't need to re-run? Although beta is fixed in the fung/host fitting tbf"
   ]
  },
  {
   "cell_type": "code",
   "execution_count": null,
   "id": "283a6d08-cd2a-49eb-958d-33fb5e9eeacd",
   "metadata": {},
   "outputs": [],
   "source": [
    "bdf = pd.DataFrame(dict(beta_median=[betas.median()[0]]))\n",
    "\n",
    "if False:\n",
    "    filename = '../data/03_model_inputs/beta_value.csv'\n",
    "    print(f'saving to {filename}')\n",
    "    bdf.to_csv(filename)\n",
    "\n",
    "bdf"
   ]
  },
  {
   "cell_type": "markdown",
   "id": "b6296db7-4ec7-429b-9da3-35ef20da5d4b",
   "metadata": {},
   "source": [
    "## Save 'actual' betas for figure?\n",
    "\n",
    "Not for model"
   ]
  },
  {
   "cell_type": "code",
   "execution_count": null,
   "id": "f4e9fa94-7ffa-489d-bbc3-3c4c87413db9",
   "metadata": {},
   "outputs": [],
   "source": [
    "b_actual = find_beta_vectorised(\n",
    "    0.01*pd.read_csv('../data/03_model_inputs/stb_vals.csv').stb,\n",
    "    I0_value\n",
    ")"
   ]
  },
  {
   "cell_type": "code",
   "execution_count": null,
   "id": "a107f03f-5493-40cb-b917-f5a75f42240e",
   "metadata": {},
   "outputs": [],
   "source": [
    "if True:\n",
    "    print('saving')\n",
    "    \n",
    "    (\n",
    "        pd.DataFrame(dict(betas = b_actual))\n",
    "        .to_csv('../data/03_model_inputs/beta_from_data_not_sampled_dist.csv')\n",
    "    )"
   ]
  },
  {
   "cell_type": "markdown",
   "id": "a9e9ad96-d08a-4adb-956f-8713b6aee667",
   "metadata": {},
   "source": [
    "# Yield relationship"
   ]
  },
  {
   "cell_type": "markdown",
   "id": "3b541690-02f8-433d-91c9-a3c24eac03f7",
   "metadata": {},
   "source": [
    "here we choose to include all cultivars - could have chosen to only use the 'good' ones / not the benchmark or not the mixtures?"
   ]
  },
  {
   "cell_type": "code",
   "execution_count": null,
   "id": "81814251-ec0f-405a-8242-de3225a3012c",
   "metadata": {},
   "outputs": [],
   "source": [
    "yield_df = (\n",
    "    pd.read_csv(\"../data/01_raw/YR_in_soenderborg.csv\")\n",
    "    .rename(columns = {'stb L2 27.06': 'stb'})\n",
    "    .assign(\n",
    "        stb = lambda df: df.stb/100,\n",
    "        yld = lambda df: df.loc[:, ['yield']]/10,\n",
    "    )\n",
    "    .loc[:, ['yld', 'stb', 'cult', 'treat']]\n",
    ")"
   ]
  },
  {
   "cell_type": "code",
   "execution_count": null,
   "id": "9a186e05-17df-4b89-a3e5-8d0769c7c3be",
   "metadata": {},
   "outputs": [],
   "source": [
    "ydf_good = yield_df.loc[lambda df: df.cult.isin(['kalmar', 'sheriff', 'informer'])]"
   ]
  },
  {
   "cell_type": "code",
   "execution_count": null,
   "id": "cc489af7-5ac6-4945-9b93-20ce5b331a59",
   "metadata": {},
   "outputs": [],
   "source": [
    "f, ax = plt.subplots(figsize=(10,8))\n",
    "\n",
    "sns.scatterplot(\n",
    "    x='stb',\n",
    "    y='yld',\n",
    "    hue='cult',\n",
    "    data=yield_df,\n",
    "    size='treat',\n",
    "    ax=ax\n",
    ")"
   ]
  },
  {
   "cell_type": "code",
   "execution_count": null,
   "id": "ba309f35-8747-4bd1-9500-d8d006121020",
   "metadata": {},
   "outputs": [],
   "source": [
    "f, ax = plt.subplots(figsize=(10,8))\n",
    "\n",
    "sns.scatterplot(\n",
    "    x='stb',\n",
    "    y='yld',\n",
    "    hue='cult',\n",
    "    data=ydf_good,\n",
    "    size='treat',\n",
    "    ax=ax\n",
    ")"
   ]
  },
  {
   "cell_type": "code",
   "execution_count": null,
   "id": "178a035b-e206-4650-91db-94a3b5e709f7",
   "metadata": {},
   "outputs": [],
   "source": [
    "ydf_dont = (\n",
    "    yield_df\n",
    "    .loc[lambda df: ~df.cult.isin(['kalmar', 'sheriff', 'informer'])]\n",
    ")"
   ]
  },
  {
   "cell_type": "code",
   "execution_count": null,
   "id": "2309ed6c-92e0-45a2-a953-2f4cce311483",
   "metadata": {},
   "outputs": [],
   "source": [
    "f, ax = plt.subplots(figsize=(10,8))\n",
    "\n",
    "sns.scatterplot(\n",
    "    x='stb',\n",
    "    y='yld',\n",
    "    hue='cult',\n",
    "    data=yield_df,\n",
    "    size='treat',\n",
    "    ax=ax\n",
    ")"
   ]
  },
  {
   "cell_type": "code",
   "execution_count": null,
   "id": "bc6625bc-bc19-4f55-ba65-a14af376a428",
   "metadata": {},
   "outputs": [],
   "source": [
    "ydf_use = yield_df.loc[:, ['stb', 'yld']].dropna()"
   ]
  },
  {
   "cell_type": "code",
   "execution_count": null,
   "id": "2da988ad-547b-4348-abfe-246994698d6f",
   "metadata": {},
   "outputs": [],
   "source": [
    "if False:\n",
    "    ydf_use.to_csv('../data/03_model_inputs/yield_vs_stb.csv')"
   ]
  },
  {
   "cell_type": "code",
   "execution_count": null,
   "id": "80a5c815-a9e5-49fa-9fe4-0efbfa8dd770",
   "metadata": {},
   "outputs": [],
   "source": [
    "ydf_use"
   ]
  },
  {
   "cell_type": "markdown",
   "id": "014163d9-3cff-4243-9a83-b4427e60326d",
   "metadata": {},
   "source": [
    "### Old - find pars - linear"
   ]
  },
  {
   "cell_type": "code",
   "execution_count": null,
   "id": "8464a33a-283d-467f-bca8-2f3f4652deb0",
   "metadata": {},
   "outputs": [],
   "source": [
    "yield_lr = LinearRegression().fit(\n",
    "    np.array(ydf_use.stb).reshape(-1,1),\n",
    "    np.array(ydf_use.yld)\n",
    ")"
   ]
  },
  {
   "cell_type": "code",
   "execution_count": null,
   "id": "d4c62be8-b23f-462b-bdcc-9d4956a9c9c2",
   "metadata": {},
   "outputs": [],
   "source": [
    "yield_lr.intercept_, yield_lr.coef_[0]"
   ]
  },
  {
   "cell_type": "code",
   "execution_count": null,
   "id": "b37a53b0-ef66-4f33-8414-63e7a2b2222b",
   "metadata": {},
   "outputs": [],
   "source": [
    "gdt = yield_lr.coef_[0] / yield_lr.intercept_\n",
    "gdt"
   ]
  },
  {
   "cell_type": "code",
   "execution_count": null,
   "id": "9bc67a04-4061-4772-b5b8-574ceb602981",
   "metadata": {},
   "outputs": [],
   "source": [
    "intercept = yield_lr.intercept_\n",
    "intercept"
   ]
  },
  {
   "cell_type": "code",
   "execution_count": null,
   "id": "f999af6a-106a-40af-a1b8-6627fc88c8c3",
   "metadata": {},
   "outputs": [],
   "source": [
    "yr_out = pd.DataFrame(dict(gdt = [gdt], intercept=[intercept]))\n",
    "\n",
    "if False:\n",
    "    filename = '../data/03_model_inputs/old/yield_relationship_linear.csv'\n",
    "    print(f'saving yield relationship params to {filename}')\n",
    "\n",
    "    yr_out.to_csv(filename)\n",
    "\n",
    "yr_out"
   ]
  },
  {
   "cell_type": "markdown",
   "id": "9db43ffb-fcd0-441f-adb9-85618d4edf47",
   "metadata": {},
   "source": [
    "### GAM\n",
    "\n",
    "Constrained to be monotonic decreasing"
   ]
  },
  {
   "cell_type": "code",
   "execution_count": null,
   "id": "f36ca948-d57e-4c9e-99e3-c0db5312a9bf",
   "metadata": {},
   "outputs": [],
   "source": [
    "g = GAM(\n",
    "    s(0, n_splines=5), \n",
    "    constraints='monotonic_dec'\n",
    ")\n",
    "\n",
    "g.fit(np.array(ydf_use.stb), np.array(ydf_use.yld))"
   ]
  },
  {
   "cell_type": "code",
   "execution_count": null,
   "id": "1bc3e5c6-0530-42ab-8260-d50e42e3be2e",
   "metadata": {},
   "outputs": [],
   "source": [
    "xx = np.linspace(0,1,100)\n",
    "\n",
    "f, ax = plt.subplots(figsize=(10,8))\n",
    "\n",
    "preds_df = pd.DataFrame(dict(x=xx, GAM=g.predict(xx))).set_index('x')\n",
    "\n",
    "preds_df_linear = pd.DataFrame(dict(x=xx, Linear=yield_lr.predict(xx.reshape(-1,1)))).set_index('x')\n",
    "\n",
    "ydf_use.plot.scatter(x='stb', y='yld', ax=ax)\n",
    "\n",
    "preds_df.plot(ax=ax, color='r', lw=3)\n",
    "\n",
    "preds_df_linear.plot(ax=ax, color='g', lw=3, ls='--')\n",
    "\n",
    "f.savefig('../figures/paper_figs/test_yr.jpg')"
   ]
  },
  {
   "cell_type": "markdown",
   "id": "5b5f670f-e95d-4bb7-b727-a57bf9511ee1",
   "metadata": {},
   "source": [
    "### Save GAM?"
   ]
  },
  {
   "cell_type": "code",
   "execution_count": null,
   "id": "97c800ae-ec75-42c4-9146-7d3849b91694",
   "metadata": {},
   "outputs": [],
   "source": [
    "if False:\n",
    "    filename = 'gam.pickle'\n",
    "    \n",
    "    with open(filename, 'wb') as f:\n",
    "        pickle.dump(g, f)"
   ]
  },
  {
   "cell_type": "markdown",
   "id": "b032473e-54be-40f5-b0c3-0e09e8ffc2f3",
   "metadata": {},
   "source": [
    "# End"
   ]
  }
 ],
 "metadata": {
  "kernelspec": {
   "display_name": "python3_poly",
   "language": "python",
   "name": "python3_poly"
  },
  "language_info": {
   "codemirror_mode": {
    "name": "ipython",
    "version": 3
   },
   "file_extension": ".py",
   "mimetype": "text/x-python",
   "name": "python",
   "nbconvert_exporter": "python",
   "pygments_lexer": "ipython3",
   "version": "3.8.12"
  }
 },
 "nbformat": 4,
 "nbformat_minor": 5
}
