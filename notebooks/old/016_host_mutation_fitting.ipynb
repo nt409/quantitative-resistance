{
 "cells": [
  {
   "cell_type": "markdown",
   "id": "21732aa4-fc8a-449c-b015-98b0a2812add",
   "metadata": {},
   "source": [
    "# Fitting mutation scales\n",
    "\n",
    "## Approach\n",
    "\n",
    "Find a maximum fungicide and host mutation scale that would allow us to still fit the data, if the distribution were a delta function (i.e. narrowest possible). This corresponds to all of the breakdown being caused by mutation from a single initial strain.\n",
    "\n",
    "We find this mutation scale using the first and last years (not the initial ones since the exact shape of decline depends on shape of initial distribution which we don't think is actually a delta function).\n",
    "\n",
    "\n",
    "**CHOICES**:\n",
    "- gaussian or exponential kernel (*Gaussian seems best*)\n",
    "- mutation proportion\n",
    "- how bad is acceptable??\n",
    "\n",
    "Then fix maximum mutation scale."
   ]
  },
  {
   "cell_type": "code",
   "execution_count": null,
   "id": "dcacdae6-a54b-4b2a-8648-f4e299d6dae9",
   "metadata": {},
   "outputs": [],
   "source": [
    "%load_ext autoreload\n",
    "%autoreload 2"
   ]
  },
  {
   "cell_type": "code",
   "execution_count": null,
   "id": "96512223-c91e-47bd-a7e8-dae8d5b0ffb7",
   "metadata": {},
   "outputs": [],
   "source": [
    "import pandas as pd\n",
    "import numpy as np\n",
    "\n",
    "import seaborn as sns\n",
    "import matplotlib.pyplot as plt\n",
    "sns.set_theme(style=\"whitegrid\")\n",
    "\n",
    "import plotly.graph_objects as go\n",
    "\n",
    "import optuna\n",
    "from optuna.visualization import (\n",
    "    plot_optimization_history,\n",
    "    plot_contour,\n",
    ")\n",
    "from optuna.samplers import TPESampler\n",
    "\n",
    "from polymodel.fitting import HostMaxMutationObjective, score_for_this_df\n",
    "from polymodel.config import Config\n",
    "from polymodel.consts import MUTATION_PROP\n",
    "\n",
    "from plots.fns import standard_layout"
   ]
  },
  {
   "cell_type": "code",
   "execution_count": null,
   "id": "599fd912-c53a-433a-86f2-80abb8d2e56f",
   "metadata": {},
   "outputs": [],
   "source": [
    "optuna.logging.set_verbosity(0)"
   ]
  },
  {
   "cell_type": "markdown",
   "id": "283cdb28-0ee2-424c-9371-431702c1d000",
   "metadata": {},
   "source": [
    "# Host"
   ]
  },
  {
   "cell_type": "markdown",
   "id": "df47a243-ce0e-409a-a0fd-67381f039d68",
   "metadata": {},
   "source": [
    "## Find optimal value"
   ]
  },
  {
   "cell_type": "markdown",
   "id": "0e8f0467-24b0-4507-b162-18bbef94c82c",
   "metadata": {},
   "source": [
    "The following code gives warning that `len(fung_frame) = len(host_frame) = 0`. This is fine because we don't care about the fitted k, l values since for the mutation fitting we use a point distribution."
   ]
  },
  {
   "cell_type": "code",
   "execution_count": null,
   "id": "d448924a-068e-4cc2-a7d1-d0995f8cf678",
   "metadata": {},
   "outputs": [],
   "source": [
    "host_fit_config = Config(\n",
    "    'single',\n",
    "    cultivar='Mariboss',\n",
    "    n_k=40,\n",
    "    n_l=500,\n",
    "    mutation_proportion=MUTATION_PROP,\n",
    "    mutation_scale_fung=1,\n",
    "    mutation_scale_host=1,\n",
    ")"
   ]
  },
  {
   "cell_type": "code",
   "execution_count": null,
   "id": "a3ca384a-4bb2-4cf9-a323-4d83fa6cb505",
   "metadata": {},
   "outputs": [],
   "source": [
    "sampler = TPESampler(seed=0)\n",
    "study_h = optuna.create_study(sampler=sampler)\n",
    "obj_h = HostMaxMutationObjective(host_fit_config)"
   ]
  },
  {
   "cell_type": "code",
   "execution_count": null,
   "id": "42786c75-2252-4073-bad5-6a05f6b40d50",
   "metadata": {},
   "outputs": [],
   "source": [
    "%%time\n",
    "study_h.optimize(obj_h, n_trials=300)\n",
    "int(study_h.best_value)"
   ]
  },
  {
   "cell_type": "code",
   "execution_count": null,
   "id": "16fb6d2e-ffd0-4961-b5e7-3e3686f2e0ea",
   "metadata": {},
   "outputs": [],
   "source": [
    "%%time\n",
    "study_h.optimize(obj_h, n_trials=300)\n",
    "int(study_h.best_value)"
   ]
  },
  {
   "cell_type": "code",
   "execution_count": null,
   "id": "7d076e6d-71b8-46bf-8dc9-fef5b835351c",
   "metadata": {
    "tags": []
   },
   "outputs": [],
   "source": [
    "plot_contour(study_h)"
   ]
  },
  {
   "cell_type": "code",
   "execution_count": null,
   "id": "9cdca618-14fe-46d7-9f76-4504077f2768",
   "metadata": {},
   "outputs": [],
   "source": [
    "plot_optimization_history(study_h)"
   ]
  },
  {
   "cell_type": "markdown",
   "id": "ddf752ea-9b04-4e6d-9043-d45f2f3f38b7",
   "metadata": {},
   "source": [
    "## Replicate results"
   ]
  },
  {
   "cell_type": "code",
   "execution_count": null,
   "id": "5148e955-37d8-4a8b-a778-e8a36c8fceee",
   "metadata": {},
   "outputs": [],
   "source": [
    "study_h.best_params"
   ]
  },
  {
   "cell_type": "code",
   "execution_count": null,
   "id": "b83c7d0a-fcd3-4768-bdfa-c409cb470083",
   "metadata": {},
   "outputs": [],
   "source": [
    "yh = (\n",
    "    HostMaxMutationObjective(host_fit_config)\n",
    "    \n",
    "    .run_model(params = study_h.best_params)\n",
    "    \n",
    "    # .run_model(params = {\n",
    "    #     'mean': 0.83,\n",
    "    #     'mutation_scale': 0.16\n",
    "    # })\n",
    ")\n",
    "\n",
    "yh"
   ]
  },
  {
   "cell_type": "code",
   "execution_count": null,
   "id": "ef9f713a-00fe-4fe5-a7e3-d2c67c173973",
   "metadata": {},
   "outputs": [],
   "source": [
    "control_data_h = (\n",
    "    obj_h.df\n",
    "    .loc[:, ['data_control', \n",
    "             # 'n_data',\n",
    "             'year']]\n",
    "    .assign(year = lambda df: df.year - df.year.min())\n",
    ")\n",
    "\n",
    "control_data_h"
   ]
  },
  {
   "cell_type": "code",
   "execution_count": null,
   "id": "13afbde5-6b2e-4b3d-814d-55e5f3081b16",
   "metadata": {},
   "outputs": [],
   "source": [
    "score_for_this_df(control_data_h, yh)"
   ]
  },
  {
   "cell_type": "code",
   "execution_count": null,
   "id": "29d6b7de-675c-46cf-813f-166fdb8a0dd4",
   "metadata": {},
   "outputs": [],
   "source": [
    "f, ax = plt.subplots(figsize=(14,7))\n",
    "\n",
    "sns.scatterplot(\n",
    "    x='year',\n",
    "    y='data_control',\n",
    "    # size='n_data',\n",
    "    data=control_data_h,\n",
    "    ax=ax,\n",
    ")\n",
    "\n",
    "ax.plot(yh, lw=4, color='red')\n",
    "\n",
    "ax.set_ylim([0,100])"
   ]
  },
  {
   "cell_type": "markdown",
   "id": "00e1e1eb-7374-4cdb-9feb-b245bac46837",
   "metadata": {},
   "source": [
    "This annoyingly doesn't fit brilliantly, but it seems sort of ok since we are only after an upper bound? Plus the fung one is pretty good.\n",
    "\n",
    "Think issue is too much mutation means that we don't fix at low values of control, we constantly mutate back towards less fit offspring from the fittest.\n",
    "\n",
    "Works better if mutation prop is higher but mutation scale is lower... but Alexey thing suggests mutation prop is low.\n",
    "\n",
    "- Alexey Highest value: 379 after 350 iterations\n",
    "- Alexey default value: 1147 after 350 iterations\n",
    "\n",
    "... both using weighted scoring rather than current unweighted\n",
    "\n",
    "Suggest progress with highest Alexey value of mutation prop, then use this as upper bound for mutation scale.\n",
    "\n",
    "Because otherwise arbitrary both - this way can say best fit value and put bad figure in appendix."
   ]
  },
  {
   "cell_type": "markdown",
   "id": "e3428e6b-113a-49bb-ac7e-636d421cbd24",
   "metadata": {},
   "source": [
    "## Save mutation scale?"
   ]
  },
  {
   "cell_type": "code",
   "execution_count": null,
   "id": "2f6324f3-2220-4371-81ae-00cddbbcb5fb",
   "metadata": {},
   "outputs": [],
   "source": [
    "hdf = pd.DataFrame(dict(\n",
    "    host_mutation_scale = [study_h.best_params['mutation_scale']],\n",
    "    host_mean = [study_h.best_params['mean']],\n",
    "))\n",
    "\n",
    "if True:\n",
    "    print('saving')\n",
    "    hdf.to_csv('../data/03_model_inputs/host_mutation_scale.csv')\n",
    "    \n",
    "hdf"
   ]
  },
  {
   "cell_type": "markdown",
   "id": "d896a11d-43d3-4598-8278-4a4af65b5bf0",
   "metadata": {},
   "source": [
    "## Plot"
   ]
  },
  {
   "cell_type": "code",
   "execution_count": null,
   "id": "75a454ac-1b5d-4d2a-a9a4-0610e595da63",
   "metadata": {},
   "outputs": [],
   "source": [
    "COLZ = sns.color_palette('muted').as_hex()"
   ]
  },
  {
   "cell_type": "code",
   "execution_count": null,
   "id": "df415b73-1545-4a70-8ac2-50dec5f4bf31",
   "metadata": {},
   "outputs": [],
   "source": [
    "def host_fig(df_in, y_in):\n",
    "    \n",
    "    col1 = COLZ[0]\n",
    "    col2 = COLZ[1]\n",
    "    \n",
    "    data = [\n",
    "        go.Scatter(\n",
    "            x = df_in.year,\n",
    "            y = df_in.data_control,\n",
    "            mode = 'markers',\n",
    "            name='Data (cultivar)',\n",
    "            marker=dict(color=col1),\n",
    "        ),\n",
    "        go.Scatter(\n",
    "            x = np.arange(df_in.year.min(), df_in.year.max()+1),\n",
    "            y = y_in,\n",
    "            mode = 'lines',\n",
    "            name='Model (mutation only)',\n",
    "            line=dict(color=col2),\n",
    "        )\n",
    "    ]\n",
    "               \n",
    "    fig = go.Figure(data=data, layout=standard_layout(True, height=400))\n",
    "    \n",
    "    fig.update_layout(legend=dict(x=0.05, y=0.1))\n",
    "    \n",
    "    fig.update_xaxes(title='Year')\n",
    "    fig.update_yaxes(title='Control (%)', range=[0,100])\n",
    "    return fig"
   ]
  },
  {
   "cell_type": "code",
   "execution_count": null,
   "id": "1d79fc3b-e695-42a3-b482-f100ee3cb609",
   "metadata": {},
   "outputs": [],
   "source": [
    "data_use = obj_h.df.loc[:, ['year', 'data_control']]"
   ]
  },
  {
   "cell_type": "code",
   "execution_count": null,
   "id": "6403bc22-cb5f-4fe2-b0e5-b24326264c99",
   "metadata": {},
   "outputs": [],
   "source": [
    "f = host_fig(data_use, yh)\n",
    "\n",
    "f.show()"
   ]
  },
  {
   "cell_type": "code",
   "execution_count": null,
   "id": "583a4b82-8222-4bb7-8cf6-be37565823f6",
   "metadata": {},
   "outputs": [],
   "source": [
    "f.write_image('../figures/paper_figs/fig_app_host_mutation.png')"
   ]
  },
  {
   "cell_type": "markdown",
   "id": "4fd3fa50-ee60-49d2-a998-894af0933c83",
   "metadata": {},
   "source": [
    "# Bad fit with other mutation scale"
   ]
  },
  {
   "cell_type": "code",
   "execution_count": null,
   "id": "65a64d51-39a2-42aa-83ba-9ec1f39e7067",
   "metadata": {},
   "outputs": [],
   "source": [
    "MUTATION_PROP_BAD = (0.5 * (28 + 130) * 10**6 ) / (0.5 * (2.3 + 10.5) * 10**12)\n",
    "MUTATION_PROP_BAD"
   ]
  },
  {
   "cell_type": "code",
   "execution_count": null,
   "id": "d6732a98-071e-44b3-bd8b-e51699ccf44b",
   "metadata": {},
   "outputs": [],
   "source": [
    "host_fit_config_bad = Config(\n",
    "    'single',\n",
    "    cultivar='Mariboss',\n",
    "    n_k=40,\n",
    "    n_l=500,\n",
    "    mutation_proportion=MUTATION_PROP_BAD,\n",
    "    mutation_scale_fung=10,\n",
    "    mutation_scale_host=10,\n",
    ")"
   ]
  },
  {
   "cell_type": "code",
   "execution_count": null,
   "id": "0bbb8094-7119-4d27-a007-2f3ecfe9d299",
   "metadata": {},
   "outputs": [],
   "source": [
    "obj_bad = HostMaxMutationObjective(host_fit_config_bad)"
   ]
  },
  {
   "cell_type": "code",
   "execution_count": null,
   "id": "f001f39a-5572-459b-b139-8c82ce3ad398",
   "metadata": {},
   "outputs": [],
   "source": [
    "ybad = (\n",
    "    obj_bad\n",
    "    # .run_model(params = study_h.best_params)\n",
    "    .run_model(params = {\n",
    "        'mean': study_h.best_params['mean'],\n",
    "        'mutation_scale': 10\n",
    "    })\n",
    ")\n",
    "\n",
    "ybad"
   ]
  },
  {
   "cell_type": "code",
   "execution_count": null,
   "id": "dd7b0668-2f62-4f88-8b21-7ad0d766e6a5",
   "metadata": {},
   "outputs": [],
   "source": [
    "f = host_fig(data_use, ybad)\n",
    "\n",
    "f.show()"
   ]
  },
  {
   "cell_type": "code",
   "execution_count": null,
   "id": "dba011cb-4257-4a85-bea3-659ab5223492",
   "metadata": {},
   "outputs": [],
   "source": []
  }
 ],
 "metadata": {
  "kernelspec": {
   "display_name": "python3_poly",
   "language": "python",
   "name": "python3_poly"
  },
  "language_info": {
   "codemirror_mode": {
    "name": "ipython",
    "version": 3
   },
   "file_extension": ".py",
   "mimetype": "text/x-python",
   "name": "python",
   "nbconvert_exporter": "python",
   "pygments_lexer": "ipython3",
   "version": "3.8.12"
  }
 },
 "nbformat": 4,
 "nbformat_minor": 5
}
