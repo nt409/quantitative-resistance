{
 "cells": [
  {
   "cell_type": "markdown",
   "id": "d3690ae0-017b-4a90-b05d-b4e30af88795",
   "metadata": {},
   "source": [
    "# Model fitting"
   ]
  },
  {
   "cell_type": "code",
   "execution_count": 15,
   "id": "63b7c33f-593b-499d-9ec1-c498e0f2a57a",
   "metadata": {},
   "outputs": [
    {
     "name": "stdout",
     "output_type": "stream",
     "text": [
      "The autoreload extension is already loaded. To reload it, use:\n",
      "  %reload_ext autoreload\n"
     ]
    }
   ],
   "source": [
    "%load_ext autoreload\n",
    "%autoreload 2"
   ]
  },
  {
   "cell_type": "code",
   "execution_count": 16,
   "id": "5d58e1f9-ed69-412a-9cd4-264c8199861f",
   "metadata": {},
   "outputs": [],
   "source": [
    "import pandas as pd\n",
    "import numpy as np\n",
    "import pickle\n",
    "\n",
    "import seaborn as sns\n",
    "import matplotlib.pyplot as plt\n",
    "sns.set_theme(style=\"whitegrid\")\n",
    "\n",
    "from pygam import GAM, s"
   ]
  },
  {
   "cell_type": "markdown",
   "id": "a9e9ad96-d08a-4adb-956f-8713b6aee667",
   "metadata": {},
   "source": [
    "# Yield relationship"
   ]
  },
  {
   "cell_type": "markdown",
   "id": "3b541690-02f8-433d-91c9-a3c24eac03f7",
   "metadata": {},
   "source": [
    "We choose to include all cultivars in `ydf_use` - could have chosen to only use the 'good' ones / not the benchmark or not the mixtures?"
   ]
  },
  {
   "cell_type": "code",
   "execution_count": null,
   "id": "81814251-ec0f-405a-8242-de3225a3012c",
   "metadata": {},
   "outputs": [],
   "source": [
    "yield_df = (\n",
    "    pd.read_csv(\"../data/01_raw/YR_in_soenderborg.csv\")\n",
    "    .rename(columns = {'stb L2 27.06': 'stb'})\n",
    "    .assign(\n",
    "        stb = lambda df: df.stb/100,\n",
    "        yld = lambda df: df.loc[:, ['yield']]/10,\n",
    "    )\n",
    "    .loc[:, ['yld', 'stb', 'cult', 'treat']]\n",
    ")"
   ]
  },
  {
   "cell_type": "code",
   "execution_count": null,
   "id": "9a186e05-17df-4b89-a3e5-8d0769c7c3be",
   "metadata": {},
   "outputs": [],
   "source": [
    "ydf_good = yield_df.loc[lambda df: df.cult.isin(['kalmar', 'sheriff', 'informer'])]"
   ]
  },
  {
   "cell_type": "code",
   "execution_count": null,
   "id": "cc489af7-5ac6-4945-9b93-20ce5b331a59",
   "metadata": {},
   "outputs": [],
   "source": [
    "f, ax = plt.subplots(figsize=(10,8))\n",
    "\n",
    "sns.scatterplot(\n",
    "    x='stb',\n",
    "    y='yld',\n",
    "    hue='cult',\n",
    "    data=yield_df,\n",
    "    size='treat',\n",
    "    ax=ax\n",
    ")"
   ]
  },
  {
   "cell_type": "code",
   "execution_count": null,
   "id": "ba309f35-8747-4bd1-9500-d8d006121020",
   "metadata": {},
   "outputs": [],
   "source": [
    "f, ax = plt.subplots(figsize=(10,8))\n",
    "\n",
    "sns.scatterplot(\n",
    "    x='stb',\n",
    "    y='yld',\n",
    "    hue='cult',\n",
    "    data=ydf_good,\n",
    "    size='treat',\n",
    "    ax=ax\n",
    ")"
   ]
  },
  {
   "cell_type": "code",
   "execution_count": null,
   "id": "178a035b-e206-4650-91db-94a3b5e709f7",
   "metadata": {},
   "outputs": [],
   "source": [
    "ydf_dont = (\n",
    "    yield_df\n",
    "    .loc[lambda df: ~df.cult.isin(['kalmar', 'sheriff', 'informer'])]\n",
    ")"
   ]
  },
  {
   "cell_type": "code",
   "execution_count": null,
   "id": "2309ed6c-92e0-45a2-a953-2f4cce311483",
   "metadata": {},
   "outputs": [],
   "source": [
    "f, ax = plt.subplots(figsize=(10,8))\n",
    "\n",
    "sns.scatterplot(\n",
    "    x='stb',\n",
    "    y='yld',\n",
    "    hue='cult',\n",
    "    data=yield_df,\n",
    "    size='treat',\n",
    "    ax=ax\n",
    ")"
   ]
  },
  {
   "cell_type": "code",
   "execution_count": null,
   "id": "bc6625bc-bc19-4f55-ba65-a14af376a428",
   "metadata": {},
   "outputs": [],
   "source": [
    "ydf_use = yield_df.loc[:, ['stb', 'yld']].dropna()"
   ]
  },
  {
   "cell_type": "code",
   "execution_count": null,
   "id": "2da988ad-547b-4348-abfe-246994698d6f",
   "metadata": {},
   "outputs": [],
   "source": [
    "if False:\n",
    "    ydf_use.to_csv('../data/03_model_inputs/yield_vs_stb.csv')"
   ]
  },
  {
   "cell_type": "code",
   "execution_count": null,
   "id": "80a5c815-a9e5-49fa-9fe4-0efbfa8dd770",
   "metadata": {},
   "outputs": [],
   "source": [
    "ydf_use"
   ]
  },
  {
   "cell_type": "markdown",
   "id": "9db43ffb-fcd0-441f-adb9-85618d4edf47",
   "metadata": {},
   "source": [
    "### GAM\n",
    "\n",
    "Constrained to be monotonic decreasing"
   ]
  },
  {
   "cell_type": "code",
   "execution_count": null,
   "id": "f36ca948-d57e-4c9e-99e3-c0db5312a9bf",
   "metadata": {},
   "outputs": [],
   "source": [
    "g = GAM(\n",
    "    s(0, n_splines=5), \n",
    "    constraints='monotonic_dec'\n",
    ")\n",
    "\n",
    "g.fit(np.array(ydf_use.stb), np.array(ydf_use.yld))"
   ]
  },
  {
   "cell_type": "code",
   "execution_count": null,
   "id": "1bc3e5c6-0530-42ab-8260-d50e42e3be2e",
   "metadata": {},
   "outputs": [],
   "source": [
    "xx = np.linspace(0,1,100)\n",
    "\n",
    "f, ax = plt.subplots(figsize=(10,8))\n",
    "\n",
    "preds_df = pd.DataFrame(dict(x=xx, GAM=g.predict(xx))).set_index('x')\n",
    "\n",
    "preds_df_linear = pd.DataFrame(dict(x=xx, Linear=yield_lr.predict(xx.reshape(-1,1)))).set_index('x')\n",
    "\n",
    "ydf_use.plot.scatter(x='stb', y='yld', ax=ax)\n",
    "\n",
    "preds_df.plot(ax=ax, color='r', lw=3)\n",
    "\n",
    "preds_df_linear.plot(ax=ax, color='g', lw=3, ls='--')\n",
    "\n",
    "f.savefig('../figures/paper_figs/test_yr.jpg')"
   ]
  },
  {
   "cell_type": "markdown",
   "id": "5b5f670f-e95d-4bb7-b727-a57bf9511ee1",
   "metadata": {},
   "source": [
    "### Save GAM?"
   ]
  },
  {
   "cell_type": "code",
   "execution_count": null,
   "id": "97c800ae-ec75-42c4-9146-7d3849b91694",
   "metadata": {},
   "outputs": [],
   "source": [
    "if False:\n",
    "    filename = 'gam.pickle'\n",
    "    \n",
    "    with open(filename, 'wb') as f:\n",
    "        pickle.dump(g, f)"
   ]
  }
 ],
 "metadata": {
  "kernelspec": {
   "display_name": "python3_poly",
   "language": "python",
   "name": "python3_poly"
  },
  "language_info": {
   "codemirror_mode": {
    "name": "ipython",
    "version": 3
   },
   "file_extension": ".py",
   "mimetype": "text/x-python",
   "name": "python",
   "nbconvert_exporter": "python",
   "pygments_lexer": "ipython3",
   "version": "3.8.12"
  }
 },
 "nbformat": 4,
 "nbformat_minor": 5
}
