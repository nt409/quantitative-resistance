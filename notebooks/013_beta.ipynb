{
 "cells": [
  {
   "cell_type": "markdown",
   "id": "d3690ae0-017b-4a90-b05d-b4e30af88795",
   "metadata": {},
   "source": [
    "# Model fitting"
   ]
  },
  {
   "cell_type": "markdown",
   "id": "12001cb6-71d2-4201-94f6-70ad19d95add",
   "metadata": {},
   "source": [
    "Saves\n",
    "\n",
    "- lambda value\n",
    "- sampled betas\n",
    "- median beta\n",
    "- 'actual' betas for fitting figure"
   ]
  },
  {
   "cell_type": "code",
   "execution_count": 1,
   "id": "63b7c33f-593b-499d-9ec1-c498e0f2a57a",
   "metadata": {},
   "outputs": [],
   "source": [
    "%load_ext autoreload\n",
    "%autoreload 2"
   ]
  },
  {
   "cell_type": "code",
   "execution_count": 2,
   "id": "5d58e1f9-ed69-412a-9cd4-264c8199861f",
   "metadata": {},
   "outputs": [],
   "source": [
    "import pandas as pd\n",
    "import numpy as np\n",
    "\n",
    "import seaborn as sns\n",
    "import matplotlib.pyplot as plt\n",
    "sns.set_theme(style=\"whitegrid\")\n",
    "\n",
    "from scipy.optimize import minimize\n",
    "\n",
    "from polymodel.utils import (\n",
    "    find_beta_vectorised,\n",
    "    truncated_exp_pdf,\n",
    ")"
   ]
  },
  {
   "cell_type": "markdown",
   "id": "8fcf1405-09cd-499d-8e38-4ecfec25d006",
   "metadata": {},
   "source": [
    "# Beta"
   ]
  },
  {
   "cell_type": "markdown",
   "id": "4153c612-604d-4d3c-b455-ebd03a843c77",
   "metadata": {},
   "source": [
    "We collate all of the worst cultivars in the high pressure locations across all years, and then use a gaussian kernel-density estimate using Gaussian kernels and small bandwith 0.05 to smooth the values.\n",
    "\n",
    "We can use the single I0 value found above to give us a beta value for each of these smoothed final severities."
   ]
  },
  {
   "cell_type": "code",
   "execution_count": 9,
   "id": "fa195a0b-e5bc-4ae5-8a51-94d9a914e8a9",
   "metadata": {},
   "outputs": [
    {
     "data": {
      "text/plain": [
       "0.0098570319660089"
      ]
     },
     "execution_count": 9,
     "metadata": {},
     "output_type": "execute_result"
    }
   ],
   "source": [
    "I0_value = pd.read_csv('../data/03_model_inputs/I0_value.csv').I0_value.iloc[0]\n",
    "I0_value"
   ]
  },
  {
   "cell_type": "code",
   "execution_count": null,
   "id": "f2816cbf-b947-44ce-8ce6-8ecec0b726c4",
   "metadata": {},
   "outputs": [],
   "source": [
    "worst_stb_with_cult_and_count_non_unique = pd.read_csv('../data/03_model_inputs/worst_stb_with_cult_and_count_non_unique.csv')"
   ]
  },
  {
   "cell_type": "code",
   "execution_count": null,
   "id": "d04459b6-630a-4a50-97ac-45c9bc052b6c",
   "metadata": {},
   "outputs": [],
   "source": [
    "high_pressure_locations = pd.read_csv('../data/03_model_inputs/high_pressure_locations,csv')"
   ]
  },
  {
   "cell_type": "code",
   "execution_count": null,
   "id": "e625d237-1ddd-4062-9d15-b3b380ce4c6e",
   "metadata": {},
   "outputs": [],
   "source": [
    "stb_values = (\n",
    "    worst_stb_with_cult_and_count_non_unique\n",
    "    .drop(['stb_mean', 'count'], axis=1)\n",
    "    .set_index(['year', 'location', 'cultivar'])\n",
    "    .join(\n",
    "        high_pressure_locations\n",
    "        .set_index(['year', 'location', 'cultivar'])\n",
    "    )\n",
    "    .reset_index()\n",
    ")\n",
    "\n",
    "stb_values.stb.hist()"
   ]
  },
  {
   "cell_type": "code",
   "execution_count": null,
   "id": "a467f715-ce16-44ab-8b28-6afd08057808",
   "metadata": {},
   "outputs": [],
   "source": [
    "stb_values"
   ]
  },
  {
   "cell_type": "markdown",
   "id": "c72de2aa-41c1-4b45-a9ee-188ee159ac51",
   "metadata": {},
   "source": [
    "## Truncated exponential"
   ]
  },
  {
   "cell_type": "code",
   "execution_count": null,
   "id": "48892ed4-739e-4394-bf86-9fcb4c1d9d3b",
   "metadata": {},
   "outputs": [],
   "source": [
    "stb_values.stb.describe()"
   ]
  },
  {
   "cell_type": "code",
   "execution_count": null,
   "id": "ad8f7551-621e-48ef-862c-19462cf035ed",
   "metadata": {},
   "outputs": [],
   "source": [
    "xx = np.linspace(-0.5,100.5,301)"
   ]
  },
  {
   "cell_type": "code",
   "execution_count": null,
   "id": "b8fc82c7-d375-4613-a130-c2f71760ef23",
   "metadata": {},
   "outputs": [],
   "source": [
    "def neg_log_likelihood(lambd):\n",
    "    log_probs = [np.log(truncated_exp_pdf(x, lambd)) for x in stb_values.stb]\n",
    "    return - np.sum(log_probs)"
   ]
  },
  {
   "cell_type": "code",
   "execution_count": null,
   "id": "37c415ba-71fb-4d34-b6ec-26f3af669489",
   "metadata": {},
   "outputs": [],
   "source": [
    "min_out = minimize(\n",
    "    neg_log_likelihood,\n",
    "    [0.04],\n",
    "    bounds=[(1e-6, 100)],\n",
    "    tol=1e-6,\n",
    ")\n",
    "min_out"
   ]
  },
  {
   "cell_type": "code",
   "execution_count": null,
   "id": "a1ab25ed-ba97-47da-a563-8b979acd3581",
   "metadata": {},
   "outputs": [],
   "source": [
    "lambd_fitted = min_out.x[0]\n",
    "lambd_fitted"
   ]
  },
  {
   "cell_type": "code",
   "execution_count": null,
   "id": "73f4af14-8193-46be-b7c8-248be59bce95",
   "metadata": {},
   "outputs": [],
   "source": [
    "my_line = [truncated_exp_pdf(ii, lambd_fitted) for ii in xx]"
   ]
  },
  {
   "cell_type": "code",
   "execution_count": null,
   "id": "fa3a04bc-d107-4d99-ab42-887b81bd642a",
   "metadata": {},
   "outputs": [],
   "source": [
    "if True:\n",
    "    stb_values.to_csv('../data/03_model_inputs/stb_vals.csv')"
   ]
  },
  {
   "cell_type": "code",
   "execution_count": null,
   "id": "e98a50f7-c888-40bf-9604-05e57bf1aa9b",
   "metadata": {},
   "outputs": [],
   "source": [
    "f, ax = plt.subplots(figsize=(8,7))\n",
    "\n",
    "(\n",
    "    stb_values\n",
    "    .stb\n",
    "    .hist(ax=ax, \n",
    "          bins=20,\n",
    "          density=True\n",
    "    )\n",
    ")\n",
    "\n",
    "ax.plot(xx, my_line, c='r', lw=3)"
   ]
  },
  {
   "cell_type": "code",
   "execution_count": null,
   "id": "528b05c4-e962-4d8f-a3d0-a30e88b2a1b3",
   "metadata": {},
   "outputs": [],
   "source": [
    "f.savefig('../figures/paper_figs/trunc_exp_20.jpg')"
   ]
  },
  {
   "cell_type": "code",
   "execution_count": null,
   "id": "5a76820c-0f58-46a9-8b46-c8aca72c52d6",
   "metadata": {},
   "outputs": [],
   "source": [
    "f, ax = plt.subplots(figsize=(8,7))\n",
    "\n",
    "(\n",
    "    stb_values\n",
    "    .stb\n",
    "    .hist(ax=ax, \n",
    "          bins=40,\n",
    "          density=True\n",
    "    )\n",
    ")\n",
    "\n",
    "ax.plot(xx, my_line, c='r', lw=3)"
   ]
  },
  {
   "cell_type": "code",
   "execution_count": null,
   "id": "64779f19-1589-44f5-a59d-7f9dbf0ca2bf",
   "metadata": {},
   "outputs": [],
   "source": [
    "f.savefig('../figures/paper_figs/trunc_exp_40.jpg')"
   ]
  },
  {
   "cell_type": "code",
   "execution_count": null,
   "id": "48e2a953-31f7-4a1f-a949-408c474acf52",
   "metadata": {},
   "outputs": [],
   "source": [
    "ldf = pd.DataFrame(dict(lambda_fitted = [lambd_fitted]))\n",
    "ldf"
   ]
  },
  {
   "cell_type": "markdown",
   "id": "daacaa1e-381c-46a9-a1e6-c4ca5ba7ee84",
   "metadata": {},
   "source": [
    "## Save lambda (exponential value)"
   ]
  },
  {
   "cell_type": "code",
   "execution_count": 4,
   "id": "e7b181fb-d1fb-4c21-bf1c-66dd09e22865",
   "metadata": {},
   "outputs": [
    {
     "data": {
      "text/plain": [
       "0.0328774362127231"
      ]
     },
     "execution_count": 4,
     "metadata": {},
     "output_type": "execute_result"
    }
   ],
   "source": [
    "filename = '../data/03_model_inputs/lambda_fitted.csv'\n",
    "\n",
    "if True:\n",
    "    print(f'saving to {filename}')\n",
    "    ldf.to_csv(filename)\n",
    "    \n",
    "lambda_use = float(pd.read_csv(filename).iloc[:, 1])\n",
    "lambda_use"
   ]
  },
  {
   "cell_type": "markdown",
   "id": "b437f9d3-5830-4b4c-805a-ac0db7706311",
   "metadata": {},
   "source": [
    "## Sample stb and beta"
   ]
  },
  {
   "cell_type": "markdown",
   "id": "4584f7e0-1906-4870-b3a8-b256788840c5",
   "metadata": {},
   "source": [
    "Need to check that the resulting beta values are sensible. Should be somewhere in the order of `1e-3`.\n",
    "\n",
    "Then can post-hoc filter out any values that do something weird."
   ]
  },
  {
   "cell_type": "markdown",
   "id": "4841afe7-7395-4dae-a4ba-270820175c13",
   "metadata": {},
   "source": [
    "Have the pdf is `k * exp ( - lam * x )`,\n",
    "\n",
    "Integrate, get `- k /lam * exp(-lam*x)`, so `1 = - k /lam * exp(-lam * 100) + k / lam`. So `k = lam / ( 1 - exp(-100 lam))`.\n",
    "\n",
    "Then get integral from 0 to `S` is:\n",
    "\n",
    "`p = (k /lam) * (1 - exp(-lam*S) )`\n",
    "\n",
    "So `1 - exp(-lam * S) = lam * p / k`\n",
    "\n",
    "So `S = - (1/lam) *ln(1 - lam * p / k)`\n",
    "\n",
    "So `S = - (1/lam) *ln(1 -  p * ( 1 - exp(-100 lam))`"
   ]
  },
  {
   "cell_type": "code",
   "execution_count": 3,
   "id": "a0eddca8-07b6-4d17-be95-4f2052982d33",
   "metadata": {},
   "outputs": [],
   "source": [
    "def find_stb(lambd, p):\n",
    "    arg = 1 - p + p*np.exp(-100*lambd)\n",
    "    out = -1/lambd * np.log(arg)\n",
    "    return out"
   ]
  },
  {
   "cell_type": "code",
   "execution_count": null,
   "id": "4c11fd9c-9848-42e4-a467-f0ac9613b68a",
   "metadata": {},
   "outputs": [],
   "source": [
    "N_SAMPLE = 20000"
   ]
  },
  {
   "cell_type": "code",
   "execution_count": null,
   "id": "50b8f908-7082-4562-afd3-08f4b6adbacf",
   "metadata": {},
   "outputs": [],
   "source": [
    "np.random.seed(1)\n",
    "random_unif = np.random.uniform(size=N_SAMPLE)"
   ]
  },
  {
   "cell_type": "code",
   "execution_count": null,
   "id": "bb466ae6-fe82-47a6-9c4f-42426f0cd869",
   "metadata": {},
   "outputs": [],
   "source": [
    "stb_generated = find_stb(lambda_use, random_unif)"
   ]
  },
  {
   "cell_type": "code",
   "execution_count": null,
   "id": "73b6be12-fa67-48f6-bc86-b7b89e6af6f6",
   "metadata": {},
   "outputs": [],
   "source": [
    "pd.DataFrame(dict(stb=stb_generated)).describe()"
   ]
  },
  {
   "cell_type": "code",
   "execution_count": null,
   "id": "eb558101-c73e-4ba6-83a9-bcbb6fd6b8dc",
   "metadata": {},
   "outputs": [],
   "source": [
    "I0_value"
   ]
  },
  {
   "cell_type": "code",
   "execution_count": null,
   "id": "22d1e771-afd4-4a44-b148-a9f587b51a07",
   "metadata": {},
   "outputs": [],
   "source": [
    "find_beta_vectorised([2e-3, 9.9e-1], I0_value)"
   ]
  },
  {
   "cell_type": "code",
   "execution_count": null,
   "id": "3a780189-1dbf-4190-b0c8-d469d48c5333",
   "metadata": {},
   "outputs": [],
   "source": [
    "beta_df = (\n",
    "    pd.DataFrame(dict(stb=stb_generated))\n",
    "    .assign(beta = lambda df: \n",
    "            find_beta_vectorised(0.01*df.stb, I0_value)\n",
    "    )\n",
    ")\n",
    "\n",
    "beta_df.head()"
   ]
  },
  {
   "cell_type": "code",
   "execution_count": null,
   "id": "52d59e3f-bd31-4ce4-88fc-bcf956616d90",
   "metadata": {},
   "outputs": [],
   "source": [
    "beta_df.to_csv('../data/03_model_inputs/many_sampled_betas.csv')"
   ]
  },
  {
   "cell_type": "code",
   "execution_count": null,
   "id": "c8a9d311-9719-443d-b7bb-dbefd4c1c264",
   "metadata": {},
   "outputs": [],
   "source": [
    "f, ax = plt.subplots()\n",
    "\n",
    "beta_df.hist(ax=ax\n",
    "             # , bins=50\n",
    "            )"
   ]
  },
  {
   "cell_type": "code",
   "execution_count": null,
   "id": "a7f6735a-0bbe-4557-bbfc-e24fa79c67fd",
   "metadata": {},
   "outputs": [],
   "source": [
    "beta_df.sort_values(['beta', 'stb']).loc[lambda df: np.isclose(df.beta, 1e-4)]"
   ]
  },
  {
   "cell_type": "code",
   "execution_count": null,
   "id": "444ada74-f448-4b06-9c88-bd57b1a0583e",
   "metadata": {},
   "outputs": [],
   "source": [
    "bad_betas = (\n",
    "    beta_df\n",
    "    .loc[lambda df: (\n",
    "        (df.beta<=1e-4) |\n",
    "        (df.beta>=5e-2) |\n",
    "        (df.beta.isin([np.nan]))\n",
    "        \n",
    "    )]\n",
    ")\n",
    "\n",
    "bad_betas"
   ]
  },
  {
   "cell_type": "code",
   "execution_count": null,
   "id": "af5467e9-c4e1-4750-9076-556310ed25f7",
   "metadata": {},
   "outputs": [],
   "source": [
    "beta_df.loc[np.isclose(beta_df.beta,0.0001), :] = np.nan"
   ]
  },
  {
   "cell_type": "code",
   "execution_count": null,
   "id": "211b2e62-f28f-4184-9d29-e97c0ab73022",
   "metadata": {},
   "outputs": [],
   "source": [
    "sampled_betas_use = (\n",
    "    beta_df.loc[~np.isclose(beta_df.beta,0.0001)]\n",
    "    .loc[lambda df: ~df.beta.isnull()]\n",
    ")\n",
    "\n",
    "sampled_betas_use.shape"
   ]
  },
  {
   "cell_type": "markdown",
   "id": "d545c165-85e9-4a0d-8a94-b4b8679fa557",
   "metadata": {},
   "source": [
    "NB that think can't achieve this lowest sev with same I0 - even with beta=0 will have some minimum severity. So just filter out these very rare cases - 13 out of 20000."
   ]
  },
  {
   "cell_type": "code",
   "execution_count": null,
   "id": "3f537fe4-ca6a-4a2f-a5df-a7f338c0f3fb",
   "metadata": {},
   "outputs": [],
   "source": [
    "sampled_betas_use.describe()"
   ]
  },
  {
   "cell_type": "code",
   "execution_count": null,
   "id": "e8cd54ab-d293-4d0d-8d4a-6601e61409a2",
   "metadata": {},
   "outputs": [],
   "source": [
    "(\n",
    "    sampled_betas_use\n",
    "    .assign(log_b = lambda df: np.log(df.beta))\n",
    "    .plot\n",
    "    .scatter(x='log_b', y='stb', alpha=0.1)\n",
    ")"
   ]
  },
  {
   "cell_type": "code",
   "execution_count": null,
   "id": "458dc768-ff15-475b-8649-897343fef857",
   "metadata": {},
   "outputs": [],
   "source": [
    "# f.savefig('../figures/paper_figs/stb_vs_beta_expo.jpg')"
   ]
  },
  {
   "cell_type": "markdown",
   "id": "34a743ce-d001-477f-ab96-4dfb303ed0a1",
   "metadata": {},
   "source": [
    "## Save sampled betas?"
   ]
  },
  {
   "cell_type": "code",
   "execution_count": null,
   "id": "503b6a16-6330-4760-a126-08ca6bc91579",
   "metadata": {},
   "outputs": [],
   "source": [
    "# if SAVING:\n",
    "if True:\n",
    "    filename = '../data/03_model_inputs/beta_sampled_no_repeats.csv'\n",
    "    print(f'saving beta to {filename}')\n",
    "    sampled_betas_use.beta.to_csv(filename)"
   ]
  },
  {
   "cell_type": "markdown",
   "id": "b0a8a984-a3df-42bf-bff0-3690c661fabd",
   "metadata": {},
   "source": [
    "## Resample to get more"
   ]
  },
  {
   "cell_type": "code",
   "execution_count": null,
   "id": "83591f49-a8d0-495d-8597-68b66d09a5b5",
   "metadata": {},
   "outputs": [],
   "source": [
    "betas = pd.read_csv('../data/03_model_inputs/beta_sampled_no_repeats.csv').iloc[:, 1:]\n",
    "betas"
   ]
  },
  {
   "cell_type": "code",
   "execution_count": null,
   "id": "c9a96bf9-285a-4742-9c3a-ee38d619e658",
   "metadata": {},
   "outputs": [],
   "source": [
    "betas2 = (\n",
    "    pd.concat([betas] +\n",
    "        [betas.sample(frac=1, random_state=ii) for ii in range(10)]\n",
    "    )\n",
    ")\n",
    "\n",
    "betas2.head(10)"
   ]
  },
  {
   "cell_type": "code",
   "execution_count": null,
   "id": "246ce252-a9bd-4611-ad13-249ed0aa3841",
   "metadata": {},
   "outputs": [],
   "source": [
    "betas2.shape"
   ]
  },
  {
   "cell_type": "code",
   "execution_count": null,
   "id": "01a23546-4815-4430-8658-63d39fcec7bd",
   "metadata": {},
   "outputs": [],
   "source": [
    "betas2.to_csv('../data/03_model_inputs/beta_sampled.csv')"
   ]
  },
  {
   "cell_type": "markdown",
   "id": "a27ce83b-bb3f-4a29-a124-ed376c02a933",
   "metadata": {},
   "source": [
    "### for nik cdf"
   ]
  },
  {
   "cell_type": "code",
   "execution_count": null,
   "id": "8e8bdf80-b002-4690-a5fd-328af08a5fc6",
   "metadata": {},
   "outputs": [],
   "source": [
    "cdf_df = (\n",
    "    pd.DataFrame(dict(x = np.linspace(0,1,100)))\n",
    "    .assign(cdf = lambda df: find_stb(lambda_use, df.x))\n",
    ")"
   ]
  },
  {
   "cell_type": "code",
   "execution_count": null,
   "id": "6c9bab77-455e-4bd3-96fb-2c13e98227c8",
   "metadata": {},
   "outputs": [],
   "source": [
    "f, ax= plt.subplots(figsize=(14,8))\n",
    "\n",
    "cdf_df.plot(x='x', y='cdf', ax=ax)\n",
    "\n",
    "\n",
    "(\n",
    "    stb_values\n",
    "    .sort_values('stb')\n",
    "    .reset_index(drop=True)\n",
    "    .assign(quartile = lambda df: (\n",
    "        df.index / (df.shape[0] - 1)\n",
    "    )\n",
    "    )\n",
    "    .set_index('quartile')\n",
    "    .loc[:, ['stb']]\n",
    "    .plot(ax=ax)\n",
    ")\n",
    "\n",
    "# (\n",
    "#     random_sample\n",
    "#     .sort_values('random_stb')\n",
    "#     .reset_index(drop=True)\n",
    "#     .assign(quartile = lambda df: (\n",
    "#         df.index / (df.shape[0] - 1)\n",
    "#     )        \n",
    "#     )\n",
    "#     .set_index('quartile')\n",
    "#     .loc[:, ['random_stb']]\n",
    "#     .rename(columns={'random_stb': 'smoothed_stb'})\n",
    "#     .plot(ax=ax)\n",
    "# )"
   ]
  },
  {
   "cell_type": "code",
   "execution_count": null,
   "id": "9fa763bb-ce5c-4247-92af-567430b35b9f",
   "metadata": {},
   "outputs": [],
   "source": [
    "f.savefig('../figures/paper_figs/cdf.jpg')"
   ]
  },
  {
   "cell_type": "markdown",
   "id": "f485323b-85bb-4956-8f60-ab8b897a6770",
   "metadata": {},
   "source": [
    "## Save median beta?"
   ]
  },
  {
   "cell_type": "markdown",
   "id": "abb8f190-e4c0-43b2-86d4-847c282c1f5b",
   "metadata": {},
   "source": [
    "Use pdf to find median stb, then use this to find median beta value"
   ]
  },
  {
   "cell_type": "code",
   "execution_count": 13,
   "id": "4a88eff6-2195-4f65-a204-20d637d7dc56",
   "metadata": {},
   "outputs": [
    {
     "data": {
      "text/plain": [
       "19.967778417272328"
      ]
     },
     "execution_count": 13,
     "metadata": {},
     "output_type": "execute_result"
    }
   ],
   "source": [
    "stb_median = find_stb(lambda_use, 0.5)\n",
    "\n",
    "stb_median"
   ]
  },
  {
   "cell_type": "code",
   "execution_count": 15,
   "id": "4643d178-90d1-444a-a37d-0b0145494dff",
   "metadata": {},
   "outputs": [
    {
     "data": {
      "text/plain": [
       "0.007865415999695926"
      ]
     },
     "execution_count": 15,
     "metadata": {},
     "output_type": "execute_result"
    }
   ],
   "source": [
    "beta_median = find_beta_vectorised([0.01*stb_median], I0_value)[0]\n",
    "beta_median"
   ]
  },
  {
   "cell_type": "code",
   "execution_count": 16,
   "id": "78558746-acec-400d-b042-0f06fde1fb21",
   "metadata": {},
   "outputs": [
    {
     "data": {
      "text/html": [
       "<div>\n",
       "<style scoped>\n",
       "    .dataframe tbody tr th:only-of-type {\n",
       "        vertical-align: middle;\n",
       "    }\n",
       "\n",
       "    .dataframe tbody tr th {\n",
       "        vertical-align: top;\n",
       "    }\n",
       "\n",
       "    .dataframe thead th {\n",
       "        text-align: right;\n",
       "    }\n",
       "</style>\n",
       "<table border=\"1\" class=\"dataframe\">\n",
       "  <thead>\n",
       "    <tr style=\"text-align: right;\">\n",
       "      <th></th>\n",
       "      <th>beta</th>\n",
       "    </tr>\n",
       "  </thead>\n",
       "  <tbody>\n",
       "    <tr>\n",
       "      <th>0</th>\n",
       "      <td>0.007551</td>\n",
       "    </tr>\n",
       "    <tr>\n",
       "      <th>1</th>\n",
       "      <td>0.008720</td>\n",
       "    </tr>\n",
       "    <tr>\n",
       "      <th>2</th>\n",
       "      <td>0.007068</td>\n",
       "    </tr>\n",
       "    <tr>\n",
       "      <th>3</th>\n",
       "      <td>0.006144</td>\n",
       "    </tr>\n",
       "    <tr>\n",
       "      <th>4</th>\n",
       "      <td>0.005606</td>\n",
       "    </tr>\n",
       "  </tbody>\n",
       "</table>\n",
       "</div>"
      ],
      "text/plain": [
       "       beta\n",
       "0  0.007551\n",
       "1  0.008720\n",
       "2  0.007068\n",
       "3  0.006144\n",
       "4  0.005606"
      ]
     },
     "execution_count": 16,
     "metadata": {},
     "output_type": "execute_result"
    }
   ],
   "source": [
    "# betasm = pd.read_csv('../data/03_model_inputs/beta_sampled.csv').iloc[:, 1:]\n",
    "# betasm.head()"
   ]
  },
  {
   "cell_type": "code",
   "execution_count": 17,
   "id": "36011212-c75c-4aae-8e98-0185612a3b22",
   "metadata": {},
   "outputs": [
    {
     "data": {
      "text/plain": [
       "(beta    0.007808\n",
       " dtype: float64,\n",
       " beta    0.007895\n",
       " dtype: float64)"
      ]
     },
     "execution_count": 17,
     "metadata": {},
     "output_type": "execute_result"
    }
   ],
   "source": [
    "# betasm.mean(), betasm.median()"
   ]
  },
  {
   "cell_type": "code",
   "execution_count": 20,
   "id": "283a6d08-cd2a-49eb-958d-33fb5e9eeacd",
   "metadata": {},
   "outputs": [
    {
     "name": "stdout",
     "output_type": "stream",
     "text": [
      "saving to ../data/03_model_inputs/beta_value.csv\n"
     ]
    },
    {
     "data": {
      "text/html": [
       "<div>\n",
       "<style scoped>\n",
       "    .dataframe tbody tr th:only-of-type {\n",
       "        vertical-align: middle;\n",
       "    }\n",
       "\n",
       "    .dataframe tbody tr th {\n",
       "        vertical-align: top;\n",
       "    }\n",
       "\n",
       "    .dataframe thead th {\n",
       "        text-align: right;\n",
       "    }\n",
       "</style>\n",
       "<table border=\"1\" class=\"dataframe\">\n",
       "  <thead>\n",
       "    <tr style=\"text-align: right;\">\n",
       "      <th></th>\n",
       "      <th>beta_median</th>\n",
       "    </tr>\n",
       "  </thead>\n",
       "  <tbody>\n",
       "    <tr>\n",
       "      <th>0</th>\n",
       "      <td>0.007865</td>\n",
       "    </tr>\n",
       "  </tbody>\n",
       "</table>\n",
       "</div>"
      ],
      "text/plain": [
       "   beta_median\n",
       "0     0.007865"
      ]
     },
     "execution_count": 20,
     "metadata": {},
     "output_type": "execute_result"
    }
   ],
   "source": [
    "bdf = pd.DataFrame(dict(beta_median=[beta_median]))\n",
    "\n",
    "if True:\n",
    "    filename = '../data/03_model_inputs/beta_value.csv'\n",
    "    print(f'saving to {filename}')\n",
    "    bdf.to_csv(filename)\n",
    "\n",
    "bdf"
   ]
  },
  {
   "cell_type": "markdown",
   "id": "b6296db7-4ec7-429b-9da3-35ef20da5d4b",
   "metadata": {},
   "source": [
    "## Save 'actual' betas for figure?\n",
    "\n",
    "Not for model"
   ]
  },
  {
   "cell_type": "code",
   "execution_count": null,
   "id": "f4e9fa94-7ffa-489d-bbc3-3c4c87413db9",
   "metadata": {},
   "outputs": [],
   "source": [
    "b_actual = find_beta_vectorised(\n",
    "    0.01*pd.read_csv('../data/03_model_inputs/stb_vals.csv').stb,\n",
    "    I0_value\n",
    ")"
   ]
  },
  {
   "cell_type": "code",
   "execution_count": null,
   "id": "a107f03f-5493-40cb-b917-f5a75f42240e",
   "metadata": {},
   "outputs": [],
   "source": [
    "if True:\n",
    "    print('saving')\n",
    "    \n",
    "    (\n",
    "        pd.DataFrame(dict(betas = b_actual))\n",
    "        .to_csv('../data/03_model_inputs/beta_from_data_not_sampled_dist.csv')\n",
    "    )"
   ]
  },
  {
   "cell_type": "code",
   "execution_count": null,
   "id": "4b468a0a-7744-4da1-917b-33a63c7a0771",
   "metadata": {},
   "outputs": [],
   "source": []
  }
 ],
 "metadata": {
  "kernelspec": {
   "display_name": "python3_poly",
   "language": "python",
   "name": "python3_poly"
  },
  "language_info": {
   "codemirror_mode": {
    "name": "ipython",
    "version": 3
   },
   "file_extension": ".py",
   "mimetype": "text/x-python",
   "name": "python",
   "nbconvert_exporter": "python",
   "pygments_lexer": "ipython3",
   "version": "3.8.12"
  }
 },
 "nbformat": 4,
 "nbformat_minor": 5
}
