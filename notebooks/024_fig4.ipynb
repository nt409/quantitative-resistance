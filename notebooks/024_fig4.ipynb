{
 "cells": [
  {
   "cell_type": "markdown",
   "id": "5fabd905-0c56-49ca-a8e5-65514b3a3ef9",
   "metadata": {},
   "source": [
    "# Fig 4 - stochasticity"
   ]
  },
  {
   "cell_type": "markdown",
   "id": "6d36b1b3-d45a-4b1e-bdb3-aa39d675677f",
   "metadata": {},
   "source": [
    "Want `n_k = 400, n_its=1000`\n",
    "\n",
    "Use `cluster/f4_fung_stoch.submit`"
   ]
  },
  {
   "cell_type": "code",
   "execution_count": 1,
   "id": "b8c5614b-ac17-4cb3-8849-4f78cf668a98",
   "metadata": {},
   "outputs": [],
   "source": [
    "%load_ext autoreload\n",
    "%autoreload 2"
   ]
  },
  {
   "cell_type": "code",
   "execution_count": 2,
   "id": "e41b4168-09e5-4695-9a50-9e6d89405788",
   "metadata": {
    "tags": []
   },
   "outputs": [],
   "source": [
    "import pandas as pd\n",
    "\n",
    "from math import floor\n",
    "\n",
    "import numpy as np\n",
    "import seaborn as sns\n",
    "import matplotlib.pyplot as plt\n",
    "\n",
    "import plotly.express as px\n",
    "from plotly import colors\n",
    "\n",
    "sns.set_theme(style=\"ticks\")\n",
    "\n",
    "from colour import Color\n",
    "import itertools\n",
    "\n",
    "import plotly.graph_objects as go\n",
    "from plotly.subplots import make_subplots\n",
    "\n",
    "from math import exp, log, log10\n",
    "\n",
    "from polymodel.config import Config\n",
    "\n",
    "from polymodel.consts import (\n",
    "    DEFAULT_I0, \n",
    "    DEFAULT_BETA,\n",
    "    MUTATION_PROP,\n",
    "    FUNG_MUTATION_SCALE,\n",
    "    HOST_MUTATION_SCALE,\n",
    "    DEFAULT_P,\n",
    "    TRAIN_TEST_SPLIT_PROPORTION\n",
    ")\n",
    "\n",
    "from plots.fns import (\n",
    "    dist_means_as_df,\n",
    "    get_arrow_annotation,\n",
    "    get_text_annotation,\n",
    "    standard_layout,\n",
    "    traces_with_uncertainty,\n",
    "    traces_with_uncertainty_bands, \n",
    "    hex_to_rgb\n",
    ")"
   ]
  },
  {
   "cell_type": "code",
   "execution_count": 3,
   "id": "0e2eaa35-3aff-426f-ba45-bab3a69d5caf",
   "metadata": {},
   "outputs": [],
   "source": [
    "COLZ = sns.color_palette('muted').as_hex()"
   ]
  },
  {
   "cell_type": "code",
   "execution_count": 5,
   "id": "7674d50e-c3ef-4a7a-919a-1a136f97d983",
   "metadata": {},
   "outputs": [],
   "source": [
    "ds_d02 = pd.read_csv('../data/05_outputs/fig4/fig4_ds_d02.csv').filter(regex='^((?!year.).)*$').filter(like='y').set_index('year')\n",
    "ds_d12 = pd.read_csv('../data/05_outputs/fig4/fig4_ds_d12.csv').filter(regex='^((?!year.).)*$').filter(like='y').set_index('year')\n",
    "ds_d32 = pd.read_csv('../data/05_outputs/fig4/fig4_ds_d32.csv').filter(regex='^((?!year.).)*$').filter(like='y').set_index('year')\n",
    "\n",
    "y_d02 = pd.read_csv('../data/05_outputs/fig4/fig4_y_d02.csv').filter(regex='^((?!year.).)*$').filter(like='y').set_index('year')\n",
    "y_d12 = pd.read_csv('../data/05_outputs/fig4/fig4_y_d12.csv').filter(regex='^((?!year.).)*$').filter(like='y').set_index('year')\n",
    "y_d32 = pd.read_csv('../data/05_outputs/fig4/fig4_y_d32.csv').filter(regex='^((?!year.).)*$').filter(like='y').set_index('year')\n",
    "\n",
    "fd_diff02 = pd.read_csv('../data/05_outputs/fig4/fig4_fd_diff02.csv').filter(regex='^((?!year.).)*$').filter(like='y').set_index('year')\n",
    "fd_diff12 = pd.read_csv('../data/05_outputs/fig4/fig4_fd_diff12.csv').filter(regex='^((?!year.).)*$').filter(like='y').set_index('year')\n",
    "fd_diff32 = pd.read_csv('../data/05_outputs/fig4/fig4_fd_diff32.csv').filter(regex='^((?!year.).)*$').filter(like='y').set_index('year')"
   ]
  },
  {
   "cell_type": "code",
   "execution_count": 8,
   "id": "d986d55b-5287-4ecf-8b26-8ac21407d889",
   "metadata": {},
   "outputs": [],
   "source": [
    "def compare_with_stoch(\n",
    "    ds_d02,\n",
    "    ds_d12,\n",
    "    ds_d32,\n",
    "    \n",
    "    y_d02,\n",
    "    y_d12,\n",
    "    y_d32,\n",
    "    \n",
    "    fd_diff02,\n",
    "    fd_diff12,\n",
    "    fd_diff32,\n",
    "):\n",
    "    \n",
    "    fig = make_subplots(\n",
    "        rows=3,\n",
    "        cols=3,\n",
    "        shared_xaxes=True,\n",
    "        horizontal_spacing=0.12,\n",
    "    )\n",
    "    \n",
    "    col1 = 'rgba(0,255,0,1)'\n",
    "    col2 = 'rgba(50,50,50,1)'\n",
    "    col3 = 'rgba(255,0,0,1)'\n",
    "    \n",
    "    \n",
    "    # bds = [5, 95]\n",
    "    BDS = [5, 25, 75, 95]\n",
    "    \n",
    "    \n",
    "    # ROW 1\n",
    "    \n",
    "    trcs_dsd02 = traces_with_uncertainty_bands(ds_d02, bds=BDS, color=col1, showlegend=False)\n",
    "    trcs_dsd12 = traces_with_uncertainty_bands(ds_d12, bds=BDS, color=col1, showlegend=False)\n",
    "    trcs_dsd32 = traces_with_uncertainty_bands(ds_d32, bds=BDS, color=col1, showlegend=False)\n",
    "    \n",
    "    fig.add_traces(trcs_dsd02, rows=1, cols=1)\n",
    "    fig.add_traces(trcs_dsd12, rows=1, cols=2)\n",
    "    fig.add_traces(trcs_dsd32, rows=1, cols=3)\n",
    "    \n",
    "    cross_12 = 6 + 0.255 / (0.255 + 0.284)\n",
    "    cross_32 = 4 + 0.0331 / (0.0331 + 0.302)\n",
    "    \n",
    "    scatter12 = go.Scatter(\n",
    "        x=[cross_12],\n",
    "        y=[0],\n",
    "        marker=dict(color='rgb(0,0,0)', size=8),\n",
    "        showlegend=False,\n",
    "        mode='markers'\n",
    "    )\n",
    "    \n",
    "    scatter32 = go.Scatter(\n",
    "        x=[cross_32],\n",
    "        y=[0],\n",
    "        marker=dict(color='rgb(0,0,0)', size=8),\n",
    "        showlegend=False,\n",
    "        mode='markers'\n",
    "    )\n",
    "    \n",
    "    fig.add_traces([scatter12], rows=1, cols=2)\n",
    "    fig.add_traces([scatter32], rows=1, cols=3)    \n",
    "    \n",
    "    # ROW 2\n",
    "    \n",
    "    trcs_yd02 = traces_with_uncertainty_bands(y_d02, bds=BDS, color=col1, showlegend=False)\n",
    "    trcs_yd12 = traces_with_uncertainty_bands(y_d12, bds=BDS, color=col1, showlegend=False)\n",
    "    trcs_yd32 = traces_with_uncertainty_bands(y_d32, bds=BDS, color=col1, showlegend=False)\n",
    "    \n",
    "    fig.add_traces(trcs_yd02, rows=2, cols=1)\n",
    "    fig.add_traces(trcs_yd12, rows=2, cols=2)\n",
    "    fig.add_traces(trcs_yd32, rows=2, cols=3)\n",
    "    \n",
    "    scatter12b = go.Scatter(\n",
    "        x=[cross_12],\n",
    "        y=[0],\n",
    "        marker=dict(color='rgb(0,0,0)', size=8),\n",
    "        showlegend=False,\n",
    "        mode='markers'\n",
    "    )\n",
    "    \n",
    "    scatter32b = go.Scatter(\n",
    "        x=[cross_32],\n",
    "        y=[0],\n",
    "        marker=dict(color='rgb(0,0,0)', size=8),\n",
    "        showlegend=False,\n",
    "        mode='markers'\n",
    "    )\n",
    "    \n",
    "    fig.add_traces([scatter12b], rows=2, cols=2)\n",
    "    fig.add_traces([scatter32b], rows=2, cols=3)\n",
    "    \n",
    "    \n",
    "    \n",
    "    # ROW 3\n",
    "    \n",
    "    fd_diff02 = (\n",
    "        fd_diff02\n",
    "        .reset_index()\n",
    "        .assign(year = lambda df: df.year-1)\n",
    "        .set_index('year')\n",
    "    )\n",
    "    \n",
    "    fd_diff12 = (\n",
    "        fd_diff12\n",
    "        .reset_index()\n",
    "        .assign(year = lambda df: df.year-1)\n",
    "        .set_index('year')\n",
    "    )\n",
    "    \n",
    "    fd_diff32 = (\n",
    "        fd_diff32\n",
    "        .reset_index()\n",
    "        .assign(year = lambda df: df.year-1)\n",
    "        .set_index('year')\n",
    "    )\n",
    "    \n",
    "    trcd02 = traces_with_uncertainty_bands(\n",
    "        fd_diff02, \n",
    "        bds=BDS,\n",
    "        color=col1,\n",
    "        name='',\n",
    "        showlegend=False,\n",
    "    )\n",
    "    \n",
    "    trcd12 = traces_with_uncertainty_bands(\n",
    "        fd_diff12, \n",
    "        bds=BDS,\n",
    "        color=col1,\n",
    "        name='',\n",
    "        showlegend=False,\n",
    "    )\n",
    "    \n",
    "    trcd32 = traces_with_uncertainty_bands(\n",
    "        fd_diff32, \n",
    "        bds=BDS,\n",
    "        color=col1,\n",
    "        name='',\n",
    "        showlegend=False,\n",
    "    )\n",
    "    \n",
    "    fig.add_traces(trcd02, rows=3, cols=1)\n",
    "    fig.add_traces(trcd12, rows=3, cols=2)\n",
    "    fig.add_traces(trcd32, rows=3, cols=3)\n",
    "    \n",
    "    # ANNOTATIONS\n",
    "    \n",
    "    x1 = 0.6\n",
    "    x2 = 0.7\n",
    "    x3 = 0.8\n",
    "    x4 = 0.9\n",
    "    x5 = 1\n",
    "    \n",
    "    yt=1.15\n",
    "    yb=1.11\n",
    "    \n",
    "    eps = 0.018\n",
    "    \n",
    "    row1 = 1.06\n",
    "    row2 = 0.69\n",
    "    row3 = 0.32\n",
    "    \n",
    "    col1 = -0.02\n",
    "    col2 = 0.35\n",
    "    col3 = 0.73\n",
    "    \n",
    "    annotz = [\n",
    "        get_text_annotation(0.12, 1.03, '0 sprays', xanchor='center', yanchor='middle'),\n",
    "        get_text_annotation(0.5, 1.03, '1 spray', xanchor='center', yanchor='middle'),\n",
    "        get_text_annotation(0.88, 1.03, '3 sprays', xanchor='center', yanchor='middle'),\n",
    "        \n",
    "        get_text_annotation(x1, yb-eps, '5', xanchor='center', yanchor='middle', size=14),\n",
    "        get_text_annotation(x2, yb-eps, '25', xanchor='center', yanchor='middle', size=14),\n",
    "        get_text_annotation(x3, yb-eps, '50', xanchor='center', yanchor='middle', size=14),\n",
    "        get_text_annotation(x4, yb-eps, '75', xanchor='center', yanchor='middle', size=14),\n",
    "        get_text_annotation(x5, yb-eps, '95', xanchor='center', yanchor='middle', size=14),\n",
    "        \n",
    "        get_text_annotation(col1, row1, 'A', size=20),\n",
    "        get_text_annotation(col2, row1, 'D', size=20),\n",
    "        get_text_annotation(col3, row1, 'G', size=20),\n",
    "        get_text_annotation(col1, row2, 'B', size=20),\n",
    "        get_text_annotation(col2, row2, 'E', size=20),\n",
    "        get_text_annotation(col3, row2, 'H', size=20),\n",
    "        get_text_annotation(col1, row3, 'C', size=20),\n",
    "        get_text_annotation(col2, row3, 'F', size=20),\n",
    "        get_text_annotation(col3, row3, 'I', size=20),\n",
    "        \n",
    "    ]\n",
    "    \n",
    "    # LAYOUT\n",
    "    \n",
    "    fig.update_layout(standard_layout(True, height=750))\n",
    "    fig.update_layout(font=dict(size=14))\n",
    "    fig.update_layout(annotations=annotz)\n",
    "    \n",
    "    \n",
    "    \n",
    "    fig.update_layout(\n",
    "        shapes=[\n",
    "            dict(type=\"rect\", xref=\"paper\", yref=\"paper\",\n",
    "                 x0=x1,\n",
    "                 x1=x2,\n",
    "                 y0=yt,\n",
    "                 y1=yb,\n",
    "                 line_width=1,\n",
    "                 line_color=\"rgb(0,255,0)\",\n",
    "                 fillcolor=\"rgb(0,255,0)\",\n",
    "                 opacity=0.1,\n",
    "            ),\n",
    "            dict(type=\"rect\", xref=\"paper\", yref=\"paper\",\n",
    "                 x0=x2,\n",
    "                 x1=x3,\n",
    "                 y0=yt,\n",
    "                 y1=yb,\n",
    "                 line_width=1,\n",
    "                 line_color=\"rgb(0,255,0)\",\n",
    "                 fillcolor=\"rgb(0,255,0)\",\n",
    "                 opacity=0.2,\n",
    "            ),\n",
    "            dict(type=\"line\", xref=\"paper\", yref=\"paper\",\n",
    "                 x0=x3,\n",
    "                 x1=x3,\n",
    "                 y0=yt,\n",
    "                 y1=yb,\n",
    "                 line_width=2.5,\n",
    "                 line_color=\"rgb(0,255,0)\",\n",
    "                 opacity=1,\n",
    "            ),\n",
    "            dict(type=\"rect\", xref=\"paper\", yref=\"paper\",\n",
    "                 x0=x3,\n",
    "                 x1=x4,\n",
    "                 y0=yt,\n",
    "                 y1=yb,\n",
    "                 line_width=1,\n",
    "                 line_color=\"rgb(0,255,0)\",\n",
    "                 fillcolor=\"rgb(0,255,0)\",\n",
    "                 opacity=0.2,\n",
    "            ),\n",
    "            dict(type=\"rect\", xref=\"paper\", yref=\"paper\",\n",
    "                 x0=x4,\n",
    "                 x1=x5,\n",
    "                 y0=yt,\n",
    "                 y1=yb,\n",
    "                 line_width=1,\n",
    "                 line_color=\"rgb(0,255,0)\",\n",
    "                 fillcolor=\"rgb(0,255,0)\",\n",
    "                 opacity=0.1,\n",
    "            ),\n",
    "            \n",
    "            dict(type=\"line\", xref=\"paper\", yref=\"paper\",\n",
    "                 x0=x1,\n",
    "                 x1=x1,\n",
    "                 y0=yb,\n",
    "                 y1=yb-0.25*eps,\n",
    "                 line_width=1.5,\n",
    "                 line_color=\"rgb(110,110,110)\",\n",
    "                 opacity=1,\n",
    "            ),\n",
    "            \n",
    "            dict(type=\"line\", xref=\"paper\", yref=\"paper\",\n",
    "                 x0=x2,\n",
    "                 x1=x2,\n",
    "                 y0=yb,\n",
    "                 y1=yb-0.25*eps,\n",
    "                 line_width=1.5,\n",
    "                 line_color=\"rgb(110,110,110)\",\n",
    "                 opacity=1,\n",
    "            ),\n",
    "            \n",
    "            dict(type=\"line\", xref=\"paper\", yref=\"paper\",\n",
    "                 x0=x3,\n",
    "                 x1=x3,\n",
    "                 y0=yb,\n",
    "                 y1=yb-0.25*eps,\n",
    "                 line_width=1.5,\n",
    "                 line_color=\"rgb(110,110,110)\",\n",
    "                 opacity=1,\n",
    "            ),\n",
    "            \n",
    "            dict(type=\"line\", xref=\"paper\", yref=\"paper\",\n",
    "                 x0=x4,\n",
    "                 x1=x4,\n",
    "                 y0=yb,\n",
    "                 y1=yb-0.25*eps,\n",
    "                 line_width=1.5,\n",
    "                 line_color=\"rgb(110,110,110)\",\n",
    "                 opacity=1,\n",
    "            ),\n",
    "            \n",
    "            dict(type=\"line\", xref=\"paper\", yref=\"paper\",\n",
    "                 x0=x5,\n",
    "                 x1=x5,\n",
    "                 y0=yb,\n",
    "                 y1=yb-0.25*eps,\n",
    "                 line_width=1.5,\n",
    "                 line_color=\"rgb(110,110,110)\",\n",
    "                 opacity=1,\n",
    "            ),\n",
    "    ])\n",
    "    \n",
    "    range_ = [-0.5, 15.5]\n",
    "    \n",
    "    fig.update_xaxes(title='Time (years)', row=3, col=1, range=range_)\n",
    "    fig.update_xaxes(title='Time (years)', row=3, col=2, range=range_)\n",
    "    fig.update_xaxes(title='Time (years)', row=3, col=3, range=range_)\n",
    "    \n",
    "    fig.update_yaxes(title='Severity increase (%)', row=1, col=1)\n",
    "    fig.update_yaxes(title='Yield increase (tons/ha)', row=2, col=1)\n",
    "    fig.update_yaxes(title='Trait mean increase', row=3, col=1)\n",
    "    \n",
    "    return fig"
   ]
  },
  {
   "cell_type": "markdown",
   "id": "ecebd743-f672-4a51-9ef5-d45982b3c32f",
   "metadata": {},
   "source": [
    "## FIG"
   ]
  },
  {
   "cell_type": "code",
   "execution_count": 9,
   "id": "92934ad5-64e9-4783-9b91-2efe1dcd15cf",
   "metadata": {},
   "outputs": [
    {
     "data": {
      "application/vnd.plotly.v1+json": {
       "config": {
        "plotlyServerURL": "https://plot.ly"
       },
       "data": [
        {
         "line": {
          "color": "rgba(0,255,0,0.4)",
          "width": 0.5
         },
         "mode": "lines",
         "showlegend": false,
         "type": "scatter",
         "x": [
          1,
          2,
          3,
          4,
          5,
          6,
          7,
          8,
          9,
          10,
          11,
          12,
          13,
          14,
          15
         ],
         "xaxis": "x",
         "y": [
          1.2088681750390842,
          1.3615134956448676,
          1.1812193537841698,
          1.284969152169001,
          1.1337379555191296,
          1.2996431604645848,
          0.7961613018525857,
          0.9446612271602851,
          0.7080012525177213,
          0.7209114701432998,
          0.7310435957760207,
          0.42116849264351297,
          0.5394701929955726,
          0.5080440199647448,
          0.4946200428914298
         ],
         "yaxis": "y"
        },
        {
         "fill": "tonexty",
         "fillcolor": "rgba(0,255,0,0.1)",
         "line": {
          "color": "rgba(0,255,0,0.4)",
          "width": 0.5
         },
         "mode": "lines",
         "showlegend": false,
         "type": "scatter",
         "x": [
          1,
          2,
          3,
          4,
          5,
          6,
          7,
          8,
          9,
          10,
          11,
          12,
          13,
          14,
          15
         ],
         "xaxis": "x",
         "y": [
          8.191479588740096,
          8.544819485670025,
          7.075631547604566,
          7.718143030541789,
          7.827454276565183,
          6.1401327394866865,
          6.172695543744378,
          5.483579365363708,
          5.443815771111607,
          4.339994845065326,
          4.2116599897829134,
          3.5282694567982817,
          3.766399568886372,
          3.289698853896452,
          3.160399968773088
         ],
         "yaxis": "y"
        },
        {
         "fill": "tonexty",
         "fillcolor": "rgba(0,255,0,0.2)",
         "line": {
          "color": "rgba(0,255,0,0.4)",
          "width": 0.5
         },
         "mode": "lines",
         "showlegend": false,
         "type": "scatter",
         "x": [
          1,
          2,
          3,
          4,
          5,
          6,
          7,
          8,
          9,
          10,
          11,
          12,
          13,
          14,
          15
         ],
         "xaxis": "x",
         "y": [
          37.266510931300104,
          37.11861623181029,
          38.8209078738048,
          37.57539248814787,
          34.89823678664978,
          30.399339699705894,
          28.699692501559053,
          24.494644320668822,
          23.471796256681642,
          20.786832727676128,
          18.069453431032994,
          16.005379941127657,
          15.652506089982865,
          14.88708106155364,
          13.995619637731544
         ],
         "yaxis": "y"
        },
        {
         "fill": "tonexty",
         "fillcolor": "rgba(0,255,0,0.1)",
         "line": {
          "color": "rgba(0,255,0,0.4)",
          "width": 0.5
         },
         "mode": "lines",
         "showlegend": false,
         "type": "scatter",
         "x": [
          1,
          2,
          3,
          4,
          5,
          6,
          7,
          8,
          9,
          10,
          11,
          12,
          13,
          14,
          15
         ],
         "xaxis": "x",
         "y": [
          70.50298304097038,
          70.56703345471786,
          72.45017016329543,
          69.82241410718875,
          57.59489388997164,
          49.48575075791585,
          43.22365928348649,
          37.17830630819072,
          32.14267303540648,
          28.861339471912714,
          25.624032321168286,
          22.78894650037466,
          21.286041773165874,
          19.521710340352016,
          18.248581387583883
         ],
         "yaxis": "y"
        },
        {
         "line": {
          "color": "rgba(0,255,0,1)",
          "width": 1.5
         },
         "mode": "lines",
         "showlegend": false,
         "type": "scatter",
         "x": [
          1,
          2,
          3,
          4,
          5,
          6,
          7,
          8,
          9,
          10,
          11,
          12,
          13,
          14,
          15
         ],
         "xaxis": "x",
         "y": [
          19.23188156681256,
          20.086515623537636,
          19.247539049876657,
          19.59752317978387,
          17.91891850782303,
          16.063646947999636,
          14.8291378481677,
          14.194168901737177,
          13.054384903830293,
          11.801681143892583,
          10.11959011817979,
          8.587064555363689,
          8.820120268216623,
          8.452197499051604,
          7.931169401249834
         ],
         "yaxis": "y"
        },
        {
         "line": {
          "color": "rgba(0,255,0,0.4)",
          "width": 0.5
         },
         "mode": "lines",
         "showlegend": false,
         "type": "scatter",
         "x": [
          1,
          2,
          3,
          4,
          5,
          6,
          7,
          8,
          9,
          10,
          11,
          12,
          13,
          14,
          15
         ],
         "xaxis": "x2",
         "y": [
          0.24984241212675048,
          0.2749110865867392,
          0.23738211797952632,
          0.21413136389842194,
          0.1290869325639176,
          -0.3813544471807812,
          -2.3476542067284694,
          -3.3413934492288897,
          -3.2068215383276613,
          -2.823581300967383,
          -2.3039001767553997,
          -1.8724312687239923,
          -1.6445246981609483,
          -1.3783889432916099,
          -1.1711254453673412
         ],
         "yaxis": "y2"
        },
        {
         "fill": "tonexty",
         "fillcolor": "rgba(0,255,0,0.1)",
         "line": {
          "color": "rgba(0,255,0,0.4)",
          "width": 0.5
         },
         "mode": "lines",
         "showlegend": false,
         "type": "scatter",
         "x": [
          1,
          2,
          3,
          4,
          5,
          6,
          7,
          8,
          9,
          10,
          11,
          12,
          13,
          14,
          15
         ],
         "xaxis": "x2",
         "y": [
          1.1759374403425342,
          1.2227544102762966,
          1.0225007108009971,
          0.9873291591534109,
          0.5962998559120933,
          0.04566181376458582,
          -0.7960351912861547,
          -1.4316244918604084,
          -1.6933148680482377,
          -1.5136397490894193,
          -1.237915095669309,
          -1.0202129950455079,
          -0.9427599390819194,
          -0.8765193863479022,
          -0.7405431229995045
         ],
         "yaxis": "y2"
        },
        {
         "fill": "tonexty",
         "fillcolor": "rgba(0,255,0,0.2)",
         "line": {
          "color": "rgba(0,255,0,0.4)",
          "width": 0.5
         },
         "mode": "lines",
         "showlegend": false,
         "type": "scatter",
         "x": [
          1,
          2,
          3,
          4,
          5,
          6,
          7,
          8,
          9,
          10,
          11,
          12,
          13,
          14,
          15
         ],
         "xaxis": "x2",
         "y": [
          4.805406365066629,
          4.839965497802892,
          5.07356018173151,
          4.608492458168454,
          2.9022549818655037,
          0.7942107631355069,
          -0.043971724212542425,
          -0.2640446068270575,
          -0.3471269246662575,
          -0.2787696717557365,
          -0.2585493013108097,
          -0.2072695988736592,
          -0.20195055432787495,
          -0.17092980359467352,
          -0.15015005840663553
         ],
         "yaxis": "y2"
        },
        {
         "fill": "tonexty",
         "fillcolor": "rgba(0,255,0,0.1)",
         "line": {
          "color": "rgba(0,255,0,0.4)",
          "width": 0.5
         },
         "mode": "lines",
         "showlegend": false,
         "type": "scatter",
         "x": [
          1,
          2,
          3,
          4,
          5,
          6,
          7,
          8,
          9,
          10,
          11,
          12,
          13,
          14,
          15
         ],
         "xaxis": "x2",
         "y": [
          12.801368427309226,
          13.10239518065083,
          14.236294120170887,
          13.514024489203562,
          6.923131252428064,
          2.9303420463524197,
          0.2509524789429489,
          -0.04087034452221341,
          -0.04704819164669403,
          -0.052127962568034744,
          -0.04937040346249455,
          -0.02724296521728158,
          -0.03190533458275902,
          -0.027426643367370124,
          -0.0266402111094436
         ],
         "yaxis": "y2"
        },
        {
         "line": {
          "color": "rgba(0,255,0,1)",
          "width": 1.5
         },
         "mode": "lines",
         "showlegend": false,
         "type": "scatter",
         "x": [
          1,
          2,
          3,
          4,
          5,
          6,
          7,
          8,
          9,
          10,
          11,
          12,
          13,
          14,
          15
         ],
         "xaxis": "x2",
         "y": [
          2.4616876861490007,
          2.5794128954177378,
          2.4670682145780156,
          2.273192139398383,
          1.38098005509495,
          0.25507242502308836,
          -0.28393693056895786,
          -0.6814088230270818,
          -0.8164102807596079,
          -0.7758555937300788,
          -0.6326085478629926,
          -0.506506427874239,
          -0.4866753976858771,
          -0.43712367196830026,
          -0.3909477883674519
         ],
         "yaxis": "y2"
        },
        {
         "line": {
          "color": "rgba(0,255,0,0.4)",
          "width": 0.5
         },
         "mode": "lines",
         "showlegend": false,
         "type": "scatter",
         "x": [
          1,
          2,
          3,
          4,
          5,
          6,
          7,
          8,
          9,
          10,
          11,
          12,
          13,
          14,
          15
         ],
         "xaxis": "x3",
         "y": [
          -1.2644729064018438,
          -1.3775128853899952,
          -1.4490464644953223,
          -0.5469942697516309,
          0.007799998496471276,
          0.043625552209643155,
          0.027771800009913854,
          0.027375876560970718,
          0.018794250513008114,
          0.017394515980497394,
          0.015941393622648518,
          0.008538491355976946,
          0.010400104629199002,
          0.008943144885999198,
          0.008717894454668246
         ],
         "yaxis": "y3"
        },
        {
         "fill": "tonexty",
         "fillcolor": "rgba(0,255,0,0.1)",
         "line": {
          "color": "rgba(0,255,0,0.4)",
          "width": 0.5
         },
         "mode": "lines",
         "showlegend": false,
         "type": "scatter",
         "x": [
          1,
          2,
          3,
          4,
          5,
          6,
          7,
          8,
          9,
          10,
          11,
          12,
          13,
          14,
          15
         ],
         "xaxis": "x3",
         "y": [
          -0.5839716703625089,
          -0.6177578962293935,
          -0.6000235573950324,
          -0.15339136977595752,
          0.11893333513214835,
          0.17656491443042294,
          0.17157226704765402,
          0.1384076387418776,
          0.12615571922502183,
          0.0952621582961067,
          0.08408807215824035,
          0.06673534614414352,
          0.06795597466472246,
          0.05470030063058748,
          0.04948468056303948
         ],
         "yaxis": "y3"
        },
        {
         "fill": "tonexty",
         "fillcolor": "rgba(0,255,0,0.2)",
         "line": {
          "color": "rgba(0,255,0,0.4)",
          "width": 0.5
         },
         "mode": "lines",
         "showlegend": false,
         "type": "scatter",
         "x": [
          1,
          2,
          3,
          4,
          5,
          6,
          7,
          8,
          9,
          10,
          11,
          12,
          13,
          14,
          15
         ],
         "xaxis": "x3",
         "y": [
          -0.203298324948079,
          -0.21365853426948742,
          -0.16225503029005744,
          0.053744952972464045,
          0.7001747254489643,
          0.9009201843915724,
          0.8717593507358998,
          0.6953837864070045,
          0.6220039802853892,
          0.5156357187988476,
          0.39994110055854204,
          0.3227537843147896,
          0.29703057009340395,
          0.27995319070069064,
          0.24294241880733478
         ],
         "yaxis": "y3"
        },
        {
         "fill": "tonexty",
         "fillcolor": "rgba(0,255,0,0.1)",
         "line": {
          "color": "rgba(0,255,0,0.4)",
          "width": 0.5
         },
         "mode": "lines",
         "showlegend": false,
         "type": "scatter",
         "x": [
          1,
          2,
          3,
          4,
          5,
          6,
          7,
          8,
          9,
          10,
          11,
          12,
          13,
          14,
          15
         ],
         "xaxis": "x3",
         "y": [
          -0.06360226181324566,
          -0.06869519852403212,
          -0.05070688437169343,
          0.5611169007591886,
          2.2525532394292624,
          2.35812329371962,
          2.0028932254949416,
          1.465740770806497,
          1.133075371039187,
          0.9001928686013929,
          0.7200687741093278,
          0.5792961162598224,
          0.5006996550546201,
          0.4246703339272695,
          0.3679761612568498
         ],
         "yaxis": "y3"
        },
        {
         "line": {
          "color": "rgba(0,255,0,1)",
          "width": 1.5
         },
         "mode": "lines",
         "showlegend": false,
         "type": "scatter",
         "x": [
          1,
          2,
          3,
          4,
          5,
          6,
          7,
          8,
          9,
          10,
          11,
          12,
          13,
          14,
          15
         ],
         "xaxis": "x3",
         "y": [
          -0.35271987875731864,
          -0.3767732628114871,
          -0.32895885437553496,
          -0.033083623830365144,
          0.3021626118430296,
          0.43940665049758953,
          0.4010947680455055,
          0.3646141639638607,
          0.31339276606808575,
          0.2586474441596671,
          0.20375985864482526,
          0.16407399541272125,
          0.15756664891401678,
          0.14380462380040976,
          0.1285225988976579
         ],
         "yaxis": "y3"
        },
        {
         "marker": {
          "color": "rgb(0, 0, 0)",
          "size": 8
         },
         "mode": "markers",
         "showlegend": false,
         "type": "scatter",
         "x": [
          6.4730983302411875
         ],
         "xaxis": "x2",
         "y": [
          0
         ],
         "yaxis": "y2"
        },
        {
         "marker": {
          "color": "rgb(0, 0, 0)",
          "size": 8
         },
         "mode": "markers",
         "showlegend": false,
         "type": "scatter",
         "x": [
          4.098776484631453
         ],
         "xaxis": "x3",
         "y": [
          0
         ],
         "yaxis": "y3"
        },
        {
         "line": {
          "color": "rgba(0,255,0,0.4)",
          "width": 0.5
         },
         "mode": "lines",
         "showlegend": false,
         "type": "scatter",
         "x": [
          1,
          2,
          3,
          4,
          5,
          6,
          7,
          8,
          9,
          10,
          11,
          12,
          13,
          14,
          15
         ],
         "xaxis": "x4",
         "y": [
          -3.4153406890558236,
          -3.393568014637581,
          -3.3203152718782865,
          -3.1597843662404266,
          -2.821219071544483,
          -2.4620006507232395,
          -2.0488986499480446,
          -1.792471363486962,
          -1.5531735879550204,
          -1.3988616104049838,
          -1.2357447410914775,
          -1.1202412845250058,
          -1.0200806917630065,
          -0.936834464008267,
          -0.8786050254654608
         ],
         "yaxis": "y4"
        },
        {
         "fill": "tonexty",
         "fillcolor": "rgba(0,255,0,0.1)",
         "line": {
          "color": "rgba(0,255,0,0.4)",
          "width": 0.5
         },
         "mode": "lines",
         "showlegend": false,
         "type": "scatter",
         "x": [
          1,
          2,
          3,
          4,
          5,
          6,
          7,
          8,
          9,
          10,
          11,
          12,
          13,
          14,
          15
         ],
         "xaxis": "x4",
         "y": [
          -2.822125251642006,
          -2.8030243221340347,
          -2.83254634966047,
          -2.68398597223249,
          -2.3508959879364526,
          -1.9884997517917677,
          -1.688704521560402,
          -1.5003043213172702,
          -1.2948901026121877,
          -1.1575751241661894,
          -1.0049578204840954,
          -0.9338894465480778,
          -0.8573076581533501,
          -0.7935248783561659,
          -0.7489928666536172
         ],
         "yaxis": "y4"
        },
        {
         "fill": "tonexty",
         "fillcolor": "rgba(0,255,0,0.2)",
         "line": {
          "color": "rgba(0,255,0,0.4)",
          "width": 0.5
         },
         "mode": "lines",
         "showlegend": false,
         "type": "scatter",
         "x": [
          1,
          2,
          3,
          4,
          5,
          6,
          7,
          8,
          9,
          10,
          11,
          12,
          13,
          14,
          15
         ],
         "xaxis": "x4",
         "y": [
          -0.7647422633662906,
          -0.7962995209564729,
          -0.6631992549496353,
          -0.7177318346134678,
          -0.7092777259879428,
          -0.5552316287652972,
          -0.5256754882782069,
          -0.44500801207699414,
          -0.4293256430719458,
          -0.3263883214654228,
          -0.3053369250919297,
          -0.2740066926435678,
          -0.25272298413175726,
          -0.22763043561859048,
          -0.21239520422906155
         ],
         "yaxis": "y4"
        },
        {
         "fill": "tonexty",
         "fillcolor": "rgba(0,255,0,0.1)",
         "line": {
          "color": "rgba(0,255,0,0.4)",
          "width": 0.5
         },
         "mode": "lines",
         "showlegend": false,
         "type": "scatter",
         "x": [
          1,
          2,
          3,
          4,
          5,
          6,
          7,
          8,
          9,
          10,
          11,
          12,
          13,
          14,
          15
         ],
         "xaxis": "x4",
         "y": [
          -0.1158451394864831,
          -0.13043347792029794,
          -0.11319766755375038,
          -0.1176439499397803,
          -0.10860491776814937,
          -0.11283024580243332,
          -0.06567011372220967,
          -0.06502488753107803,
          -0.0508225689902255,
          -0.03993609813954088,
          -0.047209836206797674,
          -0.02391479582468191,
          -0.035659643073865176,
          -0.015364942811567998,
          -0.020218098554025957
         ],
         "yaxis": "y4"
        },
        {
         "line": {
          "color": "rgba(0,255,0,1)",
          "width": 1.5
         },
         "mode": "lines",
         "showlegend": false,
         "type": "scatter",
         "x": [
          1,
          2,
          3,
          4,
          5,
          6,
          7,
          8,
          9,
          10,
          11,
          12,
          13,
          14,
          15
         ],
         "xaxis": "x4",
         "y": [
          -1.6920967409771723,
          -1.7568434865108538,
          -1.689464143654698,
          -1.697084351710747,
          -1.4836968952152638,
          -1.2852504102622664,
          -1.1341564578168466,
          -1.0121923932642414,
          -0.9200428463073274,
          -0.768522581339012,
          -0.6872954681285259,
          -0.6002885019230204,
          -0.6009367562342476,
          -0.5325714091668514,
          -0.5116801210444031
         ],
         "yaxis": "y4"
        },
        {
         "line": {
          "color": "rgba(0,255,0,0.4)",
          "width": 0.5
         },
         "mode": "lines",
         "showlegend": false,
         "type": "scatter",
         "x": [
          1,
          2,
          3,
          4,
          5,
          6,
          7,
          8,
          9,
          10,
          11,
          12,
          13,
          14,
          15
         ],
         "xaxis": "x5",
         "y": [
          -1.1550204156814972,
          -1.1764934539960434,
          -1.257866940067407,
          -1.1297676931863947,
          -0.5580418756309257,
          -0.23603443940093644,
          -0.022374453281615823,
          0.00361349200092969,
          0.004122805408643276,
          0.004184503970770501,
          0.003656924087573,
          0.0018194752589657552,
          0.00245809789034593,
          0.0014725003826276202,
          0.0013906211358228004
         ],
         "yaxis": "y5"
        },
        {
         "fill": "tonexty",
         "fillcolor": "rgba(0,255,0,0.1)",
         "line": {
          "color": "rgba(0,255,0,0.4)",
          "width": 0.5
         },
         "mode": "lines",
         "showlegend": false,
         "type": "scatter",
         "x": [
          1,
          2,
          3,
          4,
          5,
          6,
          7,
          8,
          9,
          10,
          11,
          12,
          13,
          14,
          15
         ],
         "xaxis": "x5",
         "y": [
          -0.45324577568064095,
          -0.4560531609925506,
          -0.4760791161427993,
          -0.4241750596202385,
          -0.26517869188668935,
          -0.07116649741053702,
          0.003986891942722975,
          0.023048282317085375,
          0.031044820806490802,
          0.024413833912744126,
          0.022603419137400927,
          0.01786488081311875,
          0.015921451946558,
          0.013189614644387676,
          0.011916610751362576
         ],
         "yaxis": "y5"
        },
        {
         "fill": "tonexty",
         "fillcolor": "rgba(0,255,0,0.2)",
         "line": {
          "color": "rgba(0,255,0,0.4)",
          "width": 0.5
         },
         "mode": "lines",
         "showlegend": false,
         "type": "scatter",
         "x": [
          1,
          2,
          3,
          4,
          5,
          6,
          7,
          8,
          9,
          10,
          11,
          12,
          13,
          14,
          15
         ],
         "xaxis": "x5",
         "y": [
          -0.11264298872089987,
          -0.11710230820790007,
          -0.09796169227690704,
          -0.09384249576831964,
          -0.056803503974694775,
          -0.00432653163675215,
          0.06885347300690052,
          0.11742127911557348,
          0.12661672407804797,
          0.10707194526726545,
          0.08577020153428287,
          0.07123387543993015,
          0.062121326939484675,
          0.05360177890894088,
          0.04585231881397873
         ],
         "yaxis": "y5"
        },
        {
         "fill": "tonexty",
         "fillcolor": "rgba(0,255,0,0.1)",
         "line": {
          "color": "rgba(0,255,0,0.4)",
          "width": 0.5
         },
         "mode": "lines",
         "showlegend": false,
         "type": "scatter",
         "x": [
          1,
          2,
          3,
          4,
          5,
          6,
          7,
          8,
          9,
          10,
          11,
          12,
          13,
          14,
          15
         ],
         "xaxis": "x5",
         "y": [
          -0.02394978700769357,
          -0.026352859443518468,
          -0.022755348528096776,
          -0.0205265411640049,
          -0.012374218268487534,
          0.03173291077992455,
          0.15333739090171997,
          0.19431161705370367,
          0.18141336052939536,
          0.15336518328490636,
          0.12355228618683084,
          0.10054716862657549,
          0.08614792629785432,
          0.07148306874073405,
          0.060579364928289095
         ],
         "yaxis": "y5"
        },
        {
         "line": {
          "color": "rgba(0,255,0,1)",
          "width": 1.5
         },
         "mode": "lines",
         "showlegend": false,
         "type": "scatter",
         "x": [
          1,
          2,
          3,
          4,
          5,
          6,
          7,
          8,
          9,
          10,
          11,
          12,
          13,
          14,
          15
         ],
         "xaxis": "x5",
         "y": [
          -0.23467250803926104,
          -0.24571653629074142,
          -0.23496184572387063,
          -0.2152327212773972,
          -0.12927476659329423,
          -0.0238103171489569,
          0.025607102804585148,
          0.06048254834715645,
          0.07004016460855485,
          0.0608859138349764,
          0.052209913502077,
          0.0405308847466727,
          0.0378874560296127,
          0.031600080510940154,
          0.029078443946901553
         ],
         "yaxis": "y5"
        },
        {
         "line": {
          "color": "rgba(0,255,0,0.4)",
          "width": 0.5
         },
         "mode": "lines",
         "showlegend": false,
         "type": "scatter",
         "x": [
          1,
          2,
          3,
          4,
          5,
          6,
          7,
          8,
          9,
          10,
          11,
          12,
          13,
          14,
          15
         ],
         "xaxis": "x6",
         "y": [
          0.006096885675526305,
          0.006585092415242635,
          0.004860740297006825,
          -0.0513903629458446,
          -0.18090053761740998,
          -0.16120506280584587,
          -0.12386003406961203,
          -0.08699787351499563,
          -0.06476386142153183,
          -0.0492847042161419,
          -0.038005486300041864,
          -0.030437915651547486,
          -0.0261121870151935,
          -0.021614141794087646,
          -0.018347959145761518
         ],
         "yaxis": "y6"
        },
        {
         "fill": "tonexty",
         "fillcolor": "rgba(0,255,0,0.1)",
         "line": {
          "color": "rgba(0,255,0,0.4)",
          "width": 0.5
         },
         "mode": "lines",
         "showlegend": false,
         "type": "scatter",
         "x": [
          1,
          2,
          3,
          4,
          5,
          6,
          7,
          8,
          9,
          10,
          11,
          12,
          13,
          14,
          15
         ],
         "xaxis": "x6",
         "y": [
          0.01948809067315995,
          0.020481215917552448,
          0.0155536979622259,
          -0.005126932189574525,
          -0.0651339511713398,
          -0.07802758010845331,
          -0.07202504703915745,
          -0.05517580917393688,
          -0.04542460487644278,
          -0.0353082170924956,
          -0.027353225606257574,
          -0.022420690588486697,
          -0.019485101742513476,
          -0.0169580575797838,
          -0.01484209771209105
         ],
         "yaxis": "y6"
        },
        {
         "fill": "tonexty",
         "fillcolor": "rgba(0,255,0,0.2)",
         "line": {
          "color": "rgba(0,255,0,0.4)",
          "width": 0.5
         },
         "mode": "lines",
         "showlegend": false,
         "type": "scatter",
         "x": [
          1,
          2,
          3,
          4,
          5,
          6,
          7,
          8,
          9,
          10,
          11,
          12,
          13,
          14,
          15
         ],
         "xaxis": "x6",
         "y": [
          0.055979275114480226,
          0.05921800347066638,
          0.05751163972096932,
          0.0144549442808288,
          -0.011400435238314275,
          -0.016835822737818674,
          -0.015561698157616025,
          -0.012694080941768576,
          -0.011348203205826225,
          -0.008275176274344674,
          -0.007240770525574325,
          -0.0056197896062375255,
          -0.00513842494233025,
          -0.004313801931030625,
          -0.003853577810322075
         ],
         "yaxis": "y6"
        },
        {
         "fill": "tonexty",
         "fillcolor": "rgba(0,255,0,0.1)",
         "line": {
          "color": "rgba(0,255,0,0.4)",
          "width": 0.5
         },
         "mode": "lines",
         "showlegend": false,
         "type": "scatter",
         "x": [
          1,
          2,
          3,
          4,
          5,
          6,
          7,
          8,
          9,
          10,
          11,
          12,
          13,
          14,
          15
         ],
         "xaxis": "x6",
         "y": [
          0.12106829795063541,
          0.13177259392105767,
          0.13728880972993096,
          0.051852101260008554,
          -0.000747704527268296,
          -0.0040596533520433145,
          -0.002505473644746046,
          -0.0023183022344427837,
          -0.001613030074529316,
          -0.0012709969231896943,
          -0.0011723760626869953,
          -0.0005777639262173052,
          -0.0007832087653321228,
          -0.0004554568550996754,
          -0.00045063829724738025
         ],
         "yaxis": "y6"
        },
        {
         "line": {
          "color": "rgba(0,255,0,1)",
          "width": 1.5
         },
         "mode": "lines",
         "showlegend": false,
         "type": "scatter",
         "x": [
          1,
          2,
          3,
          4,
          5,
          6,
          7,
          8,
          9,
          10,
          11,
          12,
          13,
          14,
          15
         ],
         "xaxis": "x6",
         "y": [
          0.033811577056546555,
          0.03611732418734,
          0.03153385539918655,
          0.0031713820621366,
          -0.0287428697193741,
          -0.04103817885855045,
          -0.036258541261309604,
          -0.03063880239710395,
          -0.02582181630237815,
          -0.020617406372800802,
          -0.01667733041773095,
          -0.01312349075998395,
          -0.012168431829772751,
          -0.0102596020914935,
          -0.0093708561775498
         ],
         "yaxis": "y6"
        },
        {
         "marker": {
          "color": "rgb(0, 0, 0)",
          "size": 8
         },
         "mode": "markers",
         "showlegend": false,
         "type": "scatter",
         "x": [
          6.4730983302411875
         ],
         "xaxis": "x5",
         "y": [
          0
         ],
         "yaxis": "y5"
        },
        {
         "marker": {
          "color": "rgb(0, 0, 0)",
          "size": 8
         },
         "mode": "markers",
         "showlegend": false,
         "type": "scatter",
         "x": [
          4.098776484631453
         ],
         "xaxis": "x6",
         "y": [
          0
         ],
         "yaxis": "y6"
        },
        {
         "line": {
          "color": "rgba(0,255,0,0.4)",
          "width": 0.5
         },
         "mode": "lines",
         "showlegend": false,
         "type": "scatter",
         "x": [
          0,
          1,
          2,
          3,
          4,
          5,
          6,
          7,
          8,
          9,
          10,
          11,
          12,
          13,
          14,
          15
         ],
         "xaxis": "x7",
         "y": [
          0,
          -0.003702384481546465,
          -0.017500233982111445,
          -0.06470306970353346,
          -0.1641990272448064,
          -0.27067150586214084,
          -0.3644783597749736,
          -0.44071509510379375,
          -0.49737360433642486,
          -0.546252957508712,
          -0.5840516639651115,
          -0.6179226997279039,
          -0.6464345082528467,
          -0.6709388221849512,
          -0.6924596318106038,
          -0.7111595660273776
         ],
         "yaxis": "y7"
        },
        {
         "fill": "tonexty",
         "fillcolor": "rgba(0,255,0,0.1)",
         "line": {
          "color": "rgba(0,255,0,0.4)",
          "width": 0.5
         },
         "mode": "lines",
         "showlegend": false,
         "type": "scatter",
         "x": [
          0,
          1,
          2,
          3,
          4,
          5,
          6,
          7,
          8,
          9,
          10,
          11,
          12,
          13,
          14,
          15
         ],
         "xaxis": "x7",
         "y": [
          0,
          -0.0027616458793296,
          -0.01234860862513875,
          -0.04541463767123158,
          -0.12572272168856216,
          -0.2307056569938445,
          -0.32560554639564065,
          -0.40344612289130494,
          -0.4674298034320621,
          -0.5205483419830859,
          -0.5635727788087515,
          -0.5997519964418984,
          -0.6297565619791176,
          -0.6560447228081936,
          -0.6785000172546125,
          -0.698444221313999
         ],
         "yaxis": "y7"
        },
        {
         "fill": "tonexty",
         "fillcolor": "rgba(0,255,0,0.2)",
         "line": {
          "color": "rgba(0,255,0,0.4)",
          "width": 0.5
         },
         "mode": "lines",
         "showlegend": false,
         "type": "scatter",
         "x": [
          0,
          1,
          2,
          3,
          4,
          5,
          6,
          7,
          8,
          9,
          10,
          11,
          12,
          13,
          14,
          15
         ],
         "xaxis": "x7",
         "y": [
          0,
          -0.0018098061861581251,
          -0.007279877179667425,
          -0.0251088210325205,
          -0.0738889144997296,
          -0.16046270416798208,
          -0.2600623591890415,
          -0.34600327105347445,
          -0.41745600981287845,
          -0.4754129407618338,
          -0.5250467966266312,
          -0.5648241555776351,
          -0.5986590280085032,
          -0.6276195239270482,
          -0.6534069984714602,
          -0.6765905285084735
         ],
         "yaxis": "y7"
        },
        {
         "fill": "tonexty",
         "fillcolor": "rgba(0,255,0,0.1)",
         "line": {
          "color": "rgba(0,255,0,0.4)",
          "width": 0.5
         },
         "mode": "lines",
         "showlegend": false,
         "type": "scatter",
         "x": [
          0,
          1,
          2,
          3,
          4,
          5,
          6,
          7,
          8,
          9,
          10,
          11,
          12,
          13,
          14,
          15
         ],
         "xaxis": "x7",
         "y": [
          0,
          -0.0010833973268553254,
          -0.0046090106579511755,
          -0.014579135794748496,
          -0.045137948334774504,
          -0.11425058082195631,
          -0.20501491055352447,
          -0.29732060629025475,
          -0.3754686207976946,
          -0.43811844652846677,
          -0.4932562899566916,
          -0.5360691705121954,
          -0.5731804095527081,
          -0.605989447217226,
          -0.6348632720616396,
          -0.6567229528979714
         ],
         "yaxis": "y7"
        },
        {
         "line": {
          "color": "rgba(0,255,0,1)",
          "width": 1.5
         },
         "mode": "lines",
         "name": "",
         "showlegend": false,
         "type": "scatter",
         "x": [
          0,
          1,
          2,
          3,
          4,
          5,
          6,
          7,
          8,
          9,
          10,
          11,
          12,
          13,
          14,
          15
         ],
         "xaxis": "x7",
         "y": [
          0,
          -0.00226547632811415,
          -0.0096614682397149,
          -0.0341578696857963,
          -0.09867439359310651,
          -0.19820460806949458,
          -0.2930767606518015,
          -0.37746683393776415,
          -0.4437923630463513,
          -0.4996640275401108,
          -0.5454921210015167,
          -0.5841717228646657,
          -0.615503685938386,
          -0.6435957223409315,
          -0.6673877188237378,
          -0.6883588274774687
         ],
         "yaxis": "y7"
        },
        {
         "line": {
          "color": "rgba(0,255,0,0.4)",
          "width": 0.5
         },
         "mode": "lines",
         "showlegend": false,
         "type": "scatter",
         "x": [
          0,
          1,
          2,
          3,
          4,
          5,
          6,
          7,
          8,
          9,
          10,
          11,
          12,
          13,
          14,
          15
         ],
         "xaxis": "x8",
         "y": [
          0,
          -0.00223082196092773,
          -0.013244028990862019,
          -0.054760937155977886,
          -0.14227931342356442,
          -0.227077500173725,
          -0.2841987820520177,
          -0.310215990623768,
          -0.3163682333404798,
          -0.31703016754097824,
          -0.31706854079434743,
          -0.31463477931755257,
          -0.30715840098107955,
          -0.2966470568004205,
          -0.28431070065130803,
          -0.27370964534019926
         ],
         "yaxis": "y8"
        },
        {
         "fill": "tonexty",
         "fillcolor": "rgba(0,255,0,0.1)",
         "line": {
          "color": "rgba(0,255,0,0.4)",
          "width": 0.5
         },
         "mode": "lines",
         "showlegend": false,
         "type": "scatter",
         "x": [
          0,
          1,
          2,
          3,
          4,
          5,
          6,
          7,
          8,
          9,
          10,
          11,
          12,
          13,
          14,
          15
         ],
         "xaxis": "x8",
         "y": [
          0,
          -0.001585871014621625,
          -0.008947197603981126,
          -0.03759890508070775,
          -0.1089679982317675,
          -0.1970778348864383,
          -0.26352204219429426,
          -0.30056925308456184,
          -0.31474432846981076,
          -0.31648698597562397,
          -0.31535685148509207,
          -0.3085930672327016,
          -0.2989920641440191,
          -0.287435611973339,
          -0.27502801616769357,
          -0.26233102149974663
         ],
         "yaxis": "y8"
        },
        {
         "fill": "tonexty",
         "fillcolor": "rgba(0,255,0,0.2)",
         "line": {
          "color": "rgba(0,255,0,0.4)",
          "width": 0.5
         },
         "mode": "lines",
         "showlegend": false,
         "type": "scatter",
         "x": [
          0,
          1,
          2,
          3,
          4,
          5,
          6,
          7,
          8,
          9,
          10,
          11,
          12,
          13,
          14,
          15
         ],
         "xaxis": "x8",
         "y": [
          0,
          -0.000972396014098025,
          -0.00488968453318155,
          -0.0197613505153532,
          -0.06297138551089147,
          -0.1391580682124822,
          -0.21942230258550022,
          -0.2749503643397543,
          -0.3051412622543136,
          -0.31357568192859564,
          -0.3081954232449793,
          -0.2978623712319306,
          -0.2857737213749356,
          -0.27306272421966016,
          -0.2604491414766812,
          -0.24841171727059144
         ],
         "yaxis": "y8"
        },
        {
         "fill": "tonexty",
         "fillcolor": "rgba(0,255,0,0.1)",
         "line": {
          "color": "rgba(0,255,0,0.4)",
          "width": 0.5
         },
         "mode": "lines",
         "showlegend": false,
         "type": "scatter",
         "x": [
          0,
          1,
          2,
          3,
          4,
          5,
          6,
          7,
          8,
          9,
          10,
          11,
          12,
          13,
          14,
          15
         ],
         "xaxis": "x8",
         "y": [
          0,
          -0.0005418891660843001,
          -0.00287894472758322,
          -0.01079291644900731,
          -0.03735454694695854,
          -0.09886611087008927,
          -0.17655017788026836,
          -0.24564694599826362,
          -0.28967808423687574,
          -0.30817758948327234,
          -0.3012093135297165,
          -0.28913918733660665,
          -0.2770364825517716,
          -0.26374511109354054,
          -0.25062100179160873,
          -0.23897085325594605
         ],
         "yaxis": "y8"
        },
        {
         "line": {
          "color": "rgba(0,255,0,1)",
          "width": 1.5
         },
         "mode": "lines",
         "name": "",
         "showlegend": false,
         "type": "scatter",
         "x": [
          0,
          1,
          2,
          3,
          4,
          5,
          6,
          7,
          8,
          9,
          10,
          11,
          12,
          13,
          14,
          15
         ],
         "xaxis": "x8",
         "y": [
          0,
          -0.0012602635025727,
          -0.00676728541026785,
          -0.027657129729784652,
          -0.08505592345673504,
          -0.1709037401058294,
          -0.24278286323216916,
          -0.2903510310258466,
          -0.3113805000883073,
          -0.3156319749840544,
          -0.3123085408893846,
          -0.3030517281520878,
          -0.2922588599464573,
          -0.2796899681711783,
          -0.2672476381254786,
          -0.25509654016222616
         ],
         "yaxis": "y8"
        },
        {
         "line": {
          "color": "rgba(0,255,0,0.4)",
          "width": 0.5
         },
         "mode": "lines",
         "showlegend": false,
         "type": "scatter",
         "x": [
          0,
          1,
          2,
          3,
          4,
          5,
          6,
          7,
          8,
          9,
          10,
          11,
          12,
          13,
          14,
          15
         ],
         "xaxis": "x9",
         "y": [
          0,
          0.000441514815656085,
          0.0034651793531295804,
          0.01858388659257532,
          0.06901999491691611,
          0.12447761365083773,
          0.13035315350558196,
          0.11906758219893045,
          0.10901895355377188,
          0.099711279242888,
          0.09222696645866109,
          0.08517753033119779,
          0.07926274043804028,
          0.07415049217057991,
          0.06944398413253725,
          0.0653692025850546
         ],
         "yaxis": "y9"
        },
        {
         "fill": "tonexty",
         "fillcolor": "rgba(0,255,0,0.1)",
         "line": {
          "color": "rgba(0,255,0,0.4)",
          "width": 0.5
         },
         "mode": "lines",
         "showlegend": false,
         "type": "scatter",
         "x": [
          0,
          1,
          2,
          3,
          4,
          5,
          6,
          7,
          8,
          9,
          10,
          11,
          12,
          13,
          14,
          15
         ],
         "xaxis": "x9",
         "y": [
          0,
          0.00088828704521585,
          0.0068567739965672,
          0.03738015711980945,
          0.10048215784310925,
          0.13654488168473541,
          0.13486203183869228,
          0.1247422934256184,
          0.1142919958494623,
          0.10454095299215971,
          0.09615881281175868,
          0.08895972523313556,
          0.08265513662066502,
          0.07712189445535472,
          0.07237036453525142,
          0.06809003024313835
         ],
         "yaxis": "y9"
        },
        {
         "fill": "tonexty",
         "fillcolor": "rgba(0,255,0,0.2)",
         "line": {
          "color": "rgba(0,255,0,0.4)",
          "width": 0.5
         },
         "mode": "lines",
         "showlegend": false,
         "type": "scatter",
         "x": [
          0,
          1,
          2,
          3,
          4,
          5,
          6,
          7,
          8,
          9,
          10,
          11,
          12,
          13,
          14,
          15
         ],
         "xaxis": "x9",
         "y": [
          0,
          0.001630662301181075,
          0.014804402539373075,
          0.06961076330466907,
          0.12895576402123615,
          0.14078957768071093,
          0.13969668436679597,
          0.13241833906231149,
          0.12240762092643585,
          0.11284150405641782,
          0.1035217952083539,
          0.09590781045906795,
          0.08891486672395064,
          0.08309753790488528,
          0.07756423909781024,
          0.0726890197462666
         ],
         "yaxis": "y9"
        },
        {
         "fill": "tonexty",
         "fillcolor": "rgba(0,255,0,0.1)",
         "line": {
          "color": "rgba(0,255,0,0.4)",
          "width": 0.5
         },
         "mode": "lines",
         "showlegend": false,
         "type": "scatter",
         "x": [
          0,
          1,
          2,
          3,
          4,
          5,
          6,
          7,
          8,
          9,
          10,
          11,
          12,
          13,
          14,
          15
         ],
         "xaxis": "x9",
         "y": [
          0,
          0.00252146333212575,
          0.023932428666093596,
          0.09249116196179813,
          0.13778766084951113,
          0.14104501190097374,
          0.14072442032197677,
          0.13735566340274086,
          0.1285274532770904,
          0.1190488606728246,
          0.10973048894845648,
          0.10163031693131551,
          0.09403842902780923,
          0.08737233466108044,
          0.0813783000359743,
          0.07678726389756917
         ],
         "yaxis": "y9"
        },
        {
         "line": {
          "color": "rgba(0,255,0,1)",
          "width": 1.5
         },
         "mode": "lines",
         "name": "",
         "showlegend": false,
         "type": "scatter",
         "x": [
          0,
          1,
          2,
          3,
          4,
          5,
          6,
          7,
          8,
          9,
          10,
          11,
          12,
          13,
          14,
          15
         ],
         "xaxis": "x9",
         "y": [
          0,
          0.0012226133095447,
          0.01040231271944905,
          0.05274143667020815,
          0.11741265925703276,
          0.13984676134069907,
          0.13773895736906505,
          0.1284589652741959,
          0.11832988732411225,
          0.1084540500260594,
          0.09968979479283835,
          0.0919826203361839,
          0.08562156050976875,
          0.07973072198622115,
          0.0747312252427379,
          0.07019645623927684
         ],
         "yaxis": "y9"
        }
       ],
       "layout": {
        "annotations": [
         {
          "font": {
           "color": "rgb(110,110,110)",
           "size": 14
          },
          "showarrow": false,
          "text": "0 sprays",
          "x": 0.12,
          "xanchor": "center",
          "xref": "paper",
          "y": 1.03,
          "yanchor": "middle",
          "yref": "paper"
         },
         {
          "font": {
           "color": "rgb(110,110,110)",
           "size": 14
          },
          "showarrow": false,
          "text": "1 spray",
          "x": 0.5,
          "xanchor": "center",
          "xref": "paper",
          "y": 1.03,
          "yanchor": "middle",
          "yref": "paper"
         },
         {
          "font": {
           "color": "rgb(110,110,110)",
           "size": 14
          },
          "showarrow": false,
          "text": "3 sprays",
          "x": 0.88,
          "xanchor": "center",
          "xref": "paper",
          "y": 1.03,
          "yanchor": "middle",
          "yref": "paper"
         },
         {
          "font": {
           "color": "rgb(110,110,110)",
           "size": 14
          },
          "showarrow": false,
          "text": "5",
          "x": 0.6,
          "xanchor": "center",
          "xref": "paper",
          "y": 1.092,
          "yanchor": "middle",
          "yref": "paper"
         },
         {
          "font": {
           "color": "rgb(110,110,110)",
           "size": 14
          },
          "showarrow": false,
          "text": "25",
          "x": 0.7,
          "xanchor": "center",
          "xref": "paper",
          "y": 1.092,
          "yanchor": "middle",
          "yref": "paper"
         },
         {
          "font": {
           "color": "rgb(110,110,110)",
           "size": 14
          },
          "showarrow": false,
          "text": "50",
          "x": 0.8,
          "xanchor": "center",
          "xref": "paper",
          "y": 1.092,
          "yanchor": "middle",
          "yref": "paper"
         },
         {
          "font": {
           "color": "rgb(110,110,110)",
           "size": 14
          },
          "showarrow": false,
          "text": "75",
          "x": 0.9,
          "xanchor": "center",
          "xref": "paper",
          "y": 1.092,
          "yanchor": "middle",
          "yref": "paper"
         },
         {
          "font": {
           "color": "rgb(110,110,110)",
           "size": 14
          },
          "showarrow": false,
          "text": "95",
          "x": 1,
          "xanchor": "center",
          "xref": "paper",
          "y": 1.092,
          "yanchor": "middle",
          "yref": "paper"
         },
         {
          "font": {
           "color": "rgb(110,110,110)",
           "size": 20
          },
          "showarrow": false,
          "text": "A",
          "x": -0.02,
          "xanchor": "center",
          "xref": "paper",
          "y": 1.06,
          "yanchor": "top",
          "yref": "paper"
         },
         {
          "font": {
           "color": "rgb(110,110,110)",
           "size": 20
          },
          "showarrow": false,
          "text": "D",
          "x": 0.35,
          "xanchor": "center",
          "xref": "paper",
          "y": 1.06,
          "yanchor": "top",
          "yref": "paper"
         },
         {
          "font": {
           "color": "rgb(110,110,110)",
           "size": 20
          },
          "showarrow": false,
          "text": "G",
          "x": 0.73,
          "xanchor": "center",
          "xref": "paper",
          "y": 1.06,
          "yanchor": "top",
          "yref": "paper"
         },
         {
          "font": {
           "color": "rgb(110,110,110)",
           "size": 20
          },
          "showarrow": false,
          "text": "B",
          "x": -0.02,
          "xanchor": "center",
          "xref": "paper",
          "y": 0.69,
          "yanchor": "top",
          "yref": "paper"
         },
         {
          "font": {
           "color": "rgb(110,110,110)",
           "size": 20
          },
          "showarrow": false,
          "text": "E",
          "x": 0.35,
          "xanchor": "center",
          "xref": "paper",
          "y": 0.69,
          "yanchor": "top",
          "yref": "paper"
         },
         {
          "font": {
           "color": "rgb(110,110,110)",
           "size": 20
          },
          "showarrow": false,
          "text": "H",
          "x": 0.73,
          "xanchor": "center",
          "xref": "paper",
          "y": 0.69,
          "yanchor": "top",
          "yref": "paper"
         },
         {
          "font": {
           "color": "rgb(110,110,110)",
           "size": 20
          },
          "showarrow": false,
          "text": "C",
          "x": -0.02,
          "xanchor": "center",
          "xref": "paper",
          "y": 0.32,
          "yanchor": "top",
          "yref": "paper"
         },
         {
          "font": {
           "color": "rgb(110,110,110)",
           "size": 20
          },
          "showarrow": false,
          "text": "F",
          "x": 0.35,
          "xanchor": "center",
          "xref": "paper",
          "y": 0.32,
          "yanchor": "top",
          "yref": "paper"
         },
         {
          "font": {
           "color": "rgb(110,110,110)",
           "size": 20
          },
          "showarrow": false,
          "text": "I",
          "x": 0.73,
          "xanchor": "center",
          "xref": "paper",
          "y": 0.32,
          "yanchor": "top",
          "yref": "paper"
         }
        ],
        "font": {
         "size": 14
        },
        "height": 750,
        "shapes": [
         {
          "fillcolor": "rgb(0,255,0)",
          "line": {
           "color": "rgb(0,255,0)",
           "width": 1
          },
          "opacity": 0.1,
          "type": "rect",
          "x0": 0.6,
          "x1": 0.7,
          "xref": "paper",
          "y0": 1.15,
          "y1": 1.11,
          "yref": "paper"
         },
         {
          "fillcolor": "rgb(0,255,0)",
          "line": {
           "color": "rgb(0,255,0)",
           "width": 1
          },
          "opacity": 0.2,
          "type": "rect",
          "x0": 0.7,
          "x1": 0.8,
          "xref": "paper",
          "y0": 1.15,
          "y1": 1.11,
          "yref": "paper"
         },
         {
          "line": {
           "color": "rgb(0,255,0)",
           "width": 2.5
          },
          "opacity": 1,
          "type": "line",
          "x0": 0.8,
          "x1": 0.8,
          "xref": "paper",
          "y0": 1.15,
          "y1": 1.11,
          "yref": "paper"
         },
         {
          "fillcolor": "rgb(0,255,0)",
          "line": {
           "color": "rgb(0,255,0)",
           "width": 1
          },
          "opacity": 0.2,
          "type": "rect",
          "x0": 0.8,
          "x1": 0.9,
          "xref": "paper",
          "y0": 1.15,
          "y1": 1.11,
          "yref": "paper"
         },
         {
          "fillcolor": "rgb(0,255,0)",
          "line": {
           "color": "rgb(0,255,0)",
           "width": 1
          },
          "opacity": 0.1,
          "type": "rect",
          "x0": 0.9,
          "x1": 1,
          "xref": "paper",
          "y0": 1.15,
          "y1": 1.11,
          "yref": "paper"
         },
         {
          "line": {
           "color": "rgb(110,110,110)",
           "width": 1.5
          },
          "opacity": 1,
          "type": "line",
          "x0": 0.6,
          "x1": 0.6,
          "xref": "paper",
          "y0": 1.11,
          "y1": 1.1055000000000001,
          "yref": "paper"
         },
         {
          "line": {
           "color": "rgb(110,110,110)",
           "width": 1.5
          },
          "opacity": 1,
          "type": "line",
          "x0": 0.7,
          "x1": 0.7,
          "xref": "paper",
          "y0": 1.11,
          "y1": 1.1055000000000001,
          "yref": "paper"
         },
         {
          "line": {
           "color": "rgb(110,110,110)",
           "width": 1.5
          },
          "opacity": 1,
          "type": "line",
          "x0": 0.8,
          "x1": 0.8,
          "xref": "paper",
          "y0": 1.11,
          "y1": 1.1055000000000001,
          "yref": "paper"
         },
         {
          "line": {
           "color": "rgb(110,110,110)",
           "width": 1.5
          },
          "opacity": 1,
          "type": "line",
          "x0": 0.9,
          "x1": 0.9,
          "xref": "paper",
          "y0": 1.11,
          "y1": 1.1055000000000001,
          "yref": "paper"
         },
         {
          "line": {
           "color": "rgb(110,110,110)",
           "width": 1.5
          },
          "opacity": 1,
          "type": "line",
          "x0": 1,
          "x1": 1,
          "xref": "paper",
          "y0": 1.11,
          "y1": 1.1055000000000001,
          "yref": "paper"
         }
        ],
        "showlegend": true,
        "template": {
         "data": {
          "bar": [
           {
            "error_x": {
             "color": "rgb(36,36,36)"
            },
            "error_y": {
             "color": "rgb(36,36,36)"
            },
            "marker": {
             "line": {
              "color": "white",
              "width": 0.5
             },
             "pattern": {
              "fillmode": "overlay",
              "size": 10,
              "solidity": 0.2
             }
            },
            "type": "bar"
           }
          ],
          "barpolar": [
           {
            "marker": {
             "line": {
              "color": "white",
              "width": 0.5
             },
             "pattern": {
              "fillmode": "overlay",
              "size": 10,
              "solidity": 0.2
             }
            },
            "type": "barpolar"
           }
          ],
          "carpet": [
           {
            "aaxis": {
             "endlinecolor": "rgb(36,36,36)",
             "gridcolor": "white",
             "linecolor": "white",
             "minorgridcolor": "white",
             "startlinecolor": "rgb(36,36,36)"
            },
            "baxis": {
             "endlinecolor": "rgb(36,36,36)",
             "gridcolor": "white",
             "linecolor": "white",
             "minorgridcolor": "white",
             "startlinecolor": "rgb(36,36,36)"
            },
            "type": "carpet"
           }
          ],
          "choropleth": [
           {
            "colorbar": {
             "outlinewidth": 1,
             "tickcolor": "rgb(36,36,36)",
             "ticks": "outside"
            },
            "type": "choropleth"
           }
          ],
          "contour": [
           {
            "colorbar": {
             "outlinewidth": 1,
             "tickcolor": "rgb(36,36,36)",
             "ticks": "outside"
            },
            "colorscale": [
             [
              0,
              "#440154"
             ],
             [
              0.1111111111111111,
              "#482878"
             ],
             [
              0.2222222222222222,
              "#3e4989"
             ],
             [
              0.3333333333333333,
              "#31688e"
             ],
             [
              0.4444444444444444,
              "#26828e"
             ],
             [
              0.5555555555555556,
              "#1f9e89"
             ],
             [
              0.6666666666666666,
              "#35b779"
             ],
             [
              0.7777777777777778,
              "#6ece58"
             ],
             [
              0.8888888888888888,
              "#b5de2b"
             ],
             [
              1,
              "#fde725"
             ]
            ],
            "type": "contour"
           }
          ],
          "contourcarpet": [
           {
            "colorbar": {
             "outlinewidth": 1,
             "tickcolor": "rgb(36,36,36)",
             "ticks": "outside"
            },
            "type": "contourcarpet"
           }
          ],
          "heatmap": [
           {
            "colorbar": {
             "outlinewidth": 1,
             "tickcolor": "rgb(36,36,36)",
             "ticks": "outside"
            },
            "colorscale": [
             [
              0,
              "#440154"
             ],
             [
              0.1111111111111111,
              "#482878"
             ],
             [
              0.2222222222222222,
              "#3e4989"
             ],
             [
              0.3333333333333333,
              "#31688e"
             ],
             [
              0.4444444444444444,
              "#26828e"
             ],
             [
              0.5555555555555556,
              "#1f9e89"
             ],
             [
              0.6666666666666666,
              "#35b779"
             ],
             [
              0.7777777777777778,
              "#6ece58"
             ],
             [
              0.8888888888888888,
              "#b5de2b"
             ],
             [
              1,
              "#fde725"
             ]
            ],
            "type": "heatmap"
           }
          ],
          "heatmapgl": [
           {
            "colorbar": {
             "outlinewidth": 1,
             "tickcolor": "rgb(36,36,36)",
             "ticks": "outside"
            },
            "colorscale": [
             [
              0,
              "#440154"
             ],
             [
              0.1111111111111111,
              "#482878"
             ],
             [
              0.2222222222222222,
              "#3e4989"
             ],
             [
              0.3333333333333333,
              "#31688e"
             ],
             [
              0.4444444444444444,
              "#26828e"
             ],
             [
              0.5555555555555556,
              "#1f9e89"
             ],
             [
              0.6666666666666666,
              "#35b779"
             ],
             [
              0.7777777777777778,
              "#6ece58"
             ],
             [
              0.8888888888888888,
              "#b5de2b"
             ],
             [
              1,
              "#fde725"
             ]
            ],
            "type": "heatmapgl"
           }
          ],
          "histogram": [
           {
            "marker": {
             "line": {
              "color": "white",
              "width": 0.6
             },
             "pattern": {
              "fillmode": "overlay",
              "size": 10,
              "solidity": 0.2
             }
            },
            "type": "histogram"
           }
          ],
          "histogram2d": [
           {
            "colorbar": {
             "outlinewidth": 1,
             "tickcolor": "rgb(36,36,36)",
             "ticks": "outside"
            },
            "colorscale": [
             [
              0,
              "#440154"
             ],
             [
              0.1111111111111111,
              "#482878"
             ],
             [
              0.2222222222222222,
              "#3e4989"
             ],
             [
              0.3333333333333333,
              "#31688e"
             ],
             [
              0.4444444444444444,
              "#26828e"
             ],
             [
              0.5555555555555556,
              "#1f9e89"
             ],
             [
              0.6666666666666666,
              "#35b779"
             ],
             [
              0.7777777777777778,
              "#6ece58"
             ],
             [
              0.8888888888888888,
              "#b5de2b"
             ],
             [
              1,
              "#fde725"
             ]
            ],
            "type": "histogram2d"
           }
          ],
          "histogram2dcontour": [
           {
            "colorbar": {
             "outlinewidth": 1,
             "tickcolor": "rgb(36,36,36)",
             "ticks": "outside"
            },
            "colorscale": [
             [
              0,
              "#440154"
             ],
             [
              0.1111111111111111,
              "#482878"
             ],
             [
              0.2222222222222222,
              "#3e4989"
             ],
             [
              0.3333333333333333,
              "#31688e"
             ],
             [
              0.4444444444444444,
              "#26828e"
             ],
             [
              0.5555555555555556,
              "#1f9e89"
             ],
             [
              0.6666666666666666,
              "#35b779"
             ],
             [
              0.7777777777777778,
              "#6ece58"
             ],
             [
              0.8888888888888888,
              "#b5de2b"
             ],
             [
              1,
              "#fde725"
             ]
            ],
            "type": "histogram2dcontour"
           }
          ],
          "mesh3d": [
           {
            "colorbar": {
             "outlinewidth": 1,
             "tickcolor": "rgb(36,36,36)",
             "ticks": "outside"
            },
            "type": "mesh3d"
           }
          ],
          "parcoords": [
           {
            "line": {
             "colorbar": {
              "outlinewidth": 1,
              "tickcolor": "rgb(36,36,36)",
              "ticks": "outside"
             }
            },
            "type": "parcoords"
           }
          ],
          "pie": [
           {
            "automargin": true,
            "type": "pie"
           }
          ],
          "scatter": [
           {
            "marker": {
             "colorbar": {
              "outlinewidth": 1,
              "tickcolor": "rgb(36,36,36)",
              "ticks": "outside"
             }
            },
            "type": "scatter"
           }
          ],
          "scatter3d": [
           {
            "line": {
             "colorbar": {
              "outlinewidth": 1,
              "tickcolor": "rgb(36,36,36)",
              "ticks": "outside"
             }
            },
            "marker": {
             "colorbar": {
              "outlinewidth": 1,
              "tickcolor": "rgb(36,36,36)",
              "ticks": "outside"
             }
            },
            "type": "scatter3d"
           }
          ],
          "scattercarpet": [
           {
            "marker": {
             "colorbar": {
              "outlinewidth": 1,
              "tickcolor": "rgb(36,36,36)",
              "ticks": "outside"
             }
            },
            "type": "scattercarpet"
           }
          ],
          "scattergeo": [
           {
            "marker": {
             "colorbar": {
              "outlinewidth": 1,
              "tickcolor": "rgb(36,36,36)",
              "ticks": "outside"
             }
            },
            "type": "scattergeo"
           }
          ],
          "scattergl": [
           {
            "marker": {
             "colorbar": {
              "outlinewidth": 1,
              "tickcolor": "rgb(36,36,36)",
              "ticks": "outside"
             }
            },
            "type": "scattergl"
           }
          ],
          "scattermapbox": [
           {
            "marker": {
             "colorbar": {
              "outlinewidth": 1,
              "tickcolor": "rgb(36,36,36)",
              "ticks": "outside"
             }
            },
            "type": "scattermapbox"
           }
          ],
          "scatterpolar": [
           {
            "marker": {
             "colorbar": {
              "outlinewidth": 1,
              "tickcolor": "rgb(36,36,36)",
              "ticks": "outside"
             }
            },
            "type": "scatterpolar"
           }
          ],
          "scatterpolargl": [
           {
            "marker": {
             "colorbar": {
              "outlinewidth": 1,
              "tickcolor": "rgb(36,36,36)",
              "ticks": "outside"
             }
            },
            "type": "scatterpolargl"
           }
          ],
          "scatterternary": [
           {
            "marker": {
             "colorbar": {
              "outlinewidth": 1,
              "tickcolor": "rgb(36,36,36)",
              "ticks": "outside"
             }
            },
            "type": "scatterternary"
           }
          ],
          "surface": [
           {
            "colorbar": {
             "outlinewidth": 1,
             "tickcolor": "rgb(36,36,36)",
             "ticks": "outside"
            },
            "colorscale": [
             [
              0,
              "#440154"
             ],
             [
              0.1111111111111111,
              "#482878"
             ],
             [
              0.2222222222222222,
              "#3e4989"
             ],
             [
              0.3333333333333333,
              "#31688e"
             ],
             [
              0.4444444444444444,
              "#26828e"
             ],
             [
              0.5555555555555556,
              "#1f9e89"
             ],
             [
              0.6666666666666666,
              "#35b779"
             ],
             [
              0.7777777777777778,
              "#6ece58"
             ],
             [
              0.8888888888888888,
              "#b5de2b"
             ],
             [
              1,
              "#fde725"
             ]
            ],
            "type": "surface"
           }
          ],
          "table": [
           {
            "cells": {
             "fill": {
              "color": "rgb(237,237,237)"
             },
             "line": {
              "color": "white"
             }
            },
            "header": {
             "fill": {
              "color": "rgb(217,217,217)"
             },
             "line": {
              "color": "white"
             }
            },
            "type": "table"
           }
          ]
         },
         "layout": {
          "annotationdefaults": {
           "arrowcolor": "#2a3f5f",
           "arrowhead": 0,
           "arrowwidth": 1
          },
          "autotypenumbers": "strict",
          "coloraxis": {
           "colorbar": {
            "outlinewidth": 1,
            "tickcolor": "rgb(36,36,36)",
            "ticks": "outside"
           }
          },
          "colorscale": {
           "diverging": [
            [
             0,
             "rgb(103,0,31)"
            ],
            [
             0.1,
             "rgb(178,24,43)"
            ],
            [
             0.2,
             "rgb(214,96,77)"
            ],
            [
             0.3,
             "rgb(244,165,130)"
            ],
            [
             0.4,
             "rgb(253,219,199)"
            ],
            [
             0.5,
             "rgb(247,247,247)"
            ],
            [
             0.6,
             "rgb(209,229,240)"
            ],
            [
             0.7,
             "rgb(146,197,222)"
            ],
            [
             0.8,
             "rgb(67,147,195)"
            ],
            [
             0.9,
             "rgb(33,102,172)"
            ],
            [
             1,
             "rgb(5,48,97)"
            ]
           ],
           "sequential": [
            [
             0,
             "#440154"
            ],
            [
             0.1111111111111111,
             "#482878"
            ],
            [
             0.2222222222222222,
             "#3e4989"
            ],
            [
             0.3333333333333333,
             "#31688e"
            ],
            [
             0.4444444444444444,
             "#26828e"
            ],
            [
             0.5555555555555556,
             "#1f9e89"
            ],
            [
             0.6666666666666666,
             "#35b779"
            ],
            [
             0.7777777777777778,
             "#6ece58"
            ],
            [
             0.8888888888888888,
             "#b5de2b"
            ],
            [
             1,
             "#fde725"
            ]
           ],
           "sequentialminus": [
            [
             0,
             "#440154"
            ],
            [
             0.1111111111111111,
             "#482878"
            ],
            [
             0.2222222222222222,
             "#3e4989"
            ],
            [
             0.3333333333333333,
             "#31688e"
            ],
            [
             0.4444444444444444,
             "#26828e"
            ],
            [
             0.5555555555555556,
             "#1f9e89"
            ],
            [
             0.6666666666666666,
             "#35b779"
            ],
            [
             0.7777777777777778,
             "#6ece58"
            ],
            [
             0.8888888888888888,
             "#b5de2b"
            ],
            [
             1,
             "#fde725"
            ]
           ]
          },
          "colorway": [
           "#1F77B4",
           "#FF7F0E",
           "#2CA02C",
           "#D62728",
           "#9467BD",
           "#8C564B",
           "#E377C2",
           "#7F7F7F",
           "#BCBD22",
           "#17BECF"
          ],
          "font": {
           "color": "rgb(36,36,36)"
          },
          "geo": {
           "bgcolor": "white",
           "lakecolor": "white",
           "landcolor": "white",
           "showlakes": true,
           "showland": true,
           "subunitcolor": "white"
          },
          "hoverlabel": {
           "align": "left"
          },
          "hovermode": "closest",
          "mapbox": {
           "style": "light"
          },
          "paper_bgcolor": "white",
          "plot_bgcolor": "white",
          "polar": {
           "angularaxis": {
            "gridcolor": "rgb(232,232,232)",
            "linecolor": "rgb(36,36,36)",
            "showgrid": false,
            "showline": true,
            "ticks": "outside"
           },
           "bgcolor": "white",
           "radialaxis": {
            "gridcolor": "rgb(232,232,232)",
            "linecolor": "rgb(36,36,36)",
            "showgrid": false,
            "showline": true,
            "ticks": "outside"
           }
          },
          "scene": {
           "xaxis": {
            "backgroundcolor": "white",
            "gridcolor": "rgb(232,232,232)",
            "gridwidth": 2,
            "linecolor": "rgb(36,36,36)",
            "showbackground": true,
            "showgrid": false,
            "showline": true,
            "ticks": "outside",
            "zeroline": false,
            "zerolinecolor": "rgb(36,36,36)"
           },
           "yaxis": {
            "backgroundcolor": "white",
            "gridcolor": "rgb(232,232,232)",
            "gridwidth": 2,
            "linecolor": "rgb(36,36,36)",
            "showbackground": true,
            "showgrid": false,
            "showline": true,
            "ticks": "outside",
            "zeroline": false,
            "zerolinecolor": "rgb(36,36,36)"
           },
           "zaxis": {
            "backgroundcolor": "white",
            "gridcolor": "rgb(232,232,232)",
            "gridwidth": 2,
            "linecolor": "rgb(36,36,36)",
            "showbackground": true,
            "showgrid": false,
            "showline": true,
            "ticks": "outside",
            "zeroline": false,
            "zerolinecolor": "rgb(36,36,36)"
           }
          },
          "shapedefaults": {
           "fillcolor": "black",
           "line": {
            "color": "#2a3f5f",
            "width": 0
           },
           "opacity": 0.3
          },
          "ternary": {
           "aaxis": {
            "gridcolor": "rgb(232,232,232)",
            "linecolor": "rgb(36,36,36)",
            "showgrid": false,
            "showline": true,
            "ticks": "outside"
           },
           "baxis": {
            "gridcolor": "rgb(232,232,232)",
            "linecolor": "rgb(36,36,36)",
            "showgrid": false,
            "showline": true,
            "ticks": "outside"
           },
           "bgcolor": "white",
           "caxis": {
            "gridcolor": "rgb(232,232,232)",
            "linecolor": "rgb(36,36,36)",
            "showgrid": false,
            "showline": true,
            "ticks": "outside"
           }
          },
          "title": {
           "x": 0.05
          },
          "xaxis": {
           "automargin": true,
           "gridcolor": "rgb(232,232,232)",
           "linecolor": "rgb(36,36,36)",
           "showgrid": false,
           "showline": true,
           "ticks": "outside",
           "title": {
            "standoff": 15
           },
           "zeroline": false,
           "zerolinecolor": "rgb(36,36,36)",
           "zerolinewidth": 2
          },
          "yaxis": {
           "automargin": true,
           "gridcolor": "rgb(232,232,232)",
           "linecolor": "rgb(36,36,36)",
           "showgrid": false,
           "showline": true,
           "ticks": "outside",
           "title": {
            "standoff": 15
           },
           "zeroline": false,
           "zerolinecolor": "rgb(36,36,36)",
           "zerolinewidth": 2
          }
         }
        },
        "width": 600,
        "xaxis": {
         "anchor": "y",
         "autorange": false,
         "domain": [
          0,
          0.25333333333333335
         ],
         "matches": "x7",
         "range": [
          -0.5,
          15.5
         ],
         "showgrid": false,
         "showspikes": false,
         "showticklabels": false,
         "type": "linear"
        },
        "xaxis2": {
         "anchor": "y2",
         "autorange": false,
         "domain": [
          0.37333333333333335,
          0.6266666666666667
         ],
         "matches": "x8",
         "range": [
          -0.5,
          15.5
         ],
         "showspikes": false,
         "showticklabels": false,
         "type": "linear"
        },
        "xaxis3": {
         "anchor": "y3",
         "autorange": false,
         "domain": [
          0.7466666666666667,
          1
         ],
         "matches": "x9",
         "range": [
          -0.5,
          15.5
         ],
         "showspikes": false,
         "showticklabels": false,
         "type": "linear"
        },
        "xaxis4": {
         "anchor": "y4",
         "autorange": false,
         "domain": [
          0,
          0.25333333333333335
         ],
         "matches": "x7",
         "range": [
          -0.5,
          15.5
         ],
         "showspikes": false,
         "showticklabels": false,
         "type": "linear"
        },
        "xaxis5": {
         "anchor": "y5",
         "autorange": false,
         "domain": [
          0.37333333333333335,
          0.6266666666666667
         ],
         "matches": "x8",
         "range": [
          -0.5,
          15.5
         ],
         "showspikes": false,
         "showticklabels": false,
         "type": "linear"
        },
        "xaxis6": {
         "anchor": "y6",
         "autorange": false,
         "domain": [
          0.7466666666666667,
          1
         ],
         "matches": "x9",
         "range": [
          -0.5,
          15.5
         ],
         "showspikes": false,
         "showticklabels": false,
         "type": "linear"
        },
        "xaxis7": {
         "anchor": "y7",
         "autorange": false,
         "domain": [
          0,
          0.25333333333333335
         ],
         "range": [
          -0.5,
          15.5
         ],
         "showspikes": false,
         "title": {
          "text": "Time (years)"
         },
         "type": "linear"
        },
        "xaxis8": {
         "anchor": "y8",
         "autorange": false,
         "domain": [
          0.37333333333333335,
          0.6266666666666667
         ],
         "range": [
          -0.5,
          15.5
         ],
         "showspikes": false,
         "title": {
          "text": "Time (years)"
         },
         "type": "linear"
        },
        "xaxis9": {
         "anchor": "y9",
         "autorange": false,
         "domain": [
          0.7466666666666667,
          1
         ],
         "range": [
          -0.5,
          15.5
         ],
         "showspikes": false,
         "title": {
          "text": "Time (years)"
         },
         "type": "linear"
        },
        "yaxis": {
         "anchor": "x",
         "autorange": true,
         "domain": [
          0.7333333333333333,
          1
         ],
         "range": [
          -3.580442711281593,
          76.45178136722053
         ],
         "showspikes": false,
         "title": {
          "text": "Severity increase (%)"
         },
         "type": "linear"
        },
        "yaxis2": {
         "anchor": "x2",
         "autorange": true,
         "domain": [
          0.7333333333333333,
          1
         ],
         "range": [
          -4.317931647528877,
          15.212832318470875
         ],
         "showspikes": false,
         "type": "linear"
        },
        "yaxis3": {
         "anchor": "x3",
         "autorange": true,
         "domain": [
          0.7333333333333333,
          1
         ],
         "range": [
          -1.6605558955072635,
          2.5696327247315613
         ],
         "showspikes": false,
         "type": "linear"
        },
        "yaxis4": {
         "anchor": "x4",
         "autorange": true,
         "domain": [
          0.36666666666666664,
          0.6333333333333333
         ],
         "range": [
          -3.604228230513838,
          0.1735225986464462
         ],
         "showspikes": false,
         "title": {
          "text": "Yield increase (tons/ha)"
         },
         "type": "linear"
        },
        "yaxis5": {
         "anchor": "x5",
         "autorange": true,
         "domain": [
          0.36666666666666664,
          0.6333333333333333
         ],
         "range": [
          -1.3385435265741354,
          0.2749882035604321
         ],
         "showspikes": false,
         "type": "linear"
        },
        "yaxis6": {
         "anchor": "x6",
         "autorange": true,
         "domain": [
          0.36666666666666664,
          0.6333333333333333
         ],
         "range": [
          -0.19857772358115114,
          0.15496599569367212
         ],
         "showspikes": false,
         "type": "linear"
        },
        "yaxis7": {
         "anchor": "x7",
         "autorange": true,
         "domain": [
          0,
          0.26666666666666666
         ],
         "range": [
          -0.7506684308066763,
          0.039508864779298755
         ],
         "showspikes": false,
         "title": {
          "text": "Trait mean increase"
         },
         "type": "linear"
        },
        "yaxis8": {
         "anchor": "x8",
         "autorange": true,
         "domain": [
          0,
          0.26666666666666666
         ],
         "range": [
          -0.33468345972736674,
          0.0176149189330193
         ],
         "showspikes": false,
         "type": "linear"
        },
        "yaxis9": {
         "anchor": "x9",
         "autorange": true,
         "domain": [
          0,
          0.26666666666666666
         ],
         "range": [
          -0.007835833994498541,
          0.1488808458954723
         ],
         "showspikes": false,
         "type": "linear"
        }
       }
      },
      "image/png": "[encoded data removed]",
      "text/html": [
       "<div>                            <div id=\"18cf93b6-172e-4253-b286-c47f162c008f\" class=\"plotly-graph-div\" style=\"height:750px; width:600px;\"></div>            <script type=\"text/javascript\">                require([\"plotly\"], function(Plotly) {                    window.PLOTLYENV=window.PLOTLYENV || {};                                    if (document.getElementById(\"18cf93b6-172e-4253-b286-c47f162c008f\")) {                    Plotly.newPlot(                        \"18cf93b6-172e-4253-b286-c47f162c008f\",                        [{\"line\":{\"color\":\"rgba(0,255,0,0.4)\",\"width\":0.5},\"mode\":\"lines\",\"showlegend\":false,\"type\":\"scatter\",\"x\":[1,2,3,4,5,6,7,8,9,10,11,12,13,14,15],\"xaxis\":\"x\",\"y\":[1.2088681750390842,1.3615134956448676,1.1812193537841698,1.284969152169001,1.1337379555191296,1.2996431604645848,0.7961613018525857,0.9446612271602851,0.7080012525177213,0.7209114701432998,0.7310435957760207,0.42116849264351297,0.5394701929955726,0.5080440199647448,0.4946200428914298],\"yaxis\":\"y\"},{\"fill\":\"tonexty\",\"fillcolor\":\"rgba(0,255,0,0.1)\",\"line\":{\"color\":\"rgba(0,255,0,0.4)\",\"width\":0.5},\"mode\":\"lines\",\"showlegend\":false,\"type\":\"scatter\",\"x\":[1,2,3,4,5,6,7,8,9,10,11,12,13,14,15],\"xaxis\":\"x\",\"y\":[8.191479588740096,8.544819485670025,7.075631547604566,7.718143030541789,7.827454276565183,6.1401327394866865,6.172695543744378,5.483579365363708,5.443815771111607,4.339994845065326,4.2116599897829134,3.5282694567982817,3.766399568886372,3.289698853896452,3.160399968773088],\"yaxis\":\"y\"},{\"fill\":\"tonexty\",\"fillcolor\":\"rgba(0,255,0,0.2)\",\"line\":{\"color\":\"rgba(0,255,0,0.4)\",\"width\":0.5},\"mode\":\"lines\",\"showlegend\":false,\"type\":\"scatter\",\"x\":[1,2,3,4,5,6,7,8,9,10,11,12,13,14,15],\"xaxis\":\"x\",\"y\":[37.266510931300104,37.11861623181029,38.8209078738048,37.57539248814787,34.89823678664978,30.399339699705894,28.699692501559053,24.494644320668822,23.471796256681642,20.786832727676128,18.069453431032994,16.005379941127657,15.652506089982865,14.88708106155364,13.995619637731544],\"yaxis\":\"y\"},{\"fill\":\"tonexty\",\"fillcolor\":\"rgba(0,255,0,0.1)\",\"line\":{\"color\":\"rgba(0,255,0,0.4)\",\"width\":0.5},\"mode\":\"lines\",\"showlegend\":false,\"type\":\"scatter\",\"x\":[1,2,3,4,5,6,7,8,9,10,11,12,13,14,15],\"xaxis\":\"x\",\"y\":[70.50298304097038,70.56703345471786,72.45017016329543,69.82241410718875,57.59489388997164,49.48575075791585,43.22365928348649,37.17830630819072,32.14267303540648,28.861339471912714,25.624032321168286,22.78894650037466,21.286041773165874,19.521710340352016,18.248581387583883],\"yaxis\":\"y\"},{\"line\":{\"color\":\"rgba(0,255,0,1)\",\"width\":1.5},\"mode\":\"lines\",\"showlegend\":false,\"type\":\"scatter\",\"x\":[1,2,3,4,5,6,7,8,9,10,11,12,13,14,15],\"xaxis\":\"x\",\"y\":[19.23188156681256,20.086515623537636,19.247539049876657,19.59752317978387,17.91891850782303,16.063646947999636,14.8291378481677,14.194168901737177,13.054384903830293,11.801681143892583,10.11959011817979,8.587064555363689,8.820120268216623,8.452197499051604,7.931169401249834],\"yaxis\":\"y\"},{\"line\":{\"color\":\"rgba(0,255,0,0.4)\",\"width\":0.5},\"mode\":\"lines\",\"showlegend\":false,\"type\":\"scatter\",\"x\":[1,2,3,4,5,6,7,8,9,10,11,12,13,14,15],\"xaxis\":\"x2\",\"y\":[0.24984241212675048,0.2749110865867392,0.23738211797952632,0.21413136389842194,0.1290869325639176,-0.3813544471807812,-2.3476542067284694,-3.3413934492288897,-3.2068215383276613,-2.823581300967383,-2.3039001767553997,-1.8724312687239923,-1.6445246981609483,-1.3783889432916099,-1.1711254453673412],\"yaxis\":\"y2\"},{\"fill\":\"tonexty\",\"fillcolor\":\"rgba(0,255,0,0.1)\",\"line\":{\"color\":\"rgba(0,255,0,0.4)\",\"width\":0.5},\"mode\":\"lines\",\"showlegend\":false,\"type\":\"scatter\",\"x\":[1,2,3,4,5,6,7,8,9,10,11,12,13,14,15],\"xaxis\":\"x2\",\"y\":[1.1759374403425342,1.2227544102762966,1.0225007108009971,0.9873291591534109,0.5962998559120933,0.04566181376458582,-0.7960351912861547,-1.4316244918604084,-1.6933148680482377,-1.5136397490894193,-1.237915095669309,-1.0202129950455079,-0.9427599390819194,-0.8765193863479022,-0.7405431229995045],\"yaxis\":\"y2\"},{\"fill\":\"tonexty\",\"fillcolor\":\"rgba(0,255,0,0.2)\",\"line\":{\"color\":\"rgba(0,255,0,0.4)\",\"width\":0.5},\"mode\":\"lines\",\"showlegend\":false,\"type\":\"scatter\",\"x\":[1,2,3,4,5,6,7,8,9,10,11,12,13,14,15],\"xaxis\":\"x2\",\"y\":[4.805406365066629,4.839965497802892,5.07356018173151,4.608492458168454,2.9022549818655037,0.7942107631355069,-0.043971724212542425,-0.2640446068270575,-0.3471269246662575,-0.2787696717557365,-0.2585493013108097,-0.2072695988736592,-0.20195055432787495,-0.17092980359467352,-0.15015005840663553],\"yaxis\":\"y2\"},{\"fill\":\"tonexty\",\"fillcolor\":\"rgba(0,255,0,0.1)\",\"line\":{\"color\":\"rgba(0,255,0,0.4)\",\"width\":0.5},\"mode\":\"lines\",\"showlegend\":false,\"type\":\"scatter\",\"x\":[1,2,3,4,5,6,7,8,9,10,11,12,13,14,15],\"xaxis\":\"x2\",\"y\":[12.801368427309226,13.10239518065083,14.236294120170887,13.514024489203562,6.923131252428064,2.9303420463524197,0.2509524789429489,-0.04087034452221341,-0.04704819164669403,-0.052127962568034744,-0.04937040346249455,-0.02724296521728158,-0.03190533458275902,-0.027426643367370124,-0.0266402111094436],\"yaxis\":\"y2\"},{\"line\":{\"color\":\"rgba(0,255,0,1)\",\"width\":1.5},\"mode\":\"lines\",\"showlegend\":false,\"type\":\"scatter\",\"x\":[1,2,3,4,5,6,7,8,9,10,11,12,13,14,15],\"xaxis\":\"x2\",\"y\":[2.4616876861490007,2.5794128954177378,2.4670682145780156,2.273192139398383,1.38098005509495,0.25507242502308836,-0.28393693056895786,-0.6814088230270818,-0.8164102807596079,-0.7758555937300788,-0.6326085478629926,-0.506506427874239,-0.4866753976858771,-0.43712367196830026,-0.3909477883674519],\"yaxis\":\"y2\"},{\"line\":{\"color\":\"rgba(0,255,0,0.4)\",\"width\":0.5},\"mode\":\"lines\",\"showlegend\":false,\"type\":\"scatter\",\"x\":[1,2,3,4,5,6,7,8,9,10,11,12,13,14,15],\"xaxis\":\"x3\",\"y\":[-1.2644729064018438,-1.3775128853899952,-1.4490464644953223,-0.5469942697516309,0.007799998496471276,0.043625552209643155,0.027771800009913854,0.027375876560970718,0.018794250513008114,0.017394515980497394,0.015941393622648518,0.008538491355976946,0.010400104629199002,0.008943144885999198,0.008717894454668246],\"yaxis\":\"y3\"},{\"fill\":\"tonexty\",\"fillcolor\":\"rgba(0,255,0,0.1)\",\"line\":{\"color\":\"rgba(0,255,0,0.4)\",\"width\":0.5},\"mode\":\"lines\",\"showlegend\":false,\"type\":\"scatter\",\"x\":[1,2,3,4,5,6,7,8,9,10,11,12,13,14,15],\"xaxis\":\"x3\",\"y\":[-0.5839716703625089,-0.6177578962293935,-0.6000235573950324,-0.15339136977595752,0.11893333513214835,0.17656491443042294,0.17157226704765402,0.1384076387418776,0.12615571922502183,0.0952621582961067,0.08408807215824035,0.06673534614414352,0.06795597466472246,0.05470030063058748,0.04948468056303948],\"yaxis\":\"y3\"},{\"fill\":\"tonexty\",\"fillcolor\":\"rgba(0,255,0,0.2)\",\"line\":{\"color\":\"rgba(0,255,0,0.4)\",\"width\":0.5},\"mode\":\"lines\",\"showlegend\":false,\"type\":\"scatter\",\"x\":[1,2,3,4,5,6,7,8,9,10,11,12,13,14,15],\"xaxis\":\"x3\",\"y\":[-0.203298324948079,-0.21365853426948742,-0.16225503029005744,0.053744952972464045,0.7001747254489643,0.9009201843915724,0.8717593507358998,0.6953837864070045,0.6220039802853892,0.5156357187988476,0.39994110055854204,0.3227537843147896,0.29703057009340395,0.27995319070069064,0.24294241880733478],\"yaxis\":\"y3\"},{\"fill\":\"tonexty\",\"fillcolor\":\"rgba(0,255,0,0.1)\",\"line\":{\"color\":\"rgba(0,255,0,0.4)\",\"width\":0.5},\"mode\":\"lines\",\"showlegend\":false,\"type\":\"scatter\",\"x\":[1,2,3,4,5,6,7,8,9,10,11,12,13,14,15],\"xaxis\":\"x3\",\"y\":[-0.06360226181324566,-0.06869519852403212,-0.05070688437169343,0.5611169007591886,2.2525532394292624,2.35812329371962,2.0028932254949416,1.465740770806497,1.133075371039187,0.9001928686013929,0.7200687741093278,0.5792961162598224,0.5006996550546201,0.4246703339272695,0.3679761612568498],\"yaxis\":\"y3\"},{\"line\":{\"color\":\"rgba(0,255,0,1)\",\"width\":1.5},\"mode\":\"lines\",\"showlegend\":false,\"type\":\"scatter\",\"x\":[1,2,3,4,5,6,7,8,9,10,11,12,13,14,15],\"xaxis\":\"x3\",\"y\":[-0.35271987875731864,-0.3767732628114871,-0.32895885437553496,-0.033083623830365144,0.3021626118430296,0.43940665049758953,0.4010947680455055,0.3646141639638607,0.31339276606808575,0.2586474441596671,0.20375985864482526,0.16407399541272125,0.15756664891401678,0.14380462380040976,0.1285225988976579],\"yaxis\":\"y3\"},{\"marker\":{\"color\":\"rgb(0,0,0)\",\"size\":8},\"mode\":\"markers\",\"showlegend\":false,\"type\":\"scatter\",\"x\":[6.4730983302411875],\"xaxis\":\"x2\",\"y\":[0],\"yaxis\":\"y2\"},{\"marker\":{\"color\":\"rgb(0,0,0)\",\"size\":8},\"mode\":\"markers\",\"showlegend\":false,\"type\":\"scatter\",\"x\":[4.098776484631453],\"xaxis\":\"x3\",\"y\":[0],\"yaxis\":\"y3\"},{\"line\":{\"color\":\"rgba(0,255,0,0.4)\",\"width\":0.5},\"mode\":\"lines\",\"showlegend\":false,\"type\":\"scatter\",\"x\":[1,2,3,4,5,6,7,8,9,10,11,12,13,14,15],\"xaxis\":\"x4\",\"y\":[-3.4153406890558236,-3.393568014637581,-3.3203152718782865,-3.1597843662404266,-2.821219071544483,-2.4620006507232395,-2.0488986499480446,-1.792471363486962,-1.5531735879550204,-1.3988616104049838,-1.2357447410914775,-1.1202412845250058,-1.0200806917630065,-0.936834464008267,-0.8786050254654608],\"yaxis\":\"y4\"},{\"fill\":\"tonexty\",\"fillcolor\":\"rgba(0,255,0,0.1)\",\"line\":{\"color\":\"rgba(0,255,0,0.4)\",\"width\":0.5},\"mode\":\"lines\",\"showlegend\":false,\"type\":\"scatter\",\"x\":[1,2,3,4,5,6,7,8,9,10,11,12,13,14,15],\"xaxis\":\"x4\",\"y\":[-2.822125251642006,-2.8030243221340347,-2.83254634966047,-2.68398597223249,-2.3508959879364526,-1.9884997517917677,-1.688704521560402,-1.5003043213172702,-1.2948901026121877,-1.1575751241661894,-1.0049578204840954,-0.9338894465480778,-0.8573076581533501,-0.7935248783561659,-0.7489928666536172],\"yaxis\":\"y4\"},{\"fill\":\"tonexty\",\"fillcolor\":\"rgba(0,255,0,0.2)\",\"line\":{\"color\":\"rgba(0,255,0,0.4)\",\"width\":0.5},\"mode\":\"lines\",\"showlegend\":false,\"type\":\"scatter\",\"x\":[1,2,3,4,5,6,7,8,9,10,11,12,13,14,15],\"xaxis\":\"x4\",\"y\":[-0.7647422633662906,-0.7962995209564729,-0.6631992549496353,-0.7177318346134678,-0.7092777259879428,-0.5552316287652972,-0.5256754882782069,-0.44500801207699414,-0.4293256430719458,-0.3263883214654228,-0.3053369250919297,-0.2740066926435678,-0.25272298413175726,-0.22763043561859048,-0.21239520422906155],\"yaxis\":\"y4\"},{\"fill\":\"tonexty\",\"fillcolor\":\"rgba(0,255,0,0.1)\",\"line\":{\"color\":\"rgba(0,255,0,0.4)\",\"width\":0.5},\"mode\":\"lines\",\"showlegend\":false,\"type\":\"scatter\",\"x\":[1,2,3,4,5,6,7,8,9,10,11,12,13,14,15],\"xaxis\":\"x4\",\"y\":[-0.1158451394864831,-0.13043347792029794,-0.11319766755375038,-0.1176439499397803,-0.10860491776814937,-0.11283024580243332,-0.06567011372220967,-0.06502488753107803,-0.0508225689902255,-0.03993609813954088,-0.047209836206797674,-0.02391479582468191,-0.035659643073865176,-0.015364942811567998,-0.020218098554025957],\"yaxis\":\"y4\"},{\"line\":{\"color\":\"rgba(0,255,0,1)\",\"width\":1.5},\"mode\":\"lines\",\"showlegend\":false,\"type\":\"scatter\",\"x\":[1,2,3,4,5,6,7,8,9,10,11,12,13,14,15],\"xaxis\":\"x4\",\"y\":[-1.6920967409771723,-1.7568434865108538,-1.689464143654698,-1.697084351710747,-1.4836968952152638,-1.2852504102622664,-1.1341564578168466,-1.0121923932642414,-0.9200428463073274,-0.768522581339012,-0.6872954681285259,-0.6002885019230204,-0.6009367562342476,-0.5325714091668514,-0.5116801210444031],\"yaxis\":\"y4\"},{\"line\":{\"color\":\"rgba(0,255,0,0.4)\",\"width\":0.5},\"mode\":\"lines\",\"showlegend\":false,\"type\":\"scatter\",\"x\":[1,2,3,4,5,6,7,8,9,10,11,12,13,14,15],\"xaxis\":\"x5\",\"y\":[-1.1550204156814972,-1.1764934539960434,-1.257866940067407,-1.1297676931863947,-0.5580418756309257,-0.23603443940093644,-0.022374453281615823,0.00361349200092969,0.004122805408643276,0.004184503970770501,0.003656924087573,0.0018194752589657552,0.00245809789034593,0.0014725003826276202,0.0013906211358228004],\"yaxis\":\"y5\"},{\"fill\":\"tonexty\",\"fillcolor\":\"rgba(0,255,0,0.1)\",\"line\":{\"color\":\"rgba(0,255,0,0.4)\",\"width\":0.5},\"mode\":\"lines\",\"showlegend\":false,\"type\":\"scatter\",\"x\":[1,2,3,4,5,6,7,8,9,10,11,12,13,14,15],\"xaxis\":\"x5\",\"y\":[-0.45324577568064095,-0.4560531609925506,-0.4760791161427993,-0.4241750596202385,-0.26517869188668935,-0.07116649741053702,0.003986891942722975,0.023048282317085375,0.031044820806490802,0.024413833912744126,0.022603419137400927,0.01786488081311875,0.015921451946558,0.013189614644387676,0.011916610751362576],\"yaxis\":\"y5\"},{\"fill\":\"tonexty\",\"fillcolor\":\"rgba(0,255,0,0.2)\",\"line\":{\"color\":\"rgba(0,255,0,0.4)\",\"width\":0.5},\"mode\":\"lines\",\"showlegend\":false,\"type\":\"scatter\",\"x\":[1,2,3,4,5,6,7,8,9,10,11,12,13,14,15],\"xaxis\":\"x5\",\"y\":[-0.11264298872089987,-0.11710230820790007,-0.09796169227690704,-0.09384249576831964,-0.056803503974694775,-0.00432653163675215,0.06885347300690052,0.11742127911557348,0.12661672407804797,0.10707194526726545,0.08577020153428287,0.07123387543993015,0.062121326939484675,0.05360177890894088,0.04585231881397873],\"yaxis\":\"y5\"},{\"fill\":\"tonexty\",\"fillcolor\":\"rgba(0,255,0,0.1)\",\"line\":{\"color\":\"rgba(0,255,0,0.4)\",\"width\":0.5},\"mode\":\"lines\",\"showlegend\":false,\"type\":\"scatter\",\"x\":[1,2,3,4,5,6,7,8,9,10,11,12,13,14,15],\"xaxis\":\"x5\",\"y\":[-0.02394978700769357,-0.026352859443518468,-0.022755348528096776,-0.0205265411640049,-0.012374218268487534,0.03173291077992455,0.15333739090171997,0.19431161705370367,0.18141336052939536,0.15336518328490636,0.12355228618683084,0.10054716862657549,0.08614792629785432,0.07148306874073405,0.060579364928289095],\"yaxis\":\"y5\"},{\"line\":{\"color\":\"rgba(0,255,0,1)\",\"width\":1.5},\"mode\":\"lines\",\"showlegend\":false,\"type\":\"scatter\",\"x\":[1,2,3,4,5,6,7,8,9,10,11,12,13,14,15],\"xaxis\":\"x5\",\"y\":[-0.23467250803926104,-0.24571653629074142,-0.23496184572387063,-0.2152327212773972,-0.12927476659329423,-0.0238103171489569,0.025607102804585148,0.06048254834715645,0.07004016460855485,0.0608859138349764,0.052209913502077,0.0405308847466727,0.0378874560296127,0.031600080510940154,0.029078443946901553],\"yaxis\":\"y5\"},{\"line\":{\"color\":\"rgba(0,255,0,0.4)\",\"width\":0.5},\"mode\":\"lines\",\"showlegend\":false,\"type\":\"scatter\",\"x\":[1,2,3,4,5,6,7,8,9,10,11,12,13,14,15],\"xaxis\":\"x6\",\"y\":[0.006096885675526305,0.006585092415242635,0.004860740297006825,-0.0513903629458446,-0.18090053761740998,-0.16120506280584587,-0.12386003406961203,-0.08699787351499563,-0.06476386142153183,-0.0492847042161419,-0.038005486300041864,-0.030437915651547486,-0.0261121870151935,-0.021614141794087646,-0.018347959145761518],\"yaxis\":\"y6\"},{\"fill\":\"tonexty\",\"fillcolor\":\"rgba(0,255,0,0.1)\",\"line\":{\"color\":\"rgba(0,255,0,0.4)\",\"width\":0.5},\"mode\":\"lines\",\"showlegend\":false,\"type\":\"scatter\",\"x\":[1,2,3,4,5,6,7,8,9,10,11,12,13,14,15],\"xaxis\":\"x6\",\"y\":[0.01948809067315995,0.020481215917552448,0.0155536979622259,-0.005126932189574525,-0.0651339511713398,-0.07802758010845331,-0.07202504703915745,-0.05517580917393688,-0.04542460487644278,-0.0353082170924956,-0.027353225606257574,-0.022420690588486697,-0.019485101742513476,-0.0169580575797838,-0.01484209771209105],\"yaxis\":\"y6\"},{\"fill\":\"tonexty\",\"fillcolor\":\"rgba(0,255,0,0.2)\",\"line\":{\"color\":\"rgba(0,255,0,0.4)\",\"width\":0.5},\"mode\":\"lines\",\"showlegend\":false,\"type\":\"scatter\",\"x\":[1,2,3,4,5,6,7,8,9,10,11,12,13,14,15],\"xaxis\":\"x6\",\"y\":[0.055979275114480226,0.05921800347066638,0.05751163972096932,0.0144549442808288,-0.011400435238314275,-0.016835822737818674,-0.015561698157616025,-0.012694080941768576,-0.011348203205826225,-0.008275176274344674,-0.007240770525574325,-0.0056197896062375255,-0.00513842494233025,-0.004313801931030625,-0.003853577810322075],\"yaxis\":\"y6\"},{\"fill\":\"tonexty\",\"fillcolor\":\"rgba(0,255,0,0.1)\",\"line\":{\"color\":\"rgba(0,255,0,0.4)\",\"width\":0.5},\"mode\":\"lines\",\"showlegend\":false,\"type\":\"scatter\",\"x\":[1,2,3,4,5,6,7,8,9,10,11,12,13,14,15],\"xaxis\":\"x6\",\"y\":[0.12106829795063541,0.13177259392105767,0.13728880972993096,0.051852101260008554,-0.000747704527268296,-0.0040596533520433145,-0.002505473644746046,-0.0023183022344427837,-0.001613030074529316,-0.0012709969231896943,-0.0011723760626869953,-0.0005777639262173052,-0.0007832087653321228,-0.0004554568550996754,-0.00045063829724738025],\"yaxis\":\"y6\"},{\"line\":{\"color\":\"rgba(0,255,0,1)\",\"width\":1.5},\"mode\":\"lines\",\"showlegend\":false,\"type\":\"scatter\",\"x\":[1,2,3,4,5,6,7,8,9,10,11,12,13,14,15],\"xaxis\":\"x6\",\"y\":[0.033811577056546555,0.03611732418734,0.03153385539918655,0.0031713820621366,-0.0287428697193741,-0.04103817885855045,-0.036258541261309604,-0.03063880239710395,-0.02582181630237815,-0.020617406372800802,-0.01667733041773095,-0.01312349075998395,-0.012168431829772751,-0.0102596020914935,-0.0093708561775498],\"yaxis\":\"y6\"},{\"marker\":{\"color\":\"rgb(0,0,0)\",\"size\":8},\"mode\":\"markers\",\"showlegend\":false,\"type\":\"scatter\",\"x\":[6.4730983302411875],\"xaxis\":\"x5\",\"y\":[0],\"yaxis\":\"y5\"},{\"marker\":{\"color\":\"rgb(0,0,0)\",\"size\":8},\"mode\":\"markers\",\"showlegend\":false,\"type\":\"scatter\",\"x\":[4.098776484631453],\"xaxis\":\"x6\",\"y\":[0],\"yaxis\":\"y6\"},{\"line\":{\"color\":\"rgba(0,255,0,0.4)\",\"width\":0.5},\"mode\":\"lines\",\"showlegend\":false,\"type\":\"scatter\",\"x\":[0,1,2,3,4,5,6,7,8,9,10,11,12,13,14,15],\"xaxis\":\"x7\",\"y\":[0.0,-0.003702384481546465,-0.017500233982111445,-0.06470306970353346,-0.1641990272448064,-0.27067150586214084,-0.3644783597749736,-0.44071509510379375,-0.49737360433642486,-0.546252957508712,-0.5840516639651115,-0.6179226997279039,-0.6464345082528467,-0.6709388221849512,-0.6924596318106038,-0.7111595660273776],\"yaxis\":\"y7\"},{\"fill\":\"tonexty\",\"fillcolor\":\"rgba(0,255,0,0.1)\",\"line\":{\"color\":\"rgba(0,255,0,0.4)\",\"width\":0.5},\"mode\":\"lines\",\"showlegend\":false,\"type\":\"scatter\",\"x\":[0,1,2,3,4,5,6,7,8,9,10,11,12,13,14,15],\"xaxis\":\"x7\",\"y\":[0.0,-0.0027616458793296,-0.01234860862513875,-0.04541463767123158,-0.12572272168856216,-0.2307056569938445,-0.32560554639564065,-0.40344612289130494,-0.4674298034320621,-0.5205483419830859,-0.5635727788087515,-0.5997519964418984,-0.6297565619791176,-0.6560447228081936,-0.6785000172546125,-0.698444221313999],\"yaxis\":\"y7\"},{\"fill\":\"tonexty\",\"fillcolor\":\"rgba(0,255,0,0.2)\",\"line\":{\"color\":\"rgba(0,255,0,0.4)\",\"width\":0.5},\"mode\":\"lines\",\"showlegend\":false,\"type\":\"scatter\",\"x\":[0,1,2,3,4,5,6,7,8,9,10,11,12,13,14,15],\"xaxis\":\"x7\",\"y\":[0.0,-0.0018098061861581251,-0.007279877179667425,-0.0251088210325205,-0.0738889144997296,-0.16046270416798208,-0.2600623591890415,-0.34600327105347445,-0.41745600981287845,-0.4754129407618338,-0.5250467966266312,-0.5648241555776351,-0.5986590280085032,-0.6276195239270482,-0.6534069984714602,-0.6765905285084735],\"yaxis\":\"y7\"},{\"fill\":\"tonexty\",\"fillcolor\":\"rgba(0,255,0,0.1)\",\"line\":{\"color\":\"rgba(0,255,0,0.4)\",\"width\":0.5},\"mode\":\"lines\",\"showlegend\":false,\"type\":\"scatter\",\"x\":[0,1,2,3,4,5,6,7,8,9,10,11,12,13,14,15],\"xaxis\":\"x7\",\"y\":[0.0,-0.0010833973268553254,-0.0046090106579511755,-0.014579135794748496,-0.045137948334774504,-0.11425058082195631,-0.20501491055352447,-0.29732060629025475,-0.3754686207976946,-0.43811844652846677,-0.4932562899566916,-0.5360691705121954,-0.5731804095527081,-0.605989447217226,-0.6348632720616396,-0.6567229528979714],\"yaxis\":\"y7\"},{\"line\":{\"color\":\"rgba(0,255,0,1)\",\"width\":1.5},\"mode\":\"lines\",\"name\":\"\",\"showlegend\":false,\"type\":\"scatter\",\"x\":[0,1,2,3,4,5,6,7,8,9,10,11,12,13,14,15],\"xaxis\":\"x7\",\"y\":[0.0,-0.00226547632811415,-0.0096614682397149,-0.0341578696857963,-0.09867439359310651,-0.19820460806949458,-0.2930767606518015,-0.37746683393776415,-0.4437923630463513,-0.4996640275401108,-0.5454921210015167,-0.5841717228646657,-0.615503685938386,-0.6435957223409315,-0.6673877188237378,-0.6883588274774687],\"yaxis\":\"y7\"},{\"line\":{\"color\":\"rgba(0,255,0,0.4)\",\"width\":0.5},\"mode\":\"lines\",\"showlegend\":false,\"type\":\"scatter\",\"x\":[0,1,2,3,4,5,6,7,8,9,10,11,12,13,14,15],\"xaxis\":\"x8\",\"y\":[0.0,-0.00223082196092773,-0.013244028990862019,-0.054760937155977886,-0.14227931342356442,-0.227077500173725,-0.2841987820520177,-0.310215990623768,-0.3163682333404798,-0.31703016754097824,-0.31706854079434743,-0.31463477931755257,-0.30715840098107955,-0.2966470568004205,-0.28431070065130803,-0.27370964534019926],\"yaxis\":\"y8\"},{\"fill\":\"tonexty\",\"fillcolor\":\"rgba(0,255,0,0.1)\",\"line\":{\"color\":\"rgba(0,255,0,0.4)\",\"width\":0.5},\"mode\":\"lines\",\"showlegend\":false,\"type\":\"scatter\",\"x\":[0,1,2,3,4,5,6,7,8,9,10,11,12,13,14,15],\"xaxis\":\"x8\",\"y\":[0.0,-0.001585871014621625,-0.008947197603981126,-0.03759890508070775,-0.1089679982317675,-0.1970778348864383,-0.26352204219429426,-0.30056925308456184,-0.31474432846981076,-0.31648698597562397,-0.31535685148509207,-0.3085930672327016,-0.2989920641440191,-0.287435611973339,-0.27502801616769357,-0.26233102149974663],\"yaxis\":\"y8\"},{\"fill\":\"tonexty\",\"fillcolor\":\"rgba(0,255,0,0.2)\",\"line\":{\"color\":\"rgba(0,255,0,0.4)\",\"width\":0.5},\"mode\":\"lines\",\"showlegend\":false,\"type\":\"scatter\",\"x\":[0,1,2,3,4,5,6,7,8,9,10,11,12,13,14,15],\"xaxis\":\"x8\",\"y\":[0.0,-0.000972396014098025,-0.00488968453318155,-0.0197613505153532,-0.06297138551089147,-0.1391580682124822,-0.21942230258550022,-0.2749503643397543,-0.3051412622543136,-0.31357568192859564,-0.3081954232449793,-0.2978623712319306,-0.2857737213749356,-0.27306272421966016,-0.2604491414766812,-0.24841171727059144],\"yaxis\":\"y8\"},{\"fill\":\"tonexty\",\"fillcolor\":\"rgba(0,255,0,0.1)\",\"line\":{\"color\":\"rgba(0,255,0,0.4)\",\"width\":0.5},\"mode\":\"lines\",\"showlegend\":false,\"type\":\"scatter\",\"x\":[0,1,2,3,4,5,6,7,8,9,10,11,12,13,14,15],\"xaxis\":\"x8\",\"y\":[0.0,-0.0005418891660843001,-0.00287894472758322,-0.01079291644900731,-0.03735454694695854,-0.09886611087008927,-0.17655017788026836,-0.24564694599826362,-0.28967808423687574,-0.30817758948327234,-0.3012093135297165,-0.28913918733660665,-0.2770364825517716,-0.26374511109354054,-0.25062100179160873,-0.23897085325594605],\"yaxis\":\"y8\"},{\"line\":{\"color\":\"rgba(0,255,0,1)\",\"width\":1.5},\"mode\":\"lines\",\"name\":\"\",\"showlegend\":false,\"type\":\"scatter\",\"x\":[0,1,2,3,4,5,6,7,8,9,10,11,12,13,14,15],\"xaxis\":\"x8\",\"y\":[0.0,-0.0012602635025727,-0.00676728541026785,-0.027657129729784652,-0.08505592345673504,-0.1709037401058294,-0.24278286323216916,-0.2903510310258466,-0.3113805000883073,-0.3156319749840544,-0.3123085408893846,-0.3030517281520878,-0.2922588599464573,-0.2796899681711783,-0.2672476381254786,-0.25509654016222616],\"yaxis\":\"y8\"},{\"line\":{\"color\":\"rgba(0,255,0,0.4)\",\"width\":0.5},\"mode\":\"lines\",\"showlegend\":false,\"type\":\"scatter\",\"x\":[0,1,2,3,4,5,6,7,8,9,10,11,12,13,14,15],\"xaxis\":\"x9\",\"y\":[0.0,0.000441514815656085,0.0034651793531295804,0.01858388659257532,0.06901999491691611,0.12447761365083773,0.13035315350558196,0.11906758219893045,0.10901895355377188,0.099711279242888,0.09222696645866109,0.08517753033119779,0.07926274043804028,0.07415049217057991,0.06944398413253725,0.0653692025850546],\"yaxis\":\"y9\"},{\"fill\":\"tonexty\",\"fillcolor\":\"rgba(0,255,0,0.1)\",\"line\":{\"color\":\"rgba(0,255,0,0.4)\",\"width\":0.5},\"mode\":\"lines\",\"showlegend\":false,\"type\":\"scatter\",\"x\":[0,1,2,3,4,5,6,7,8,9,10,11,12,13,14,15],\"xaxis\":\"x9\",\"y\":[0.0,0.00088828704521585,0.0068567739965672,0.03738015711980945,0.10048215784310925,0.13654488168473541,0.13486203183869228,0.1247422934256184,0.1142919958494623,0.10454095299215971,0.09615881281175868,0.08895972523313556,0.08265513662066502,0.07712189445535472,0.07237036453525142,0.06809003024313835],\"yaxis\":\"y9\"},{\"fill\":\"tonexty\",\"fillcolor\":\"rgba(0,255,0,0.2)\",\"line\":{\"color\":\"rgba(0,255,0,0.4)\",\"width\":0.5},\"mode\":\"lines\",\"showlegend\":false,\"type\":\"scatter\",\"x\":[0,1,2,3,4,5,6,7,8,9,10,11,12,13,14,15],\"xaxis\":\"x9\",\"y\":[0.0,0.001630662301181075,0.014804402539373075,0.06961076330466907,0.12895576402123615,0.14078957768071093,0.13969668436679597,0.13241833906231149,0.12240762092643585,0.11284150405641782,0.1035217952083539,0.09590781045906795,0.08891486672395064,0.08309753790488528,0.07756423909781024,0.0726890197462666],\"yaxis\":\"y9\"},{\"fill\":\"tonexty\",\"fillcolor\":\"rgba(0,255,0,0.1)\",\"line\":{\"color\":\"rgba(0,255,0,0.4)\",\"width\":0.5},\"mode\":\"lines\",\"showlegend\":false,\"type\":\"scatter\",\"x\":[0,1,2,3,4,5,6,7,8,9,10,11,12,13,14,15],\"xaxis\":\"x9\",\"y\":[0.0,0.00252146333212575,0.023932428666093596,0.09249116196179813,0.13778766084951113,0.14104501190097374,0.14072442032197677,0.13735566340274086,0.1285274532770904,0.1190488606728246,0.10973048894845648,0.10163031693131551,0.09403842902780923,0.08737233466108044,0.0813783000359743,0.07678726389756917],\"yaxis\":\"y9\"},{\"line\":{\"color\":\"rgba(0,255,0,1)\",\"width\":1.5},\"mode\":\"lines\",\"name\":\"\",\"showlegend\":false,\"type\":\"scatter\",\"x\":[0,1,2,3,4,5,6,7,8,9,10,11,12,13,14,15],\"xaxis\":\"x9\",\"y\":[0.0,0.0012226133095447,0.01040231271944905,0.05274143667020815,0.11741265925703276,0.13984676134069907,0.13773895736906505,0.1284589652741959,0.11832988732411225,0.1084540500260594,0.09968979479283835,0.0919826203361839,0.08562156050976875,0.07973072198622115,0.0747312252427379,0.07019645623927684],\"yaxis\":\"y9\"}],                        {\"annotations\":[{\"font\":{\"color\":\"rgb(110,110,110)\",\"size\":14},\"showarrow\":false,\"text\":\"0 sprays\",\"x\":0.12,\"xanchor\":\"center\",\"xref\":\"paper\",\"y\":1.03,\"yanchor\":\"middle\",\"yref\":\"paper\"},{\"font\":{\"color\":\"rgb(110,110,110)\",\"size\":14},\"showarrow\":false,\"text\":\"1 spray\",\"x\":0.5,\"xanchor\":\"center\",\"xref\":\"paper\",\"y\":1.03,\"yanchor\":\"middle\",\"yref\":\"paper\"},{\"font\":{\"color\":\"rgb(110,110,110)\",\"size\":14},\"showarrow\":false,\"text\":\"3 sprays\",\"x\":0.88,\"xanchor\":\"center\",\"xref\":\"paper\",\"y\":1.03,\"yanchor\":\"middle\",\"yref\":\"paper\"},{\"font\":{\"color\":\"rgb(110,110,110)\",\"size\":14},\"showarrow\":false,\"text\":\"5\",\"x\":0.6,\"xanchor\":\"center\",\"xref\":\"paper\",\"y\":1.092,\"yanchor\":\"middle\",\"yref\":\"paper\"},{\"font\":{\"color\":\"rgb(110,110,110)\",\"size\":14},\"showarrow\":false,\"text\":\"25\",\"x\":0.7,\"xanchor\":\"center\",\"xref\":\"paper\",\"y\":1.092,\"yanchor\":\"middle\",\"yref\":\"paper\"},{\"font\":{\"color\":\"rgb(110,110,110)\",\"size\":14},\"showarrow\":false,\"text\":\"50\",\"x\":0.8,\"xanchor\":\"center\",\"xref\":\"paper\",\"y\":1.092,\"yanchor\":\"middle\",\"yref\":\"paper\"},{\"font\":{\"color\":\"rgb(110,110,110)\",\"size\":14},\"showarrow\":false,\"text\":\"75\",\"x\":0.9,\"xanchor\":\"center\",\"xref\":\"paper\",\"y\":1.092,\"yanchor\":\"middle\",\"yref\":\"paper\"},{\"font\":{\"color\":\"rgb(110,110,110)\",\"size\":14},\"showarrow\":false,\"text\":\"95\",\"x\":1,\"xanchor\":\"center\",\"xref\":\"paper\",\"y\":1.092,\"yanchor\":\"middle\",\"yref\":\"paper\"},{\"font\":{\"color\":\"rgb(110,110,110)\",\"size\":20},\"showarrow\":false,\"text\":\"A\",\"x\":-0.02,\"xanchor\":\"center\",\"xref\":\"paper\",\"y\":1.06,\"yanchor\":\"top\",\"yref\":\"paper\"},{\"font\":{\"color\":\"rgb(110,110,110)\",\"size\":20},\"showarrow\":false,\"text\":\"D\",\"x\":0.35,\"xanchor\":\"center\",\"xref\":\"paper\",\"y\":1.06,\"yanchor\":\"top\",\"yref\":\"paper\"},{\"font\":{\"color\":\"rgb(110,110,110)\",\"size\":20},\"showarrow\":false,\"text\":\"G\",\"x\":0.73,\"xanchor\":\"center\",\"xref\":\"paper\",\"y\":1.06,\"yanchor\":\"top\",\"yref\":\"paper\"},{\"font\":{\"color\":\"rgb(110,110,110)\",\"size\":20},\"showarrow\":false,\"text\":\"B\",\"x\":-0.02,\"xanchor\":\"center\",\"xref\":\"paper\",\"y\":0.69,\"yanchor\":\"top\",\"yref\":\"paper\"},{\"font\":{\"color\":\"rgb(110,110,110)\",\"size\":20},\"showarrow\":false,\"text\":\"E\",\"x\":0.35,\"xanchor\":\"center\",\"xref\":\"paper\",\"y\":0.69,\"yanchor\":\"top\",\"yref\":\"paper\"},{\"font\":{\"color\":\"rgb(110,110,110)\",\"size\":20},\"showarrow\":false,\"text\":\"H\",\"x\":0.73,\"xanchor\":\"center\",\"xref\":\"paper\",\"y\":0.69,\"yanchor\":\"top\",\"yref\":\"paper\"},{\"font\":{\"color\":\"rgb(110,110,110)\",\"size\":20},\"showarrow\":false,\"text\":\"C\",\"x\":-0.02,\"xanchor\":\"center\",\"xref\":\"paper\",\"y\":0.32,\"yanchor\":\"top\",\"yref\":\"paper\"},{\"font\":{\"color\":\"rgb(110,110,110)\",\"size\":20},\"showarrow\":false,\"text\":\"F\",\"x\":0.35,\"xanchor\":\"center\",\"xref\":\"paper\",\"y\":0.32,\"yanchor\":\"top\",\"yref\":\"paper\"},{\"font\":{\"color\":\"rgb(110,110,110)\",\"size\":20},\"showarrow\":false,\"text\":\"I\",\"x\":0.73,\"xanchor\":\"center\",\"xref\":\"paper\",\"y\":0.32,\"yanchor\":\"top\",\"yref\":\"paper\"}],\"font\":{\"size\":14},\"height\":750,\"shapes\":[{\"fillcolor\":\"rgb(0,255,0)\",\"line\":{\"color\":\"rgb(0,255,0)\",\"width\":1},\"opacity\":0.1,\"type\":\"rect\",\"x0\":0.6,\"x1\":0.7,\"xref\":\"paper\",\"y0\":1.15,\"y1\":1.11,\"yref\":\"paper\"},{\"fillcolor\":\"rgb(0,255,0)\",\"line\":{\"color\":\"rgb(0,255,0)\",\"width\":1},\"opacity\":0.2,\"type\":\"rect\",\"x0\":0.7,\"x1\":0.8,\"xref\":\"paper\",\"y0\":1.15,\"y1\":1.11,\"yref\":\"paper\"},{\"line\":{\"color\":\"rgb(0,255,0)\",\"width\":2.5},\"opacity\":1,\"type\":\"line\",\"x0\":0.8,\"x1\":0.8,\"xref\":\"paper\",\"y0\":1.15,\"y1\":1.11,\"yref\":\"paper\"},{\"fillcolor\":\"rgb(0,255,0)\",\"line\":{\"color\":\"rgb(0,255,0)\",\"width\":1},\"opacity\":0.2,\"type\":\"rect\",\"x0\":0.8,\"x1\":0.9,\"xref\":\"paper\",\"y0\":1.15,\"y1\":1.11,\"yref\":\"paper\"},{\"fillcolor\":\"rgb(0,255,0)\",\"line\":{\"color\":\"rgb(0,255,0)\",\"width\":1},\"opacity\":0.1,\"type\":\"rect\",\"x0\":0.9,\"x1\":1,\"xref\":\"paper\",\"y0\":1.15,\"y1\":1.11,\"yref\":\"paper\"},{\"line\":{\"color\":\"rgb(110,110,110)\",\"width\":1.5},\"opacity\":1,\"type\":\"line\",\"x0\":0.6,\"x1\":0.6,\"xref\":\"paper\",\"y0\":1.11,\"y1\":1.1055000000000001,\"yref\":\"paper\"},{\"line\":{\"color\":\"rgb(110,110,110)\",\"width\":1.5},\"opacity\":1,\"type\":\"line\",\"x0\":0.7,\"x1\":0.7,\"xref\":\"paper\",\"y0\":1.11,\"y1\":1.1055000000000001,\"yref\":\"paper\"},{\"line\":{\"color\":\"rgb(110,110,110)\",\"width\":1.5},\"opacity\":1,\"type\":\"line\",\"x0\":0.8,\"x1\":0.8,\"xref\":\"paper\",\"y0\":1.11,\"y1\":1.1055000000000001,\"yref\":\"paper\"},{\"line\":{\"color\":\"rgb(110,110,110)\",\"width\":1.5},\"opacity\":1,\"type\":\"line\",\"x0\":0.9,\"x1\":0.9,\"xref\":\"paper\",\"y0\":1.11,\"y1\":1.1055000000000001,\"yref\":\"paper\"},{\"line\":{\"color\":\"rgb(110,110,110)\",\"width\":1.5},\"opacity\":1,\"type\":\"line\",\"x0\":1,\"x1\":1,\"xref\":\"paper\",\"y0\":1.11,\"y1\":1.1055000000000001,\"yref\":\"paper\"}],\"showlegend\":true,\"template\":{\"data\":{\"bar\":[{\"error_x\":{\"color\":\"rgb(36,36,36)\"},\"error_y\":{\"color\":\"rgb(36,36,36)\"},\"marker\":{\"line\":{\"color\":\"white\",\"width\":0.5},\"pattern\":{\"fillmode\":\"overlay\",\"size\":10,\"solidity\":0.2}},\"type\":\"bar\"}],\"barpolar\":[{\"marker\":{\"line\":{\"color\":\"white\",\"width\":0.5},\"pattern\":{\"fillmode\":\"overlay\",\"size\":10,\"solidity\":0.2}},\"type\":\"barpolar\"}],\"carpet\":[{\"aaxis\":{\"endlinecolor\":\"rgb(36,36,36)\",\"gridcolor\":\"white\",\"linecolor\":\"white\",\"minorgridcolor\":\"white\",\"startlinecolor\":\"rgb(36,36,36)\"},\"baxis\":{\"endlinecolor\":\"rgb(36,36,36)\",\"gridcolor\":\"white\",\"linecolor\":\"white\",\"minorgridcolor\":\"white\",\"startlinecolor\":\"rgb(36,36,36)\"},\"type\":\"carpet\"}],\"choropleth\":[{\"colorbar\":{\"outlinewidth\":1,\"tickcolor\":\"rgb(36,36,36)\",\"ticks\":\"outside\"},\"type\":\"choropleth\"}],\"contour\":[{\"colorbar\":{\"outlinewidth\":1,\"tickcolor\":\"rgb(36,36,36)\",\"ticks\":\"outside\"},\"colorscale\":[[0.0,\"#440154\"],[0.1111111111111111,\"#482878\"],[0.2222222222222222,\"#3e4989\"],[0.3333333333333333,\"#31688e\"],[0.4444444444444444,\"#26828e\"],[0.5555555555555556,\"#1f9e89\"],[0.6666666666666666,\"#35b779\"],[0.7777777777777778,\"#6ece58\"],[0.8888888888888888,\"#b5de2b\"],[1.0,\"#fde725\"]],\"type\":\"contour\"}],\"contourcarpet\":[{\"colorbar\":{\"outlinewidth\":1,\"tickcolor\":\"rgb(36,36,36)\",\"ticks\":\"outside\"},\"type\":\"contourcarpet\"}],\"heatmap\":[{\"colorbar\":{\"outlinewidth\":1,\"tickcolor\":\"rgb(36,36,36)\",\"ticks\":\"outside\"},\"colorscale\":[[0.0,\"#440154\"],[0.1111111111111111,\"#482878\"],[0.2222222222222222,\"#3e4989\"],[0.3333333333333333,\"#31688e\"],[0.4444444444444444,\"#26828e\"],[0.5555555555555556,\"#1f9e89\"],[0.6666666666666666,\"#35b779\"],[0.7777777777777778,\"#6ece58\"],[0.8888888888888888,\"#b5de2b\"],[1.0,\"#fde725\"]],\"type\":\"heatmap\"}],\"heatmapgl\":[{\"colorbar\":{\"outlinewidth\":1,\"tickcolor\":\"rgb(36,36,36)\",\"ticks\":\"outside\"},\"colorscale\":[[0.0,\"#440154\"],[0.1111111111111111,\"#482878\"],[0.2222222222222222,\"#3e4989\"],[0.3333333333333333,\"#31688e\"],[0.4444444444444444,\"#26828e\"],[0.5555555555555556,\"#1f9e89\"],[0.6666666666666666,\"#35b779\"],[0.7777777777777778,\"#6ece58\"],[0.8888888888888888,\"#b5de2b\"],[1.0,\"#fde725\"]],\"type\":\"heatmapgl\"}],\"histogram\":[{\"marker\":{\"line\":{\"color\":\"white\",\"width\":0.6},\"pattern\":{\"fillmode\":\"overlay\",\"size\":10,\"solidity\":0.2}},\"type\":\"histogram\"}],\"histogram2d\":[{\"colorbar\":{\"outlinewidth\":1,\"tickcolor\":\"rgb(36,36,36)\",\"ticks\":\"outside\"},\"colorscale\":[[0.0,\"#440154\"],[0.1111111111111111,\"#482878\"],[0.2222222222222222,\"#3e4989\"],[0.3333333333333333,\"#31688e\"],[0.4444444444444444,\"#26828e\"],[0.5555555555555556,\"#1f9e89\"],[0.6666666666666666,\"#35b779\"],[0.7777777777777778,\"#6ece58\"],[0.8888888888888888,\"#b5de2b\"],[1.0,\"#fde725\"]],\"type\":\"histogram2d\"}],\"histogram2dcontour\":[{\"colorbar\":{\"outlinewidth\":1,\"tickcolor\":\"rgb(36,36,36)\",\"ticks\":\"outside\"},\"colorscale\":[[0.0,\"#440154\"],[0.1111111111111111,\"#482878\"],[0.2222222222222222,\"#3e4989\"],[0.3333333333333333,\"#31688e\"],[0.4444444444444444,\"#26828e\"],[0.5555555555555556,\"#1f9e89\"],[0.6666666666666666,\"#35b779\"],[0.7777777777777778,\"#6ece58\"],[0.8888888888888888,\"#b5de2b\"],[1.0,\"#fde725\"]],\"type\":\"histogram2dcontour\"}],\"mesh3d\":[{\"colorbar\":{\"outlinewidth\":1,\"tickcolor\":\"rgb(36,36,36)\",\"ticks\":\"outside\"},\"type\":\"mesh3d\"}],\"parcoords\":[{\"line\":{\"colorbar\":{\"outlinewidth\":1,\"tickcolor\":\"rgb(36,36,36)\",\"ticks\":\"outside\"}},\"type\":\"parcoords\"}],\"pie\":[{\"automargin\":true,\"type\":\"pie\"}],\"scatter\":[{\"marker\":{\"colorbar\":{\"outlinewidth\":1,\"tickcolor\":\"rgb(36,36,36)\",\"ticks\":\"outside\"}},\"type\":\"scatter\"}],\"scatter3d\":[{\"line\":{\"colorbar\":{\"outlinewidth\":1,\"tickcolor\":\"rgb(36,36,36)\",\"ticks\":\"outside\"}},\"marker\":{\"colorbar\":{\"outlinewidth\":1,\"tickcolor\":\"rgb(36,36,36)\",\"ticks\":\"outside\"}},\"type\":\"scatter3d\"}],\"scattercarpet\":[{\"marker\":{\"colorbar\":{\"outlinewidth\":1,\"tickcolor\":\"rgb(36,36,36)\",\"ticks\":\"outside\"}},\"type\":\"scattercarpet\"}],\"scattergeo\":[{\"marker\":{\"colorbar\":{\"outlinewidth\":1,\"tickcolor\":\"rgb(36,36,36)\",\"ticks\":\"outside\"}},\"type\":\"scattergeo\"}],\"scattergl\":[{\"marker\":{\"colorbar\":{\"outlinewidth\":1,\"tickcolor\":\"rgb(36,36,36)\",\"ticks\":\"outside\"}},\"type\":\"scattergl\"}],\"scattermapbox\":[{\"marker\":{\"colorbar\":{\"outlinewidth\":1,\"tickcolor\":\"rgb(36,36,36)\",\"ticks\":\"outside\"}},\"type\":\"scattermapbox\"}],\"scatterpolar\":[{\"marker\":{\"colorbar\":{\"outlinewidth\":1,\"tickcolor\":\"rgb(36,36,36)\",\"ticks\":\"outside\"}},\"type\":\"scatterpolar\"}],\"scatterpolargl\":[{\"marker\":{\"colorbar\":{\"outlinewidth\":1,\"tickcolor\":\"rgb(36,36,36)\",\"ticks\":\"outside\"}},\"type\":\"scatterpolargl\"}],\"scatterternary\":[{\"marker\":{\"colorbar\":{\"outlinewidth\":1,\"tickcolor\":\"rgb(36,36,36)\",\"ticks\":\"outside\"}},\"type\":\"scatterternary\"}],\"surface\":[{\"colorbar\":{\"outlinewidth\":1,\"tickcolor\":\"rgb(36,36,36)\",\"ticks\":\"outside\"},\"colorscale\":[[0.0,\"#440154\"],[0.1111111111111111,\"#482878\"],[0.2222222222222222,\"#3e4989\"],[0.3333333333333333,\"#31688e\"],[0.4444444444444444,\"#26828e\"],[0.5555555555555556,\"#1f9e89\"],[0.6666666666666666,\"#35b779\"],[0.7777777777777778,\"#6ece58\"],[0.8888888888888888,\"#b5de2b\"],[1.0,\"#fde725\"]],\"type\":\"surface\"}],\"table\":[{\"cells\":{\"fill\":{\"color\":\"rgb(237,237,237)\"},\"line\":{\"color\":\"white\"}},\"header\":{\"fill\":{\"color\":\"rgb(217,217,217)\"},\"line\":{\"color\":\"white\"}},\"type\":\"table\"}]},\"layout\":{\"annotationdefaults\":{\"arrowcolor\":\"#2a3f5f\",\"arrowhead\":0,\"arrowwidth\":1},\"autotypenumbers\":\"strict\",\"coloraxis\":{\"colorbar\":{\"outlinewidth\":1,\"tickcolor\":\"rgb(36,36,36)\",\"ticks\":\"outside\"}},\"colorscale\":{\"diverging\":[[0.0,\"rgb(103,0,31)\"],[0.1,\"rgb(178,24,43)\"],[0.2,\"rgb(214,96,77)\"],[0.3,\"rgb(244,165,130)\"],[0.4,\"rgb(253,219,199)\"],[0.5,\"rgb(247,247,247)\"],[0.6,\"rgb(209,229,240)\"],[0.7,\"rgb(146,197,222)\"],[0.8,\"rgb(67,147,195)\"],[0.9,\"rgb(33,102,172)\"],[1.0,\"rgb(5,48,97)\"]],\"sequential\":[[0.0,\"#440154\"],[0.1111111111111111,\"#482878\"],[0.2222222222222222,\"#3e4989\"],[0.3333333333333333,\"#31688e\"],[0.4444444444444444,\"#26828e\"],[0.5555555555555556,\"#1f9e89\"],[0.6666666666666666,\"#35b779\"],[0.7777777777777778,\"#6ece58\"],[0.8888888888888888,\"#b5de2b\"],[1.0,\"#fde725\"]],\"sequentialminus\":[[0.0,\"#440154\"],[0.1111111111111111,\"#482878\"],[0.2222222222222222,\"#3e4989\"],[0.3333333333333333,\"#31688e\"],[0.4444444444444444,\"#26828e\"],[0.5555555555555556,\"#1f9e89\"],[0.6666666666666666,\"#35b779\"],[0.7777777777777778,\"#6ece58\"],[0.8888888888888888,\"#b5de2b\"],[1.0,\"#fde725\"]]},\"colorway\":[\"#1F77B4\",\"#FF7F0E\",\"#2CA02C\",\"#D62728\",\"#9467BD\",\"#8C564B\",\"#E377C2\",\"#7F7F7F\",\"#BCBD22\",\"#17BECF\"],\"font\":{\"color\":\"rgb(36,36,36)\"},\"geo\":{\"bgcolor\":\"white\",\"lakecolor\":\"white\",\"landcolor\":\"white\",\"showlakes\":true,\"showland\":true,\"subunitcolor\":\"white\"},\"hoverlabel\":{\"align\":\"left\"},\"hovermode\":\"closest\",\"mapbox\":{\"style\":\"light\"},\"paper_bgcolor\":\"white\",\"plot_bgcolor\":\"white\",\"polar\":{\"angularaxis\":{\"gridcolor\":\"rgb(232,232,232)\",\"linecolor\":\"rgb(36,36,36)\",\"showgrid\":false,\"showline\":true,\"ticks\":\"outside\"},\"bgcolor\":\"white\",\"radialaxis\":{\"gridcolor\":\"rgb(232,232,232)\",\"linecolor\":\"rgb(36,36,36)\",\"showgrid\":false,\"showline\":true,\"ticks\":\"outside\"}},\"scene\":{\"xaxis\":{\"backgroundcolor\":\"white\",\"gridcolor\":\"rgb(232,232,232)\",\"gridwidth\":2,\"linecolor\":\"rgb(36,36,36)\",\"showbackground\":true,\"showgrid\":false,\"showline\":true,\"ticks\":\"outside\",\"zeroline\":false,\"zerolinecolor\":\"rgb(36,36,36)\"},\"yaxis\":{\"backgroundcolor\":\"white\",\"gridcolor\":\"rgb(232,232,232)\",\"gridwidth\":2,\"linecolor\":\"rgb(36,36,36)\",\"showbackground\":true,\"showgrid\":false,\"showline\":true,\"ticks\":\"outside\",\"zeroline\":false,\"zerolinecolor\":\"rgb(36,36,36)\"},\"zaxis\":{\"backgroundcolor\":\"white\",\"gridcolor\":\"rgb(232,232,232)\",\"gridwidth\":2,\"linecolor\":\"rgb(36,36,36)\",\"showbackground\":true,\"showgrid\":false,\"showline\":true,\"ticks\":\"outside\",\"zeroline\":false,\"zerolinecolor\":\"rgb(36,36,36)\"}},\"shapedefaults\":{\"fillcolor\":\"black\",\"line\":{\"color\":\"#2a3f5f\",\"width\":0},\"opacity\":0.3},\"ternary\":{\"aaxis\":{\"gridcolor\":\"rgb(232,232,232)\",\"linecolor\":\"rgb(36,36,36)\",\"showgrid\":false,\"showline\":true,\"ticks\":\"outside\"},\"baxis\":{\"gridcolor\":\"rgb(232,232,232)\",\"linecolor\":\"rgb(36,36,36)\",\"showgrid\":false,\"showline\":true,\"ticks\":\"outside\"},\"bgcolor\":\"white\",\"caxis\":{\"gridcolor\":\"rgb(232,232,232)\",\"linecolor\":\"rgb(36,36,36)\",\"showgrid\":false,\"showline\":true,\"ticks\":\"outside\"}},\"title\":{\"x\":0.05},\"xaxis\":{\"automargin\":true,\"gridcolor\":\"rgb(232,232,232)\",\"linecolor\":\"rgb(36,36,36)\",\"showgrid\":false,\"showline\":true,\"ticks\":\"outside\",\"title\":{\"standoff\":15},\"zeroline\":false,\"zerolinecolor\":\"rgb(36,36,36)\",\"zerolinewidth\":2},\"yaxis\":{\"automargin\":true,\"gridcolor\":\"rgb(232,232,232)\",\"linecolor\":\"rgb(36,36,36)\",\"showgrid\":false,\"showline\":true,\"ticks\":\"outside\",\"title\":{\"standoff\":15},\"zeroline\":false,\"zerolinecolor\":\"rgb(36,36,36)\",\"zerolinewidth\":2}}},\"width\":600,\"xaxis\":{\"anchor\":\"y\",\"domain\":[0.0,0.25333333333333335],\"matches\":\"x7\",\"showgrid\":false,\"showticklabels\":false},\"xaxis2\":{\"anchor\":\"y2\",\"domain\":[0.37333333333333335,0.6266666666666667],\"matches\":\"x8\",\"showticklabels\":false},\"xaxis3\":{\"anchor\":\"y3\",\"domain\":[0.7466666666666667,1.0],\"matches\":\"x9\",\"showticklabels\":false},\"xaxis4\":{\"anchor\":\"y4\",\"domain\":[0.0,0.25333333333333335],\"matches\":\"x7\",\"showticklabels\":false},\"xaxis5\":{\"anchor\":\"y5\",\"domain\":[0.37333333333333335,0.6266666666666667],\"matches\":\"x8\",\"showticklabels\":false},\"xaxis6\":{\"anchor\":\"y6\",\"domain\":[0.7466666666666667,1.0],\"matches\":\"x9\",\"showticklabels\":false},\"xaxis7\":{\"anchor\":\"y7\",\"domain\":[0.0,0.25333333333333335],\"range\":[-0.5,15.5],\"title\":{\"text\":\"Time (years)\"}},\"xaxis8\":{\"anchor\":\"y8\",\"domain\":[0.37333333333333335,0.6266666666666667],\"range\":[-0.5,15.5],\"title\":{\"text\":\"Time (years)\"}},\"xaxis9\":{\"anchor\":\"y9\",\"domain\":[0.7466666666666667,1.0],\"range\":[-0.5,15.5],\"title\":{\"text\":\"Time (years)\"}},\"yaxis\":{\"anchor\":\"x\",\"domain\":[0.7333333333333333,1.0],\"title\":{\"text\":\"Severity increase (%)\"}},\"yaxis2\":{\"anchor\":\"x2\",\"domain\":[0.7333333333333333,1.0]},\"yaxis3\":{\"anchor\":\"x3\",\"domain\":[0.7333333333333333,1.0]},\"yaxis4\":{\"anchor\":\"x4\",\"domain\":[0.36666666666666664,0.6333333333333333],\"title\":{\"text\":\"Yield increase (tons/ha)\"}},\"yaxis5\":{\"anchor\":\"x5\",\"domain\":[0.36666666666666664,0.6333333333333333]},\"yaxis6\":{\"anchor\":\"x6\",\"domain\":[0.36666666666666664,0.6333333333333333]},\"yaxis7\":{\"anchor\":\"x7\",\"domain\":[0.0,0.26666666666666666],\"title\":{\"text\":\"Trait mean increase\"}},\"yaxis8\":{\"anchor\":\"x8\",\"domain\":[0.0,0.26666666666666666]},\"yaxis9\":{\"anchor\":\"x9\",\"domain\":[0.0,0.26666666666666666]}},                        {\"responsive\": true}                    ).then(function(){\n",
       "                            \n",
       "var gd = document.getElementById('18cf93b6-172e-4253-b286-c47f162c008f');\n",
       "var x = new MutationObserver(function (mutations, observer) {{\n",
       "        var display = window.getComputedStyle(gd).display;\n",
       "        if (!display || display === 'none') {{\n",
       "            console.log([gd, 'removed!']);\n",
       "            Plotly.purge(gd);\n",
       "            observer.disconnect();\n",
       "        }}\n",
       "}});\n",
       "\n",
       "// Listen for the removal of the full notebook cells\n",
       "var notebookContainer = gd.closest('#notebook-container');\n",
       "if (notebookContainer) {{\n",
       "    x.observe(notebookContainer, {childList: true});\n",
       "}}\n",
       "\n",
       "// Listen for the clearing of the current output cell\n",
       "var outputEl = gd.closest('.output');\n",
       "if (outputEl) {{\n",
       "    x.observe(outputEl, {childList: true});\n",
       "}}\n",
       "\n",
       "                        })                };                });            </script>        </div>"
      ]
     },
     "metadata": {},
     "output_type": "display_data"
    }
   ],
   "source": [
    "f = compare_with_stoch(\n",
    "    ds_d02,\n",
    "    ds_d12,\n",
    "    ds_d32,\n",
    "    \n",
    "    y_d02,\n",
    "    y_d12,\n",
    "    y_d32,\n",
    "    \n",
    "    fd_diff02,\n",
    "    fd_diff12,\n",
    "    fd_diff32,\n",
    ")\n",
    "\n",
    "f.show()"
   ]
  },
  {
   "cell_type": "code",
   "execution_count": 10,
   "id": "2785804f-2b41-42c5-aced-7cf45c356840",
   "metadata": {},
   "outputs": [],
   "source": [
    "f.write_image('../figures/paper_figs/fig4_draft_bands.png')"
   ]
  },
  {
   "cell_type": "code",
   "execution_count": null,
   "id": "edfec797-9aa1-41da-9c50-cc87bdbf9253",
   "metadata": {},
   "outputs": [],
   "source": []
  }
 ],
 "metadata": {
  "kernelspec": {
   "display_name": "python3_poly",
   "language": "python",
   "name": "python3_poly"
  },
  "language_info": {
   "codemirror_mode": {
    "name": "ipython",
    "version": 3
   },
   "file_extension": ".py",
   "mimetype": "text/x-python",
   "name": "python",
   "nbconvert_exporter": "python",
   "pygments_lexer": "ipython3",
   "version": "3.8.12"
  }
 },
 "nbformat": 4,
 "nbformat_minor": 5
}
