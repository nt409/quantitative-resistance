{
 "cells": [
  {
   "cell_type": "markdown",
   "id": "615de6a7-f655-4913-802f-39046e5ed7ab",
   "metadata": {},
   "source": [
    "# Supplementary CSV"
   ]
  },
  {
   "cell_type": "code",
   "execution_count": 1,
   "id": "aafd6bd1-d5f9-41ec-87ac-fac3749545f4",
   "metadata": {},
   "outputs": [],
   "source": [
    "%load_ext autoreload\n",
    "%autoreload 2"
   ]
  },
  {
   "cell_type": "code",
   "execution_count": 2,
   "id": "8ffe2386-9e93-46c8-8a62-72e81d45a843",
   "metadata": {
    "tags": []
   },
   "outputs": [],
   "source": [
    "import pandas as pd\n",
    "\n",
    "from math import floor\n",
    "\n",
    "import numpy as np\n",
    "import seaborn as sns\n",
    "import matplotlib.pyplot as plt\n",
    "\n",
    "sns.set_theme(style=\"ticks\")\n",
    "\n",
    "# import plotly.graph_objects as go\n",
    "# from plotly.subplots import make_subplots\n",
    "\n",
    "# import plotly.express as px\n",
    "\n",
    "# from math import exp, log, log10\n",
    "\n",
    "# from polymodel.config import Config\n",
    "\n",
    "# from polymodel.run import simulations_run\n",
    "\n",
    "from polymodel.utils import (\n",
    "    # Fungicide,\n",
    "    # find_beta_vectorised,\n",
    "    # get_dist_mean,\n",
    "    # get_dist_var,\n",
    "    yield_function,\n",
    ")\n",
    "\n",
    "# from polymodel.fitting import score_for_this_df\n",
    "\n",
    "# from polymodel.consts import (\n",
    "#     DEFAULT_I0, \n",
    "#     DEFAULT_BETA,\n",
    "#     MUTATION_PROP,\n",
    "#     FUNG_MUTATION_SCALE,\n",
    "#     HOST_MUTATION_SCALE,\n",
    "#     DEFAULT_P,\n",
    "#     TRAIN_TEST_SPLIT_PROPORTION\n",
    "# )\n",
    "\n",
    "# from plots.fns import (\n",
    "#     # dist_means_as_df, \n",
    "#     # generate_dist_mean,\n",
    "#     # generate_dist_var,\n",
    "#     # generate_dists,\n",
    "#     # get_dist_traces,\n",
    "#     get_arrow_annotation,\n",
    "#     get_text_annotation,\n",
    "#     standard_layout,\n",
    "#     # traces_with_uncertainty,\n",
    "#     # traces_with_uncertainty_bands, \n",
    "#     # hex_to_rgb\n",
    "# )"
   ]
  },
  {
   "cell_type": "code",
   "execution_count": 3,
   "id": "ad649e84-72ba-455b-9f6e-07acd7cf6cbf",
   "metadata": {},
   "outputs": [],
   "source": [
    "xx = np.linspace(0,1,201)\n",
    "\n",
    "df = pd.DataFrame(\n",
    "    {\n",
    "        'disease_severity': 100*xx,\n",
    "        'yield': np.vectorize(yield_function)(xx),\n",
    "    }\n",
    ")"
   ]
  },
  {
   "cell_type": "code",
   "execution_count": 4,
   "id": "29242af6-1da2-4931-b299-d853175ec450",
   "metadata": {},
   "outputs": [
    {
     "data": {
      "text/html": [
       "<div>\n",
       "<style scoped>\n",
       "    .dataframe tbody tr th:only-of-type {\n",
       "        vertical-align: middle;\n",
       "    }\n",
       "\n",
       "    .dataframe tbody tr th {\n",
       "        vertical-align: top;\n",
       "    }\n",
       "\n",
       "    .dataframe thead th {\n",
       "        text-align: right;\n",
       "    }\n",
       "</style>\n",
       "<table border=\"1\" class=\"dataframe\">\n",
       "  <thead>\n",
       "    <tr style=\"text-align: right;\">\n",
       "      <th></th>\n",
       "      <th>disease_severity</th>\n",
       "      <th>yield</th>\n",
       "    </tr>\n",
       "  </thead>\n",
       "  <tbody>\n",
       "    <tr>\n",
       "      <th>0</th>\n",
       "      <td>0.0</td>\n",
       "      <td>10.569233</td>\n",
       "    </tr>\n",
       "    <tr>\n",
       "      <th>1</th>\n",
       "      <td>0.5</td>\n",
       "      <td>10.521304</td>\n",
       "    </tr>\n",
       "    <tr>\n",
       "      <th>2</th>\n",
       "      <td>1.0</td>\n",
       "      <td>10.473374</td>\n",
       "    </tr>\n",
       "    <tr>\n",
       "      <th>3</th>\n",
       "      <td>1.5</td>\n",
       "      <td>10.425524</td>\n",
       "    </tr>\n",
       "    <tr>\n",
       "      <th>4</th>\n",
       "      <td>2.0</td>\n",
       "      <td>10.377837</td>\n",
       "    </tr>\n",
       "    <tr>\n",
       "      <th>...</th>\n",
       "      <td>...</td>\n",
       "      <td>...</td>\n",
       "    </tr>\n",
       "    <tr>\n",
       "      <th>196</th>\n",
       "      <td>98.0</td>\n",
       "      <td>6.948492</td>\n",
       "    </tr>\n",
       "    <tr>\n",
       "      <th>197</th>\n",
       "      <td>98.5</td>\n",
       "      <td>6.948088</td>\n",
       "    </tr>\n",
       "    <tr>\n",
       "      <th>198</th>\n",
       "      <td>99.0</td>\n",
       "      <td>6.947685</td>\n",
       "    </tr>\n",
       "    <tr>\n",
       "      <th>199</th>\n",
       "      <td>99.5</td>\n",
       "      <td>6.947281</td>\n",
       "    </tr>\n",
       "    <tr>\n",
       "      <th>200</th>\n",
       "      <td>100.0</td>\n",
       "      <td>6.946877</td>\n",
       "    </tr>\n",
       "  </tbody>\n",
       "</table>\n",
       "<p>201 rows × 2 columns</p>\n",
       "</div>"
      ],
      "text/plain": [
       "     disease_severity      yield\n",
       "0                 0.0  10.569233\n",
       "1                 0.5  10.521304\n",
       "2                 1.0  10.473374\n",
       "3                 1.5  10.425524\n",
       "4                 2.0  10.377837\n",
       "..                ...        ...\n",
       "196              98.0   6.948492\n",
       "197              98.5   6.948088\n",
       "198              99.0   6.947685\n",
       "199              99.5   6.947281\n",
       "200             100.0   6.946877\n",
       "\n",
       "[201 rows x 2 columns]"
      ]
     },
     "execution_count": 4,
     "metadata": {},
     "output_type": "execute_result"
    }
   ],
   "source": [
    "df"
   ]
  },
  {
   "cell_type": "code",
   "execution_count": 5,
   "id": "d79e978f-20e7-4cf0-b8a1-3e2de75faa0e",
   "metadata": {},
   "outputs": [
    {
     "data": {
      "text/plain": [
       "(5.0, 12.0)"
      ]
     },
     "execution_count": 5,
     "metadata": {},
     "output_type": "execute_result"
    },
    {
     "data": {
      "image/png": "[encoded data removed]",
      "text/plain": [
       "<Figure size 576x576 with 1 Axes>"
      ]
     },
     "metadata": {},
     "output_type": "display_data"
    }
   ],
   "source": [
    "f, ax = plt.subplots(figsize=(8,8))\n",
    "\n",
    "df.plot(x='disease_severity', y='yield', ax=ax)\n",
    "\n",
    "ax.set_ylim([5,12])"
   ]
  },
  {
   "cell_type": "code",
   "execution_count": 6,
   "id": "dc44c1bc-2e93-4da1-b444-6091c0a9db8e",
   "metadata": {},
   "outputs": [],
   "source": [
    "# df.to_csv('../data/05_outputs/yield_sev_relationship.csv', index=False)"
   ]
  },
  {
   "cell_type": "code",
   "execution_count": null,
   "id": "ec7dd7ea-97c9-4cf1-b61f-55a9d7fc8ba0",
   "metadata": {},
   "outputs": [],
   "source": []
  }
 ],
 "metadata": {
  "kernelspec": {
   "display_name": "poly2_kernel",
   "language": "python",
   "name": "poly2_kernel"
  },
  "language_info": {
   "codemirror_mode": {
    "name": "ipython",
    "version": 3
   },
   "file_extension": ".py",
   "mimetype": "text/x-python",
   "name": "python",
   "nbconvert_exporter": "python",
   "pygments_lexer": "ipython3",
   "version": "3.8.12"
  }
 },
 "nbformat": 4,
 "nbformat_minor": 5
}
