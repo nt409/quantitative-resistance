{
 "cells": [
  {
   "cell_type": "markdown",
   "id": "21732aa4-fc8a-449c-b015-98b0a2812add",
   "metadata": {},
   "source": [
    "# Fitting mutation scales\n",
    "\n",
    "## Approach\n",
    "\n",
    "Find a maximum fungicide and host mutation scale that would allow us to still fit the data, if the distribution were a delta function (i.e. narrowest possible). This corresponds to all of the breakdown being caused by mutation from a single initial strain.\n",
    "\n",
    "We find this mutation scale using the first and last years (not the initial ones since the exact shape of decline depends on shape of initial distribution which we don't think is actually a delta function).\n",
    "\n",
    "\n",
    "**CHOICES**:\n",
    "- gaussian or exponential kernel (*Gaussian seems best*)\n",
    "- mutation proportion\n",
    "- how bad is acceptable??\n",
    "\n",
    "Then fix maximum mutation scale."
   ]
  },
  {
   "cell_type": "code",
   "execution_count": null,
   "id": "dcacdae6-a54b-4b2a-8648-f4e299d6dae9",
   "metadata": {},
   "outputs": [],
   "source": [
    "%load_ext autoreload\n",
    "%autoreload 2"
   ]
  },
  {
   "cell_type": "code",
   "execution_count": null,
   "id": "96512223-c91e-47bd-a7e8-dae8d5b0ffb7",
   "metadata": {},
   "outputs": [],
   "source": [
    "import pandas as pd\n",
    "import numpy as np\n",
    "\n",
    "import seaborn as sns\n",
    "import matplotlib.pyplot as plt\n",
    "sns.set_theme(style=\"whitegrid\")\n",
    "\n",
    "import plotly.graph_objects as go\n",
    "\n",
    "import optuna\n",
    "from optuna.visualization import (\n",
    "    plot_optimization_history,\n",
    "    plot_contour,\n",
    ")\n",
    "from optuna.samplers import TPESampler\n",
    "\n",
    "from polymodel.fitting import FungMaxMutationObjective, score_for_this_df\n",
    "from polymodel.config import Config\n",
    "from polymodel.consts import MUTATION_PROP\n",
    "\n",
    "from plots.fns import standard_layout"
   ]
  },
  {
   "cell_type": "code",
   "execution_count": null,
   "id": "599fd912-c53a-433a-86f2-80abb8d2e56f",
   "metadata": {},
   "outputs": [],
   "source": [
    "optuna.logging.set_verbosity(0)"
   ]
  },
  {
   "cell_type": "markdown",
   "id": "7e5cbfef-a988-4474-9c8d-9ceba7cf6c6e",
   "metadata": {},
   "source": [
    "# Fungicide\n",
    "\n",
    "<!-- OLD - NOT TRUE ANY MORE - NB we restrict our attention to values with `mean>5` and `scale>0.1` so that we don't just fit the mean value. Something to do with the dispersal kernel meaning that this doesn't give a good fit without doing this. -->"
   ]
  },
  {
   "cell_type": "markdown",
   "id": "f1e7a7e7-4538-4f4d-9ab9-342b49881ea7",
   "metadata": {},
   "source": [
    "## Find optimal value"
   ]
  },
  {
   "cell_type": "code",
   "execution_count": null,
   "id": "6afd4d71-102c-4588-be7f-91e7b9068fc0",
   "metadata": {},
   "outputs": [],
   "source": [
    "NOT_USED_NUM = 0.5\n",
    "\n",
    "fung_fit_config = Config(\n",
    "    'single',\n",
    "    n_k=500,\n",
    "    n_l=10,\n",
    "    mutation_proportion=MUTATION_PROP,\n",
    "    mutation_scale_fung=1,\n",
    "    mutation_scale_host=1,\n",
    "    verbose=False\n",
    ")\n",
    "\n",
    "fung_fit_config.k_mu = NOT_USED_NUM\n",
    "fung_fit_config.k_b = NOT_USED_NUM\n",
    "fung_fit_config.l_mu = NOT_USED_NUM\n",
    "fung_fit_config.l_b = NOT_USED_NUM\n",
    "\n",
    "fung_fit_config.print_string_repr()"
   ]
  },
  {
   "cell_type": "code",
   "execution_count": null,
   "id": "acd46f50-d71e-4b8f-ace9-938584301c8f",
   "metadata": {},
   "outputs": [],
   "source": [
    "sampler = TPESampler(seed=0)\n",
    "study = optuna.create_study(sampler=sampler)\n",
    "obj_f = FungMaxMutationObjective(fung_fit_config)"
   ]
  },
  {
   "cell_type": "code",
   "execution_count": null,
   "id": "df4a7957-c834-4102-bda6-3d9ac28beb90",
   "metadata": {},
   "outputs": [],
   "source": [
    "%%time\n",
    "\n",
    "study.optimize(obj_f, n_trials=300)\n",
    "int(study.best_value)"
   ]
  },
  {
   "cell_type": "code",
   "execution_count": null,
   "id": "344bc52e-604e-4703-84b8-3aee2df845a9",
   "metadata": {},
   "outputs": [],
   "source": [
    "%%time\n",
    "\n",
    "study.optimize(obj_f, n_trials=300)\n",
    "int(study.best_value)"
   ]
  },
  {
   "cell_type": "code",
   "execution_count": null,
   "id": "1046e9e2-4daf-4fc4-8fe0-4e28a703e922",
   "metadata": {},
   "outputs": [],
   "source": [
    "plot_contour(study)"
   ]
  },
  {
   "cell_type": "code",
   "execution_count": null,
   "id": "4ea411b3-bff7-42c9-a062-5ff670139218",
   "metadata": {},
   "outputs": [],
   "source": [
    "plot_optimization_history(study)"
   ]
  },
  {
   "cell_type": "markdown",
   "id": "656651da-2f14-492b-97d7-501f6d94e7e0",
   "metadata": {},
   "source": [
    "## Replicate results"
   ]
  },
  {
   "cell_type": "code",
   "execution_count": null,
   "id": "a532347a-10d3-4000-aa7c-04d2ac3d8e53",
   "metadata": {},
   "outputs": [],
   "source": [
    "study.best_params"
   ]
  },
  {
   "cell_type": "code",
   "execution_count": null,
   "id": "0ac28d3c-4d33-4a7b-953f-2b12bfa44029",
   "metadata": {},
   "outputs": [],
   "source": [
    "yf = (\n",
    "    FungMaxMutationObjective(fung_fit_config)\n",
    "    .run_model(params = study.best_params)\n",
    "    \n",
    "    # .run_model(params = {\n",
    "    #     'mean': 0.08,\n",
    "    #     'mutation_scale': 0.02,\n",
    "    # })\n",
    ")\n",
    "\n",
    "yf"
   ]
  },
  {
   "cell_type": "code",
   "execution_count": null,
   "id": "d29ed3a0-afbe-4c6d-b154-880493425493",
   "metadata": {},
   "outputs": [],
   "source": [
    "control_data_f = (\n",
    "    obj_f.df\n",
    "    .loc[:, ['year', 'data_control', \n",
    "             # 'n_data'\n",
    "            ]]\n",
    "    .assign(year = lambda df: df.year - df.year.min())\n",
    ")\n",
    "\n",
    "control_data_f"
   ]
  },
  {
   "cell_type": "code",
   "execution_count": null,
   "id": "7df3c551-a5ac-4197-bf53-bba51c74bf09",
   "metadata": {},
   "outputs": [],
   "source": [
    "score_for_this_df(\n",
    "    (\n",
    "        control_data_f\n",
    "        .rename(columns={\n",
    "            'index': 'year', \n",
    "            'control': 'data_control',\n",
    "            # 'min_num': 'n_data',\n",
    "        })\n",
    "    ),\n",
    "    yf\n",
    ")"
   ]
  },
  {
   "cell_type": "code",
   "execution_count": null,
   "id": "1a6e4df4-317c-4556-8c86-410c1a408f61",
   "metadata": {},
   "outputs": [],
   "source": [
    "f, ax = plt.subplots(figsize=(14,7))\n",
    "\n",
    "sns.scatterplot(\n",
    "    x='year',\n",
    "    y='data_control',\n",
    "    # size='n_data',\n",
    "    data=control_data_f,\n",
    "    ax=ax,\n",
    ")\n",
    "\n",
    "ax.plot(yf, color='red', lw=4)"
   ]
  },
  {
   "cell_type": "markdown",
   "id": "b6c82561-f6f1-4742-98f2-3989e2faa484",
   "metadata": {},
   "source": [
    "## Save mutation scale?"
   ]
  },
  {
   "cell_type": "code",
   "execution_count": null,
   "id": "5b5b0221-ec7b-46b7-b164-f0435bf15dfd",
   "metadata": {},
   "outputs": [],
   "source": [
    "fdf = pd.DataFrame(dict(\n",
    "    mutation_scale = [study.best_params['mutation_scale']],\n",
    "    fung_mean = [study.best_params['mean']],\n",
    "))\n",
    "\n",
    "if True:\n",
    "    print('saving')\n",
    "    fdf.to_csv('../data/03_model_inputs/mutation_scale.csv')\n",
    "\n",
    "fdf"
   ]
  },
  {
   "cell_type": "markdown",
   "id": "b6ae5a2e-9ada-4657-a822-1331557c74f8",
   "metadata": {},
   "source": [
    "## Plot"
   ]
  },
  {
   "cell_type": "code",
   "execution_count": null,
   "id": "0fb82572-cda5-48fc-8355-55961bd31ede",
   "metadata": {},
   "outputs": [],
   "source": [
    "COLZ = sns.color_palette('muted').as_hex()"
   ]
  },
  {
   "cell_type": "code",
   "execution_count": null,
   "id": "9e07209a-4b18-4752-990f-730172122c8c",
   "metadata": {},
   "outputs": [],
   "source": [
    "def fung_fig(df_in, y_in):\n",
    "    \n",
    "    col1 = COLZ[0]\n",
    "    col2 = COLZ[1]\n",
    "    \n",
    "    data = [\n",
    "        go.Scatter(\n",
    "            x = df_in.year,\n",
    "            y = df_in.data_control,\n",
    "            mode = 'markers',\n",
    "            name='Data (fungicide)',\n",
    "            marker=dict(color=col1),\n",
    "        ),\n",
    "        go.Scatter(\n",
    "            x = np.arange(df_in.year.min(), df_in.year.max()+1),\n",
    "            y = y_in,\n",
    "            mode = 'lines',\n",
    "            name='Model (mutation only)',\n",
    "            line=dict(color=col2),\n",
    "        )\n",
    "    ]\n",
    "               \n",
    "    fig = go.Figure(data=data, layout=standard_layout(True, height=400))\n",
    "    \n",
    "    fig.update_layout(legend=dict(x=0.05, y=0.1))\n",
    "    \n",
    "    fig.update_xaxes(title='Year')\n",
    "    fig.update_yaxes(title='Control (%)', range=[0,100])\n",
    "    \n",
    "    return fig"
   ]
  },
  {
   "cell_type": "code",
   "execution_count": null,
   "id": "229c586b-5bf5-4608-b4c1-5d32dbafd1ad",
   "metadata": {},
   "outputs": [],
   "source": [
    "data_use = obj_f.df.loc[:, ['year', 'data_control']]"
   ]
  },
  {
   "cell_type": "code",
   "execution_count": null,
   "id": "ba4224ed-d73b-42bd-9d1e-97999f9954d2",
   "metadata": {},
   "outputs": [],
   "source": [
    "f = fung_fig(data_use, yf)\n",
    "\n",
    "f.show()"
   ]
  },
  {
   "cell_type": "code",
   "execution_count": null,
   "id": "f567d19e-c85d-4373-addf-f6f6665e5601",
   "metadata": {},
   "outputs": [],
   "source": [
    "f.write_image('../figures/paper_figs/app2_fung_mutation.png')"
   ]
  },
  {
   "cell_type": "code",
   "execution_count": null,
   "id": "7f71510c-d02f-4bfa-bca6-c131fb5caa17",
   "metadata": {},
   "outputs": [],
   "source": []
  }
 ],
 "metadata": {
  "kernelspec": {
   "display_name": "python3_poly",
   "language": "python",
   "name": "python3_poly"
  },
  "language_info": {
   "codemirror_mode": {
    "name": "ipython",
    "version": 3
   },
   "file_extension": ".py",
   "mimetype": "text/x-python",
   "name": "python",
   "nbconvert_exporter": "python",
   "pygments_lexer": "ipython3",
   "version": "3.8.12"
  }
 },
 "nbformat": 4,
 "nbformat_minor": 5
}
