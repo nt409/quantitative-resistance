{
 "cells": [
  {
   "cell_type": "markdown",
   "id": "21cf09a9-0a1b-4603-bde8-60631ba37b52",
   "metadata": {},
   "source": [
    "# Fitting distributions"
   ]
  },
  {
   "cell_type": "code",
   "execution_count": null,
   "id": "7543555e-08b3-4327-8ab4-63436c9fa489",
   "metadata": {},
   "outputs": [],
   "source": [
    "%load_ext autoreload\n",
    "%autoreload 2"
   ]
  },
  {
   "cell_type": "code",
   "execution_count": null,
   "id": "f7249302-c28e-4c38-a141-2dc2e43aa319",
   "metadata": {},
   "outputs": [],
   "source": [
    "import optuna\n",
    "\n",
    "from optuna.visualization import (\n",
    "    plot_optimization_history,\n",
    "    plot_contour,\n",
    ")\n",
    "\n",
    "from optuna.samplers import TPESampler\n",
    "\n",
    "import pandas as pd\n",
    "import numpy as np\n",
    "\n",
    "import matplotlib.pyplot as plt\n",
    "\n",
    "import seaborn as sns\n",
    "\n",
    "from polymodel.fitting import (\n",
    "    HostObjective,\n",
    "    score_for_this_df_weighted,\n",
    "    fitting_df,\n",
    ")\n",
    "    \n",
    "from polymodel.config import Config\n",
    "\n",
    "from polymodel.consts import (\n",
    "    MUTATION_PROP,\n",
    "    DEFAULT_P,\n",
    "    HOST_MUTATION_SCALE,\n",
    "    FUNG_MUTATION_SCALE,\n",
    ")"
   ]
  },
  {
   "cell_type": "markdown",
   "id": "f0f0f0d4-dc2b-49af-94c3-25ef3189af5c",
   "metadata": {},
   "source": [
    "# Host"
   ]
  },
  {
   "cell_type": "markdown",
   "id": "5e6aac36-4bc1-491d-9a23-26a8d48e5f6e",
   "metadata": {},
   "source": [
    "## Fit\n",
    "\n",
    "NB need to think about how to weight points - by `n`, `sqrt(n)` or not at all?"
   ]
  },
  {
   "cell_type": "code",
   "execution_count": null,
   "id": "ae6986ae-909b-40ea-ad11-a727dad9dfcd",
   "metadata": {},
   "outputs": [],
   "source": [
    "host_fit_config = Config(\n",
    "    'single', \n",
    "    n_k=10,\n",
    "    n_l=500,\n",
    "    mutation_proportion=MUTATION_PROP,\n",
    "    mutation_scale_fung=DEFAULT_P * FUNG_MUTATION_SCALE,\n",
    "    mutation_scale_host=DEFAULT_P * HOST_MUTATION_SCALE,\n",
    ")"
   ]
  },
  {
   "cell_type": "code",
   "execution_count": null,
   "id": "257aeda8-16d8-4109-ba31-1e05c27786c2",
   "metadata": {},
   "outputs": [],
   "source": [
    "optuna.logging.set_verbosity(0)"
   ]
  },
  {
   "cell_type": "code",
   "execution_count": null,
   "id": "c0e5518b-7ac9-40d8-9a90-62e18a8a03e5",
   "metadata": {},
   "outputs": [],
   "source": [
    "sampler = TPESampler(seed=0)\n",
    "study = optuna.create_study(sampler=sampler)\n",
    "obj_h = HostObjective(host_fit_config)"
   ]
  },
  {
   "cell_type": "code",
   "execution_count": null,
   "id": "9d5ef09b-ef03-4d70-acab-ef8696feca55",
   "metadata": {},
   "outputs": [],
   "source": [
    "%%time\n",
    "\n",
    "study.optimize(obj_h, n_trials=300)\n",
    "int(study.best_value)"
   ]
  },
  {
   "cell_type": "code",
   "execution_count": null,
   "id": "44f2fbfd-2548-4dfc-ab09-a33c5d5ff5c0",
   "metadata": {},
   "outputs": [],
   "source": [
    "%%time\n",
    "\n",
    "study.optimize(obj_h, n_trials=300)\n",
    "int(study.best_value)"
   ]
  },
  {
   "cell_type": "code",
   "execution_count": null,
   "id": "54be5ba6-d03d-4ab3-9073-cf69a2334517",
   "metadata": {},
   "outputs": [],
   "source": [
    "# study.optimize(obj_h, n_trials=100)"
   ]
  },
  {
   "cell_type": "code",
   "execution_count": null,
   "id": "447c54c0-4a1d-48e0-8837-56f4442dc503",
   "metadata": {},
   "outputs": [],
   "source": [
    "plot_optimization_history(study)"
   ]
  },
  {
   "cell_type": "code",
   "execution_count": null,
   "id": "f7761f90-1b51-4d8c-a128-9636d61578f6",
   "metadata": {},
   "outputs": [],
   "source": [
    "plot_contour(study)"
   ]
  },
  {
   "cell_type": "markdown",
   "id": "c4788a1d-7818-431c-96d1-3e637cc765df",
   "metadata": {},
   "source": [
    "## Replicate result"
   ]
  },
  {
   "cell_type": "code",
   "execution_count": null,
   "id": "631f1e68-a30c-499f-9b78-4f0c4d0ddbff",
   "metadata": {},
   "outputs": [],
   "source": [
    "study.best_params"
   ]
  },
  {
   "cell_type": "code",
   "execution_count": null,
   "id": "c89871f5-6954-49c3-9c18-865beb65674f",
   "metadata": {},
   "outputs": [],
   "source": [
    "yh = (\n",
    "    HostObjective(host_fit_config)\n",
    "    .run_model(params = study.best_params)\n",
    "    \n",
    "    # .run_model(params = {\n",
    "    #     'mean': 0.83,\n",
    "    #     'mutation_scale': 0.1\n",
    "    # })\n",
    ")\n",
    "\n",
    "yh"
   ]
  },
  {
   "cell_type": "code",
   "execution_count": null,
   "id": "2fb93f07-3cc4-47a0-836d-e460e0fcef47",
   "metadata": {},
   "outputs": [],
   "source": [
    "control_data_h = (\n",
    "    obj_h.df\n",
    "    .loc[:, ['data_control', 'n_data', 'year']]\n",
    "    .assign(year = lambda df: df.year - df.year.min())\n",
    ")\n",
    "\n",
    "control_data_h.head()"
   ]
  },
  {
   "cell_type": "code",
   "execution_count": null,
   "id": "ce4aec8c-6cfd-4a72-96da-af00a78c50b3",
   "metadata": {},
   "outputs": [],
   "source": [
    "score_for_this_df_weighted(control_data_h, yh)"
   ]
  },
  {
   "cell_type": "code",
   "execution_count": null,
   "id": "fb9fec9c-4b1e-411a-9162-2dfb6407b28a",
   "metadata": {},
   "outputs": [],
   "source": [
    "f, ax = plt.subplots(figsize=(14,7))\n",
    "\n",
    "sns.scatterplot(\n",
    "    x='year',\n",
    "    y='data_control',\n",
    "    size='n_data',\n",
    "    data=control_data_h,\n",
    "    ax=ax,\n",
    ")\n",
    "\n",
    "ax.plot(yh, lw=4, color='red')\n",
    "\n",
    "ax.set_ylim([0,100])"
   ]
  },
  {
   "cell_type": "markdown",
   "id": "1170b9c3-b6bc-466c-b71b-5badf131b226",
   "metadata": {},
   "source": [
    "## Save best values"
   ]
  },
  {
   "cell_type": "code",
   "execution_count": null,
   "id": "b3c46c81-576b-4c3f-b17f-050dc699c465",
   "metadata": {},
   "outputs": [],
   "source": [
    "filename = '../data/03_model_inputs/fitted.csv'"
   ]
  },
  {
   "cell_type": "code",
   "execution_count": null,
   "id": "839c9275-e88e-424b-95d2-83fe2b71ce56",
   "metadata": {},
   "outputs": [],
   "source": [
    "fitted = pd.read_csv(filename)\n",
    "fitted"
   ]
  },
  {
   "cell_type": "code",
   "execution_count": null,
   "id": "a1e021e2-21de-4bd2-b658-cf61445ba1b9",
   "metadata": {},
   "outputs": [],
   "source": [
    "data = fitting_df(host_fit_config, study)\n",
    "data"
   ]
  },
  {
   "cell_type": "code",
   "execution_count": null,
   "id": "5d693f84-b31e-4027-a6d7-69bbe3aa4347",
   "metadata": {},
   "outputs": [],
   "source": [
    "combined = (\n",
    "    pd.concat([\n",
    "        fitted,\n",
    "        data\n",
    "    ])\n",
    "    .sort_values('date', ascending=False)\n",
    "    .drop_duplicates()\n",
    "    .reset_index(drop=True)\n",
    "    .astype({'trial_number': 'int64'})\n",
    ")\n",
    "\n",
    "combined"
   ]
  },
  {
   "cell_type": "code",
   "execution_count": null,
   "id": "fa530cf7-62ff-4515-a4b8-1e0fdff8c347",
   "metadata": {},
   "outputs": [],
   "source": [
    "combined.to_csv('../data/03_model_inputs/fitted.csv', index=False)"
   ]
  },
  {
   "cell_type": "code",
   "execution_count": null,
   "id": "08bb9015-04c9-4f2f-b050-c18e9065d967",
   "metadata": {},
   "outputs": [],
   "source": []
  }
 ],
 "metadata": {
  "kernelspec": {
   "display_name": "python3_poly",
   "language": "python",
   "name": "python3_poly"
  },
  "language_info": {
   "codemirror_mode": {
    "name": "ipython",
    "version": 3
   },
   "file_extension": ".py",
   "mimetype": "text/x-python",
   "name": "python",
   "nbconvert_exporter": "python",
   "pygments_lexer": "ipython3",
   "version": "3.8.12"
  }
 },
 "nbformat": 4,
 "nbformat_minor": 5
}
