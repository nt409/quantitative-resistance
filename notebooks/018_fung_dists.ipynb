{
 "cells": [
  {
   "cell_type": "markdown",
   "id": "21cf09a9-0a1b-4603-bde8-60631ba37b52",
   "metadata": {},
   "source": [
    "# Fitting fungicide initial distribution"
   ]
  },
  {
   "cell_type": "markdown",
   "id": "ab324e77-1871-4b98-99c2-7bf735ff3f2b",
   "metadata": {},
   "source": [
    "Now doing with `p_m` from Alexey/McDonald paper\n",
    "\n",
    "- Gamma dist better than beta\n",
    "- `3/4` is ok but `2/3` is better"
   ]
  },
  {
   "cell_type": "code",
   "execution_count": null,
   "id": "7543555e-08b3-4327-8ab4-63436c9fa489",
   "metadata": {},
   "outputs": [],
   "source": [
    "%load_ext autoreload\n",
    "%autoreload 2"
   ]
  },
  {
   "cell_type": "code",
   "execution_count": null,
   "id": "f7249302-c28e-4c38-a141-2dc2e43aa319",
   "metadata": {},
   "outputs": [],
   "source": [
    "import optuna\n",
    "\n",
    "from optuna.visualization import (\n",
    "    plot_optimization_history,\n",
    "    plot_contour,\n",
    ")\n",
    "\n",
    "from optuna.samplers import TPESampler\n",
    "\n",
    "import pandas as pd\n",
    "import numpy as np\n",
    "\n",
    "import matplotlib.pyplot as plt\n",
    "\n",
    "import seaborn as sns\n",
    "\n",
    "from polymodel.fitting import (\n",
    "    HostObjective,\n",
    "    FungicideObjective,\n",
    "    score_for_this_df,\n",
    "    fitting_df,\n",
    ")\n",
    "    \n",
    "from polymodel.config import Config\n",
    "\n",
    "from polymodel.consts import (\n",
    "    MUTATION_PROP,\n",
    "    DEFAULT_P,\n",
    "    HOST_MUTATION_SCALE,\n",
    "    FUNG_MUTATION_SCALE,\n",
    ")"
   ]
  },
  {
   "cell_type": "markdown",
   "id": "8ac9c802-a6d2-476f-a76f-8cdc4564f8aa",
   "metadata": {},
   "source": [
    "# Fungicide"
   ]
  },
  {
   "cell_type": "markdown",
   "id": "3e7f7701-b954-43e4-8175-3e343b01429c",
   "metadata": {},
   "source": [
    "## Fit"
   ]
  },
  {
   "cell_type": "code",
   "execution_count": null,
   "id": "b0e8f2aa-37bb-476b-8c27-4a286ededf38",
   "metadata": {},
   "outputs": [],
   "source": [
    "optuna.logging.set_verbosity(0)"
   ]
  },
  {
   "cell_type": "code",
   "execution_count": null,
   "id": "81214f45-7f7a-40fd-afff-324f1286df7d",
   "metadata": {},
   "outputs": [],
   "source": [
    "from polymodel.consts import DEFAULT_P"
   ]
  },
  {
   "cell_type": "code",
   "execution_count": null,
   "id": "1ffffa87-b233-4724-b20d-59eb4e69943f",
   "metadata": {},
   "outputs": [],
   "source": [
    "DEFAULT_P"
   ]
  },
  {
   "cell_type": "code",
   "execution_count": null,
   "id": "f585a970-a2da-4630-8826-ccbbd9f5b46d",
   "metadata": {},
   "outputs": [],
   "source": [
    "fung_fit_config = Config(\n",
    "    'single', \n",
    "    n_k=500,\n",
    "    n_l=10,\n",
    "    mutation_proportion=MUTATION_PROP,\n",
    "    mutation_scale_fung=DEFAULT_P * FUNG_MUTATION_SCALE,\n",
    "    mutation_scale_host=DEFAULT_P * HOST_MUTATION_SCALE,\n",
    ")"
   ]
  },
  {
   "cell_type": "code",
   "execution_count": null,
   "id": "20d49085-ee51-4ffe-868a-b2228ff9cee7",
   "metadata": {},
   "outputs": [],
   "source": [
    "sampler_f = TPESampler(seed=0)\n",
    "study_f = optuna.create_study(sampler=sampler_f)\n",
    "obj_f = FungicideObjective(fung_fit_config)"
   ]
  },
  {
   "cell_type": "code",
   "execution_count": null,
   "id": "b9e9df0e-8d60-40ee-89b9-db5afee8cff1",
   "metadata": {},
   "outputs": [],
   "source": [
    "%%time\n",
    "\n",
    "study_f.optimize(obj_f, n_trials=300)\n",
    "int(study_f.best_value)"
   ]
  },
  {
   "cell_type": "code",
   "execution_count": null,
   "id": "9cc85de6-fb54-473b-98a7-c9431b66e433",
   "metadata": {},
   "outputs": [],
   "source": [
    "%%time\n",
    "\n",
    "study_f.optimize(obj_f, n_trials=300)\n",
    "int(study_f.best_value)"
   ]
  },
  {
   "cell_type": "code",
   "execution_count": null,
   "id": "be7128e2-2a2f-4378-afc1-902995f8d7da",
   "metadata": {},
   "outputs": [],
   "source": [
    "plot_optimization_history(study_f)"
   ]
  },
  {
   "cell_type": "code",
   "execution_count": null,
   "id": "6d2052c5-8741-432f-b76d-0ee21101a35e",
   "metadata": {},
   "outputs": [],
   "source": [
    "plot_contour(study_f)"
   ]
  },
  {
   "cell_type": "markdown",
   "id": "85107102-e814-4dc8-bd87-a8c739c2164a",
   "metadata": {},
   "source": [
    "## Replicate result"
   ]
  },
  {
   "cell_type": "code",
   "execution_count": null,
   "id": "89968870-89f9-4d24-bdfc-f79bf4a0e308",
   "metadata": {},
   "outputs": [],
   "source": [
    "study_f.best_params"
   ]
  },
  {
   "cell_type": "code",
   "execution_count": null,
   "id": "dded4fd6-2c08-4d63-88c6-dcf5160e258b",
   "metadata": {},
   "outputs": [],
   "source": [
    "yf = (\n",
    "    obj_f\n",
    "    .run_model(params = study_f.best_params)\n",
    "    \n",
    "    # .run_model(params = {\n",
    "    #     'mu': 10,\n",
    "    #     'b': 1,\n",
    "    # })\n",
    ")\n",
    "\n",
    "yf"
   ]
  },
  {
   "cell_type": "code",
   "execution_count": null,
   "id": "6496741d-2494-4c88-bbff-db041b3a7080",
   "metadata": {},
   "outputs": [],
   "source": [
    "control_data_f = (\n",
    "    obj_f.df\n",
    "    .loc[:, [\n",
    "        'data_control', \n",
    "        # 'n_data',\n",
    "        'year',\n",
    "    ]]\n",
    "    .assign(year = lambda df: df.year - df.year.min(),\n",
    "           yearnoise = lambda x: x.year + np.random.normal(scale=0.05, size=len(x))\n",
    "    )\n",
    ")\n",
    "\n",
    "control_data_f.head()"
   ]
  },
  {
   "cell_type": "code",
   "execution_count": null,
   "id": "aea2665f-819d-4dd4-bfc3-f8c255560089",
   "metadata": {},
   "outputs": [],
   "source": [
    "score_for_this_df(control_data_f, yf)"
   ]
  },
  {
   "cell_type": "code",
   "execution_count": null,
   "id": "78d4b572-b892-4438-b3a3-17e7fd08cbd0",
   "metadata": {},
   "outputs": [],
   "source": [
    "f, ax = plt.subplots(figsize=(14,7))\n",
    "\n",
    "sns.scatterplot(\n",
    "    x='yearnoise',\n",
    "    y='data_control',\n",
    "    # size='n_data',\n",
    "    data=control_data_f,\n",
    "    ax=ax,\n",
    "    alpha=0.5,\n",
    ")\n",
    "\n",
    "ax.plot(yf, lw=4, color='red')\n",
    "\n",
    "ax.set_ylim([0,100])"
   ]
  },
  {
   "cell_type": "markdown",
   "id": "dbccb75d-cb61-4c42-848b-ab0a399fb0a4",
   "metadata": {},
   "source": [
    "For\n",
    "- `p=0.01; score: 12275; 2 vs 3 looks bad`\n",
    "- `p=0.10; score: ; 2 vs 3 looks bad`\n",
    "- `p=0.20; score: ; 2 vs 3 looks good/bad?`\n",
    "- `p=0.50; score: 10841; 2 vs 3 looks good/bad?`\n",
    "\n",
    "Have tried changing the decay rate from `1.11e-2` to `6.91e-3` (Elderfield/van den Berg/Hobbelen), because wasn't able to achieve high enough control in early years.\n",
    "\n",
    "Need TRAIN_TEST_SPLIT_PROPORTION = 0.75 or 1, so that have a reasonable chance of curve going through final points which are higher than some of the ones around years 9-11.\n",
    "\n",
    "Could try with a different beta value?\n",
    "\n",
    "Think mutation doesn't do much within the range of plausible values.\n",
    "\n",
    "### Variables to tweak\n",
    "\n",
    "- `TRAIN_TEST_SPLIT_PROPORTION=0.75,1`\n",
    "- `FUNG_DECAY_RATE=6.91e-3, ~9e-3, 1.11e-2`\n",
    "- `n_k = 50,400,1000,2000`\n",
    "- `DEFAULT_P = 0.1, others`\n",
    "- maybe `beta` in the 1 vs 2 vs 3 simultaion\n",
    "\n",
    "NB if change decay rate, need to refit fung max mutation scale\n",
    "\n",
    "\n",
    "### Outcome\n",
    "\n",
    "Needed to change to gamma dist on curvature space for initial distribution. This helps get the right shape for the fungicide decline.\n",
    "\n",
    "With `TRAIN_TEST=0.8`, got something which only just works for 2 vs 3. Think best to proceed with `TRAIN_TEST=1`, especially given mutation thing. Then should get something which works for 2 vs 3 and for fitting, and no extra nuance to explain to non-ML people.\n",
    "\n",
    "Need to check effect of `n_k` - hopefully minimal."
   ]
  },
  {
   "cell_type": "markdown",
   "id": "1e823f90-53d2-498e-b8a1-623b07482f4c",
   "metadata": {},
   "source": [
    "## Save best values"
   ]
  },
  {
   "cell_type": "code",
   "execution_count": null,
   "id": "b58634e6-df73-4f17-86d1-73b19c629682",
   "metadata": {},
   "outputs": [],
   "source": [
    "filename = '../data/03_model_inputs/fitted.csv'"
   ]
  },
  {
   "cell_type": "code",
   "execution_count": null,
   "id": "baa143be-ddff-4a25-a686-b8f8a0f5249d",
   "metadata": {},
   "outputs": [],
   "source": [
    "fitted = pd.read_csv(filename)\n",
    "fitted"
   ]
  },
  {
   "cell_type": "code",
   "execution_count": null,
   "id": "cd5b958b-53f8-415f-8316-bea34716d969",
   "metadata": {},
   "outputs": [],
   "source": [
    "data_f = fitting_df(fung_fit_config, study_f, trait='Fungicide')\n",
    "data_f"
   ]
  },
  {
   "cell_type": "code",
   "execution_count": null,
   "id": "3dff24d7-c4fc-498e-8ab7-3e34106deed2",
   "metadata": {},
   "outputs": [],
   "source": [
    "combined_f = (\n",
    "    pd.concat([\n",
    "        fitted,\n",
    "        data_f\n",
    "    ])\n",
    "    .sort_values('date', ascending=False)\n",
    "    .drop_duplicates()\n",
    "    .reset_index(drop=True)\n",
    ")\n",
    "\n",
    "combined_f"
   ]
  },
  {
   "cell_type": "code",
   "execution_count": null,
   "id": "5b09cb6c-70a7-4bb1-99ea-e8c79c652be7",
   "metadata": {},
   "outputs": [],
   "source": [
    "combined_f.to_csv('../data/03_model_inputs/fitted.csv', index=False)"
   ]
  },
  {
   "cell_type": "code",
   "execution_count": null,
   "id": "24f934ae-3e35-4fec-8f5b-1893c5ae0fb3",
   "metadata": {},
   "outputs": [],
   "source": []
  }
 ],
 "metadata": {
  "kernelspec": {
   "display_name": "python3_poly",
   "language": "python",
   "name": "python3_poly"
  },
  "language_info": {
   "codemirror_mode": {
    "name": "ipython",
    "version": 3
   },
   "file_extension": ".py",
   "mimetype": "text/x-python",
   "name": "python",
   "nbconvert_exporter": "python",
   "pygments_lexer": "ipython3",
   "version": "3.8.12"
  }
 },
 "nbformat": 4,
 "nbformat_minor": 5
}
