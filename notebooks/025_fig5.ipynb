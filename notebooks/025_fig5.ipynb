{
 "cells": [
  {
   "cell_type": "markdown",
   "id": "64df4274-d4cf-4576-af2f-ddcd94516380",
   "metadata": {},
   "source": [
    "# Fig 5 - host effect"
   ]
  },
  {
   "cell_type": "markdown",
   "id": "12e37b92-bc8b-4cd5-9e32-335725e55b20",
   "metadata": {},
   "source": [
    "Need [yield/sev/trait] data from combined dataframes from cluster.\n",
    "\n",
    "Then get difference.\n",
    "\n",
    "Then for each variable, get data in the form of dataframe below:\n",
    "\n",
    "Relies on `cluster/f5_host_run_T.submit`, `cluster/f5_host_run_F.submit` to get data. This produces a load of csvs which are combined via `cluster/host_run_{T/F}_pp.py`."
   ]
  },
  {
   "cell_type": "code",
   "execution_count": 1,
   "id": "b8c5614b-ac17-4cb3-8849-4f78cf668a98",
   "metadata": {},
   "outputs": [],
   "source": [
    "%load_ext autoreload\n",
    "%autoreload 2"
   ]
  },
  {
   "cell_type": "code",
   "execution_count": 2,
   "id": "e41b4168-09e5-4695-9a50-9e6d89405788",
   "metadata": {
    "tags": []
   },
   "outputs": [],
   "source": [
    "import pandas as pd\n",
    "\n",
    "from math import floor\n",
    "\n",
    "import numpy as np\n",
    "import seaborn as sns\n",
    "import matplotlib.pyplot as plt\n",
    "\n",
    "sns.set_theme(style=\"ticks\")\n",
    "\n",
    "from colour import Color\n",
    "\n",
    "import plotly.graph_objects as go\n",
    "from plotly.subplots import make_subplots\n",
    "\n",
    "from math import exp, log, log10\n",
    "\n",
    "from polymodel.config import Config\n",
    "\n",
    "from polymodel.utils import (\n",
    "    Fungicide,\n",
    "    find_beta_vectorised,\n",
    "    truncated_exp_pdf,\n",
    "    logit10_vectorised,\n",
    "    initial_point_distribution,\n",
    "    trait_vec\n",
    ")\n",
    "\n",
    "from polymodel.simulator import SimulatorOneTrait\n",
    "\n",
    "from polymodel.consts import (\n",
    "    DEFAULT_I0, \n",
    "    DEFAULT_BETA,\n",
    "    MUTATION_PROP,\n",
    "    FUNG_MUTATION_SCALE,\n",
    "    HOST_MUTATION_SCALE,\n",
    "    DEFAULT_P,\n",
    "    TRAIN_TEST_SPLIT_PROPORTION\n",
    ")\n",
    "\n",
    "from plots.fns import (\n",
    "    dist_means_as_df,\n",
    "    get_arrow_annotation,\n",
    "    get_text_annotation,\n",
    "    standard_layout,\n",
    "    traces_with_uncertainty,\n",
    "    traces_with_uncertainty_bands, \n",
    "    hex_to_rgb\n",
    ")"
   ]
  },
  {
   "cell_type": "code",
   "execution_count": 3,
   "id": "0e2eaa35-3aff-426f-ba45-bab3a69d5caf",
   "metadata": {},
   "outputs": [],
   "source": [
    "COLZ = sns.color_palette('muted').as_hex()"
   ]
  },
  {
   "cell_type": "markdown",
   "id": "52ec5195-3cce-478b-94f5-f8334896a583",
   "metadata": {},
   "source": [
    "## Host on data"
   ]
  },
  {
   "cell_type": "code",
   "execution_count": 4,
   "id": "06a16134-7490-44bd-b952-8fd9ab64390f",
   "metadata": {},
   "outputs": [],
   "source": [
    "host_on = pd.read_csv('../data/05_outputs/fig5/fig5_T.csv')"
   ]
  },
  {
   "cell_type": "code",
   "execution_count": 5,
   "id": "6e31f581-c3a7-4b75-aca2-bb0abfe9905d",
   "metadata": {},
   "outputs": [
    {
     "data": {
      "text/html": [
       "<div>\n",
       "<style scoped>\n",
       "    .dataframe tbody tr th:only-of-type {\n",
       "        vertical-align: middle;\n",
       "    }\n",
       "\n",
       "    .dataframe tbody tr th {\n",
       "        vertical-align: top;\n",
       "    }\n",
       "\n",
       "    .dataframe thead th {\n",
       "        text-align: right;\n",
       "    }\n",
       "</style>\n",
       "<table border=\"1\" class=\"dataframe\">\n",
       "  <thead>\n",
       "    <tr style=\"text-align: right;\">\n",
       "      <th></th>\n",
       "      <th>y0</th>\n",
       "      <th>y1</th>\n",
       "      <th>y2</th>\n",
       "      <th>y3</th>\n",
       "      <th>y4</th>\n",
       "      <th>y5</th>\n",
       "      <th>y6</th>\n",
       "      <th>y7</th>\n",
       "      <th>y8</th>\n",
       "      <th>y9</th>\n",
       "      <th>...</th>\n",
       "      <th>y990</th>\n",
       "      <th>y991</th>\n",
       "      <th>y992</th>\n",
       "      <th>y993</th>\n",
       "      <th>y994</th>\n",
       "      <th>y995</th>\n",
       "      <th>y996</th>\n",
       "      <th>y997</th>\n",
       "      <th>y998</th>\n",
       "      <th>y999</th>\n",
       "    </tr>\n",
       "  </thead>\n",
       "  <tbody>\n",
       "    <tr>\n",
       "      <th>0</th>\n",
       "      <td>NaN</td>\n",
       "      <td>NaN</td>\n",
       "      <td>NaN</td>\n",
       "      <td>NaN</td>\n",
       "      <td>NaN</td>\n",
       "      <td>NaN</td>\n",
       "      <td>NaN</td>\n",
       "      <td>NaN</td>\n",
       "      <td>NaN</td>\n",
       "      <td>NaN</td>\n",
       "      <td>...</td>\n",
       "      <td>NaN</td>\n",
       "      <td>NaN</td>\n",
       "      <td>NaN</td>\n",
       "      <td>NaN</td>\n",
       "      <td>NaN</td>\n",
       "      <td>NaN</td>\n",
       "      <td>NaN</td>\n",
       "      <td>NaN</td>\n",
       "      <td>NaN</td>\n",
       "      <td>NaN</td>\n",
       "    </tr>\n",
       "    <tr>\n",
       "      <th>1</th>\n",
       "      <td>10.540391</td>\n",
       "      <td>10.540378</td>\n",
       "      <td>10.540203</td>\n",
       "      <td>10.494212</td>\n",
       "      <td>10.540527</td>\n",
       "      <td>10.487033</td>\n",
       "      <td>10.47449</td>\n",
       "      <td>10.563242</td>\n",
       "      <td>10.561778</td>\n",
       "      <td>10.514065</td>\n",
       "      <td>...</td>\n",
       "      <td>10.541126</td>\n",
       "      <td>10.526683</td>\n",
       "      <td>10.532031</td>\n",
       "      <td>10.524557</td>\n",
       "      <td>10.539847</td>\n",
       "      <td>10.548801</td>\n",
       "      <td>10.528332</td>\n",
       "      <td>10.539384</td>\n",
       "      <td>10.51782</td>\n",
       "      <td>10.52317</td>\n",
       "    </tr>\n",
       "  </tbody>\n",
       "</table>\n",
       "<p>2 rows × 1000 columns</p>\n",
       "</div>"
      ],
      "text/plain": [
       "          y0         y1         y2         y3         y4         y5        y6  \\\n",
       "0        NaN        NaN        NaN        NaN        NaN        NaN       NaN   \n",
       "1  10.540391  10.540378  10.540203  10.494212  10.540527  10.487033  10.47449   \n",
       "\n",
       "          y7         y8         y9  ...       y990       y991       y992  \\\n",
       "0        NaN        NaN        NaN  ...        NaN        NaN        NaN   \n",
       "1  10.563242  10.561778  10.514065  ...  10.541126  10.526683  10.532031   \n",
       "\n",
       "        y993       y994       y995       y996       y997      y998      y999  \n",
       "0        NaN        NaN        NaN        NaN        NaN       NaN       NaN  \n",
       "1  10.524557  10.539847  10.548801  10.528332  10.539384  10.51782  10.52317  \n",
       "\n",
       "[2 rows x 1000 columns]"
      ]
     },
     "execution_count": 5,
     "metadata": {},
     "output_type": "execute_result"
    }
   ],
   "source": [
    "host_on_yld = (\n",
    "    host_on\n",
    "    .filter(like='yld')\n",
    "    .rename(columns = lambda x: 'y' + x.split('d')[-1])\n",
    ")\n",
    "\n",
    "host_on_yld.head(2)"
   ]
  },
  {
   "cell_type": "code",
   "execution_count": 6,
   "id": "373fbf0b-a20f-422d-8678-e14d816dcca8",
   "metadata": {},
   "outputs": [
    {
     "data": {
      "text/html": [
       "<div>\n",
       "<style scoped>\n",
       "    .dataframe tbody tr th:only-of-type {\n",
       "        vertical-align: middle;\n",
       "    }\n",
       "\n",
       "    .dataframe tbody tr th {\n",
       "        vertical-align: top;\n",
       "    }\n",
       "\n",
       "    .dataframe thead th {\n",
       "        text-align: right;\n",
       "    }\n",
       "</style>\n",
       "<table border=\"1\" class=\"dataframe\">\n",
       "  <thead>\n",
       "    <tr style=\"text-align: right;\">\n",
       "      <th></th>\n",
       "      <th>y0</th>\n",
       "      <th>y1</th>\n",
       "      <th>y2</th>\n",
       "      <th>y3</th>\n",
       "      <th>y4</th>\n",
       "      <th>y5</th>\n",
       "      <th>y6</th>\n",
       "      <th>y7</th>\n",
       "      <th>y8</th>\n",
       "      <th>y9</th>\n",
       "      <th>...</th>\n",
       "      <th>y990</th>\n",
       "      <th>y991</th>\n",
       "      <th>y992</th>\n",
       "      <th>y993</th>\n",
       "      <th>y994</th>\n",
       "      <th>y995</th>\n",
       "      <th>y996</th>\n",
       "      <th>y997</th>\n",
       "      <th>y998</th>\n",
       "      <th>y999</th>\n",
       "    </tr>\n",
       "  </thead>\n",
       "  <tbody>\n",
       "    <tr>\n",
       "      <th>0</th>\n",
       "      <td>NaN</td>\n",
       "      <td>NaN</td>\n",
       "      <td>NaN</td>\n",
       "      <td>NaN</td>\n",
       "      <td>NaN</td>\n",
       "      <td>NaN</td>\n",
       "      <td>NaN</td>\n",
       "      <td>NaN</td>\n",
       "      <td>NaN</td>\n",
       "      <td>NaN</td>\n",
       "      <td>...</td>\n",
       "      <td>NaN</td>\n",
       "      <td>NaN</td>\n",
       "      <td>NaN</td>\n",
       "      <td>NaN</td>\n",
       "      <td>NaN</td>\n",
       "      <td>NaN</td>\n",
       "      <td>NaN</td>\n",
       "      <td>NaN</td>\n",
       "      <td>NaN</td>\n",
       "      <td>NaN</td>\n",
       "    </tr>\n",
       "    <tr>\n",
       "      <th>1</th>\n",
       "      <td>0.300885</td>\n",
       "      <td>0.301021</td>\n",
       "      <td>0.302846</td>\n",
       "      <td>0.782615</td>\n",
       "      <td>0.299465</td>\n",
       "      <td>0.857505</td>\n",
       "      <td>0.988351</td>\n",
       "      <td>0.062499</td>\n",
       "      <td>0.07777</td>\n",
       "      <td>0.575508</td>\n",
       "      <td>...</td>\n",
       "      <td>0.293211</td>\n",
       "      <td>0.443879</td>\n",
       "      <td>0.388094</td>\n",
       "      <td>0.466055</td>\n",
       "      <td>0.306555</td>\n",
       "      <td>0.213144</td>\n",
       "      <td>0.426675</td>\n",
       "      <td>0.311387</td>\n",
       "      <td>0.536335</td>\n",
       "      <td>0.480532</td>\n",
       "    </tr>\n",
       "  </tbody>\n",
       "</table>\n",
       "<p>2 rows × 1000 columns</p>\n",
       "</div>"
      ],
      "text/plain": [
       "         y0        y1        y2        y3        y4        y5        y6  \\\n",
       "0       NaN       NaN       NaN       NaN       NaN       NaN       NaN   \n",
       "1  0.300885  0.301021  0.302846  0.782615  0.299465  0.857505  0.988351   \n",
       "\n",
       "         y7       y8        y9  ...      y990      y991      y992      y993  \\\n",
       "0       NaN      NaN       NaN  ...       NaN       NaN       NaN       NaN   \n",
       "1  0.062499  0.07777  0.575508  ...  0.293211  0.443879  0.388094  0.466055   \n",
       "\n",
       "       y994      y995      y996      y997      y998      y999  \n",
       "0       NaN       NaN       NaN       NaN       NaN       NaN  \n",
       "1  0.306555  0.213144  0.426675  0.311387  0.536335  0.480532  \n",
       "\n",
       "[2 rows x 1000 columns]"
      ]
     },
     "execution_count": 6,
     "metadata": {},
     "output_type": "execute_result"
    }
   ],
   "source": [
    "host_on_sev = (\n",
    "    host_on\n",
    "    .filter(like='sev')\n",
    "    .rename(columns = lambda x: 'y' + x.split('v')[-1])\n",
    ")\n",
    "\n",
    "host_on_sev.head(2)"
   ]
  },
  {
   "cell_type": "code",
   "execution_count": 7,
   "id": "1a0d0fa4-2c51-445a-8f9f-99ef8c94d8f1",
   "metadata": {},
   "outputs": [
    {
     "data": {
      "text/html": [
       "<div>\n",
       "<style scoped>\n",
       "    .dataframe tbody tr th:only-of-type {\n",
       "        vertical-align: middle;\n",
       "    }\n",
       "\n",
       "    .dataframe tbody tr th {\n",
       "        vertical-align: top;\n",
       "    }\n",
       "\n",
       "    .dataframe thead th {\n",
       "        text-align: right;\n",
       "    }\n",
       "</style>\n",
       "<table border=\"1\" class=\"dataframe\">\n",
       "  <thead>\n",
       "    <tr style=\"text-align: right;\">\n",
       "      <th></th>\n",
       "      <th>y0</th>\n",
       "      <th>y1</th>\n",
       "      <th>y2</th>\n",
       "      <th>y3</th>\n",
       "      <th>y4</th>\n",
       "      <th>y5</th>\n",
       "      <th>y6</th>\n",
       "      <th>y7</th>\n",
       "      <th>y8</th>\n",
       "      <th>y9</th>\n",
       "      <th>...</th>\n",
       "      <th>y990</th>\n",
       "      <th>y991</th>\n",
       "      <th>y992</th>\n",
       "      <th>y993</th>\n",
       "      <th>y994</th>\n",
       "      <th>y995</th>\n",
       "      <th>y996</th>\n",
       "      <th>y997</th>\n",
       "      <th>y998</th>\n",
       "      <th>y999</th>\n",
       "    </tr>\n",
       "  </thead>\n",
       "  <tbody>\n",
       "    <tr>\n",
       "      <th>0</th>\n",
       "      <td>0.006029</td>\n",
       "      <td>0.006029</td>\n",
       "      <td>0.006029</td>\n",
       "      <td>0.006029</td>\n",
       "      <td>0.006029</td>\n",
       "      <td>0.006029</td>\n",
       "      <td>0.006029</td>\n",
       "      <td>0.006029</td>\n",
       "      <td>0.006029</td>\n",
       "      <td>0.006029</td>\n",
       "      <td>...</td>\n",
       "      <td>0.006029</td>\n",
       "      <td>0.006029</td>\n",
       "      <td>0.006029</td>\n",
       "      <td>0.006029</td>\n",
       "      <td>0.006029</td>\n",
       "      <td>0.006029</td>\n",
       "      <td>0.006029</td>\n",
       "      <td>0.006029</td>\n",
       "      <td>0.006029</td>\n",
       "      <td>0.006029</td>\n",
       "    </tr>\n",
       "    <tr>\n",
       "      <th>1</th>\n",
       "      <td>0.006920</td>\n",
       "      <td>0.006920</td>\n",
       "      <td>0.006923</td>\n",
       "      <td>0.007382</td>\n",
       "      <td>0.006918</td>\n",
       "      <td>0.007433</td>\n",
       "      <td>0.007515</td>\n",
       "      <td>0.006376</td>\n",
       "      <td>0.006439</td>\n",
       "      <td>0.007220</td>\n",
       "      <td>...</td>\n",
       "      <td>0.006909</td>\n",
       "      <td>0.007093</td>\n",
       "      <td>0.007031</td>\n",
       "      <td>0.007116</td>\n",
       "      <td>0.006928</td>\n",
       "      <td>0.006781</td>\n",
       "      <td>0.007075</td>\n",
       "      <td>0.006934</td>\n",
       "      <td>0.007185</td>\n",
       "      <td>0.007131</td>\n",
       "    </tr>\n",
       "  </tbody>\n",
       "</table>\n",
       "<p>2 rows × 1000 columns</p>\n",
       "</div>"
      ],
      "text/plain": [
       "         y0        y1        y2        y3        y4        y5        y6  \\\n",
       "0  0.006029  0.006029  0.006029  0.006029  0.006029  0.006029  0.006029   \n",
       "1  0.006920  0.006920  0.006923  0.007382  0.006918  0.007433  0.007515   \n",
       "\n",
       "         y7        y8        y9  ...      y990      y991      y992      y993  \\\n",
       "0  0.006029  0.006029  0.006029  ...  0.006029  0.006029  0.006029  0.006029   \n",
       "1  0.006376  0.006439  0.007220  ...  0.006909  0.007093  0.007031  0.007116   \n",
       "\n",
       "       y994      y995      y996      y997      y998      y999  \n",
       "0  0.006029  0.006029  0.006029  0.006029  0.006029  0.006029  \n",
       "1  0.006928  0.006781  0.007075  0.006934  0.007185  0.007131  \n",
       "\n",
       "[2 rows x 1000 columns]"
      ]
     },
     "execution_count": 7,
     "metadata": {},
     "output_type": "execute_result"
    }
   ],
   "source": [
    "host_on_fm = (\n",
    "    host_on\n",
    "    .filter(like='fung')\n",
    "    .rename(columns = lambda x: 'y' + x.split('mean')[-1])\n",
    ")\n",
    "\n",
    "host_on_fm.head(2)"
   ]
  },
  {
   "cell_type": "markdown",
   "id": "1a282fb7-821d-4cea-8cd8-716073498a87",
   "metadata": {},
   "source": [
    "## Host off data"
   ]
  },
  {
   "cell_type": "code",
   "execution_count": 8,
   "id": "0302bd78-0fd3-45e4-be42-ebe20361af5b",
   "metadata": {},
   "outputs": [],
   "source": [
    "host_off = pd.read_csv('../data/05_outputs/fig5/fig5_F.csv')"
   ]
  },
  {
   "cell_type": "code",
   "execution_count": 9,
   "id": "e7fcc3d0-e64f-44ed-94c7-46324d17c234",
   "metadata": {},
   "outputs": [
    {
     "data": {
      "text/html": [
       "<div>\n",
       "<style scoped>\n",
       "    .dataframe tbody tr th:only-of-type {\n",
       "        vertical-align: middle;\n",
       "    }\n",
       "\n",
       "    .dataframe tbody tr th {\n",
       "        vertical-align: top;\n",
       "    }\n",
       "\n",
       "    .dataframe thead th {\n",
       "        text-align: right;\n",
       "    }\n",
       "</style>\n",
       "<table border=\"1\" class=\"dataframe\">\n",
       "  <thead>\n",
       "    <tr style=\"text-align: right;\">\n",
       "      <th></th>\n",
       "      <th>y0</th>\n",
       "      <th>y1</th>\n",
       "      <th>y2</th>\n",
       "      <th>y3</th>\n",
       "      <th>y4</th>\n",
       "      <th>y5</th>\n",
       "      <th>y6</th>\n",
       "      <th>y7</th>\n",
       "      <th>y8</th>\n",
       "      <th>y9</th>\n",
       "      <th>...</th>\n",
       "      <th>y990</th>\n",
       "      <th>y991</th>\n",
       "      <th>y992</th>\n",
       "      <th>y993</th>\n",
       "      <th>y994</th>\n",
       "      <th>y995</th>\n",
       "      <th>y996</th>\n",
       "      <th>y997</th>\n",
       "      <th>y998</th>\n",
       "      <th>y999</th>\n",
       "    </tr>\n",
       "  </thead>\n",
       "  <tbody>\n",
       "    <tr>\n",
       "      <th>0</th>\n",
       "      <td>NaN</td>\n",
       "      <td>NaN</td>\n",
       "      <td>NaN</td>\n",
       "      <td>NaN</td>\n",
       "      <td>NaN</td>\n",
       "      <td>NaN</td>\n",
       "      <td>NaN</td>\n",
       "      <td>NaN</td>\n",
       "      <td>NaN</td>\n",
       "      <td>NaN</td>\n",
       "      <td>...</td>\n",
       "      <td>NaN</td>\n",
       "      <td>NaN</td>\n",
       "      <td>NaN</td>\n",
       "      <td>NaN</td>\n",
       "      <td>NaN</td>\n",
       "      <td>NaN</td>\n",
       "      <td>NaN</td>\n",
       "      <td>NaN</td>\n",
       "      <td>NaN</td>\n",
       "      <td>NaN</td>\n",
       "    </tr>\n",
       "    <tr>\n",
       "      <th>1</th>\n",
       "      <td>10.512154</td>\n",
       "      <td>10.512123</td>\n",
       "      <td>10.511704</td>\n",
       "      <td>10.389</td>\n",
       "      <td>10.51248</td>\n",
       "      <td>10.36832</td>\n",
       "      <td>10.3315</td>\n",
       "      <td>10.560809</td>\n",
       "      <td>10.558227</td>\n",
       "      <td>10.444445</td>\n",
       "      <td>...</td>\n",
       "      <td>10.513912</td>\n",
       "      <td>10.477935</td>\n",
       "      <td>10.491592</td>\n",
       "      <td>10.472399</td>\n",
       "      <td>10.51085</td>\n",
       "      <td>10.531651</td>\n",
       "      <td>10.482185</td>\n",
       "      <td>10.509735</td>\n",
       "      <td>10.454571</td>\n",
       "      <td>10.468764</td>\n",
       "    </tr>\n",
       "  </tbody>\n",
       "</table>\n",
       "<p>2 rows × 1000 columns</p>\n",
       "</div>"
      ],
      "text/plain": [
       "          y0         y1         y2      y3        y4        y5       y6  \\\n",
       "0        NaN        NaN        NaN     NaN       NaN       NaN      NaN   \n",
       "1  10.512154  10.512123  10.511704  10.389  10.51248  10.36832  10.3315   \n",
       "\n",
       "          y7         y8         y9  ...       y990       y991       y992  \\\n",
       "0        NaN        NaN        NaN  ...        NaN        NaN        NaN   \n",
       "1  10.560809  10.558227  10.444445  ...  10.513912  10.477935  10.491592   \n",
       "\n",
       "        y993      y994       y995       y996       y997       y998       y999  \n",
       "0        NaN       NaN        NaN        NaN        NaN        NaN        NaN  \n",
       "1  10.472399  10.51085  10.531651  10.482185  10.509735  10.454571  10.468764  \n",
       "\n",
       "[2 rows x 1000 columns]"
      ]
     },
     "execution_count": 9,
     "metadata": {},
     "output_type": "execute_result"
    }
   ],
   "source": [
    "host_off_yld = (\n",
    "    host_off\n",
    "    .filter(like='yld')\n",
    "    .rename(columns = lambda x: 'y' + x.split('d')[-1])\n",
    ")\n",
    "\n",
    "host_off_yld.head(2)"
   ]
  },
  {
   "cell_type": "code",
   "execution_count": 10,
   "id": "e648284b-cd57-44ea-85d7-21d67f01918e",
   "metadata": {},
   "outputs": [
    {
     "data": {
      "text/html": [
       "<div>\n",
       "<style scoped>\n",
       "    .dataframe tbody tr th:only-of-type {\n",
       "        vertical-align: middle;\n",
       "    }\n",
       "\n",
       "    .dataframe tbody tr th {\n",
       "        vertical-align: top;\n",
       "    }\n",
       "\n",
       "    .dataframe thead th {\n",
       "        text-align: right;\n",
       "    }\n",
       "</style>\n",
       "<table border=\"1\" class=\"dataframe\">\n",
       "  <thead>\n",
       "    <tr style=\"text-align: right;\">\n",
       "      <th></th>\n",
       "      <th>y0</th>\n",
       "      <th>y1</th>\n",
       "      <th>y2</th>\n",
       "      <th>y3</th>\n",
       "      <th>y4</th>\n",
       "      <th>y5</th>\n",
       "      <th>y6</th>\n",
       "      <th>y7</th>\n",
       "      <th>y8</th>\n",
       "      <th>y9</th>\n",
       "      <th>...</th>\n",
       "      <th>y990</th>\n",
       "      <th>y991</th>\n",
       "      <th>y992</th>\n",
       "      <th>y993</th>\n",
       "      <th>y994</th>\n",
       "      <th>y995</th>\n",
       "      <th>y996</th>\n",
       "      <th>y997</th>\n",
       "      <th>y998</th>\n",
       "      <th>y999</th>\n",
       "    </tr>\n",
       "  </thead>\n",
       "  <tbody>\n",
       "    <tr>\n",
       "      <th>0</th>\n",
       "      <td>NaN</td>\n",
       "      <td>NaN</td>\n",
       "      <td>NaN</td>\n",
       "      <td>NaN</td>\n",
       "      <td>NaN</td>\n",
       "      <td>NaN</td>\n",
       "      <td>NaN</td>\n",
       "      <td>NaN</td>\n",
       "      <td>NaN</td>\n",
       "      <td>NaN</td>\n",
       "      <td>...</td>\n",
       "      <td>NaN</td>\n",
       "      <td>NaN</td>\n",
       "      <td>NaN</td>\n",
       "      <td>NaN</td>\n",
       "      <td>NaN</td>\n",
       "      <td>NaN</td>\n",
       "      <td>NaN</td>\n",
       "      <td>NaN</td>\n",
       "      <td>NaN</td>\n",
       "      <td>NaN</td>\n",
       "    </tr>\n",
       "    <tr>\n",
       "      <th>1</th>\n",
       "      <td>0.595445</td>\n",
       "      <td>0.59577</td>\n",
       "      <td>0.600144</td>\n",
       "      <td>1.882801</td>\n",
       "      <td>0.592045</td>\n",
       "      <td>2.099989</td>\n",
       "      <td>2.487534</td>\n",
       "      <td>0.087878</td>\n",
       "      <td>0.114812</td>\n",
       "      <td>1.302084</td>\n",
       "      <td>...</td>\n",
       "      <td>0.577109</td>\n",
       "      <td>0.952415</td>\n",
       "      <td>0.809946</td>\n",
       "      <td>1.010171</td>\n",
       "      <td>0.609052</td>\n",
       "      <td>0.392058</td>\n",
       "      <td>0.908084</td>\n",
       "      <td>0.620687</td>\n",
       "      <td>1.196279</td>\n",
       "      <td>1.048093</td>\n",
       "    </tr>\n",
       "  </tbody>\n",
       "</table>\n",
       "<p>2 rows × 1000 columns</p>\n",
       "</div>"
      ],
      "text/plain": [
       "         y0       y1        y2        y3        y4        y5        y6  \\\n",
       "0       NaN      NaN       NaN       NaN       NaN       NaN       NaN   \n",
       "1  0.595445  0.59577  0.600144  1.882801  0.592045  2.099989  2.487534   \n",
       "\n",
       "         y7        y8        y9  ...      y990      y991      y992      y993  \\\n",
       "0       NaN       NaN       NaN  ...       NaN       NaN       NaN       NaN   \n",
       "1  0.087878  0.114812  1.302084  ...  0.577109  0.952415  0.809946  1.010171   \n",
       "\n",
       "       y994      y995      y996      y997      y998      y999  \n",
       "0       NaN       NaN       NaN       NaN       NaN       NaN  \n",
       "1  0.609052  0.392058  0.908084  0.620687  1.196279  1.048093  \n",
       "\n",
       "[2 rows x 1000 columns]"
      ]
     },
     "execution_count": 10,
     "metadata": {},
     "output_type": "execute_result"
    }
   ],
   "source": [
    "host_off_sev = (\n",
    "    host_off\n",
    "    .filter(like='sev')\n",
    "    .rename(columns = lambda x: 'y' + x.split('v')[-1])\n",
    ")\n",
    "\n",
    "host_off_sev.head(2)"
   ]
  },
  {
   "cell_type": "code",
   "execution_count": 11,
   "id": "a852bdb6-24ec-419a-a25c-3d05e2133ef0",
   "metadata": {},
   "outputs": [
    {
     "data": {
      "text/html": [
       "<div>\n",
       "<style scoped>\n",
       "    .dataframe tbody tr th:only-of-type {\n",
       "        vertical-align: middle;\n",
       "    }\n",
       "\n",
       "    .dataframe tbody tr th {\n",
       "        vertical-align: top;\n",
       "    }\n",
       "\n",
       "    .dataframe thead th {\n",
       "        text-align: right;\n",
       "    }\n",
       "</style>\n",
       "<table border=\"1\" class=\"dataframe\">\n",
       "  <thead>\n",
       "    <tr style=\"text-align: right;\">\n",
       "      <th></th>\n",
       "      <th>y0</th>\n",
       "      <th>y1</th>\n",
       "      <th>y2</th>\n",
       "      <th>y3</th>\n",
       "      <th>y4</th>\n",
       "      <th>y5</th>\n",
       "      <th>y6</th>\n",
       "      <th>y7</th>\n",
       "      <th>y8</th>\n",
       "      <th>y9</th>\n",
       "      <th>...</th>\n",
       "      <th>y990</th>\n",
       "      <th>y991</th>\n",
       "      <th>y992</th>\n",
       "      <th>y993</th>\n",
       "      <th>y994</th>\n",
       "      <th>y995</th>\n",
       "      <th>y996</th>\n",
       "      <th>y997</th>\n",
       "      <th>y998</th>\n",
       "      <th>y999</th>\n",
       "    </tr>\n",
       "  </thead>\n",
       "  <tbody>\n",
       "    <tr>\n",
       "      <th>0</th>\n",
       "      <td>0.006029</td>\n",
       "      <td>0.006029</td>\n",
       "      <td>0.006029</td>\n",
       "      <td>0.006029</td>\n",
       "      <td>0.006029</td>\n",
       "      <td>0.006029</td>\n",
       "      <td>0.006029</td>\n",
       "      <td>0.006029</td>\n",
       "      <td>0.006029</td>\n",
       "      <td>0.006029</td>\n",
       "      <td>...</td>\n",
       "      <td>0.006029</td>\n",
       "      <td>0.006029</td>\n",
       "      <td>0.006029</td>\n",
       "      <td>0.006029</td>\n",
       "      <td>0.006029</td>\n",
       "      <td>0.006029</td>\n",
       "      <td>0.006029</td>\n",
       "      <td>0.006029</td>\n",
       "      <td>0.006029</td>\n",
       "      <td>0.006029</td>\n",
       "    </tr>\n",
       "    <tr>\n",
       "      <th>1</th>\n",
       "      <td>0.007236</td>\n",
       "      <td>0.007236</td>\n",
       "      <td>0.007240</td>\n",
       "      <td>0.007929</td>\n",
       "      <td>0.007233</td>\n",
       "      <td>0.008008</td>\n",
       "      <td>0.008135</td>\n",
       "      <td>0.006476</td>\n",
       "      <td>0.006560</td>\n",
       "      <td>0.007681</td>\n",
       "      <td>...</td>\n",
       "      <td>0.007220</td>\n",
       "      <td>0.007491</td>\n",
       "      <td>0.007399</td>\n",
       "      <td>0.007526</td>\n",
       "      <td>0.007247</td>\n",
       "      <td>0.007035</td>\n",
       "      <td>0.007464</td>\n",
       "      <td>0.007257</td>\n",
       "      <td>0.007628</td>\n",
       "      <td>0.007548</td>\n",
       "    </tr>\n",
       "  </tbody>\n",
       "</table>\n",
       "<p>2 rows × 1000 columns</p>\n",
       "</div>"
      ],
      "text/plain": [
       "         y0        y1        y2        y3        y4        y5        y6  \\\n",
       "0  0.006029  0.006029  0.006029  0.006029  0.006029  0.006029  0.006029   \n",
       "1  0.007236  0.007236  0.007240  0.007929  0.007233  0.008008  0.008135   \n",
       "\n",
       "         y7        y8        y9  ...      y990      y991      y992      y993  \\\n",
       "0  0.006029  0.006029  0.006029  ...  0.006029  0.006029  0.006029  0.006029   \n",
       "1  0.006476  0.006560  0.007681  ...  0.007220  0.007491  0.007399  0.007526   \n",
       "\n",
       "       y994      y995      y996      y997      y998      y999  \n",
       "0  0.006029  0.006029  0.006029  0.006029  0.006029  0.006029  \n",
       "1  0.007247  0.007035  0.007464  0.007257  0.007628  0.007548  \n",
       "\n",
       "[2 rows x 1000 columns]"
      ]
     },
     "execution_count": 11,
     "metadata": {},
     "output_type": "execute_result"
    }
   ],
   "source": [
    "host_off_fm = (\n",
    "    host_off\n",
    "    .filter(like='fung')\n",
    "    .rename(columns = lambda x: 'y' + x.split('mean')[-1])\n",
    ")\n",
    "\n",
    "host_off_fm.head(2)"
   ]
  },
  {
   "cell_type": "markdown",
   "id": "cc19d270-bd48-4637-8675-1326ffc234bb",
   "metadata": {},
   "source": [
    "## Combine"
   ]
  },
  {
   "cell_type": "code",
   "execution_count": 12,
   "id": "e68db7f6-3929-459c-9996-1fa03e7d397b",
   "metadata": {},
   "outputs": [],
   "source": [
    "yld_df = host_on_yld - host_off_yld"
   ]
  },
  {
   "cell_type": "code",
   "execution_count": 13,
   "id": "37731e43-37d2-4f40-afae-c0ded936f005",
   "metadata": {},
   "outputs": [],
   "source": [
    "sev_df = host_on_sev - host_off_sev"
   ]
  },
  {
   "cell_type": "code",
   "execution_count": 14,
   "id": "ebab9350-56f9-4eef-9e9f-c3429e12ac49",
   "metadata": {},
   "outputs": [],
   "source": [
    "fm_df = host_on_fm - host_off_fm"
   ]
  },
  {
   "cell_type": "markdown",
   "id": "fee67c69-396d-4b12-8c84-3eee3e84ac5d",
   "metadata": {},
   "source": [
    "## Get host fitting data"
   ]
  },
  {
   "cell_type": "code",
   "execution_count": 15,
   "id": "6fa103a2-fda9-431b-8663-bd0a6a81baf1",
   "metadata": {},
   "outputs": [
    {
     "name": "stdout",
     "output_type": "stream",
     "text": [
      "CONFIG\n",
      "------\n",
      "I0_single = 0.0098570319660089\n",
      "beta_single = 0.0078654159996959\n",
      "host_on = None\n",
      "k_b = 0.8431572316700577\n",
      "k_mu = 9.44286788381916\n",
      "l_b = 6.585357214619326\n",
      "l_mu = 0.8089358816813786\n",
      "mutation_proportion = 1.234375e-05\n",
      "mutation_scale_fung = 0.0019836158401698102\n",
      "mutation_scale_host = 0.0019836158401698102\n",
      "n_iterations = None\n",
      "n_k = 10\n",
      "n_l = 500\n",
      "n_years = 15\n",
      "replace_cultivars = None\n",
      "sprays = None\n",
      "type = single\n",
      "\n"
     ]
    }
   ],
   "source": [
    "host_fit_config = Config(\n",
    "    'single', \n",
    "    n_k=10,\n",
    "    n_l=500,\n",
    "    mutation_proportion=MUTATION_PROP,\n",
    "    mutation_scale_fung=DEFAULT_P * FUNG_MUTATION_SCALE,\n",
    "    mutation_scale_host=DEFAULT_P * HOST_MUTATION_SCALE,\n",
    ")"
   ]
  },
  {
   "cell_type": "markdown",
   "id": "29310a04-6d9a-4860-8316-b9023bba96c1",
   "metadata": {},
   "source": [
    "## Get fit data"
   ]
  },
  {
   "cell_type": "code",
   "execution_count": 16,
   "id": "bd19c6eb-92fe-475f-8048-c10fb8b9581b",
   "metadata": {},
   "outputs": [],
   "source": [
    "my_df = (\n",
    "    pd.read_csv(\n",
    "        '../data/03_model_inputs/control_host.csv'\n",
    "    )\n",
    "    .iloc[:, 1:]\n",
    "    .loc[lambda df: df.cultivar == 'Mariboss']\n",
    "    .rename(columns={\n",
    "        'control': 'data_control',\n",
    "        'min_num': 'n_data',\n",
    "    })\n",
    ")\n",
    "\n",
    "input_severity_df = (\n",
    "    pd.read_csv(\n",
    "        '../data/03_model_inputs/input_severities_host.csv'\n",
    "    )\n",
    "    .iloc[:, 1:]\n",
    "    .loc[lambda df: df.cultivar == 'Mariboss']\n",
    "    .loc[lambda df: df.year <= my_df.year.max()]\n",
    ")\n",
    "\n",
    "input_severities = 0.01*np.array(input_severity_df.worst_stb)\n",
    "\n",
    "n_years = input_severity_df.shape[0]\n",
    "\n",
    "I0s = [host_fit_config.I0_single] * n_years\n",
    "\n",
    "betas = find_beta_vectorised(\n",
    "    input_severities,\n",
    "    host_fit_config.I0_single\n",
    ")\n",
    "\n",
    "NOT_USED_NUM = 0.5\n",
    "\n",
    "sevs_trait_off = input_severities\n",
    "\n",
    "output_trait_on = (\n",
    "    SimulatorOneTrait(\n",
    "        host_plant_on=True,\n",
    "        fungicide_on=False,\n",
    "        config=host_fit_config\n",
    "    )\n",
    "    .run_model(\n",
    "        I0_vec=I0s,\n",
    "        beta_vec=betas\n",
    "    )\n",
    ")\n",
    "\n",
    "sevs_trait_on = np.asarray(output_trait_on['dis_sev'])\n",
    "\n",
    "yh = 100 * (1 - sevs_trait_on / sevs_trait_off)"
   ]
  },
  {
   "cell_type": "code",
   "execution_count": 48,
   "id": "6c285da0-4657-4633-8094-b06c253ee445",
   "metadata": {},
   "outputs": [],
   "source": [
    "def adding_in_host(yh, sev_data, yield_data, trait_data):\n",
    "    \n",
    "    fig = make_subplots(\n",
    "        rows=2,\n",
    "        cols=2,\n",
    "        horizontal_spacing=0.25,\n",
    "    )\n",
    "    \n",
    "    control_df = (\n",
    "        pd.read_csv('../data/03_model_inputs/control_host.csv')\n",
    "        .loc[lambda df: df.cultivar=='Mariboss']\n",
    "        .assign(sizes = lambda df: 3*np.sqrt(df.min_num))\n",
    "    )\n",
    "    \n",
    "    col1 = 'rgba(0,255,0,1)'\n",
    "    col2 = 'rgba(50,50,50,1)'\n",
    "    col3 = 'rgba(255,0,0,1)'\n",
    "    \n",
    "    \n",
    "    bds = [2.5, 97.5]\n",
    "    \n",
    "    BDS = [5, 25, 75, 95]\n",
    "    \n",
    "    \n",
    "    # ROW 1\n",
    "    xx = control_df.year\n",
    "    yy = control_df.control\n",
    "    \n",
    "    trc_c = go.Scatter(\n",
    "        x=xx, y=yy, showlegend=False,\n",
    "        mode='markers', \n",
    "        marker=dict(\n",
    "            color=COLZ[0],\n",
    "            opacity=0.5,\n",
    "            size=control_df.sizes,\n",
    "        ),\n",
    "        marker_line_width=1,\n",
    "        marker_line_color='black',\n",
    "    )\n",
    "    \n",
    "    by_year = (\n",
    "        control_df\n",
    "        .groupby('year')\n",
    "        .mean()\n",
    "        .reset_index()\n",
    "        .assign(model_control = yh)\n",
    "    )\n",
    "    \n",
    "    split_year = floor(\n",
    "        - 1 + by_year.year.min()\n",
    "        + TRAIN_TEST_SPLIT_PROPORTION * (1 + by_year.year.max() - by_year.year.min())\n",
    "    )\n",
    "    \n",
    "    c_te = by_year.loc[\n",
    "        lambda df: df.year <= split_year\n",
    "    ]\n",
    "    \n",
    "    c_tr = by_year.loc[\n",
    "        lambda df: df.year >= split_year\n",
    "    ]\n",
    "    \n",
    "    line_te = go.Scatter(x=c_te.year, y=c_te.model_control, showlegend=False,\n",
    "               mode='lines', line=dict(color=COLZ[1], width=3))\n",
    "    \n",
    "    line_tr = go.Scatter(x=c_tr.year, y=c_tr.model_control, showlegend=False,\n",
    "               mode='lines', line=dict(color=COLZ[1], width=3, dash='dot'))\n",
    "    \n",
    "    trcs_1 = [trc_c, line_te, line_tr]\n",
    "    \n",
    "    fig.add_traces(trcs_1, rows=1, cols=1)\n",
    "    \n",
    "    \n",
    "    \n",
    "    # ROW 2\n",
    "    \n",
    "    trcs_dsd = traces_with_uncertainty_bands(sev_data, bds=BDS, color=col1, showlegend=False)\n",
    "    \n",
    "    fig.add_traces(trcs_dsd, rows=1, cols=2)\n",
    "    \n",
    "    \n",
    "    \n",
    "    # ROW 3\n",
    "        \n",
    "    trcs_yd = traces_with_uncertainty_bands(yield_data, bds=BDS, color=col1, showlegend=False)\n",
    "    \n",
    "    fig.add_traces(trcs_yd, rows=2, cols=1)\n",
    "\n",
    "    \n",
    "    # ROW 4\n",
    "    \n",
    "    trcs_tm = traces_with_uncertainty_bands(trait_data, bds=BDS, color=col1, showlegend=False)\n",
    "    \n",
    "    fig.add_traces(trcs_tm, rows=2, cols=2)\n",
    "    \n",
    "    # LAYOUT\n",
    "    \n",
    "    x1 = 0.65\n",
    "    x2 = 0.75\n",
    "    x3 = 0.85\n",
    "    x4 = 0.95\n",
    "    x5 = 1.05\n",
    "    \n",
    "    yt=1.11\n",
    "    yb=1.08\n",
    "    eps=0.015\n",
    "    \n",
    "    col1 = -0.01\n",
    "    col2 = 0.61\n",
    "    \n",
    "    row1 = 1.05\n",
    "    row2 = 0.475\n",
    "    \n",
    "    annotz = [\n",
    "        get_text_annotation(x1, yb-eps, '5', xanchor='center', yanchor='middle', size=14),\n",
    "        get_text_annotation(x2, yb-eps, '25', xanchor='center', yanchor='middle', size=14),\n",
    "        get_text_annotation(x3, yb-eps, '50', xanchor='center', yanchor='middle', size=14),\n",
    "        get_text_annotation(x4, yb-eps, '75', xanchor='center', yanchor='middle', size=14),\n",
    "        get_text_annotation(x5, yb-eps, '95', xanchor='center', yanchor='middle', size=14),\n",
    "        \n",
    "        \n",
    "        get_text_annotation(col1, row1, 'A', size=20),\n",
    "        get_text_annotation(col2, row1, 'B', size=20),\n",
    "        get_text_annotation(col1, row2, 'C', size=20),\n",
    "        get_text_annotation(col2, row2, 'D', size=20),\n",
    "    ]\n",
    "    \n",
    "    fig.update_layout(standard_layout(True, height=750))\n",
    "    fig.update_layout(font=dict(size=14))\n",
    "    fig.update_layout(annotations=annotz)\n",
    "     \n",
    "    fig.update_layout(\n",
    "        shapes=[\n",
    "            dict(type=\"rect\", xref=\"paper\", yref=\"paper\",\n",
    "                 x0=x1,\n",
    "                 x1=x2,\n",
    "                 y0=yt,\n",
    "                 y1=yb,\n",
    "                 line_width=1,\n",
    "                 line_color=\"rgb(0,255,0)\",\n",
    "                 fillcolor=\"rgb(0,255,0)\",\n",
    "                 opacity=0.1,\n",
    "            ),\n",
    "            dict(type=\"rect\", xref=\"paper\", yref=\"paper\",\n",
    "                 x0=x2,\n",
    "                 x1=x3,\n",
    "                 y0=yt,\n",
    "                 y1=yb,\n",
    "                 line_width=1,\n",
    "                 line_color=\"rgb(0,255,0)\",\n",
    "                 fillcolor=\"rgb(0,255,0)\",\n",
    "                 opacity=0.2,\n",
    "            ),\n",
    "            dict(type=\"line\", xref=\"paper\", yref=\"paper\",\n",
    "                 x0=x3,\n",
    "                 x1=x3,\n",
    "                 y0=yt,\n",
    "                 y1=yb,\n",
    "                 line_width=2.5,\n",
    "                 line_color=\"rgb(0,255,0)\",\n",
    "                 opacity=1,\n",
    "            ),\n",
    "            dict(type=\"rect\", xref=\"paper\", yref=\"paper\",\n",
    "                 x0=x3,\n",
    "                 x1=x4,\n",
    "                 y0=yt,\n",
    "                 y1=yb,\n",
    "                 line_width=1,\n",
    "                 line_color=\"rgb(0,255,0)\",\n",
    "                 fillcolor=\"rgb(0,255,0)\",\n",
    "                 opacity=0.2,\n",
    "            ),\n",
    "            dict(type=\"rect\", xref=\"paper\", yref=\"paper\",\n",
    "                 x0=x4,\n",
    "                 x1=x5,\n",
    "                 y0=yt,\n",
    "                 y1=yb,\n",
    "                 line_width=1,\n",
    "                 line_color=\"rgb(0,255,0)\",\n",
    "                 fillcolor=\"rgb(0,255,0)\",\n",
    "                 opacity=0.1,\n",
    "            ),\n",
    "            \n",
    "            dict(type=\"line\", xref=\"paper\", yref=\"paper\",\n",
    "                 x0=x1,\n",
    "                 x1=x1,\n",
    "                 y0=yb,\n",
    "                 y1=yb-0.25*eps,\n",
    "                 line_width=1.5,\n",
    "                 line_color=\"rgb(110,110,110)\",\n",
    "                 opacity=1,\n",
    "            ),\n",
    "            \n",
    "            dict(type=\"line\", xref=\"paper\", yref=\"paper\",\n",
    "                 x0=x2,\n",
    "                 x1=x2,\n",
    "                 y0=yb,\n",
    "                 y1=yb-0.25*eps,\n",
    "                 line_width=1.5,\n",
    "                 line_color=\"rgb(110,110,110)\",\n",
    "                 opacity=1,\n",
    "            ),\n",
    "            \n",
    "            dict(type=\"line\", xref=\"paper\", yref=\"paper\",\n",
    "                 x0=x3,\n",
    "                 x1=x3,\n",
    "                 y0=yb,\n",
    "                 y1=yb-0.25*eps,\n",
    "                 line_width=1.5,\n",
    "                 line_color=\"rgb(110,110,110)\",\n",
    "                 opacity=1,\n",
    "            ),\n",
    "            \n",
    "            dict(type=\"line\", xref=\"paper\", yref=\"paper\",\n",
    "                 x0=x4,\n",
    "                 x1=x4,\n",
    "                 y0=yb,\n",
    "                 y1=yb-0.25*eps,\n",
    "                 line_width=1.5,\n",
    "                 line_color=\"rgb(110,110,110)\",\n",
    "                 opacity=1,\n",
    "            ),\n",
    "            \n",
    "            dict(type=\"line\", xref=\"paper\", yref=\"paper\",\n",
    "                 x0=x5,\n",
    "                 x1=x5,\n",
    "                 y0=yb,\n",
    "                 y1=yb-0.25*eps,\n",
    "                 line_width=1.5,\n",
    "                 line_color=\"rgb(110,110,110)\",\n",
    "                 opacity=1,\n",
    "            ),\n",
    "    ])\n",
    "    \n",
    "    \n",
    "    range_ = [-0.5, 15.5]\n",
    "    \n",
    "    fig.update_xaxes(title='Year', row=1, col=1)\n",
    "    fig.update_xaxes(row=1, col=2, range=range_)\n",
    "    fig.update_xaxes(title='Time (years)', row=2, col=1, range=range_)\n",
    "    fig.update_xaxes(title='Time (years)', row=2, col=2, range=range_)\n",
    "    \n",
    "    fig.update_yaxes(title='Control', row=1, col=1)\n",
    "    fig.update_yaxes(title='Severity increase (%)', row=1, col=2)\n",
    "    fig.update_yaxes(title='Yield increase (tons/ha)', row=2, col=1)\n",
    "    fig.update_yaxes(title='Fungicide trait mean increase', row=2, col=2)\n",
    "    \n",
    "    return fig"
   ]
  },
  {
   "cell_type": "markdown",
   "id": "5412088c-6d07-40f1-ae54-96b8ee093da9",
   "metadata": {},
   "source": [
    "## FIG"
   ]
  },
  {
   "cell_type": "code",
   "execution_count": 49,
   "id": "e9fa8250-0752-459f-97bf-99f7cdc1dc78",
   "metadata": {},
   "outputs": [
    {
     "data": {
      "application/vnd.plotly.v1+json": {
       "config": {
        "plotlyServerURL": "https://plot.ly"
       },
       "data": [
        {
         "marker": {
          "color": "#4878d0",
          "line": {
           "color": "black",
           "width": 1
          },
          "opacity": 0.5,
          "size": [
           6,
           6,
           6,
           6,
           4.242640687119286,
           6,
           4.242640687119286,
           6,
           6,
           6,
           8.485281374238571,
           6,
           6,
           6,
           6,
           6,
           6,
           6,
           8.485281374238571,
           6,
           6,
           6,
           8.485281374238571,
           3,
           6,
           6,
           6,
           6,
           8.485281374238571,
           6,
           6,
           6,
           6,
           6,
           8.485281374238571,
           6,
           6,
           6,
           6,
           6,
           5.196152422706632,
           6,
           6,
           6,
           8.485281374238571,
           6,
           6,
           3,
           6,
           6,
           6,
           6,
           6,
           6,
           6,
           6,
           6,
           6,
           6,
           6,
           6
          ]
         },
         "mode": "markers",
         "showlegend": false,
         "type": "scatter",
         "x": [
          2007,
          2007,
          2007,
          2008,
          2008,
          2008,
          2008,
          2009,
          2009,
          2009,
          2009,
          2009,
          2009,
          2010,
          2010,
          2010,
          2010,
          2010,
          2010,
          2010,
          2010,
          2011,
          2011,
          2011,
          2011,
          2011,
          2011,
          2011,
          2011,
          2011,
          2012,
          2012,
          2012,
          2012,
          2012,
          2012,
          2012,
          2012,
          2013,
          2013,
          2013,
          2013,
          2013,
          2013,
          2014,
          2014,
          2014,
          2014,
          2014,
          2014,
          2014,
          2014,
          2014,
          2015,
          2015,
          2015,
          2015,
          2016,
          2016,
          2016,
          2016
         ],
         "xaxis": "x",
         "y": [
          71.42857142857143,
          71.60493827160494,
          32.55813953488372,
          99.02676399026764,
          57.69230769230769,
          66.66666666666667,
          70,
          50,
          17.647058823529413,
          86.25,
          70,
          50,
          59,
          56.45161290322581,
          51.21951219512195,
          50,
          71.85185185185185,
          56.52173913043478,
          47.05882352941177,
          73.91304347826087,
          56.25,
          38.83495145631069,
          41.54589371980676,
          0,
          50,
          40.47619047619048,
          25,
          46.08695652173913,
          11.11111111111111,
          64.93506493506493,
          50,
          64.375,
          58.18181818181818,
          73.33333333333333,
          38.297872340425535,
          53.75,
          69.23076923076923,
          25,
          25,
          42.85714285714285,
          46.236559139784944,
          33.333333333333336,
          40,
          57.377049180327866,
          42.3728813559322,
          15.09433962264151,
          50,
          45,
          42.5531914893617,
          39.39393939393939,
          56.32183908045977,
          31.57894736842105,
          51.851851851851855,
          22.22222222222222,
          33.54838709677419,
          30,
          16.923076923076923,
          26.82926829268293,
          45.45454545454545,
          9.45945945945946,
          52.75590551181102
         ],
         "yaxis": "y"
        },
        {
         "line": {
          "color": "#ee854a",
          "width": 3
         },
         "mode": "lines",
         "showlegend": false,
         "type": "scatter",
         "x": [
          2007,
          2008,
          2009,
          2010,
          2011,
          2012
         ],
         "xaxis": "x",
         "y": [
          68.92169790127008,
          58.46210043346909,
          56.79627087219621,
          53.2143742045192,
          49.47991521169861,
          43.67996905158415
         ],
         "yaxis": "y"
        },
        {
         "line": {
          "color": "#ee854a",
          "dash": "dot",
          "width": 3
         },
         "mode": "lines",
         "showlegend": false,
         "type": "scatter",
         "x": [
          2012,
          2013,
          2014,
          2015,
          2016
         ],
         "xaxis": "x",
         "y": [
          43.67996905158415,
          40.68694396636479,
          35.50890566018177,
          34.9031417320439,
          32.76552629659106
         ],
         "yaxis": "y"
        },
        {
         "line": {
          "color": "rgba(0,255,0,0.4)",
          "width": 0.5
         },
         "mode": "lines",
         "showlegend": false,
         "type": "scatter",
         "x": [
          0,
          1,
          2,
          3,
          4,
          5,
          6,
          7,
          8,
          9,
          10,
          11,
          12,
          13,
          14,
          15
         ],
         "xaxis": "x2",
         "y": [
          null,
          -1.3948501913768212,
          -1.4351222181705878,
          -1.8626003418782062,
          -3.3797260946275025,
          -7.8041617408245045,
          -13.962924890370752,
          -19.307610825453725,
          -19.789089332998522,
          -19.623024463046505,
          -20.18756847040935,
          -18.966822928910823,
          -17.624368393264128,
          -16.938178078719485,
          -16.3741207539395,
          -15.244702027659946
         ],
         "yaxis": "y2"
        },
        {
         "fill": "tonexty",
         "fillcolor": "rgba(0,255,0,0.1)",
         "line": {
          "color": "rgba(0,255,0,0.4)",
          "width": 0.5
         },
         "mode": "lines",
         "showlegend": false,
         "type": "scatter",
         "x": [
          0,
          1,
          2,
          3,
          4,
          5,
          6,
          7,
          8,
          9,
          10,
          11,
          12,
          13,
          14,
          15
         ],
         "xaxis": "x2",
         "y": [
          null,
          -0.6057562267795056,
          -0.6150423285646999,
          -0.7167574142602476,
          -1.111228762548961,
          -2.2617161924041653,
          -4.385306722573766,
          -6.999858519139576,
          -7.736022993497658,
          -9.098337260064806,
          -9.461675624853921,
          -8.743211441914852,
          -8.269625069995318,
          -8.809369902830667,
          -9.47745722271005,
          -8.613730032995388
         ],
         "yaxis": "y2"
        },
        {
         "fill": "tonexty",
         "fillcolor": "rgba(0,255,0,0.2)",
         "line": {
          "color": "rgba(0,255,0,0.4)",
          "width": 0.5
         },
         "mode": "lines",
         "showlegend": false,
         "type": "scatter",
         "x": [
          0,
          1,
          2,
          3,
          4,
          5,
          6,
          7,
          8,
          9,
          10,
          11,
          12,
          13,
          14,
          15
         ],
         "xaxis": "x2",
         "y": [
          null,
          -0.19268329168802092,
          -0.1948384897556032,
          -0.18235576679184673,
          -0.26308492073803075,
          -0.5157306668114181,
          -0.8876095426081969,
          -1.4167385143363296,
          -1.58839375847317,
          -1.8710598882852865,
          -1.6433645138764725,
          -1.770698421669198,
          -1.648565871125694,
          -1.8480764018528402,
          -1.7230571363208655,
          -1.7208682383317468
         ],
         "yaxis": "y2"
        },
        {
         "fill": "tonexty",
         "fillcolor": "rgba(0,255,0,0.1)",
         "line": {
          "color": "rgba(0,255,0,0.4)",
          "width": 0.5
         },
         "mode": "lines",
         "showlegend": false,
         "type": "scatter",
         "x": [
          0,
          1,
          2,
          3,
          4,
          5,
          6,
          7,
          8,
          9,
          10,
          11,
          12,
          13,
          14,
          15
         ],
         "xaxis": "x2",
         "y": [
          null,
          -0.054539331577887123,
          -0.05748664040040498,
          -0.052223918435865234,
          -0.06806959478111729,
          -0.11431232765783746,
          -0.2134328607065996,
          -0.24294326688905238,
          -0.33519581169192414,
          -0.2700918501194217,
          -0.319427662677588,
          -0.33801657605847246,
          -0.2198585405275792,
          -0.2872101759693747,
          -0.28298884169134286,
          -0.2903155870122059
         ],
         "yaxis": "y2"
        },
        {
         "line": {
          "color": "rgba(0,255,0,1)",
          "width": 1.5
         },
         "mode": "lines",
         "showlegend": false,
         "type": "scatter",
         "x": [
          0,
          1,
          2,
          3,
          4,
          5,
          6,
          7,
          8,
          9,
          10,
          11,
          12,
          13,
          14,
          15
         ],
         "xaxis": "x2",
         "y": [
          null,
          -0.35059763647093467,
          -0.35886620849499884,
          -0.3869320826774919,
          -0.5554286933152712,
          -1.0892802091990998,
          -2.0770619946823494,
          -3.222300417387122,
          -3.911503003229834,
          -4.408068194408312,
          -4.637514939413327,
          -4.339830045824157,
          -4.021027424834228,
          -4.393212348795808,
          -4.412068151122896,
          -4.476076529966539
         ],
         "yaxis": "y2"
        },
        {
         "line": {
          "color": "rgba(0,255,0,0.4)",
          "width": 0.5
         },
         "mode": "lines",
         "showlegend": false,
         "type": "scatter",
         "x": [
          0,
          1,
          2,
          3,
          4,
          5,
          6,
          7,
          8,
          9,
          10,
          11,
          12,
          13,
          14,
          15
         ],
         "xaxis": "x3",
         "y": [
          null,
          0.005228117050716197,
          0.005510644816697852,
          0.00500616253501116,
          0.006525122307420883,
          0.01095793094716857,
          0.020459582946120315,
          0.023288437889375048,
          0.031796782347688346,
          0.02555614806644764,
          0.025912341719085054,
          0.031113789864993982,
          0.019837371964182983,
          0.023985396225644353,
          0.01909874544838148,
          0.019779190007851985
         ],
         "yaxis": "y3"
        },
        {
         "fill": "tonexty",
         "fillcolor": "rgba(0,255,0,0.1)",
         "line": {
          "color": "rgba(0,255,0,0.4)",
          "width": 0.5
         },
         "mode": "lines",
         "showlegend": false,
         "type": "scatter",
         "x": [
          0,
          1,
          2,
          3,
          4,
          5,
          6,
          7,
          8,
          9,
          10,
          11,
          12,
          13,
          14,
          15
         ],
         "xaxis": "x3",
         "y": [
          null,
          0.018470538114754742,
          0.018677134481793978,
          0.017480545985416818,
          0.02521920823200574,
          0.049437721635518184,
          0.08503010085195672,
          0.13517997470140086,
          0.14907713475360795,
          0.17338500682024938,
          0.1538168113380607,
          0.15708603698300827,
          0.15086902942736113,
          0.15953529484771378,
          0.14883587510655794,
          0.1474635700600655
         ],
         "yaxis": "y3"
        },
        {
         "fill": "tonexty",
         "fillcolor": "rgba(0,255,0,0.2)",
         "line": {
          "color": "rgba(0,255,0,0.4)",
          "width": 0.5
         },
         "mode": "lines",
         "showlegend": false,
         "type": "scatter",
         "x": [
          0,
          1,
          2,
          3,
          4,
          5,
          6,
          7,
          8,
          9,
          10,
          11,
          12,
          13,
          14,
          15
         ],
         "xaxis": "x3",
         "y": [
          null,
          0.05806372337074173,
          0.05894755896524506,
          0.06866742821227945,
          0.10628166563173913,
          0.21499212067505535,
          0.4113728804724577,
          0.6353654684849857,
          0.6709702927175183,
          0.7614040380120723,
          0.7449265140675134,
          0.6859180495886688,
          0.6510125045591926,
          0.64059970004487,
          0.6210136866448819,
          0.6051743670508833
         ],
         "yaxis": "y3"
        },
        {
         "fill": "tonexty",
         "fillcolor": "rgba(0,255,0,0.1)",
         "line": {
          "color": "rgba(0,255,0,0.4)",
          "width": 0.5
         },
         "mode": "lines",
         "showlegend": false,
         "type": "scatter",
         "x": [
          0,
          1,
          2,
          3,
          4,
          5,
          6,
          7,
          8,
          9,
          10,
          11,
          12,
          13,
          14,
          15
         ],
         "xaxis": "x3",
         "y": [
          null,
          0.13313501199833971,
          0.13686072204019248,
          0.1770529472598241,
          0.3183116297823552,
          0.7151553999547813,
          1.1988035342904213,
          1.3871053708681085,
          1.312600377892545,
          1.223806403372431,
          1.1270134865141348,
          1.0158857528465586,
          0.9272148765302124,
          0.877141779136162,
          0.8095152735824417,
          0.7540856521058189
         ],
         "yaxis": "y3"
        },
        {
         "line": {
          "color": "rgba(0,255,0,1)",
          "width": 1.5
         },
         "mode": "lines",
         "showlegend": false,
         "type": "scatter",
         "x": [
          0,
          1,
          2,
          3,
          4,
          5,
          6,
          7,
          8,
          9,
          10,
          11,
          12,
          13,
          14,
          15
         ],
         "xaxis": "x3",
         "y": [
          null,
          0.03360813981662769,
          0.03440076160228944,
          0.0370911443244788,
          0.05324246145684164,
          0.10424943162592726,
          0.19762540828905628,
          0.3034124773065283,
          0.3607534380251023,
          0.39912204173598376,
          0.406288081440489,
          0.38289280027513417,
          0.34433860963301655,
          0.3757840127933374,
          0.34917667756412474,
          0.36357113931244633
         ],
         "yaxis": "y3"
        },
        {
         "line": {
          "color": "rgba(0,255,0,0.4)",
          "width": 0.5
         },
         "mode": "lines",
         "showlegend": false,
         "type": "scatter",
         "x": [
          0,
          1,
          2,
          3,
          4,
          5,
          6,
          7,
          8,
          9,
          10,
          11,
          12,
          13,
          14,
          15
         ],
         "xaxis": "x4",
         "y": [
          0,
          -0.0006018920997075146,
          -0.0038759402696991806,
          -0.019991391655997517,
          -0.06863061287376696,
          -0.10260672460444437,
          -0.10393607171766168,
          -0.10338981785715459,
          -0.09126953917328436,
          -0.0789097046603721,
          -0.06987818353494898,
          -0.06292405168946118,
          -0.05654700688716021,
          -0.05076592974161089,
          -0.04552697757362383,
          -0.041713301075998924
         ],
         "yaxis": "y4"
        },
        {
         "fill": "tonexty",
         "fillcolor": "rgba(0,255,0,0.1)",
         "line": {
          "color": "rgba(0,255,0,0.4)",
          "width": 0.5
         },
         "mode": "lines",
         "showlegend": false,
         "type": "scatter",
         "x": [
          0,
          1,
          2,
          3,
          4,
          5,
          6,
          7,
          8,
          9,
          10,
          11,
          12,
          13,
          14,
          15
         ],
         "xaxis": "x4",
         "y": [
          0,
          -0.000428025626732225,
          -0.002550373913117651,
          -0.012656622077676021,
          -0.04875470087399297,
          -0.09627073442850366,
          -0.10326378749793423,
          -0.09682795686788587,
          -0.08271370983614103,
          -0.07247380464265199,
          -0.06444012156475132,
          -0.05755991839531127,
          -0.05181815542887319,
          -0.04666125933570234,
          -0.04212102492157735,
          -0.038013171942529345
         ],
         "yaxis": "y4"
        },
        {
         "fill": "tonexty",
         "fillcolor": "rgba(0,255,0,0.2)",
         "line": {
          "color": "rgba(0,255,0,0.4)",
          "width": 0.5
         },
         "mode": "lines",
         "showlegend": false,
         "type": "scatter",
         "x": [
          0,
          1,
          2,
          3,
          4,
          5,
          6,
          7,
          8,
          9,
          10,
          11,
          12,
          13,
          14,
          15
         ],
         "xaxis": "x4",
         "y": [
          0,
          -0.000262648787872925,
          -0.0013548238293070746,
          -0.006051994296059949,
          -0.023933465294680673,
          -0.06702936956107813,
          -0.0967873649147265,
          -0.08496770824718776,
          -0.07333336694085321,
          -0.06481209893699637,
          -0.05728466946199609,
          -0.051251904339555565,
          -0.04592463050133502,
          -0.04134565844085694,
          -0.037332661014951,
          -0.03391252833268041
         ],
         "yaxis": "y4"
        },
        {
         "fill": "tonexty",
         "fillcolor": "rgba(0,255,0,0.1)",
         "line": {
          "color": "rgba(0,255,0,0.4)",
          "width": 0.5
         },
         "mode": "lines",
         "showlegend": false,
         "type": "scatter",
         "x": [
          0,
          1,
          2,
          3,
          4,
          5,
          6,
          7,
          8,
          9,
          10,
          11,
          12,
          13,
          14,
          15
         ],
         "xaxis": "x4",
         "y": [
          0,
          -0.00014671263650191963,
          -0.0007867956130104646,
          -0.0031242155282436164,
          -0.012620489129386386,
          -0.0430376768923169,
          -0.08615095219234188,
          -0.0775302229936912,
          -0.06786037092659218,
          -0.05982669945023213,
          -0.05294915072936362,
          -0.047204686469076135,
          -0.04266109544940362,
          -0.03821284568534556,
          -0.03447643952186699,
          -0.031294636535742
         ],
         "yaxis": "y4"
        },
        {
         "line": {
          "color": "rgba(0,255,0,1)",
          "width": 1.5
         },
         "mode": "lines",
         "showlegend": false,
         "type": "scatter",
         "x": [
          0,
          1,
          2,
          3,
          4,
          5,
          6,
          7,
          8,
          9,
          10,
          11,
          12,
          13,
          14,
          15
         ],
         "xaxis": "x4",
         "y": [
          0,
          -0.0003402173834666502,
          -0.0018998452806855007,
          -0.008864226314124299,
          -0.0352771046082412,
          -0.0848338817168678,
          -0.10122922553214474,
          -0.09039671198303512,
          -0.0776395847670886,
          -0.06833595012877117,
          -0.06070384501637713,
          -0.05405052380377873,
          -0.048644995119412504,
          -0.043679605892445406,
          -0.0394800375559442,
          -0.03585910182920887
         ],
         "yaxis": "y4"
        }
       ],
       "layout": {
        "annotations": [
         {
          "font": {
           "color": "rgb(110,110,110)",
           "size": 14
          },
          "showarrow": false,
          "text": "5",
          "x": 0.65,
          "xanchor": "center",
          "xref": "paper",
          "y": 1.0650000000000002,
          "yanchor": "middle",
          "yref": "paper"
         },
         {
          "font": {
           "color": "rgb(110,110,110)",
           "size": 14
          },
          "showarrow": false,
          "text": "25",
          "x": 0.75,
          "xanchor": "center",
          "xref": "paper",
          "y": 1.0650000000000002,
          "yanchor": "middle",
          "yref": "paper"
         },
         {
          "font": {
           "color": "rgb(110,110,110)",
           "size": 14
          },
          "showarrow": false,
          "text": "50",
          "x": 0.85,
          "xanchor": "center",
          "xref": "paper",
          "y": 1.0650000000000002,
          "yanchor": "middle",
          "yref": "paper"
         },
         {
          "font": {
           "color": "rgb(110,110,110)",
           "size": 14
          },
          "showarrow": false,
          "text": "75",
          "x": 0.95,
          "xanchor": "center",
          "xref": "paper",
          "y": 1.0650000000000002,
          "yanchor": "middle",
          "yref": "paper"
         },
         {
          "font": {
           "color": "rgb(110,110,110)",
           "size": 14
          },
          "showarrow": false,
          "text": "95",
          "x": 1.05,
          "xanchor": "center",
          "xref": "paper",
          "y": 1.0650000000000002,
          "yanchor": "middle",
          "yref": "paper"
         },
         {
          "font": {
           "color": "rgb(110,110,110)",
           "size": 20
          },
          "showarrow": false,
          "text": "A",
          "x": -0.01,
          "xanchor": "center",
          "xref": "paper",
          "y": 1.05,
          "yanchor": "top",
          "yref": "paper"
         },
         {
          "font": {
           "color": "rgb(110,110,110)",
           "size": 20
          },
          "showarrow": false,
          "text": "B",
          "x": 0.61,
          "xanchor": "center",
          "xref": "paper",
          "y": 1.05,
          "yanchor": "top",
          "yref": "paper"
         },
         {
          "font": {
           "color": "rgb(110,110,110)",
           "size": 20
          },
          "showarrow": false,
          "text": "C",
          "x": -0.01,
          "xanchor": "center",
          "xref": "paper",
          "y": 0.475,
          "yanchor": "top",
          "yref": "paper"
         },
         {
          "font": {
           "color": "rgb(110,110,110)",
           "size": 20
          },
          "showarrow": false,
          "text": "D",
          "x": 0.61,
          "xanchor": "center",
          "xref": "paper",
          "y": 0.475,
          "yanchor": "top",
          "yref": "paper"
         }
        ],
        "font": {
         "size": 14
        },
        "height": 750,
        "shapes": [
         {
          "fillcolor": "rgb(0,255,0)",
          "line": {
           "color": "rgb(0,255,0)",
           "width": 1
          },
          "opacity": 0.1,
          "type": "rect",
          "x0": 0.65,
          "x1": 0.75,
          "xref": "paper",
          "y0": 1.11,
          "y1": 1.08,
          "yref": "paper"
         },
         {
          "fillcolor": "rgb(0,255,0)",
          "line": {
           "color": "rgb(0,255,0)",
           "width": 1
          },
          "opacity": 0.2,
          "type": "rect",
          "x0": 0.75,
          "x1": 0.85,
          "xref": "paper",
          "y0": 1.11,
          "y1": 1.08,
          "yref": "paper"
         },
         {
          "line": {
           "color": "rgb(0,255,0)",
           "width": 2.5
          },
          "opacity": 1,
          "type": "line",
          "x0": 0.85,
          "x1": 0.85,
          "xref": "paper",
          "y0": 1.11,
          "y1": 1.08,
          "yref": "paper"
         },
         {
          "fillcolor": "rgb(0,255,0)",
          "line": {
           "color": "rgb(0,255,0)",
           "width": 1
          },
          "opacity": 0.2,
          "type": "rect",
          "x0": 0.85,
          "x1": 0.95,
          "xref": "paper",
          "y0": 1.11,
          "y1": 1.08,
          "yref": "paper"
         },
         {
          "fillcolor": "rgb(0,255,0)",
          "line": {
           "color": "rgb(0,255,0)",
           "width": 1
          },
          "opacity": 0.1,
          "type": "rect",
          "x0": 0.95,
          "x1": 1.05,
          "xref": "paper",
          "y0": 1.11,
          "y1": 1.08,
          "yref": "paper"
         },
         {
          "line": {
           "color": "rgb(110,110,110)",
           "width": 1.5
          },
          "opacity": 1,
          "type": "line",
          "x0": 0.65,
          "x1": 0.65,
          "xref": "paper",
          "y0": 1.08,
          "y1": 1.0762500000000002,
          "yref": "paper"
         },
         {
          "line": {
           "color": "rgb(110,110,110)",
           "width": 1.5
          },
          "opacity": 1,
          "type": "line",
          "x0": 0.75,
          "x1": 0.75,
          "xref": "paper",
          "y0": 1.08,
          "y1": 1.0762500000000002,
          "yref": "paper"
         },
         {
          "line": {
           "color": "rgb(110,110,110)",
           "width": 1.5
          },
          "opacity": 1,
          "type": "line",
          "x0": 0.85,
          "x1": 0.85,
          "xref": "paper",
          "y0": 1.08,
          "y1": 1.0762500000000002,
          "yref": "paper"
         },
         {
          "line": {
           "color": "rgb(110,110,110)",
           "width": 1.5
          },
          "opacity": 1,
          "type": "line",
          "x0": 0.95,
          "x1": 0.95,
          "xref": "paper",
          "y0": 1.08,
          "y1": 1.0762500000000002,
          "yref": "paper"
         },
         {
          "line": {
           "color": "rgb(110,110,110)",
           "width": 1.5
          },
          "opacity": 1,
          "type": "line",
          "x0": 1.05,
          "x1": 1.05,
          "xref": "paper",
          "y0": 1.08,
          "y1": 1.0762500000000002,
          "yref": "paper"
         }
        ],
        "showlegend": true,
        "template": {
         "data": {
          "bar": [
           {
            "error_x": {
             "color": "rgb(36,36,36)"
            },
            "error_y": {
             "color": "rgb(36,36,36)"
            },
            "marker": {
             "line": {
              "color": "white",
              "width": 0.5
             },
             "pattern": {
              "fillmode": "overlay",
              "size": 10,
              "solidity": 0.2
             }
            },
            "type": "bar"
           }
          ],
          "barpolar": [
           {
            "marker": {
             "line": {
              "color": "white",
              "width": 0.5
             },
             "pattern": {
              "fillmode": "overlay",
              "size": 10,
              "solidity": 0.2
             }
            },
            "type": "barpolar"
           }
          ],
          "carpet": [
           {
            "aaxis": {
             "endlinecolor": "rgb(36,36,36)",
             "gridcolor": "white",
             "linecolor": "white",
             "minorgridcolor": "white",
             "startlinecolor": "rgb(36,36,36)"
            },
            "baxis": {
             "endlinecolor": "rgb(36,36,36)",
             "gridcolor": "white",
             "linecolor": "white",
             "minorgridcolor": "white",
             "startlinecolor": "rgb(36,36,36)"
            },
            "type": "carpet"
           }
          ],
          "choropleth": [
           {
            "colorbar": {
             "outlinewidth": 1,
             "tickcolor": "rgb(36,36,36)",
             "ticks": "outside"
            },
            "type": "choropleth"
           }
          ],
          "contour": [
           {
            "colorbar": {
             "outlinewidth": 1,
             "tickcolor": "rgb(36,36,36)",
             "ticks": "outside"
            },
            "colorscale": [
             [
              0,
              "#440154"
             ],
             [
              0.1111111111111111,
              "#482878"
             ],
             [
              0.2222222222222222,
              "#3e4989"
             ],
             [
              0.3333333333333333,
              "#31688e"
             ],
             [
              0.4444444444444444,
              "#26828e"
             ],
             [
              0.5555555555555556,
              "#1f9e89"
             ],
             [
              0.6666666666666666,
              "#35b779"
             ],
             [
              0.7777777777777778,
              "#6ece58"
             ],
             [
              0.8888888888888888,
              "#b5de2b"
             ],
             [
              1,
              "#fde725"
             ]
            ],
            "type": "contour"
           }
          ],
          "contourcarpet": [
           {
            "colorbar": {
             "outlinewidth": 1,
             "tickcolor": "rgb(36,36,36)",
             "ticks": "outside"
            },
            "type": "contourcarpet"
           }
          ],
          "heatmap": [
           {
            "colorbar": {
             "outlinewidth": 1,
             "tickcolor": "rgb(36,36,36)",
             "ticks": "outside"
            },
            "colorscale": [
             [
              0,
              "#440154"
             ],
             [
              0.1111111111111111,
              "#482878"
             ],
             [
              0.2222222222222222,
              "#3e4989"
             ],
             [
              0.3333333333333333,
              "#31688e"
             ],
             [
              0.4444444444444444,
              "#26828e"
             ],
             [
              0.5555555555555556,
              "#1f9e89"
             ],
             [
              0.6666666666666666,
              "#35b779"
             ],
             [
              0.7777777777777778,
              "#6ece58"
             ],
             [
              0.8888888888888888,
              "#b5de2b"
             ],
             [
              1,
              "#fde725"
             ]
            ],
            "type": "heatmap"
           }
          ],
          "heatmapgl": [
           {
            "colorbar": {
             "outlinewidth": 1,
             "tickcolor": "rgb(36,36,36)",
             "ticks": "outside"
            },
            "colorscale": [
             [
              0,
              "#440154"
             ],
             [
              0.1111111111111111,
              "#482878"
             ],
             [
              0.2222222222222222,
              "#3e4989"
             ],
             [
              0.3333333333333333,
              "#31688e"
             ],
             [
              0.4444444444444444,
              "#26828e"
             ],
             [
              0.5555555555555556,
              "#1f9e89"
             ],
             [
              0.6666666666666666,
              "#35b779"
             ],
             [
              0.7777777777777778,
              "#6ece58"
             ],
             [
              0.8888888888888888,
              "#b5de2b"
             ],
             [
              1,
              "#fde725"
             ]
            ],
            "type": "heatmapgl"
           }
          ],
          "histogram": [
           {
            "marker": {
             "line": {
              "color": "white",
              "width": 0.6
             },
             "pattern": {
              "fillmode": "overlay",
              "size": 10,
              "solidity": 0.2
             }
            },
            "type": "histogram"
           }
          ],
          "histogram2d": [
           {
            "colorbar": {
             "outlinewidth": 1,
             "tickcolor": "rgb(36,36,36)",
             "ticks": "outside"
            },
            "colorscale": [
             [
              0,
              "#440154"
             ],
             [
              0.1111111111111111,
              "#482878"
             ],
             [
              0.2222222222222222,
              "#3e4989"
             ],
             [
              0.3333333333333333,
              "#31688e"
             ],
             [
              0.4444444444444444,
              "#26828e"
             ],
             [
              0.5555555555555556,
              "#1f9e89"
             ],
             [
              0.6666666666666666,
              "#35b779"
             ],
             [
              0.7777777777777778,
              "#6ece58"
             ],
             [
              0.8888888888888888,
              "#b5de2b"
             ],
             [
              1,
              "#fde725"
             ]
            ],
            "type": "histogram2d"
           }
          ],
          "histogram2dcontour": [
           {
            "colorbar": {
             "outlinewidth": 1,
             "tickcolor": "rgb(36,36,36)",
             "ticks": "outside"
            },
            "colorscale": [
             [
              0,
              "#440154"
             ],
             [
              0.1111111111111111,
              "#482878"
             ],
             [
              0.2222222222222222,
              "#3e4989"
             ],
             [
              0.3333333333333333,
              "#31688e"
             ],
             [
              0.4444444444444444,
              "#26828e"
             ],
             [
              0.5555555555555556,
              "#1f9e89"
             ],
             [
              0.6666666666666666,
              "#35b779"
             ],
             [
              0.7777777777777778,
              "#6ece58"
             ],
             [
              0.8888888888888888,
              "#b5de2b"
             ],
             [
              1,
              "#fde725"
             ]
            ],
            "type": "histogram2dcontour"
           }
          ],
          "mesh3d": [
           {
            "colorbar": {
             "outlinewidth": 1,
             "tickcolor": "rgb(36,36,36)",
             "ticks": "outside"
            },
            "type": "mesh3d"
           }
          ],
          "parcoords": [
           {
            "line": {
             "colorbar": {
              "outlinewidth": 1,
              "tickcolor": "rgb(36,36,36)",
              "ticks": "outside"
             }
            },
            "type": "parcoords"
           }
          ],
          "pie": [
           {
            "automargin": true,
            "type": "pie"
           }
          ],
          "scatter": [
           {
            "marker": {
             "colorbar": {
              "outlinewidth": 1,
              "tickcolor": "rgb(36,36,36)",
              "ticks": "outside"
             }
            },
            "type": "scatter"
           }
          ],
          "scatter3d": [
           {
            "line": {
             "colorbar": {
              "outlinewidth": 1,
              "tickcolor": "rgb(36,36,36)",
              "ticks": "outside"
             }
            },
            "marker": {
             "colorbar": {
              "outlinewidth": 1,
              "tickcolor": "rgb(36,36,36)",
              "ticks": "outside"
             }
            },
            "type": "scatter3d"
           }
          ],
          "scattercarpet": [
           {
            "marker": {
             "colorbar": {
              "outlinewidth": 1,
              "tickcolor": "rgb(36,36,36)",
              "ticks": "outside"
             }
            },
            "type": "scattercarpet"
           }
          ],
          "scattergeo": [
           {
            "marker": {
             "colorbar": {
              "outlinewidth": 1,
              "tickcolor": "rgb(36,36,36)",
              "ticks": "outside"
             }
            },
            "type": "scattergeo"
           }
          ],
          "scattergl": [
           {
            "marker": {
             "colorbar": {
              "outlinewidth": 1,
              "tickcolor": "rgb(36,36,36)",
              "ticks": "outside"
             }
            },
            "type": "scattergl"
           }
          ],
          "scattermapbox": [
           {
            "marker": {
             "colorbar": {
              "outlinewidth": 1,
              "tickcolor": "rgb(36,36,36)",
              "ticks": "outside"
             }
            },
            "type": "scattermapbox"
           }
          ],
          "scatterpolar": [
           {
            "marker": {
             "colorbar": {
              "outlinewidth": 1,
              "tickcolor": "rgb(36,36,36)",
              "ticks": "outside"
             }
            },
            "type": "scatterpolar"
           }
          ],
          "scatterpolargl": [
           {
            "marker": {
             "colorbar": {
              "outlinewidth": 1,
              "tickcolor": "rgb(36,36,36)",
              "ticks": "outside"
             }
            },
            "type": "scatterpolargl"
           }
          ],
          "scatterternary": [
           {
            "marker": {
             "colorbar": {
              "outlinewidth": 1,
              "tickcolor": "rgb(36,36,36)",
              "ticks": "outside"
             }
            },
            "type": "scatterternary"
           }
          ],
          "surface": [
           {
            "colorbar": {
             "outlinewidth": 1,
             "tickcolor": "rgb(36,36,36)",
             "ticks": "outside"
            },
            "colorscale": [
             [
              0,
              "#440154"
             ],
             [
              0.1111111111111111,
              "#482878"
             ],
             [
              0.2222222222222222,
              "#3e4989"
             ],
             [
              0.3333333333333333,
              "#31688e"
             ],
             [
              0.4444444444444444,
              "#26828e"
             ],
             [
              0.5555555555555556,
              "#1f9e89"
             ],
             [
              0.6666666666666666,
              "#35b779"
             ],
             [
              0.7777777777777778,
              "#6ece58"
             ],
             [
              0.8888888888888888,
              "#b5de2b"
             ],
             [
              1,
              "#fde725"
             ]
            ],
            "type": "surface"
           }
          ],
          "table": [
           {
            "cells": {
             "fill": {
              "color": "rgb(237,237,237)"
             },
             "line": {
              "color": "white"
             }
            },
            "header": {
             "fill": {
              "color": "rgb(217,217,217)"
             },
             "line": {
              "color": "white"
             }
            },
            "type": "table"
           }
          ]
         },
         "layout": {
          "annotationdefaults": {
           "arrowcolor": "#2a3f5f",
           "arrowhead": 0,
           "arrowwidth": 1
          },
          "autotypenumbers": "strict",
          "coloraxis": {
           "colorbar": {
            "outlinewidth": 1,
            "tickcolor": "rgb(36,36,36)",
            "ticks": "outside"
           }
          },
          "colorscale": {
           "diverging": [
            [
             0,
             "rgb(103,0,31)"
            ],
            [
             0.1,
             "rgb(178,24,43)"
            ],
            [
             0.2,
             "rgb(214,96,77)"
            ],
            [
             0.3,
             "rgb(244,165,130)"
            ],
            [
             0.4,
             "rgb(253,219,199)"
            ],
            [
             0.5,
             "rgb(247,247,247)"
            ],
            [
             0.6,
             "rgb(209,229,240)"
            ],
            [
             0.7,
             "rgb(146,197,222)"
            ],
            [
             0.8,
             "rgb(67,147,195)"
            ],
            [
             0.9,
             "rgb(33,102,172)"
            ],
            [
             1,
             "rgb(5,48,97)"
            ]
           ],
           "sequential": [
            [
             0,
             "#440154"
            ],
            [
             0.1111111111111111,
             "#482878"
            ],
            [
             0.2222222222222222,
             "#3e4989"
            ],
            [
             0.3333333333333333,
             "#31688e"
            ],
            [
             0.4444444444444444,
             "#26828e"
            ],
            [
             0.5555555555555556,
             "#1f9e89"
            ],
            [
             0.6666666666666666,
             "#35b779"
            ],
            [
             0.7777777777777778,
             "#6ece58"
            ],
            [
             0.8888888888888888,
             "#b5de2b"
            ],
            [
             1,
             "#fde725"
            ]
           ],
           "sequentialminus": [
            [
             0,
             "#440154"
            ],
            [
             0.1111111111111111,
             "#482878"
            ],
            [
             0.2222222222222222,
             "#3e4989"
            ],
            [
             0.3333333333333333,
             "#31688e"
            ],
            [
             0.4444444444444444,
             "#26828e"
            ],
            [
             0.5555555555555556,
             "#1f9e89"
            ],
            [
             0.6666666666666666,
             "#35b779"
            ],
            [
             0.7777777777777778,
             "#6ece58"
            ],
            [
             0.8888888888888888,
             "#b5de2b"
            ],
            [
             1,
             "#fde725"
            ]
           ]
          },
          "colorway": [
           "#1F77B4",
           "#FF7F0E",
           "#2CA02C",
           "#D62728",
           "#9467BD",
           "#8C564B",
           "#E377C2",
           "#7F7F7F",
           "#BCBD22",
           "#17BECF"
          ],
          "font": {
           "color": "rgb(36,36,36)"
          },
          "geo": {
           "bgcolor": "white",
           "lakecolor": "white",
           "landcolor": "white",
           "showlakes": true,
           "showland": true,
           "subunitcolor": "white"
          },
          "hoverlabel": {
           "align": "left"
          },
          "hovermode": "closest",
          "mapbox": {
           "style": "light"
          },
          "paper_bgcolor": "white",
          "plot_bgcolor": "white",
          "polar": {
           "angularaxis": {
            "gridcolor": "rgb(232,232,232)",
            "linecolor": "rgb(36,36,36)",
            "showgrid": false,
            "showline": true,
            "ticks": "outside"
           },
           "bgcolor": "white",
           "radialaxis": {
            "gridcolor": "rgb(232,232,232)",
            "linecolor": "rgb(36,36,36)",
            "showgrid": false,
            "showline": true,
            "ticks": "outside"
           }
          },
          "scene": {
           "xaxis": {
            "backgroundcolor": "white",
            "gridcolor": "rgb(232,232,232)",
            "gridwidth": 2,
            "linecolor": "rgb(36,36,36)",
            "showbackground": true,
            "showgrid": false,
            "showline": true,
            "ticks": "outside",
            "zeroline": false,
            "zerolinecolor": "rgb(36,36,36)"
           },
           "yaxis": {
            "backgroundcolor": "white",
            "gridcolor": "rgb(232,232,232)",
            "gridwidth": 2,
            "linecolor": "rgb(36,36,36)",
            "showbackground": true,
            "showgrid": false,
            "showline": true,
            "ticks": "outside",
            "zeroline": false,
            "zerolinecolor": "rgb(36,36,36)"
           },
           "zaxis": {
            "backgroundcolor": "white",
            "gridcolor": "rgb(232,232,232)",
            "gridwidth": 2,
            "linecolor": "rgb(36,36,36)",
            "showbackground": true,
            "showgrid": false,
            "showline": true,
            "ticks": "outside",
            "zeroline": false,
            "zerolinecolor": "rgb(36,36,36)"
           }
          },
          "shapedefaults": {
           "fillcolor": "black",
           "line": {
            "color": "#2a3f5f",
            "width": 0
           },
           "opacity": 0.3
          },
          "ternary": {
           "aaxis": {
            "gridcolor": "rgb(232,232,232)",
            "linecolor": "rgb(36,36,36)",
            "showgrid": false,
            "showline": true,
            "ticks": "outside"
           },
           "baxis": {
            "gridcolor": "rgb(232,232,232)",
            "linecolor": "rgb(36,36,36)",
            "showgrid": false,
            "showline": true,
            "ticks": "outside"
           },
           "bgcolor": "white",
           "caxis": {
            "gridcolor": "rgb(232,232,232)",
            "linecolor": "rgb(36,36,36)",
            "showgrid": false,
            "showline": true,
            "ticks": "outside"
           }
          },
          "title": {
           "x": 0.05
          },
          "xaxis": {
           "automargin": true,
           "gridcolor": "rgb(232,232,232)",
           "linecolor": "rgb(36,36,36)",
           "showgrid": false,
           "showline": true,
           "ticks": "outside",
           "title": {
            "standoff": 15
           },
           "zeroline": false,
           "zerolinecolor": "rgb(36,36,36)",
           "zerolinewidth": 2
          },
          "yaxis": {
           "automargin": true,
           "gridcolor": "rgb(232,232,232)",
           "linecolor": "rgb(36,36,36)",
           "showgrid": false,
           "showline": true,
           "ticks": "outside",
           "title": {
            "standoff": 15
           },
           "zeroline": false,
           "zerolinecolor": "rgb(36,36,36)",
           "zerolinewidth": 2
          }
         }
        },
        "width": 600,
        "xaxis": {
         "anchor": "y",
         "autorange": true,
         "domain": [
          0,
          0.375
         ],
         "range": [
          2006.2340425531916,
          2016.7659574468084
         ],
         "showgrid": false,
         "title": {
          "text": "Year"
         },
         "type": "linear"
        },
        "xaxis2": {
         "anchor": "y2",
         "domain": [
          0.625,
          1
         ],
         "range": [
          -0.5,
          15.5
         ],
         "type": "linear"
        },
        "xaxis3": {
         "anchor": "y3",
         "domain": [
          0,
          0.375
         ],
         "range": [
          -0.5,
          15.5
         ],
         "title": {
          "text": "Time (years)"
         },
         "type": "linear"
        },
        "xaxis4": {
         "anchor": "y4",
         "domain": [
          0.625,
          1
         ],
         "range": [
          -0.5,
          15.5
         ],
         "title": {
          "text": "Time (years)"
         },
         "type": "linear"
        },
        "yaxis": {
         "anchor": "x",
         "autorange": true,
         "domain": [
          0.575,
          1
         ],
         "range": [
          -7.083384076691137,
          106.46168077547942
         ],
         "title": {
          "text": "Control"
         },
         "type": "linear"
        },
        "yaxis2": {
         "anchor": "x2",
         "autorange": true,
         "domain": [
          0.575,
          1
         ],
         "range": [
          -21.306198723296767,
          1.0664063344515509
         ],
         "title": {
          "text": "Severity increase (%)"
         },
         "type": "linear"
        },
        "yaxis3": {
         "anchor": "x3",
         "autorange": true,
         "domain": [
          0,
          0.425
         ],
         "range": [
          -0.0717771268168276,
          1.4638886602199472
         ],
         "title": {
          "text": "Yield increase (tons/ha)"
         },
         "type": "linear"
        },
        "yaxis4": {
         "anchor": "x4",
         "autorange": true,
         "domain": [
          0,
          0.425
         ],
         "range": [
          -0.10971029792419845,
          0.005774226206536761
         ],
         "title": {
          "text": "Fungicide trait mean increase"
         },
         "type": "linear"
        }
       }
      },
      "image/png": "[encoded data removed]",
      "text/html": [
       "<div>                            <div id=\"9a72ce50-d644-4427-9496-17dc2a4d4275\" class=\"plotly-graph-div\" style=\"height:750px; width:600px;\"></div>            <script type=\"text/javascript\">                require([\"plotly\"], function(Plotly) {                    window.PLOTLYENV=window.PLOTLYENV || {};                                    if (document.getElementById(\"9a72ce50-d644-4427-9496-17dc2a4d4275\")) {                    Plotly.newPlot(                        \"9a72ce50-d644-4427-9496-17dc2a4d4275\",                        [{\"marker\":{\"color\":\"#4878d0\",\"line\":{\"color\":\"black\",\"width\":1},\"opacity\":0.5,\"size\":[6.0,6.0,6.0,6.0,4.242640687119286,6.0,4.242640687119286,6.0,6.0,6.0,8.485281374238571,6.0,6.0,6.0,6.0,6.0,6.0,6.0,8.485281374238571,6.0,6.0,6.0,8.485281374238571,3.0,6.0,6.0,6.0,6.0,8.485281374238571,6.0,6.0,6.0,6.0,6.0,8.485281374238571,6.0,6.0,6.0,6.0,6.0,5.196152422706632,6.0,6.0,6.0,8.485281374238571,6.0,6.0,3.0,6.0,6.0,6.0,6.0,6.0,6.0,6.0,6.0,6.0,6.0,6.0,6.0,6.0]},\"mode\":\"markers\",\"showlegend\":false,\"type\":\"scatter\",\"x\":[2007,2007,2007,2008,2008,2008,2008,2009,2009,2009,2009,2009,2009,2010,2010,2010,2010,2010,2010,2010,2010,2011,2011,2011,2011,2011,2011,2011,2011,2011,2012,2012,2012,2012,2012,2012,2012,2012,2013,2013,2013,2013,2013,2013,2014,2014,2014,2014,2014,2014,2014,2014,2014,2015,2015,2015,2015,2016,2016,2016,2016],\"xaxis\":\"x\",\"y\":[71.42857142857143,71.60493827160494,32.55813953488372,99.02676399026764,57.69230769230769,66.66666666666667,70.0,50.0,17.647058823529413,86.25,70.0,50.0,59.0,56.45161290322581,51.21951219512195,50.0,71.85185185185185,56.52173913043478,47.05882352941177,73.91304347826087,56.25,38.83495145631069,41.54589371980676,0.0,50.0,40.47619047619048,25.0,46.08695652173913,11.11111111111111,64.93506493506493,50.0,64.375,58.18181818181818,73.33333333333333,38.297872340425535,53.75,69.23076923076923,25.0,25.0,42.85714285714285,46.236559139784944,33.333333333333336,40.0,57.377049180327866,42.3728813559322,15.09433962264151,50.0,45.0,42.5531914893617,39.39393939393939,56.32183908045977,31.57894736842105,51.851851851851855,22.22222222222222,33.54838709677419,30.0,16.923076923076923,26.82926829268293,45.45454545454545,9.45945945945946,52.75590551181102],\"yaxis\":\"y\"},{\"line\":{\"color\":\"#ee854a\",\"width\":3},\"mode\":\"lines\",\"showlegend\":false,\"type\":\"scatter\",\"x\":[2007,2008,2009,2010,2011,2012],\"xaxis\":\"x\",\"y\":[68.92169790127008,58.46210043346909,56.79627087219621,53.2143742045192,49.47991521169861,43.67996905158415],\"yaxis\":\"y\"},{\"line\":{\"color\":\"#ee854a\",\"dash\":\"dot\",\"width\":3},\"mode\":\"lines\",\"showlegend\":false,\"type\":\"scatter\",\"x\":[2012,2013,2014,2015,2016],\"xaxis\":\"x\",\"y\":[43.67996905158415,40.68694396636479,35.50890566018177,34.9031417320439,32.76552629659106],\"yaxis\":\"y\"},{\"line\":{\"color\":\"rgba(0,255,0,0.4)\",\"width\":0.5},\"mode\":\"lines\",\"showlegend\":false,\"type\":\"scatter\",\"x\":[0,1,2,3,4,5,6,7,8,9,10,11,12,13,14,15],\"xaxis\":\"x2\",\"y\":[null,-1.3948501913768212,-1.4351222181705878,-1.8626003418782062,-3.3797260946275025,-7.8041617408245045,-13.962924890370752,-19.307610825453725,-19.789089332998522,-19.623024463046505,-20.18756847040935,-18.966822928910823,-17.624368393264128,-16.938178078719485,-16.3741207539395,-15.244702027659946],\"yaxis\":\"y2\"},{\"fill\":\"tonexty\",\"fillcolor\":\"rgba(0,255,0,0.1)\",\"line\":{\"color\":\"rgba(0,255,0,0.4)\",\"width\":0.5},\"mode\":\"lines\",\"showlegend\":false,\"type\":\"scatter\",\"x\":[0,1,2,3,4,5,6,7,8,9,10,11,12,13,14,15],\"xaxis\":\"x2\",\"y\":[null,-0.6057562267795056,-0.6150423285646999,-0.7167574142602476,-1.111228762548961,-2.2617161924041653,-4.385306722573766,-6.999858519139576,-7.736022993497658,-9.098337260064806,-9.461675624853921,-8.743211441914852,-8.269625069995318,-8.809369902830667,-9.47745722271005,-8.613730032995388],\"yaxis\":\"y2\"},{\"fill\":\"tonexty\",\"fillcolor\":\"rgba(0,255,0,0.2)\",\"line\":{\"color\":\"rgba(0,255,0,0.4)\",\"width\":0.5},\"mode\":\"lines\",\"showlegend\":false,\"type\":\"scatter\",\"x\":[0,1,2,3,4,5,6,7,8,9,10,11,12,13,14,15],\"xaxis\":\"x2\",\"y\":[null,-0.19268329168802092,-0.1948384897556032,-0.18235576679184673,-0.26308492073803075,-0.5157306668114181,-0.8876095426081969,-1.4167385143363296,-1.58839375847317,-1.8710598882852865,-1.6433645138764725,-1.770698421669198,-1.648565871125694,-1.8480764018528402,-1.7230571363208655,-1.7208682383317468],\"yaxis\":\"y2\"},{\"fill\":\"tonexty\",\"fillcolor\":\"rgba(0,255,0,0.1)\",\"line\":{\"color\":\"rgba(0,255,0,0.4)\",\"width\":0.5},\"mode\":\"lines\",\"showlegend\":false,\"type\":\"scatter\",\"x\":[0,1,2,3,4,5,6,7,8,9,10,11,12,13,14,15],\"xaxis\":\"x2\",\"y\":[null,-0.054539331577887123,-0.05748664040040498,-0.052223918435865234,-0.06806959478111729,-0.11431232765783746,-0.2134328607065996,-0.24294326688905238,-0.33519581169192414,-0.2700918501194217,-0.319427662677588,-0.33801657605847246,-0.2198585405275792,-0.2872101759693747,-0.28298884169134286,-0.2903155870122059],\"yaxis\":\"y2\"},{\"line\":{\"color\":\"rgba(0,255,0,1)\",\"width\":1.5},\"mode\":\"lines\",\"showlegend\":false,\"type\":\"scatter\",\"x\":[0,1,2,3,4,5,6,7,8,9,10,11,12,13,14,15],\"xaxis\":\"x2\",\"y\":[null,-0.35059763647093467,-0.35886620849499884,-0.3869320826774919,-0.5554286933152712,-1.0892802091990998,-2.0770619946823494,-3.222300417387122,-3.911503003229834,-4.408068194408312,-4.637514939413327,-4.339830045824157,-4.021027424834228,-4.393212348795808,-4.412068151122896,-4.476076529966539],\"yaxis\":\"y2\"},{\"line\":{\"color\":\"rgba(0,255,0,0.4)\",\"width\":0.5},\"mode\":\"lines\",\"showlegend\":false,\"type\":\"scatter\",\"x\":[0,1,2,3,4,5,6,7,8,9,10,11,12,13,14,15],\"xaxis\":\"x3\",\"y\":[null,0.005228117050716197,0.005510644816697852,0.00500616253501116,0.006525122307420883,0.01095793094716857,0.020459582946120315,0.023288437889375048,0.031796782347688346,0.02555614806644764,0.025912341719085054,0.031113789864993982,0.019837371964182983,0.023985396225644353,0.01909874544838148,0.019779190007851985],\"yaxis\":\"y3\"},{\"fill\":\"tonexty\",\"fillcolor\":\"rgba(0,255,0,0.1)\",\"line\":{\"color\":\"rgba(0,255,0,0.4)\",\"width\":0.5},\"mode\":\"lines\",\"showlegend\":false,\"type\":\"scatter\",\"x\":[0,1,2,3,4,5,6,7,8,9,10,11,12,13,14,15],\"xaxis\":\"x3\",\"y\":[null,0.018470538114754742,0.018677134481793978,0.017480545985416818,0.02521920823200574,0.049437721635518184,0.08503010085195672,0.13517997470140086,0.14907713475360795,0.17338500682024938,0.1538168113380607,0.15708603698300827,0.15086902942736113,0.15953529484771378,0.14883587510655794,0.1474635700600655],\"yaxis\":\"y3\"},{\"fill\":\"tonexty\",\"fillcolor\":\"rgba(0,255,0,0.2)\",\"line\":{\"color\":\"rgba(0,255,0,0.4)\",\"width\":0.5},\"mode\":\"lines\",\"showlegend\":false,\"type\":\"scatter\",\"x\":[0,1,2,3,4,5,6,7,8,9,10,11,12,13,14,15],\"xaxis\":\"x3\",\"y\":[null,0.05806372337074173,0.05894755896524506,0.06866742821227945,0.10628166563173913,0.21499212067505535,0.4113728804724577,0.6353654684849857,0.6709702927175183,0.7614040380120723,0.7449265140675134,0.6859180495886688,0.6510125045591926,0.64059970004487,0.6210136866448819,0.6051743670508833],\"yaxis\":\"y3\"},{\"fill\":\"tonexty\",\"fillcolor\":\"rgba(0,255,0,0.1)\",\"line\":{\"color\":\"rgba(0,255,0,0.4)\",\"width\":0.5},\"mode\":\"lines\",\"showlegend\":false,\"type\":\"scatter\",\"x\":[0,1,2,3,4,5,6,7,8,9,10,11,12,13,14,15],\"xaxis\":\"x3\",\"y\":[null,0.13313501199833971,0.13686072204019248,0.1770529472598241,0.3183116297823552,0.7151553999547813,1.1988035342904213,1.3871053708681085,1.312600377892545,1.223806403372431,1.1270134865141348,1.0158857528465586,0.9272148765302124,0.877141779136162,0.8095152735824417,0.7540856521058189],\"yaxis\":\"y3\"},{\"line\":{\"color\":\"rgba(0,255,0,1)\",\"width\":1.5},\"mode\":\"lines\",\"showlegend\":false,\"type\":\"scatter\",\"x\":[0,1,2,3,4,5,6,7,8,9,10,11,12,13,14,15],\"xaxis\":\"x3\",\"y\":[null,0.03360813981662769,0.03440076160228944,0.0370911443244788,0.05324246145684164,0.10424943162592726,0.19762540828905628,0.3034124773065283,0.3607534380251023,0.39912204173598376,0.406288081440489,0.38289280027513417,0.34433860963301655,0.3757840127933374,0.34917667756412474,0.36357113931244633],\"yaxis\":\"y3\"},{\"line\":{\"color\":\"rgba(0,255,0,0.4)\",\"width\":0.5},\"mode\":\"lines\",\"showlegend\":false,\"type\":\"scatter\",\"x\":[0,1,2,3,4,5,6,7,8,9,10,11,12,13,14,15],\"xaxis\":\"x4\",\"y\":[0.0,-0.0006018920997075146,-0.0038759402696991806,-0.019991391655997517,-0.06863061287376696,-0.10260672460444437,-0.10393607171766168,-0.10338981785715459,-0.09126953917328436,-0.0789097046603721,-0.06987818353494898,-0.06292405168946118,-0.05654700688716021,-0.05076592974161089,-0.04552697757362383,-0.041713301075998924],\"yaxis\":\"y4\"},{\"fill\":\"tonexty\",\"fillcolor\":\"rgba(0,255,0,0.1)\",\"line\":{\"color\":\"rgba(0,255,0,0.4)\",\"width\":0.5},\"mode\":\"lines\",\"showlegend\":false,\"type\":\"scatter\",\"x\":[0,1,2,3,4,5,6,7,8,9,10,11,12,13,14,15],\"xaxis\":\"x4\",\"y\":[0.0,-0.000428025626732225,-0.002550373913117651,-0.012656622077676021,-0.04875470087399297,-0.09627073442850366,-0.10326378749793423,-0.09682795686788587,-0.08271370983614103,-0.07247380464265199,-0.06444012156475132,-0.05755991839531127,-0.05181815542887319,-0.04666125933570234,-0.04212102492157735,-0.038013171942529345],\"yaxis\":\"y4\"},{\"fill\":\"tonexty\",\"fillcolor\":\"rgba(0,255,0,0.2)\",\"line\":{\"color\":\"rgba(0,255,0,0.4)\",\"width\":0.5},\"mode\":\"lines\",\"showlegend\":false,\"type\":\"scatter\",\"x\":[0,1,2,3,4,5,6,7,8,9,10,11,12,13,14,15],\"xaxis\":\"x4\",\"y\":[0.0,-0.000262648787872925,-0.0013548238293070746,-0.006051994296059949,-0.023933465294680673,-0.06702936956107813,-0.0967873649147265,-0.08496770824718776,-0.07333336694085321,-0.06481209893699637,-0.05728466946199609,-0.051251904339555565,-0.04592463050133502,-0.04134565844085694,-0.037332661014951,-0.03391252833268041],\"yaxis\":\"y4\"},{\"fill\":\"tonexty\",\"fillcolor\":\"rgba(0,255,0,0.1)\",\"line\":{\"color\":\"rgba(0,255,0,0.4)\",\"width\":0.5},\"mode\":\"lines\",\"showlegend\":false,\"type\":\"scatter\",\"x\":[0,1,2,3,4,5,6,7,8,9,10,11,12,13,14,15],\"xaxis\":\"x4\",\"y\":[0.0,-0.00014671263650191963,-0.0007867956130104646,-0.0031242155282436164,-0.012620489129386386,-0.0430376768923169,-0.08615095219234188,-0.0775302229936912,-0.06786037092659218,-0.05982669945023213,-0.05294915072936362,-0.047204686469076135,-0.04266109544940362,-0.03821284568534556,-0.03447643952186699,-0.031294636535742],\"yaxis\":\"y4\"},{\"line\":{\"color\":\"rgba(0,255,0,1)\",\"width\":1.5},\"mode\":\"lines\",\"showlegend\":false,\"type\":\"scatter\",\"x\":[0,1,2,3,4,5,6,7,8,9,10,11,12,13,14,15],\"xaxis\":\"x4\",\"y\":[0.0,-0.0003402173834666502,-0.0018998452806855007,-0.008864226314124299,-0.0352771046082412,-0.0848338817168678,-0.10122922553214474,-0.09039671198303512,-0.0776395847670886,-0.06833595012877117,-0.06070384501637713,-0.05405052380377873,-0.048644995119412504,-0.043679605892445406,-0.0394800375559442,-0.03585910182920887],\"yaxis\":\"y4\"}],                        {\"annotations\":[{\"font\":{\"color\":\"rgb(110,110,110)\",\"size\":14},\"showarrow\":false,\"text\":\"5\",\"x\":0.65,\"xanchor\":\"center\",\"xref\":\"paper\",\"y\":1.0650000000000002,\"yanchor\":\"middle\",\"yref\":\"paper\"},{\"font\":{\"color\":\"rgb(110,110,110)\",\"size\":14},\"showarrow\":false,\"text\":\"25\",\"x\":0.75,\"xanchor\":\"center\",\"xref\":\"paper\",\"y\":1.0650000000000002,\"yanchor\":\"middle\",\"yref\":\"paper\"},{\"font\":{\"color\":\"rgb(110,110,110)\",\"size\":14},\"showarrow\":false,\"text\":\"50\",\"x\":0.85,\"xanchor\":\"center\",\"xref\":\"paper\",\"y\":1.0650000000000002,\"yanchor\":\"middle\",\"yref\":\"paper\"},{\"font\":{\"color\":\"rgb(110,110,110)\",\"size\":14},\"showarrow\":false,\"text\":\"75\",\"x\":0.95,\"xanchor\":\"center\",\"xref\":\"paper\",\"y\":1.0650000000000002,\"yanchor\":\"middle\",\"yref\":\"paper\"},{\"font\":{\"color\":\"rgb(110,110,110)\",\"size\":14},\"showarrow\":false,\"text\":\"95\",\"x\":1.05,\"xanchor\":\"center\",\"xref\":\"paper\",\"y\":1.0650000000000002,\"yanchor\":\"middle\",\"yref\":\"paper\"},{\"font\":{\"color\":\"rgb(110,110,110)\",\"size\":20},\"showarrow\":false,\"text\":\"A\",\"x\":-0.01,\"xanchor\":\"center\",\"xref\":\"paper\",\"y\":1.05,\"yanchor\":\"top\",\"yref\":\"paper\"},{\"font\":{\"color\":\"rgb(110,110,110)\",\"size\":20},\"showarrow\":false,\"text\":\"B\",\"x\":0.61,\"xanchor\":\"center\",\"xref\":\"paper\",\"y\":1.05,\"yanchor\":\"top\",\"yref\":\"paper\"},{\"font\":{\"color\":\"rgb(110,110,110)\",\"size\":20},\"showarrow\":false,\"text\":\"C\",\"x\":-0.01,\"xanchor\":\"center\",\"xref\":\"paper\",\"y\":0.475,\"yanchor\":\"top\",\"yref\":\"paper\"},{\"font\":{\"color\":\"rgb(110,110,110)\",\"size\":20},\"showarrow\":false,\"text\":\"D\",\"x\":0.61,\"xanchor\":\"center\",\"xref\":\"paper\",\"y\":0.475,\"yanchor\":\"top\",\"yref\":\"paper\"}],\"font\":{\"size\":14},\"height\":750,\"shapes\":[{\"fillcolor\":\"rgb(0,255,0)\",\"line\":{\"color\":\"rgb(0,255,0)\",\"width\":1},\"opacity\":0.1,\"type\":\"rect\",\"x0\":0.65,\"x1\":0.75,\"xref\":\"paper\",\"y0\":1.11,\"y1\":1.08,\"yref\":\"paper\"},{\"fillcolor\":\"rgb(0,255,0)\",\"line\":{\"color\":\"rgb(0,255,0)\",\"width\":1},\"opacity\":0.2,\"type\":\"rect\",\"x0\":0.75,\"x1\":0.85,\"xref\":\"paper\",\"y0\":1.11,\"y1\":1.08,\"yref\":\"paper\"},{\"line\":{\"color\":\"rgb(0,255,0)\",\"width\":2.5},\"opacity\":1,\"type\":\"line\",\"x0\":0.85,\"x1\":0.85,\"xref\":\"paper\",\"y0\":1.11,\"y1\":1.08,\"yref\":\"paper\"},{\"fillcolor\":\"rgb(0,255,0)\",\"line\":{\"color\":\"rgb(0,255,0)\",\"width\":1},\"opacity\":0.2,\"type\":\"rect\",\"x0\":0.85,\"x1\":0.95,\"xref\":\"paper\",\"y0\":1.11,\"y1\":1.08,\"yref\":\"paper\"},{\"fillcolor\":\"rgb(0,255,0)\",\"line\":{\"color\":\"rgb(0,255,0)\",\"width\":1},\"opacity\":0.1,\"type\":\"rect\",\"x0\":0.95,\"x1\":1.05,\"xref\":\"paper\",\"y0\":1.11,\"y1\":1.08,\"yref\":\"paper\"},{\"line\":{\"color\":\"rgb(110,110,110)\",\"width\":1.5},\"opacity\":1,\"type\":\"line\",\"x0\":0.65,\"x1\":0.65,\"xref\":\"paper\",\"y0\":1.08,\"y1\":1.0762500000000002,\"yref\":\"paper\"},{\"line\":{\"color\":\"rgb(110,110,110)\",\"width\":1.5},\"opacity\":1,\"type\":\"line\",\"x0\":0.75,\"x1\":0.75,\"xref\":\"paper\",\"y0\":1.08,\"y1\":1.0762500000000002,\"yref\":\"paper\"},{\"line\":{\"color\":\"rgb(110,110,110)\",\"width\":1.5},\"opacity\":1,\"type\":\"line\",\"x0\":0.85,\"x1\":0.85,\"xref\":\"paper\",\"y0\":1.08,\"y1\":1.0762500000000002,\"yref\":\"paper\"},{\"line\":{\"color\":\"rgb(110,110,110)\",\"width\":1.5},\"opacity\":1,\"type\":\"line\",\"x0\":0.95,\"x1\":0.95,\"xref\":\"paper\",\"y0\":1.08,\"y1\":1.0762500000000002,\"yref\":\"paper\"},{\"line\":{\"color\":\"rgb(110,110,110)\",\"width\":1.5},\"opacity\":1,\"type\":\"line\",\"x0\":1.05,\"x1\":1.05,\"xref\":\"paper\",\"y0\":1.08,\"y1\":1.0762500000000002,\"yref\":\"paper\"}],\"showlegend\":true,\"template\":{\"data\":{\"bar\":[{\"error_x\":{\"color\":\"rgb(36,36,36)\"},\"error_y\":{\"color\":\"rgb(36,36,36)\"},\"marker\":{\"line\":{\"color\":\"white\",\"width\":0.5},\"pattern\":{\"fillmode\":\"overlay\",\"size\":10,\"solidity\":0.2}},\"type\":\"bar\"}],\"barpolar\":[{\"marker\":{\"line\":{\"color\":\"white\",\"width\":0.5},\"pattern\":{\"fillmode\":\"overlay\",\"size\":10,\"solidity\":0.2}},\"type\":\"barpolar\"}],\"carpet\":[{\"aaxis\":{\"endlinecolor\":\"rgb(36,36,36)\",\"gridcolor\":\"white\",\"linecolor\":\"white\",\"minorgridcolor\":\"white\",\"startlinecolor\":\"rgb(36,36,36)\"},\"baxis\":{\"endlinecolor\":\"rgb(36,36,36)\",\"gridcolor\":\"white\",\"linecolor\":\"white\",\"minorgridcolor\":\"white\",\"startlinecolor\":\"rgb(36,36,36)\"},\"type\":\"carpet\"}],\"choropleth\":[{\"colorbar\":{\"outlinewidth\":1,\"tickcolor\":\"rgb(36,36,36)\",\"ticks\":\"outside\"},\"type\":\"choropleth\"}],\"contour\":[{\"colorbar\":{\"outlinewidth\":1,\"tickcolor\":\"rgb(36,36,36)\",\"ticks\":\"outside\"},\"colorscale\":[[0.0,\"#440154\"],[0.1111111111111111,\"#482878\"],[0.2222222222222222,\"#3e4989\"],[0.3333333333333333,\"#31688e\"],[0.4444444444444444,\"#26828e\"],[0.5555555555555556,\"#1f9e89\"],[0.6666666666666666,\"#35b779\"],[0.7777777777777778,\"#6ece58\"],[0.8888888888888888,\"#b5de2b\"],[1.0,\"#fde725\"]],\"type\":\"contour\"}],\"contourcarpet\":[{\"colorbar\":{\"outlinewidth\":1,\"tickcolor\":\"rgb(36,36,36)\",\"ticks\":\"outside\"},\"type\":\"contourcarpet\"}],\"heatmap\":[{\"colorbar\":{\"outlinewidth\":1,\"tickcolor\":\"rgb(36,36,36)\",\"ticks\":\"outside\"},\"colorscale\":[[0.0,\"#440154\"],[0.1111111111111111,\"#482878\"],[0.2222222222222222,\"#3e4989\"],[0.3333333333333333,\"#31688e\"],[0.4444444444444444,\"#26828e\"],[0.5555555555555556,\"#1f9e89\"],[0.6666666666666666,\"#35b779\"],[0.7777777777777778,\"#6ece58\"],[0.8888888888888888,\"#b5de2b\"],[1.0,\"#fde725\"]],\"type\":\"heatmap\"}],\"heatmapgl\":[{\"colorbar\":{\"outlinewidth\":1,\"tickcolor\":\"rgb(36,36,36)\",\"ticks\":\"outside\"},\"colorscale\":[[0.0,\"#440154\"],[0.1111111111111111,\"#482878\"],[0.2222222222222222,\"#3e4989\"],[0.3333333333333333,\"#31688e\"],[0.4444444444444444,\"#26828e\"],[0.5555555555555556,\"#1f9e89\"],[0.6666666666666666,\"#35b779\"],[0.7777777777777778,\"#6ece58\"],[0.8888888888888888,\"#b5de2b\"],[1.0,\"#fde725\"]],\"type\":\"heatmapgl\"}],\"histogram\":[{\"marker\":{\"line\":{\"color\":\"white\",\"width\":0.6},\"pattern\":{\"fillmode\":\"overlay\",\"size\":10,\"solidity\":0.2}},\"type\":\"histogram\"}],\"histogram2d\":[{\"colorbar\":{\"outlinewidth\":1,\"tickcolor\":\"rgb(36,36,36)\",\"ticks\":\"outside\"},\"colorscale\":[[0.0,\"#440154\"],[0.1111111111111111,\"#482878\"],[0.2222222222222222,\"#3e4989\"],[0.3333333333333333,\"#31688e\"],[0.4444444444444444,\"#26828e\"],[0.5555555555555556,\"#1f9e89\"],[0.6666666666666666,\"#35b779\"],[0.7777777777777778,\"#6ece58\"],[0.8888888888888888,\"#b5de2b\"],[1.0,\"#fde725\"]],\"type\":\"histogram2d\"}],\"histogram2dcontour\":[{\"colorbar\":{\"outlinewidth\":1,\"tickcolor\":\"rgb(36,36,36)\",\"ticks\":\"outside\"},\"colorscale\":[[0.0,\"#440154\"],[0.1111111111111111,\"#482878\"],[0.2222222222222222,\"#3e4989\"],[0.3333333333333333,\"#31688e\"],[0.4444444444444444,\"#26828e\"],[0.5555555555555556,\"#1f9e89\"],[0.6666666666666666,\"#35b779\"],[0.7777777777777778,\"#6ece58\"],[0.8888888888888888,\"#b5de2b\"],[1.0,\"#fde725\"]],\"type\":\"histogram2dcontour\"}],\"mesh3d\":[{\"colorbar\":{\"outlinewidth\":1,\"tickcolor\":\"rgb(36,36,36)\",\"ticks\":\"outside\"},\"type\":\"mesh3d\"}],\"parcoords\":[{\"line\":{\"colorbar\":{\"outlinewidth\":1,\"tickcolor\":\"rgb(36,36,36)\",\"ticks\":\"outside\"}},\"type\":\"parcoords\"}],\"pie\":[{\"automargin\":true,\"type\":\"pie\"}],\"scatter\":[{\"marker\":{\"colorbar\":{\"outlinewidth\":1,\"tickcolor\":\"rgb(36,36,36)\",\"ticks\":\"outside\"}},\"type\":\"scatter\"}],\"scatter3d\":[{\"line\":{\"colorbar\":{\"outlinewidth\":1,\"tickcolor\":\"rgb(36,36,36)\",\"ticks\":\"outside\"}},\"marker\":{\"colorbar\":{\"outlinewidth\":1,\"tickcolor\":\"rgb(36,36,36)\",\"ticks\":\"outside\"}},\"type\":\"scatter3d\"}],\"scattercarpet\":[{\"marker\":{\"colorbar\":{\"outlinewidth\":1,\"tickcolor\":\"rgb(36,36,36)\",\"ticks\":\"outside\"}},\"type\":\"scattercarpet\"}],\"scattergeo\":[{\"marker\":{\"colorbar\":{\"outlinewidth\":1,\"tickcolor\":\"rgb(36,36,36)\",\"ticks\":\"outside\"}},\"type\":\"scattergeo\"}],\"scattergl\":[{\"marker\":{\"colorbar\":{\"outlinewidth\":1,\"tickcolor\":\"rgb(36,36,36)\",\"ticks\":\"outside\"}},\"type\":\"scattergl\"}],\"scattermapbox\":[{\"marker\":{\"colorbar\":{\"outlinewidth\":1,\"tickcolor\":\"rgb(36,36,36)\",\"ticks\":\"outside\"}},\"type\":\"scattermapbox\"}],\"scatterpolar\":[{\"marker\":{\"colorbar\":{\"outlinewidth\":1,\"tickcolor\":\"rgb(36,36,36)\",\"ticks\":\"outside\"}},\"type\":\"scatterpolar\"}],\"scatterpolargl\":[{\"marker\":{\"colorbar\":{\"outlinewidth\":1,\"tickcolor\":\"rgb(36,36,36)\",\"ticks\":\"outside\"}},\"type\":\"scatterpolargl\"}],\"scatterternary\":[{\"marker\":{\"colorbar\":{\"outlinewidth\":1,\"tickcolor\":\"rgb(36,36,36)\",\"ticks\":\"outside\"}},\"type\":\"scatterternary\"}],\"surface\":[{\"colorbar\":{\"outlinewidth\":1,\"tickcolor\":\"rgb(36,36,36)\",\"ticks\":\"outside\"},\"colorscale\":[[0.0,\"#440154\"],[0.1111111111111111,\"#482878\"],[0.2222222222222222,\"#3e4989\"],[0.3333333333333333,\"#31688e\"],[0.4444444444444444,\"#26828e\"],[0.5555555555555556,\"#1f9e89\"],[0.6666666666666666,\"#35b779\"],[0.7777777777777778,\"#6ece58\"],[0.8888888888888888,\"#b5de2b\"],[1.0,\"#fde725\"]],\"type\":\"surface\"}],\"table\":[{\"cells\":{\"fill\":{\"color\":\"rgb(237,237,237)\"},\"line\":{\"color\":\"white\"}},\"header\":{\"fill\":{\"color\":\"rgb(217,217,217)\"},\"line\":{\"color\":\"white\"}},\"type\":\"table\"}]},\"layout\":{\"annotationdefaults\":{\"arrowcolor\":\"#2a3f5f\",\"arrowhead\":0,\"arrowwidth\":1},\"autotypenumbers\":\"strict\",\"coloraxis\":{\"colorbar\":{\"outlinewidth\":1,\"tickcolor\":\"rgb(36,36,36)\",\"ticks\":\"outside\"}},\"colorscale\":{\"diverging\":[[0.0,\"rgb(103,0,31)\"],[0.1,\"rgb(178,24,43)\"],[0.2,\"rgb(214,96,77)\"],[0.3,\"rgb(244,165,130)\"],[0.4,\"rgb(253,219,199)\"],[0.5,\"rgb(247,247,247)\"],[0.6,\"rgb(209,229,240)\"],[0.7,\"rgb(146,197,222)\"],[0.8,\"rgb(67,147,195)\"],[0.9,\"rgb(33,102,172)\"],[1.0,\"rgb(5,48,97)\"]],\"sequential\":[[0.0,\"#440154\"],[0.1111111111111111,\"#482878\"],[0.2222222222222222,\"#3e4989\"],[0.3333333333333333,\"#31688e\"],[0.4444444444444444,\"#26828e\"],[0.5555555555555556,\"#1f9e89\"],[0.6666666666666666,\"#35b779\"],[0.7777777777777778,\"#6ece58\"],[0.8888888888888888,\"#b5de2b\"],[1.0,\"#fde725\"]],\"sequentialminus\":[[0.0,\"#440154\"],[0.1111111111111111,\"#482878\"],[0.2222222222222222,\"#3e4989\"],[0.3333333333333333,\"#31688e\"],[0.4444444444444444,\"#26828e\"],[0.5555555555555556,\"#1f9e89\"],[0.6666666666666666,\"#35b779\"],[0.7777777777777778,\"#6ece58\"],[0.8888888888888888,\"#b5de2b\"],[1.0,\"#fde725\"]]},\"colorway\":[\"#1F77B4\",\"#FF7F0E\",\"#2CA02C\",\"#D62728\",\"#9467BD\",\"#8C564B\",\"#E377C2\",\"#7F7F7F\",\"#BCBD22\",\"#17BECF\"],\"font\":{\"color\":\"rgb(36,36,36)\"},\"geo\":{\"bgcolor\":\"white\",\"lakecolor\":\"white\",\"landcolor\":\"white\",\"showlakes\":true,\"showland\":true,\"subunitcolor\":\"white\"},\"hoverlabel\":{\"align\":\"left\"},\"hovermode\":\"closest\",\"mapbox\":{\"style\":\"light\"},\"paper_bgcolor\":\"white\",\"plot_bgcolor\":\"white\",\"polar\":{\"angularaxis\":{\"gridcolor\":\"rgb(232,232,232)\",\"linecolor\":\"rgb(36,36,36)\",\"showgrid\":false,\"showline\":true,\"ticks\":\"outside\"},\"bgcolor\":\"white\",\"radialaxis\":{\"gridcolor\":\"rgb(232,232,232)\",\"linecolor\":\"rgb(36,36,36)\",\"showgrid\":false,\"showline\":true,\"ticks\":\"outside\"}},\"scene\":{\"xaxis\":{\"backgroundcolor\":\"white\",\"gridcolor\":\"rgb(232,232,232)\",\"gridwidth\":2,\"linecolor\":\"rgb(36,36,36)\",\"showbackground\":true,\"showgrid\":false,\"showline\":true,\"ticks\":\"outside\",\"zeroline\":false,\"zerolinecolor\":\"rgb(36,36,36)\"},\"yaxis\":{\"backgroundcolor\":\"white\",\"gridcolor\":\"rgb(232,232,232)\",\"gridwidth\":2,\"linecolor\":\"rgb(36,36,36)\",\"showbackground\":true,\"showgrid\":false,\"showline\":true,\"ticks\":\"outside\",\"zeroline\":false,\"zerolinecolor\":\"rgb(36,36,36)\"},\"zaxis\":{\"backgroundcolor\":\"white\",\"gridcolor\":\"rgb(232,232,232)\",\"gridwidth\":2,\"linecolor\":\"rgb(36,36,36)\",\"showbackground\":true,\"showgrid\":false,\"showline\":true,\"ticks\":\"outside\",\"zeroline\":false,\"zerolinecolor\":\"rgb(36,36,36)\"}},\"shapedefaults\":{\"fillcolor\":\"black\",\"line\":{\"color\":\"#2a3f5f\",\"width\":0},\"opacity\":0.3},\"ternary\":{\"aaxis\":{\"gridcolor\":\"rgb(232,232,232)\",\"linecolor\":\"rgb(36,36,36)\",\"showgrid\":false,\"showline\":true,\"ticks\":\"outside\"},\"baxis\":{\"gridcolor\":\"rgb(232,232,232)\",\"linecolor\":\"rgb(36,36,36)\",\"showgrid\":false,\"showline\":true,\"ticks\":\"outside\"},\"bgcolor\":\"white\",\"caxis\":{\"gridcolor\":\"rgb(232,232,232)\",\"linecolor\":\"rgb(36,36,36)\",\"showgrid\":false,\"showline\":true,\"ticks\":\"outside\"}},\"title\":{\"x\":0.05},\"xaxis\":{\"automargin\":true,\"gridcolor\":\"rgb(232,232,232)\",\"linecolor\":\"rgb(36,36,36)\",\"showgrid\":false,\"showline\":true,\"ticks\":\"outside\",\"title\":{\"standoff\":15},\"zeroline\":false,\"zerolinecolor\":\"rgb(36,36,36)\",\"zerolinewidth\":2},\"yaxis\":{\"automargin\":true,\"gridcolor\":\"rgb(232,232,232)\",\"linecolor\":\"rgb(36,36,36)\",\"showgrid\":false,\"showline\":true,\"ticks\":\"outside\",\"title\":{\"standoff\":15},\"zeroline\":false,\"zerolinecolor\":\"rgb(36,36,36)\",\"zerolinewidth\":2}}},\"width\":600,\"xaxis\":{\"anchor\":\"y\",\"domain\":[0.0,0.375],\"showgrid\":false,\"title\":{\"text\":\"Year\"}},\"xaxis2\":{\"anchor\":\"y2\",\"domain\":[0.625,1.0],\"range\":[-0.5,15.5]},\"xaxis3\":{\"anchor\":\"y3\",\"domain\":[0.0,0.375],\"range\":[-0.5,15.5],\"title\":{\"text\":\"Time (years)\"}},\"xaxis4\":{\"anchor\":\"y4\",\"domain\":[0.625,1.0],\"range\":[-0.5,15.5],\"title\":{\"text\":\"Time (years)\"}},\"yaxis\":{\"anchor\":\"x\",\"domain\":[0.575,1.0],\"title\":{\"text\":\"Control\"}},\"yaxis2\":{\"anchor\":\"x2\",\"domain\":[0.575,1.0],\"title\":{\"text\":\"Severity increase (%)\"}},\"yaxis3\":{\"anchor\":\"x3\",\"domain\":[0.0,0.425],\"title\":{\"text\":\"Yield increase (tons/ha)\"}},\"yaxis4\":{\"anchor\":\"x4\",\"domain\":[0.0,0.425],\"title\":{\"text\":\"Fungicide trait mean increase\"}}},                        {\"responsive\": true}                    ).then(function(){\n",
       "                            \n",
       "var gd = document.getElementById('9a72ce50-d644-4427-9496-17dc2a4d4275');\n",
       "var x = new MutationObserver(function (mutations, observer) {{\n",
       "        var display = window.getComputedStyle(gd).display;\n",
       "        if (!display || display === 'none') {{\n",
       "            console.log([gd, 'removed!']);\n",
       "            Plotly.purge(gd);\n",
       "            observer.disconnect();\n",
       "        }}\n",
       "}});\n",
       "\n",
       "// Listen for the removal of the full notebook cells\n",
       "var notebookContainer = gd.closest('#notebook-container');\n",
       "if (notebookContainer) {{\n",
       "    x.observe(notebookContainer, {childList: true});\n",
       "}}\n",
       "\n",
       "// Listen for the clearing of the current output cell\n",
       "var outputEl = gd.closest('.output');\n",
       "if (outputEl) {{\n",
       "    x.observe(outputEl, {childList: true});\n",
       "}}\n",
       "\n",
       "                        })                };                });            </script>        </div>"
      ]
     },
     "metadata": {},
     "output_type": "display_data"
    }
   ],
   "source": [
    "f = adding_in_host(\n",
    "    yh,\n",
    "    sev_df,\n",
    "    yld_df,\n",
    "    fm_df,\n",
    ")\n",
    "\n",
    "f.show()"
   ]
  },
  {
   "cell_type": "code",
   "execution_count": 50,
   "id": "c275702f-6f43-4e45-a12d-3ca63ec32a79",
   "metadata": {},
   "outputs": [],
   "source": [
    "f.write_image('../figures/paper_figs/fig5_draft.png')"
   ]
  },
  {
   "cell_type": "code",
   "execution_count": null,
   "id": "1b70bf20-4811-4be2-881e-837cf305f7a5",
   "metadata": {},
   "outputs": [],
   "source": []
  }
 ],
 "metadata": {
  "kernelspec": {
   "display_name": "python3_poly",
   "language": "python",
   "name": "python3_poly"
  },
  "language_info": {
   "codemirror_mode": {
    "name": "ipython",
    "version": 3
   },
   "file_extension": ".py",
   "mimetype": "text/x-python",
   "name": "python",
   "nbconvert_exporter": "python",
   "pygments_lexer": "ipython3",
   "version": "3.8.12"
  }
 },
 "nbformat": 4,
 "nbformat_minor": 5
}
